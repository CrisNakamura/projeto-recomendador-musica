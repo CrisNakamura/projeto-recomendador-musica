{
 "cells": [
  {
   "cell_type": "markdown",
   "metadata": {},
   "source": [
    "### Importando as bibliotecas"
   ]
  },
  {
   "cell_type": "code",
   "execution_count": 1,
   "metadata": {},
   "outputs": [],
   "source": [
    "import pandas as pd\n",
    "import numpy as np"
   ]
  },
  {
   "cell_type": "markdown",
   "metadata": {},
   "source": [
    "### Carregando as datasets"
   ]
  },
  {
   "cell_type": "code",
   "execution_count": 2,
   "metadata": {},
   "outputs": [],
   "source": [
    "dados_totais = pd.read_csv('Dados/Dados_totais.csv')\n",
    "dados_generos = pd.read_csv('Dados/data_by_genres.csv')\n",
    "dados_anos = pd.read_csv('Dados/data_by_year.csv')"
   ]
  },
  {
   "cell_type": "markdown",
   "metadata": {},
   "source": [
    "#### Verificando dataset 'dados_totais'"
   ]
  },
  {
   "cell_type": "code",
   "execution_count": 3,
   "metadata": {},
   "outputs": [
    {
     "data": {
      "text/html": [
       "<div>\n",
       "<style scoped>\n",
       "    .dataframe tbody tr th:only-of-type {\n",
       "        vertical-align: middle;\n",
       "    }\n",
       "\n",
       "    .dataframe tbody tr th {\n",
       "        vertical-align: top;\n",
       "    }\n",
       "\n",
       "    .dataframe thead th {\n",
       "        text-align: right;\n",
       "    }\n",
       "</style>\n",
       "<table border=\"1\" class=\"dataframe\">\n",
       "  <thead>\n",
       "    <tr style=\"text-align: right;\">\n",
       "      <th></th>\n",
       "      <th>valence</th>\n",
       "      <th>year</th>\n",
       "      <th>acousticness</th>\n",
       "      <th>artists</th>\n",
       "      <th>danceability</th>\n",
       "      <th>duration_ms</th>\n",
       "      <th>energy</th>\n",
       "      <th>explicit</th>\n",
       "      <th>id</th>\n",
       "      <th>instrumentalness</th>\n",
       "      <th>key</th>\n",
       "      <th>liveness</th>\n",
       "      <th>loudness</th>\n",
       "      <th>mode</th>\n",
       "      <th>name</th>\n",
       "      <th>popularity</th>\n",
       "      <th>speechiness</th>\n",
       "      <th>tempo</th>\n",
       "      <th>artists_song</th>\n",
       "    </tr>\n",
       "  </thead>\n",
       "  <tbody>\n",
       "    <tr>\n",
       "      <th>0</th>\n",
       "      <td>0.285</td>\n",
       "      <td>2000</td>\n",
       "      <td>0.00239</td>\n",
       "      <td>Coldplay</td>\n",
       "      <td>0.429</td>\n",
       "      <td>266773</td>\n",
       "      <td>0.661</td>\n",
       "      <td>0</td>\n",
       "      <td>3AJwUDP919kvQ9QcozQPxg</td>\n",
       "      <td>0.000121</td>\n",
       "      <td>11</td>\n",
       "      <td>0.2340</td>\n",
       "      <td>-7.227</td>\n",
       "      <td>1</td>\n",
       "      <td>Yellow</td>\n",
       "      <td>84</td>\n",
       "      <td>0.0281</td>\n",
       "      <td>173.372</td>\n",
       "      <td>Coldplay - Yellow</td>\n",
       "    </tr>\n",
       "    <tr>\n",
       "      <th>1</th>\n",
       "      <td>0.613</td>\n",
       "      <td>2000</td>\n",
       "      <td>0.14300</td>\n",
       "      <td>OutKast</td>\n",
       "      <td>0.843</td>\n",
       "      <td>270507</td>\n",
       "      <td>0.806</td>\n",
       "      <td>1</td>\n",
       "      <td>0I3q5fE6wg7LIfHGngUTnV</td>\n",
       "      <td>0.000000</td>\n",
       "      <td>4</td>\n",
       "      <td>0.0771</td>\n",
       "      <td>-5.946</td>\n",
       "      <td>0</td>\n",
       "      <td>Ms. Jackson</td>\n",
       "      <td>80</td>\n",
       "      <td>0.2690</td>\n",
       "      <td>94.948</td>\n",
       "      <td>OutKast - Ms. Jackson</td>\n",
       "    </tr>\n",
       "    <tr>\n",
       "      <th>2</th>\n",
       "      <td>0.400</td>\n",
       "      <td>2000</td>\n",
       "      <td>0.00958</td>\n",
       "      <td>Linkin Park</td>\n",
       "      <td>0.556</td>\n",
       "      <td>216880</td>\n",
       "      <td>0.864</td>\n",
       "      <td>0</td>\n",
       "      <td>60a0Rd6pjrkxjPbaKzXjfq</td>\n",
       "      <td>0.000000</td>\n",
       "      <td>3</td>\n",
       "      <td>0.2090</td>\n",
       "      <td>-5.870</td>\n",
       "      <td>0</td>\n",
       "      <td>In the End</td>\n",
       "      <td>84</td>\n",
       "      <td>0.0584</td>\n",
       "      <td>105.143</td>\n",
       "      <td>Linkin Park - In the End</td>\n",
       "    </tr>\n",
       "  </tbody>\n",
       "</table>\n",
       "</div>"
      ],
      "text/plain": [
       "   valence  year  acousticness      artists  danceability  duration_ms  \\\n",
       "0    0.285  2000       0.00239     Coldplay         0.429       266773   \n",
       "1    0.613  2000       0.14300      OutKast         0.843       270507   \n",
       "2    0.400  2000       0.00958  Linkin Park         0.556       216880   \n",
       "\n",
       "   energy  explicit                      id  instrumentalness  key  liveness  \\\n",
       "0   0.661         0  3AJwUDP919kvQ9QcozQPxg          0.000121   11    0.2340   \n",
       "1   0.806         1  0I3q5fE6wg7LIfHGngUTnV          0.000000    4    0.0771   \n",
       "2   0.864         0  60a0Rd6pjrkxjPbaKzXjfq          0.000000    3    0.2090   \n",
       "\n",
       "   loudness  mode         name  popularity  speechiness    tempo  \\\n",
       "0    -7.227     1       Yellow          84       0.0281  173.372   \n",
       "1    -5.946     0  Ms. Jackson          80       0.2690   94.948   \n",
       "2    -5.870     0   In the End          84       0.0584  105.143   \n",
       "\n",
       "               artists_song  \n",
       "0         Coldplay - Yellow  \n",
       "1     OutKast - Ms. Jackson  \n",
       "2  Linkin Park - In the End  "
      ]
     },
     "execution_count": 3,
     "metadata": {},
     "output_type": "execute_result"
    }
   ],
   "source": [
    "dados_totais.head(3)"
   ]
  },
  {
   "cell_type": "code",
   "execution_count": 4,
   "metadata": {},
   "outputs": [
    {
     "data": {
      "text/plain": [
       "array([2000, 2001, 2002, 2003, 2004, 2005, 2006, 2007, 2008, 2009, 2010,\n",
       "       2011, 2012, 2013, 2014, 2015, 2016, 2017, 2018, 2019, 2020],\n",
       "      dtype=int64)"
      ]
     },
     "execution_count": 4,
     "metadata": {},
     "output_type": "execute_result"
    }
   ],
   "source": [
    "# Verificando os valores únicos da coluna ano.\n",
    "dados_totais['year'].unique()"
   ]
  },
  {
   "cell_type": "code",
   "execution_count": 5,
   "metadata": {},
   "outputs": [
    {
     "data": {
      "text/plain": [
       "(20311, 19)"
      ]
     },
     "execution_count": 5,
     "metadata": {},
     "output_type": "execute_result"
    }
   ],
   "source": [
    "# Verificando o tamanho da dataset.\n",
    "dados_totais.shape"
   ]
  },
  {
   "cell_type": "code",
   "execution_count": 6,
   "metadata": {},
   "outputs": [
    {
     "data": {
      "text/html": [
       "<div>\n",
       "<style scoped>\n",
       "    .dataframe tbody tr th:only-of-type {\n",
       "        vertical-align: middle;\n",
       "    }\n",
       "\n",
       "    .dataframe tbody tr th {\n",
       "        vertical-align: top;\n",
       "    }\n",
       "\n",
       "    .dataframe thead th {\n",
       "        text-align: right;\n",
       "    }\n",
       "</style>\n",
       "<table border=\"1\" class=\"dataframe\">\n",
       "  <thead>\n",
       "    <tr style=\"text-align: right;\">\n",
       "      <th></th>\n",
       "      <th>valence</th>\n",
       "      <th>year</th>\n",
       "      <th>acousticness</th>\n",
       "      <th>artists</th>\n",
       "      <th>danceability</th>\n",
       "      <th>duration_ms</th>\n",
       "      <th>energy</th>\n",
       "      <th>id</th>\n",
       "      <th>instrumentalness</th>\n",
       "      <th>liveness</th>\n",
       "      <th>loudness</th>\n",
       "      <th>name</th>\n",
       "      <th>popularity</th>\n",
       "      <th>speechiness</th>\n",
       "      <th>tempo</th>\n",
       "      <th>artists_song</th>\n",
       "    </tr>\n",
       "  </thead>\n",
       "  <tbody>\n",
       "    <tr>\n",
       "      <th>0</th>\n",
       "      <td>0.285</td>\n",
       "      <td>2000</td>\n",
       "      <td>0.00239</td>\n",
       "      <td>Coldplay</td>\n",
       "      <td>0.429</td>\n",
       "      <td>266773</td>\n",
       "      <td>0.661</td>\n",
       "      <td>3AJwUDP919kvQ9QcozQPxg</td>\n",
       "      <td>0.000121</td>\n",
       "      <td>0.2340</td>\n",
       "      <td>-7.227</td>\n",
       "      <td>Yellow</td>\n",
       "      <td>84</td>\n",
       "      <td>0.0281</td>\n",
       "      <td>173.372</td>\n",
       "      <td>Coldplay - Yellow</td>\n",
       "    </tr>\n",
       "    <tr>\n",
       "      <th>1</th>\n",
       "      <td>0.613</td>\n",
       "      <td>2000</td>\n",
       "      <td>0.14300</td>\n",
       "      <td>OutKast</td>\n",
       "      <td>0.843</td>\n",
       "      <td>270507</td>\n",
       "      <td>0.806</td>\n",
       "      <td>0I3q5fE6wg7LIfHGngUTnV</td>\n",
       "      <td>0.000000</td>\n",
       "      <td>0.0771</td>\n",
       "      <td>-5.946</td>\n",
       "      <td>Ms. Jackson</td>\n",
       "      <td>80</td>\n",
       "      <td>0.2690</td>\n",
       "      <td>94.948</td>\n",
       "      <td>OutKast - Ms. Jackson</td>\n",
       "    </tr>\n",
       "    <tr>\n",
       "      <th>2</th>\n",
       "      <td>0.400</td>\n",
       "      <td>2000</td>\n",
       "      <td>0.00958</td>\n",
       "      <td>Linkin Park</td>\n",
       "      <td>0.556</td>\n",
       "      <td>216880</td>\n",
       "      <td>0.864</td>\n",
       "      <td>60a0Rd6pjrkxjPbaKzXjfq</td>\n",
       "      <td>0.000000</td>\n",
       "      <td>0.2090</td>\n",
       "      <td>-5.870</td>\n",
       "      <td>In the End</td>\n",
       "      <td>84</td>\n",
       "      <td>0.0584</td>\n",
       "      <td>105.143</td>\n",
       "      <td>Linkin Park - In the End</td>\n",
       "    </tr>\n",
       "  </tbody>\n",
       "</table>\n",
       "</div>"
      ],
      "text/plain": [
       "   valence  year  acousticness      artists  danceability  duration_ms  \\\n",
       "0    0.285  2000       0.00239     Coldplay         0.429       266773   \n",
       "1    0.613  2000       0.14300      OutKast         0.843       270507   \n",
       "2    0.400  2000       0.00958  Linkin Park         0.556       216880   \n",
       "\n",
       "   energy                      id  instrumentalness  liveness  loudness  \\\n",
       "0   0.661  3AJwUDP919kvQ9QcozQPxg          0.000121    0.2340    -7.227   \n",
       "1   0.806  0I3q5fE6wg7LIfHGngUTnV          0.000000    0.0771    -5.946   \n",
       "2   0.864  60a0Rd6pjrkxjPbaKzXjfq          0.000000    0.2090    -5.870   \n",
       "\n",
       "          name  popularity  speechiness    tempo              artists_song  \n",
       "0       Yellow          84       0.0281  173.372         Coldplay - Yellow  \n",
       "1  Ms. Jackson          80       0.2690   94.948     OutKast - Ms. Jackson  \n",
       "2   In the End          84       0.0584  105.143  Linkin Park - In the End  "
      ]
     },
     "execution_count": 6,
     "metadata": {},
     "output_type": "execute_result"
    }
   ],
   "source": [
    "# Deletando as colunas que não serão utilizadas.\n",
    "dados_totais.drop(columns=['explicit','key','mode'], axis=1, inplace=True)\n",
    "dados_totais.head(3)"
   ]
  },
  {
   "cell_type": "code",
   "execution_count": 7,
   "metadata": {},
   "outputs": [
    {
     "data": {
      "text/plain": [
       "valence             0\n",
       "year                0\n",
       "acousticness        0\n",
       "artists             0\n",
       "danceability        0\n",
       "duration_ms         0\n",
       "energy              0\n",
       "id                  0\n",
       "instrumentalness    0\n",
       "liveness            0\n",
       "loudness            0\n",
       "name                0\n",
       "popularity          0\n",
       "speechiness         0\n",
       "tempo               0\n",
       "artists_song        0\n",
       "dtype: int64"
      ]
     },
     "execution_count": 7,
     "metadata": {},
     "output_type": "execute_result"
    }
   ],
   "source": [
    "# Verificando se há valores nulos.\n",
    "dados_totais.isna().sum()"
   ]
  },
  {
   "cell_type": "markdown",
   "metadata": {},
   "source": [
    "#### Verificando dataset 'dados_generos'"
   ]
  },
  {
   "cell_type": "code",
   "execution_count": 8,
   "metadata": {},
   "outputs": [
    {
     "data": {
      "text/html": [
       "<div>\n",
       "<style scoped>\n",
       "    .dataframe tbody tr th:only-of-type {\n",
       "        vertical-align: middle;\n",
       "    }\n",
       "\n",
       "    .dataframe tbody tr th {\n",
       "        vertical-align: top;\n",
       "    }\n",
       "\n",
       "    .dataframe thead th {\n",
       "        text-align: right;\n",
       "    }\n",
       "</style>\n",
       "<table border=\"1\" class=\"dataframe\">\n",
       "  <thead>\n",
       "    <tr style=\"text-align: right;\">\n",
       "      <th></th>\n",
       "      <th>mode</th>\n",
       "      <th>genres</th>\n",
       "      <th>acousticness</th>\n",
       "      <th>danceability</th>\n",
       "      <th>duration_ms</th>\n",
       "      <th>energy</th>\n",
       "      <th>instrumentalness</th>\n",
       "      <th>liveness</th>\n",
       "      <th>loudness</th>\n",
       "      <th>speechiness</th>\n",
       "      <th>tempo</th>\n",
       "      <th>valence</th>\n",
       "      <th>popularity</th>\n",
       "      <th>key</th>\n",
       "    </tr>\n",
       "  </thead>\n",
       "  <tbody>\n",
       "    <tr>\n",
       "      <th>0</th>\n",
       "      <td>1</td>\n",
       "      <td>21st century classical</td>\n",
       "      <td>0.979333</td>\n",
       "      <td>0.162883</td>\n",
       "      <td>1.602977e+05</td>\n",
       "      <td>0.071317</td>\n",
       "      <td>0.606834</td>\n",
       "      <td>0.3616</td>\n",
       "      <td>-31.514333</td>\n",
       "      <td>0.040567</td>\n",
       "      <td>75.336500</td>\n",
       "      <td>0.103783</td>\n",
       "      <td>27.833333</td>\n",
       "      <td>6</td>\n",
       "    </tr>\n",
       "    <tr>\n",
       "      <th>1</th>\n",
       "      <td>1</td>\n",
       "      <td>432hz</td>\n",
       "      <td>0.494780</td>\n",
       "      <td>0.299333</td>\n",
       "      <td>1.048887e+06</td>\n",
       "      <td>0.450678</td>\n",
       "      <td>0.477762</td>\n",
       "      <td>0.1310</td>\n",
       "      <td>-16.854000</td>\n",
       "      <td>0.076817</td>\n",
       "      <td>120.285667</td>\n",
       "      <td>0.221750</td>\n",
       "      <td>52.500000</td>\n",
       "      <td>5</td>\n",
       "    </tr>\n",
       "    <tr>\n",
       "      <th>2</th>\n",
       "      <td>1</td>\n",
       "      <td>8-bit</td>\n",
       "      <td>0.762000</td>\n",
       "      <td>0.712000</td>\n",
       "      <td>1.151770e+05</td>\n",
       "      <td>0.818000</td>\n",
       "      <td>0.876000</td>\n",
       "      <td>0.1260</td>\n",
       "      <td>-9.180000</td>\n",
       "      <td>0.047000</td>\n",
       "      <td>133.444000</td>\n",
       "      <td>0.975000</td>\n",
       "      <td>48.000000</td>\n",
       "      <td>7</td>\n",
       "    </tr>\n",
       "  </tbody>\n",
       "</table>\n",
       "</div>"
      ],
      "text/plain": [
       "   mode                  genres  acousticness  danceability   duration_ms  \\\n",
       "0     1  21st century classical      0.979333      0.162883  1.602977e+05   \n",
       "1     1                   432hz      0.494780      0.299333  1.048887e+06   \n",
       "2     1                   8-bit      0.762000      0.712000  1.151770e+05   \n",
       "\n",
       "     energy  instrumentalness  liveness   loudness  speechiness       tempo  \\\n",
       "0  0.071317          0.606834    0.3616 -31.514333     0.040567   75.336500   \n",
       "1  0.450678          0.477762    0.1310 -16.854000     0.076817  120.285667   \n",
       "2  0.818000          0.876000    0.1260  -9.180000     0.047000  133.444000   \n",
       "\n",
       "    valence  popularity  key  \n",
       "0  0.103783   27.833333    6  \n",
       "1  0.221750   52.500000    5  \n",
       "2  0.975000   48.000000    7  "
      ]
     },
     "execution_count": 8,
     "metadata": {},
     "output_type": "execute_result"
    }
   ],
   "source": [
    "dados_generos.head(3)"
   ]
  },
  {
   "cell_type": "code",
   "execution_count": 9,
   "metadata": {},
   "outputs": [
    {
     "data": {
      "text/html": [
       "<div>\n",
       "<style scoped>\n",
       "    .dataframe tbody tr th:only-of-type {\n",
       "        vertical-align: middle;\n",
       "    }\n",
       "\n",
       "    .dataframe tbody tr th {\n",
       "        vertical-align: top;\n",
       "    }\n",
       "\n",
       "    .dataframe thead th {\n",
       "        text-align: right;\n",
       "    }\n",
       "</style>\n",
       "<table border=\"1\" class=\"dataframe\">\n",
       "  <thead>\n",
       "    <tr style=\"text-align: right;\">\n",
       "      <th></th>\n",
       "      <th>genres</th>\n",
       "      <th>acousticness</th>\n",
       "      <th>danceability</th>\n",
       "      <th>duration_ms</th>\n",
       "      <th>energy</th>\n",
       "      <th>instrumentalness</th>\n",
       "      <th>liveness</th>\n",
       "      <th>loudness</th>\n",
       "      <th>speechiness</th>\n",
       "      <th>tempo</th>\n",
       "      <th>valence</th>\n",
       "      <th>popularity</th>\n",
       "    </tr>\n",
       "  </thead>\n",
       "  <tbody>\n",
       "    <tr>\n",
       "      <th>0</th>\n",
       "      <td>21st century classical</td>\n",
       "      <td>0.979333</td>\n",
       "      <td>0.162883</td>\n",
       "      <td>1.602977e+05</td>\n",
       "      <td>0.071317</td>\n",
       "      <td>0.606834</td>\n",
       "      <td>0.3616</td>\n",
       "      <td>-31.514333</td>\n",
       "      <td>0.040567</td>\n",
       "      <td>75.336500</td>\n",
       "      <td>0.103783</td>\n",
       "      <td>27.833333</td>\n",
       "    </tr>\n",
       "    <tr>\n",
       "      <th>1</th>\n",
       "      <td>432hz</td>\n",
       "      <td>0.494780</td>\n",
       "      <td>0.299333</td>\n",
       "      <td>1.048887e+06</td>\n",
       "      <td>0.450678</td>\n",
       "      <td>0.477762</td>\n",
       "      <td>0.1310</td>\n",
       "      <td>-16.854000</td>\n",
       "      <td>0.076817</td>\n",
       "      <td>120.285667</td>\n",
       "      <td>0.221750</td>\n",
       "      <td>52.500000</td>\n",
       "    </tr>\n",
       "    <tr>\n",
       "      <th>2</th>\n",
       "      <td>8-bit</td>\n",
       "      <td>0.762000</td>\n",
       "      <td>0.712000</td>\n",
       "      <td>1.151770e+05</td>\n",
       "      <td>0.818000</td>\n",
       "      <td>0.876000</td>\n",
       "      <td>0.1260</td>\n",
       "      <td>-9.180000</td>\n",
       "      <td>0.047000</td>\n",
       "      <td>133.444000</td>\n",
       "      <td>0.975000</td>\n",
       "      <td>48.000000</td>\n",
       "    </tr>\n",
       "  </tbody>\n",
       "</table>\n",
       "</div>"
      ],
      "text/plain": [
       "                   genres  acousticness  danceability   duration_ms    energy  \\\n",
       "0  21st century classical      0.979333      0.162883  1.602977e+05  0.071317   \n",
       "1                   432hz      0.494780      0.299333  1.048887e+06  0.450678   \n",
       "2                   8-bit      0.762000      0.712000  1.151770e+05  0.818000   \n",
       "\n",
       "   instrumentalness  liveness   loudness  speechiness       tempo   valence  \\\n",
       "0          0.606834    0.3616 -31.514333     0.040567   75.336500  0.103783   \n",
       "1          0.477762    0.1310 -16.854000     0.076817  120.285667  0.221750   \n",
       "2          0.876000    0.1260  -9.180000     0.047000  133.444000  0.975000   \n",
       "\n",
       "   popularity  \n",
       "0   27.833333  \n",
       "1   52.500000  \n",
       "2   48.000000  "
      ]
     },
     "execution_count": 9,
     "metadata": {},
     "output_type": "execute_result"
    }
   ],
   "source": [
    "# Deletando as colunas que não serão utilizadas.\n",
    "dados_generos.drop(columns=['key','mode'], axis=1, inplace=True)\n",
    "dados_generos.head(3)"
   ]
  },
  {
   "cell_type": "code",
   "execution_count": 10,
   "metadata": {},
   "outputs": [
    {
     "data": {
      "text/plain": [
       "array([1921, 1922, 1923, 1924, 1925, 1926, 1927, 1928, 1929, 1930, 1931,\n",
       "       1932, 1933, 1934, 1935, 1936, 1937, 1938, 1939, 1940, 1941, 1942,\n",
       "       1943, 1944, 1945, 1946, 1947, 1948, 1949, 1950, 1951, 1952, 1953,\n",
       "       1954, 1955, 1956, 1957, 1958, 1959, 1960, 1961, 1962, 1963, 1964,\n",
       "       1965, 1966, 1967, 1968, 1969, 1970, 1971, 1972, 1973, 1974, 1975,\n",
       "       1976, 1977, 1978, 1979, 1980, 1981, 1982, 1983, 1984, 1985, 1986,\n",
       "       1987, 1988, 1989, 1990, 1991, 1992, 1993, 1994, 1995, 1996, 1997,\n",
       "       1998, 1999, 2000, 2001, 2002, 2003, 2004, 2005, 2006, 2007, 2008,\n",
       "       2009, 2010, 2011, 2012, 2013, 2014, 2015, 2016, 2017, 2018, 2019,\n",
       "       2020], dtype=int64)"
      ]
     },
     "execution_count": 10,
     "metadata": {},
     "output_type": "execute_result"
    }
   ],
   "source": [
    "# Verificando os valores únicos da coluna ano.\n",
    "dados_anos['year'].unique()"
   ]
  },
  {
   "cell_type": "code",
   "execution_count": 11,
   "metadata": {},
   "outputs": [
    {
     "data": {
      "text/plain": [
       "array([2000, 2001, 2002, 2003, 2004, 2005, 2006, 2007, 2008, 2009, 2010,\n",
       "       2011, 2012, 2013, 2014, 2015, 2016, 2017, 2018, 2019, 2020],\n",
       "      dtype=int64)"
      ]
     },
     "execution_count": 11,
     "metadata": {},
     "output_type": "execute_result"
    }
   ],
   "source": [
    "# Atrivbuindo a dataset com os dados a partir de 2000.\n",
    "dados_anos = dados_anos[dados_anos['year'] >=2000]\n",
    "dados_anos['year'].unique()"
   ]
  },
  {
   "cell_type": "markdown",
   "metadata": {},
   "source": [
    "#### Verificando dataset 'dados_anos'"
   ]
  },
  {
   "cell_type": "code",
   "execution_count": 12,
   "metadata": {},
   "outputs": [
    {
     "data": {
      "text/html": [
       "<div>\n",
       "<style scoped>\n",
       "    .dataframe tbody tr th:only-of-type {\n",
       "        vertical-align: middle;\n",
       "    }\n",
       "\n",
       "    .dataframe tbody tr th {\n",
       "        vertical-align: top;\n",
       "    }\n",
       "\n",
       "    .dataframe thead th {\n",
       "        text-align: right;\n",
       "    }\n",
       "</style>\n",
       "<table border=\"1\" class=\"dataframe\">\n",
       "  <thead>\n",
       "    <tr style=\"text-align: right;\">\n",
       "      <th></th>\n",
       "      <th>index</th>\n",
       "      <th>year</th>\n",
       "      <th>acousticness</th>\n",
       "      <th>danceability</th>\n",
       "      <th>duration_ms</th>\n",
       "      <th>energy</th>\n",
       "      <th>instrumentalness</th>\n",
       "      <th>liveness</th>\n",
       "      <th>loudness</th>\n",
       "      <th>speechiness</th>\n",
       "      <th>tempo</th>\n",
       "      <th>valence</th>\n",
       "      <th>popularity</th>\n",
       "    </tr>\n",
       "  </thead>\n",
       "  <tbody>\n",
       "    <tr>\n",
       "      <th>0</th>\n",
       "      <td>79</td>\n",
       "      <td>2000</td>\n",
       "      <td>0.289323</td>\n",
       "      <td>0.590918</td>\n",
       "      <td>242724.642638</td>\n",
       "      <td>0.625413</td>\n",
       "      <td>0.101168</td>\n",
       "      <td>0.197686</td>\n",
       "      <td>-8.247766</td>\n",
       "      <td>0.089205</td>\n",
       "      <td>118.999323</td>\n",
       "      <td>0.559475</td>\n",
       "      <td>46.684049</td>\n",
       "    </tr>\n",
       "    <tr>\n",
       "      <th>1</th>\n",
       "      <td>80</td>\n",
       "      <td>2001</td>\n",
       "      <td>0.286842</td>\n",
       "      <td>0.583318</td>\n",
       "      <td>240307.796010</td>\n",
       "      <td>0.626986</td>\n",
       "      <td>0.107214</td>\n",
       "      <td>0.187026</td>\n",
       "      <td>-8.305095</td>\n",
       "      <td>0.089182</td>\n",
       "      <td>117.765399</td>\n",
       "      <td>0.541479</td>\n",
       "      <td>48.750125</td>\n",
       "    </tr>\n",
       "    <tr>\n",
       "      <th>2</th>\n",
       "      <td>81</td>\n",
       "      <td>2002</td>\n",
       "      <td>0.282624</td>\n",
       "      <td>0.576160</td>\n",
       "      <td>239503.283000</td>\n",
       "      <td>0.641270</td>\n",
       "      <td>0.088048</td>\n",
       "      <td>0.193911</td>\n",
       "      <td>-7.686640</td>\n",
       "      <td>0.084308</td>\n",
       "      <td>119.239738</td>\n",
       "      <td>0.542397</td>\n",
       "      <td>48.655500</td>\n",
       "    </tr>\n",
       "  </tbody>\n",
       "</table>\n",
       "</div>"
      ],
      "text/plain": [
       "   index  year  acousticness  danceability    duration_ms    energy  \\\n",
       "0     79  2000      0.289323      0.590918  242724.642638  0.625413   \n",
       "1     80  2001      0.286842      0.583318  240307.796010  0.626986   \n",
       "2     81  2002      0.282624      0.576160  239503.283000  0.641270   \n",
       "\n",
       "   instrumentalness  liveness  loudness  speechiness       tempo   valence  \\\n",
       "0          0.101168  0.197686 -8.247766     0.089205  118.999323  0.559475   \n",
       "1          0.107214  0.187026 -8.305095     0.089182  117.765399  0.541479   \n",
       "2          0.088048  0.193911 -7.686640     0.084308  119.239738  0.542397   \n",
       "\n",
       "   popularity  \n",
       "0   46.684049  \n",
       "1   48.750125  \n",
       "2   48.655500  "
      ]
     },
     "execution_count": 12,
     "metadata": {},
     "output_type": "execute_result"
    }
   ],
   "source": [
    "# Deletando as colunas que não serão utilizadas.\n",
    "dados_anos.drop(columns=['key','mode'], axis=1, inplace=True)\n",
    "dados_anos.reset_index(inplace=True)\n",
    "dados_anos.head(3)"
   ]
  },
  {
   "cell_type": "markdown",
   "metadata": {},
   "source": [
    "### Análise Gráfica"
   ]
  },
  {
   "cell_type": "code",
   "execution_count": 13,
   "metadata": {},
   "outputs": [],
   "source": [
    "import plotly.express as px"
   ]
  },
  {
   "cell_type": "code",
   "execution_count": 14,
   "metadata": {},
   "outputs": [
    {
     "data": {
      "application/vnd.plotly.v1+json": {
       "config": {
        "plotlyServerURL": "https://plot.ly"
       },
       "data": [
        {
         "hovertemplate": "year=%{x}<br>loudness=%{y}<extra></extra>",
         "legendgroup": "",
         "line": {
          "color": "#636efa",
          "dash": "solid"
         },
         "marker": {
          "symbol": "circle"
         },
         "mode": "lines+markers",
         "name": "",
         "orientation": "v",
         "showlegend": false,
         "type": "scatter",
         "x": [
          2000,
          2001,
          2002,
          2003,
          2004,
          2005,
          2006,
          2007,
          2008,
          2009,
          2010,
          2011,
          2012,
          2013,
          2014,
          2015,
          2016,
          2017,
          2018,
          2019,
          2020
         ],
         "xaxis": "x",
         "y": [
          -8.247765848670758,
          -8.305095261845384,
          -7.686639500000013,
          -7.485545035823955,
          -7.601655137334684,
          -7.46615897435897,
          -7.265500512820514,
          -7.044535897435892,
          -6.8438040920716166,
          -7.0460147959183645,
          -6.9099042658730125,
          -7.574986117997006,
          -7.260549614395888,
          -7.472039473684207,
          -7.06743990024938,
          -7.625639311043569,
          -8.061056204785759,
          -8.31262951807228,
          -7.168785068949124,
          -7.722191893278596,
          -6.595066995073878
         ],
         "yaxis": "y"
        }
       ],
       "layout": {
        "legend": {
         "tracegroupgap": 0
        },
        "template": {
         "data": {
          "bar": [
           {
            "error_x": {
             "color": "#2a3f5f"
            },
            "error_y": {
             "color": "#2a3f5f"
            },
            "marker": {
             "line": {
              "color": "#E5ECF6",
              "width": 0.5
             },
             "pattern": {
              "fillmode": "overlay",
              "size": 10,
              "solidity": 0.2
             }
            },
            "type": "bar"
           }
          ],
          "barpolar": [
           {
            "marker": {
             "line": {
              "color": "#E5ECF6",
              "width": 0.5
             },
             "pattern": {
              "fillmode": "overlay",
              "size": 10,
              "solidity": 0.2
             }
            },
            "type": "barpolar"
           }
          ],
          "carpet": [
           {
            "aaxis": {
             "endlinecolor": "#2a3f5f",
             "gridcolor": "white",
             "linecolor": "white",
             "minorgridcolor": "white",
             "startlinecolor": "#2a3f5f"
            },
            "baxis": {
             "endlinecolor": "#2a3f5f",
             "gridcolor": "white",
             "linecolor": "white",
             "minorgridcolor": "white",
             "startlinecolor": "#2a3f5f"
            },
            "type": "carpet"
           }
          ],
          "choropleth": [
           {
            "colorbar": {
             "outlinewidth": 0,
             "ticks": ""
            },
            "type": "choropleth"
           }
          ],
          "contour": [
           {
            "colorbar": {
             "outlinewidth": 0,
             "ticks": ""
            },
            "colorscale": [
             [
              0,
              "#0d0887"
             ],
             [
              0.1111111111111111,
              "#46039f"
             ],
             [
              0.2222222222222222,
              "#7201a8"
             ],
             [
              0.3333333333333333,
              "#9c179e"
             ],
             [
              0.4444444444444444,
              "#bd3786"
             ],
             [
              0.5555555555555556,
              "#d8576b"
             ],
             [
              0.6666666666666666,
              "#ed7953"
             ],
             [
              0.7777777777777778,
              "#fb9f3a"
             ],
             [
              0.8888888888888888,
              "#fdca26"
             ],
             [
              1,
              "#f0f921"
             ]
            ],
            "type": "contour"
           }
          ],
          "contourcarpet": [
           {
            "colorbar": {
             "outlinewidth": 0,
             "ticks": ""
            },
            "type": "contourcarpet"
           }
          ],
          "heatmap": [
           {
            "colorbar": {
             "outlinewidth": 0,
             "ticks": ""
            },
            "colorscale": [
             [
              0,
              "#0d0887"
             ],
             [
              0.1111111111111111,
              "#46039f"
             ],
             [
              0.2222222222222222,
              "#7201a8"
             ],
             [
              0.3333333333333333,
              "#9c179e"
             ],
             [
              0.4444444444444444,
              "#bd3786"
             ],
             [
              0.5555555555555556,
              "#d8576b"
             ],
             [
              0.6666666666666666,
              "#ed7953"
             ],
             [
              0.7777777777777778,
              "#fb9f3a"
             ],
             [
              0.8888888888888888,
              "#fdca26"
             ],
             [
              1,
              "#f0f921"
             ]
            ],
            "type": "heatmap"
           }
          ],
          "heatmapgl": [
           {
            "colorbar": {
             "outlinewidth": 0,
             "ticks": ""
            },
            "colorscale": [
             [
              0,
              "#0d0887"
             ],
             [
              0.1111111111111111,
              "#46039f"
             ],
             [
              0.2222222222222222,
              "#7201a8"
             ],
             [
              0.3333333333333333,
              "#9c179e"
             ],
             [
              0.4444444444444444,
              "#bd3786"
             ],
             [
              0.5555555555555556,
              "#d8576b"
             ],
             [
              0.6666666666666666,
              "#ed7953"
             ],
             [
              0.7777777777777778,
              "#fb9f3a"
             ],
             [
              0.8888888888888888,
              "#fdca26"
             ],
             [
              1,
              "#f0f921"
             ]
            ],
            "type": "heatmapgl"
           }
          ],
          "histogram": [
           {
            "marker": {
             "pattern": {
              "fillmode": "overlay",
              "size": 10,
              "solidity": 0.2
             }
            },
            "type": "histogram"
           }
          ],
          "histogram2d": [
           {
            "colorbar": {
             "outlinewidth": 0,
             "ticks": ""
            },
            "colorscale": [
             [
              0,
              "#0d0887"
             ],
             [
              0.1111111111111111,
              "#46039f"
             ],
             [
              0.2222222222222222,
              "#7201a8"
             ],
             [
              0.3333333333333333,
              "#9c179e"
             ],
             [
              0.4444444444444444,
              "#bd3786"
             ],
             [
              0.5555555555555556,
              "#d8576b"
             ],
             [
              0.6666666666666666,
              "#ed7953"
             ],
             [
              0.7777777777777778,
              "#fb9f3a"
             ],
             [
              0.8888888888888888,
              "#fdca26"
             ],
             [
              1,
              "#f0f921"
             ]
            ],
            "type": "histogram2d"
           }
          ],
          "histogram2dcontour": [
           {
            "colorbar": {
             "outlinewidth": 0,
             "ticks": ""
            },
            "colorscale": [
             [
              0,
              "#0d0887"
             ],
             [
              0.1111111111111111,
              "#46039f"
             ],
             [
              0.2222222222222222,
              "#7201a8"
             ],
             [
              0.3333333333333333,
              "#9c179e"
             ],
             [
              0.4444444444444444,
              "#bd3786"
             ],
             [
              0.5555555555555556,
              "#d8576b"
             ],
             [
              0.6666666666666666,
              "#ed7953"
             ],
             [
              0.7777777777777778,
              "#fb9f3a"
             ],
             [
              0.8888888888888888,
              "#fdca26"
             ],
             [
              1,
              "#f0f921"
             ]
            ],
            "type": "histogram2dcontour"
           }
          ],
          "mesh3d": [
           {
            "colorbar": {
             "outlinewidth": 0,
             "ticks": ""
            },
            "type": "mesh3d"
           }
          ],
          "parcoords": [
           {
            "line": {
             "colorbar": {
              "outlinewidth": 0,
              "ticks": ""
             }
            },
            "type": "parcoords"
           }
          ],
          "pie": [
           {
            "automargin": true,
            "type": "pie"
           }
          ],
          "scatter": [
           {
            "fillpattern": {
             "fillmode": "overlay",
             "size": 10,
             "solidity": 0.2
            },
            "type": "scatter"
           }
          ],
          "scatter3d": [
           {
            "line": {
             "colorbar": {
              "outlinewidth": 0,
              "ticks": ""
             }
            },
            "marker": {
             "colorbar": {
              "outlinewidth": 0,
              "ticks": ""
             }
            },
            "type": "scatter3d"
           }
          ],
          "scattercarpet": [
           {
            "marker": {
             "colorbar": {
              "outlinewidth": 0,
              "ticks": ""
             }
            },
            "type": "scattercarpet"
           }
          ],
          "scattergeo": [
           {
            "marker": {
             "colorbar": {
              "outlinewidth": 0,
              "ticks": ""
             }
            },
            "type": "scattergeo"
           }
          ],
          "scattergl": [
           {
            "marker": {
             "colorbar": {
              "outlinewidth": 0,
              "ticks": ""
             }
            },
            "type": "scattergl"
           }
          ],
          "scattermapbox": [
           {
            "marker": {
             "colorbar": {
              "outlinewidth": 0,
              "ticks": ""
             }
            },
            "type": "scattermapbox"
           }
          ],
          "scatterpolar": [
           {
            "marker": {
             "colorbar": {
              "outlinewidth": 0,
              "ticks": ""
             }
            },
            "type": "scatterpolar"
           }
          ],
          "scatterpolargl": [
           {
            "marker": {
             "colorbar": {
              "outlinewidth": 0,
              "ticks": ""
             }
            },
            "type": "scatterpolargl"
           }
          ],
          "scatterternary": [
           {
            "marker": {
             "colorbar": {
              "outlinewidth": 0,
              "ticks": ""
             }
            },
            "type": "scatterternary"
           }
          ],
          "surface": [
           {
            "colorbar": {
             "outlinewidth": 0,
             "ticks": ""
            },
            "colorscale": [
             [
              0,
              "#0d0887"
             ],
             [
              0.1111111111111111,
              "#46039f"
             ],
             [
              0.2222222222222222,
              "#7201a8"
             ],
             [
              0.3333333333333333,
              "#9c179e"
             ],
             [
              0.4444444444444444,
              "#bd3786"
             ],
             [
              0.5555555555555556,
              "#d8576b"
             ],
             [
              0.6666666666666666,
              "#ed7953"
             ],
             [
              0.7777777777777778,
              "#fb9f3a"
             ],
             [
              0.8888888888888888,
              "#fdca26"
             ],
             [
              1,
              "#f0f921"
             ]
            ],
            "type": "surface"
           }
          ],
          "table": [
           {
            "cells": {
             "fill": {
              "color": "#EBF0F8"
             },
             "line": {
              "color": "white"
             }
            },
            "header": {
             "fill": {
              "color": "#C8D4E3"
             },
             "line": {
              "color": "white"
             }
            },
            "type": "table"
           }
          ]
         },
         "layout": {
          "annotationdefaults": {
           "arrowcolor": "#2a3f5f",
           "arrowhead": 0,
           "arrowwidth": 1
          },
          "autotypenumbers": "strict",
          "coloraxis": {
           "colorbar": {
            "outlinewidth": 0,
            "ticks": ""
           }
          },
          "colorscale": {
           "diverging": [
            [
             0,
             "#8e0152"
            ],
            [
             0.1,
             "#c51b7d"
            ],
            [
             0.2,
             "#de77ae"
            ],
            [
             0.3,
             "#f1b6da"
            ],
            [
             0.4,
             "#fde0ef"
            ],
            [
             0.5,
             "#f7f7f7"
            ],
            [
             0.6,
             "#e6f5d0"
            ],
            [
             0.7,
             "#b8e186"
            ],
            [
             0.8,
             "#7fbc41"
            ],
            [
             0.9,
             "#4d9221"
            ],
            [
             1,
             "#276419"
            ]
           ],
           "sequential": [
            [
             0,
             "#0d0887"
            ],
            [
             0.1111111111111111,
             "#46039f"
            ],
            [
             0.2222222222222222,
             "#7201a8"
            ],
            [
             0.3333333333333333,
             "#9c179e"
            ],
            [
             0.4444444444444444,
             "#bd3786"
            ],
            [
             0.5555555555555556,
             "#d8576b"
            ],
            [
             0.6666666666666666,
             "#ed7953"
            ],
            [
             0.7777777777777778,
             "#fb9f3a"
            ],
            [
             0.8888888888888888,
             "#fdca26"
            ],
            [
             1,
             "#f0f921"
            ]
           ],
           "sequentialminus": [
            [
             0,
             "#0d0887"
            ],
            [
             0.1111111111111111,
             "#46039f"
            ],
            [
             0.2222222222222222,
             "#7201a8"
            ],
            [
             0.3333333333333333,
             "#9c179e"
            ],
            [
             0.4444444444444444,
             "#bd3786"
            ],
            [
             0.5555555555555556,
             "#d8576b"
            ],
            [
             0.6666666666666666,
             "#ed7953"
            ],
            [
             0.7777777777777778,
             "#fb9f3a"
            ],
            [
             0.8888888888888888,
             "#fdca26"
            ],
            [
             1,
             "#f0f921"
            ]
           ]
          },
          "colorway": [
           "#636efa",
           "#EF553B",
           "#00cc96",
           "#ab63fa",
           "#FFA15A",
           "#19d3f3",
           "#FF6692",
           "#B6E880",
           "#FF97FF",
           "#FECB52"
          ],
          "font": {
           "color": "#2a3f5f"
          },
          "geo": {
           "bgcolor": "white",
           "lakecolor": "white",
           "landcolor": "#E5ECF6",
           "showlakes": true,
           "showland": true,
           "subunitcolor": "white"
          },
          "hoverlabel": {
           "align": "left"
          },
          "hovermode": "closest",
          "mapbox": {
           "style": "light"
          },
          "paper_bgcolor": "white",
          "plot_bgcolor": "#E5ECF6",
          "polar": {
           "angularaxis": {
            "gridcolor": "white",
            "linecolor": "white",
            "ticks": ""
           },
           "bgcolor": "#E5ECF6",
           "radialaxis": {
            "gridcolor": "white",
            "linecolor": "white",
            "ticks": ""
           }
          },
          "scene": {
           "xaxis": {
            "backgroundcolor": "#E5ECF6",
            "gridcolor": "white",
            "gridwidth": 2,
            "linecolor": "white",
            "showbackground": true,
            "ticks": "",
            "zerolinecolor": "white"
           },
           "yaxis": {
            "backgroundcolor": "#E5ECF6",
            "gridcolor": "white",
            "gridwidth": 2,
            "linecolor": "white",
            "showbackground": true,
            "ticks": "",
            "zerolinecolor": "white"
           },
           "zaxis": {
            "backgroundcolor": "#E5ECF6",
            "gridcolor": "white",
            "gridwidth": 2,
            "linecolor": "white",
            "showbackground": true,
            "ticks": "",
            "zerolinecolor": "white"
           }
          },
          "shapedefaults": {
           "line": {
            "color": "#2a3f5f"
           }
          },
          "ternary": {
           "aaxis": {
            "gridcolor": "white",
            "linecolor": "white",
            "ticks": ""
           },
           "baxis": {
            "gridcolor": "white",
            "linecolor": "white",
            "ticks": ""
           },
           "bgcolor": "#E5ECF6",
           "caxis": {
            "gridcolor": "white",
            "linecolor": "white",
            "ticks": ""
           }
          },
          "title": {
           "x": 0.05
          },
          "xaxis": {
           "automargin": true,
           "gridcolor": "white",
           "linecolor": "white",
           "ticks": "",
           "title": {
            "standoff": 15
           },
           "zerolinecolor": "white",
           "zerolinewidth": 2
          },
          "yaxis": {
           "automargin": true,
           "gridcolor": "white",
           "linecolor": "white",
           "ticks": "",
           "title": {
            "standoff": 15
           },
           "zerolinecolor": "white",
           "zerolinewidth": 2
          }
         }
        },
        "title": {
         "text": "Loudness ao longo dos anos"
        },
        "xaxis": {
         "anchor": "y",
         "domain": [
          0,
          1
         ],
         "title": {
          "text": "year"
         }
        },
        "yaxis": {
         "anchor": "x",
         "domain": [
          0,
          1
         ],
         "title": {
          "text": "loudness"
         }
        }
       }
      }
     },
     "metadata": {},
     "output_type": "display_data"
    }
   ],
   "source": [
    "# Verificando o gráfico de loudness ao longo dos anos.\n",
    "fig = px.line(dados_anos, x='year', y='loudness', markers = True, title='Loudness ao longo dos anos')\n",
    "fig.show()"
   ]
  },
  {
   "cell_type": "code",
   "execution_count": 15,
   "metadata": {},
   "outputs": [
    {
     "data": {
      "application/vnd.plotly.v1+json": {
       "config": {
        "plotlyServerURL": "https://plot.ly"
       },
       "data": [
        {
         "mode": "lines+markers",
         "name": "Acousticness",
         "type": "scatter",
         "x": [
          2000,
          2001,
          2002,
          2003,
          2004,
          2005,
          2006,
          2007,
          2008,
          2009,
          2010,
          2011,
          2012,
          2013,
          2014,
          2015,
          2016,
          2017,
          2018,
          2019,
          2020
         ],
         "y": [
          0.2893227005163599,
          0.2868424748428934,
          0.282624289885001,
          0.2564705181729783,
          0.2805589466225845,
          0.2557635068666665,
          0.2799863520256408,
          0.2540809575538463,
          0.2491917627212275,
          0.261928619096939,
          0.2426866435515872,
          0.2731826625185919,
          0.2499530443804624,
          0.2574880859564779,
          0.249312645880299,
          0.2539522577102332,
          0.2841710299554814,
          0.2860990665261043,
          0.2676329907750836,
          0.2782985863365824,
          0.2199308880935964
         ]
        },
        {
         "mode": "lines+markers",
         "name": "Valence",
         "type": "scatter",
         "x": [
          2000,
          2001,
          2002,
          2003,
          2004,
          2005,
          2006,
          2007,
          2008,
          2009,
          2010,
          2011,
          2012,
          2013,
          2014,
          2015,
          2016,
          2017,
          2018,
          2019,
          2020
         ],
         "y": [
          0.5594754601226991,
          0.541479107231919,
          0.5423971500000008,
          0.5305042476970324,
          0.5244885554425227,
          0.5325309230769236,
          0.5200283076923078,
          0.5167938461538473,
          0.5275418925831203,
          0.5071696617346935,
          0.5208951587301589,
          0.4724536787307882,
          0.4627090128534706,
          0.4547411943319834,
          0.4630487780548628,
          0.4320983687943254,
          0.4315320589872012,
          0.4164763112449793,
          0.4479212743699474,
          0.4588176295536167,
          0.5010478078817729
         ]
        },
        {
         "mode": "lines+markers",
         "name": "Danceability",
         "type": "scatter",
         "x": [
          2000,
          2001,
          2002,
          2003,
          2004,
          2005,
          2006,
          2007,
          2008,
          2009,
          2010,
          2011,
          2012,
          2013,
          2014,
          2015,
          2016,
          2017,
          2018,
          2019,
          2020
         ],
         "y": [
          0.590918047034764,
          0.5833178553615969,
          0.5761602999999997,
          0.5757633060388944,
          0.5676803662258397,
          0.5722805641025652,
          0.5682301538461539,
          0.5634143589743592,
          0.5791928388746803,
          0.5641903571428577,
          0.5724883432539687,
          0.5528669806643526,
          0.5708818508997433,
          0.5711480263157896,
          0.5899476807980057,
          0.5937740628166152,
          0.6002023928770179,
          0.6122170180722886,
          0.6635004755111744,
          0.6448141097998967,
          0.6929043349753701
         ]
        },
        {
         "mode": "lines+markers",
         "name": "Energy",
         "type": "scatter",
         "x": [
          2000,
          2001,
          2002,
          2003,
          2004,
          2005,
          2006,
          2007,
          2008,
          2009,
          2010,
          2011,
          2012,
          2013,
          2014,
          2015,
          2016,
          2017,
          2018,
          2019,
          2020
         ],
         "y": [
          0.6254128323108387,
          0.6269855221945144,
          0.6412697960000012,
          0.6601652610030712,
          0.6488679450661226,
          0.653208511282051,
          0.6503262820512825,
          0.6683047743589737,
          0.6714608207672623,
          0.6707487551020408,
          0.6817778026289684,
          0.6483008934060499,
          0.6565714601542408,
          0.6455968914473688,
          0.6487954437905223,
          0.6270642715298895,
          0.5928552316082347,
          0.5904210208835337,
          0.6024346220161672,
          0.5932240360184717,
          0.6312316354679793
         ]
        },
        {
         "mode": "lines+markers",
         "name": "Instrumentalness",
         "type": "scatter",
         "x": [
          2000,
          2001,
          2002,
          2003,
          2004,
          2005,
          2006,
          2007,
          2008,
          2009,
          2010,
          2011,
          2012,
          2013,
          2014,
          2015,
          2016,
          2017,
          2018,
          2019,
          2020
         ],
         "y": [
          0.1011677687934559,
          0.1072140189925186,
          0.0880483503149999,
          0.0830492746673491,
          0.0779340349084435,
          0.0901943611846154,
          0.0777014718769231,
          0.0729572680512819,
          0.0636620903171356,
          0.0758720736836735,
          0.0829805682192461,
          0.103772332166584,
          0.0852055206786631,
          0.0983650539170038,
          0.0765695548379051,
          0.1067868780547114,
          0.0939843871174179,
          0.0970906090662649,
          0.0542171216690441,
          0.0776402469728064,
          0.0163755243054187
         ]
        },
        {
         "mode": "lines+markers",
         "name": "Liveness",
         "type": "scatter",
         "x": [
          2000,
          2001,
          2002,
          2003,
          2004,
          2005,
          2006,
          2007,
          2008,
          2009,
          2010,
          2011,
          2012,
          2013,
          2014,
          2015,
          2016,
          2017,
          2018,
          2019,
          2020
         ],
         "y": [
          0.1976860429447853,
          0.1870256359102248,
          0.1939111999999998,
          0.196976305015353,
          0.2021994404883014,
          0.1900816256410258,
          0.1882892820512821,
          0.1961265641025642,
          0.1984314066496162,
          0.2052522959183674,
          0.1997006448412699,
          0.2033088249876056,
          0.1897330077120824,
          0.1996308198380571,
          0.1918215960099752,
          0.1888564336372847,
          0.181169894268225,
          0.1917126004016064,
          0.1763255349500711,
          0.1726164186762446,
          0.1785354187192117
         ]
        },
        {
         "mode": "lines+markers",
         "name": "Speechiness",
         "type": "scatter",
         "x": [
          2000,
          2001,
          2002,
          2003,
          2004,
          2005,
          2006,
          2007,
          2008,
          2009,
          2010,
          2011,
          2012,
          2013,
          2014,
          2015,
          2016,
          2017,
          2018,
          2019,
          2020
         ],
         "y": [
          0.0892054192229039,
          0.0891822942643391,
          0.0843075999999999,
          0.0939257420675538,
          0.0942388097660224,
          0.093333692307692,
          0.0858467692307692,
          0.0843473333333333,
          0.077356368286445,
          0.0854578061224489,
          0.0810314980158731,
          0.087479276152702,
          0.081742467866324,
          0.0938488866396761,
          0.0840605486284289,
          0.0967792299898684,
          0.1043132999443518,
          0.1105364959839356,
          0.1271755587256302,
          0.1210433555669573,
          0.1413836945812805
         ]
        }
       ],
       "layout": {
        "template": {
         "data": {
          "bar": [
           {
            "error_x": {
             "color": "#2a3f5f"
            },
            "error_y": {
             "color": "#2a3f5f"
            },
            "marker": {
             "line": {
              "color": "#E5ECF6",
              "width": 0.5
             },
             "pattern": {
              "fillmode": "overlay",
              "size": 10,
              "solidity": 0.2
             }
            },
            "type": "bar"
           }
          ],
          "barpolar": [
           {
            "marker": {
             "line": {
              "color": "#E5ECF6",
              "width": 0.5
             },
             "pattern": {
              "fillmode": "overlay",
              "size": 10,
              "solidity": 0.2
             }
            },
            "type": "barpolar"
           }
          ],
          "carpet": [
           {
            "aaxis": {
             "endlinecolor": "#2a3f5f",
             "gridcolor": "white",
             "linecolor": "white",
             "minorgridcolor": "white",
             "startlinecolor": "#2a3f5f"
            },
            "baxis": {
             "endlinecolor": "#2a3f5f",
             "gridcolor": "white",
             "linecolor": "white",
             "minorgridcolor": "white",
             "startlinecolor": "#2a3f5f"
            },
            "type": "carpet"
           }
          ],
          "choropleth": [
           {
            "colorbar": {
             "outlinewidth": 0,
             "ticks": ""
            },
            "type": "choropleth"
           }
          ],
          "contour": [
           {
            "colorbar": {
             "outlinewidth": 0,
             "ticks": ""
            },
            "colorscale": [
             [
              0,
              "#0d0887"
             ],
             [
              0.1111111111111111,
              "#46039f"
             ],
             [
              0.2222222222222222,
              "#7201a8"
             ],
             [
              0.3333333333333333,
              "#9c179e"
             ],
             [
              0.4444444444444444,
              "#bd3786"
             ],
             [
              0.5555555555555556,
              "#d8576b"
             ],
             [
              0.6666666666666666,
              "#ed7953"
             ],
             [
              0.7777777777777778,
              "#fb9f3a"
             ],
             [
              0.8888888888888888,
              "#fdca26"
             ],
             [
              1,
              "#f0f921"
             ]
            ],
            "type": "contour"
           }
          ],
          "contourcarpet": [
           {
            "colorbar": {
             "outlinewidth": 0,
             "ticks": ""
            },
            "type": "contourcarpet"
           }
          ],
          "heatmap": [
           {
            "colorbar": {
             "outlinewidth": 0,
             "ticks": ""
            },
            "colorscale": [
             [
              0,
              "#0d0887"
             ],
             [
              0.1111111111111111,
              "#46039f"
             ],
             [
              0.2222222222222222,
              "#7201a8"
             ],
             [
              0.3333333333333333,
              "#9c179e"
             ],
             [
              0.4444444444444444,
              "#bd3786"
             ],
             [
              0.5555555555555556,
              "#d8576b"
             ],
             [
              0.6666666666666666,
              "#ed7953"
             ],
             [
              0.7777777777777778,
              "#fb9f3a"
             ],
             [
              0.8888888888888888,
              "#fdca26"
             ],
             [
              1,
              "#f0f921"
             ]
            ],
            "type": "heatmap"
           }
          ],
          "heatmapgl": [
           {
            "colorbar": {
             "outlinewidth": 0,
             "ticks": ""
            },
            "colorscale": [
             [
              0,
              "#0d0887"
             ],
             [
              0.1111111111111111,
              "#46039f"
             ],
             [
              0.2222222222222222,
              "#7201a8"
             ],
             [
              0.3333333333333333,
              "#9c179e"
             ],
             [
              0.4444444444444444,
              "#bd3786"
             ],
             [
              0.5555555555555556,
              "#d8576b"
             ],
             [
              0.6666666666666666,
              "#ed7953"
             ],
             [
              0.7777777777777778,
              "#fb9f3a"
             ],
             [
              0.8888888888888888,
              "#fdca26"
             ],
             [
              1,
              "#f0f921"
             ]
            ],
            "type": "heatmapgl"
           }
          ],
          "histogram": [
           {
            "marker": {
             "pattern": {
              "fillmode": "overlay",
              "size": 10,
              "solidity": 0.2
             }
            },
            "type": "histogram"
           }
          ],
          "histogram2d": [
           {
            "colorbar": {
             "outlinewidth": 0,
             "ticks": ""
            },
            "colorscale": [
             [
              0,
              "#0d0887"
             ],
             [
              0.1111111111111111,
              "#46039f"
             ],
             [
              0.2222222222222222,
              "#7201a8"
             ],
             [
              0.3333333333333333,
              "#9c179e"
             ],
             [
              0.4444444444444444,
              "#bd3786"
             ],
             [
              0.5555555555555556,
              "#d8576b"
             ],
             [
              0.6666666666666666,
              "#ed7953"
             ],
             [
              0.7777777777777778,
              "#fb9f3a"
             ],
             [
              0.8888888888888888,
              "#fdca26"
             ],
             [
              1,
              "#f0f921"
             ]
            ],
            "type": "histogram2d"
           }
          ],
          "histogram2dcontour": [
           {
            "colorbar": {
             "outlinewidth": 0,
             "ticks": ""
            },
            "colorscale": [
             [
              0,
              "#0d0887"
             ],
             [
              0.1111111111111111,
              "#46039f"
             ],
             [
              0.2222222222222222,
              "#7201a8"
             ],
             [
              0.3333333333333333,
              "#9c179e"
             ],
             [
              0.4444444444444444,
              "#bd3786"
             ],
             [
              0.5555555555555556,
              "#d8576b"
             ],
             [
              0.6666666666666666,
              "#ed7953"
             ],
             [
              0.7777777777777778,
              "#fb9f3a"
             ],
             [
              0.8888888888888888,
              "#fdca26"
             ],
             [
              1,
              "#f0f921"
             ]
            ],
            "type": "histogram2dcontour"
           }
          ],
          "mesh3d": [
           {
            "colorbar": {
             "outlinewidth": 0,
             "ticks": ""
            },
            "type": "mesh3d"
           }
          ],
          "parcoords": [
           {
            "line": {
             "colorbar": {
              "outlinewidth": 0,
              "ticks": ""
             }
            },
            "type": "parcoords"
           }
          ],
          "pie": [
           {
            "automargin": true,
            "type": "pie"
           }
          ],
          "scatter": [
           {
            "fillpattern": {
             "fillmode": "overlay",
             "size": 10,
             "solidity": 0.2
            },
            "type": "scatter"
           }
          ],
          "scatter3d": [
           {
            "line": {
             "colorbar": {
              "outlinewidth": 0,
              "ticks": ""
             }
            },
            "marker": {
             "colorbar": {
              "outlinewidth": 0,
              "ticks": ""
             }
            },
            "type": "scatter3d"
           }
          ],
          "scattercarpet": [
           {
            "marker": {
             "colorbar": {
              "outlinewidth": 0,
              "ticks": ""
             }
            },
            "type": "scattercarpet"
           }
          ],
          "scattergeo": [
           {
            "marker": {
             "colorbar": {
              "outlinewidth": 0,
              "ticks": ""
             }
            },
            "type": "scattergeo"
           }
          ],
          "scattergl": [
           {
            "marker": {
             "colorbar": {
              "outlinewidth": 0,
              "ticks": ""
             }
            },
            "type": "scattergl"
           }
          ],
          "scattermapbox": [
           {
            "marker": {
             "colorbar": {
              "outlinewidth": 0,
              "ticks": ""
             }
            },
            "type": "scattermapbox"
           }
          ],
          "scatterpolar": [
           {
            "marker": {
             "colorbar": {
              "outlinewidth": 0,
              "ticks": ""
             }
            },
            "type": "scatterpolar"
           }
          ],
          "scatterpolargl": [
           {
            "marker": {
             "colorbar": {
              "outlinewidth": 0,
              "ticks": ""
             }
            },
            "type": "scatterpolargl"
           }
          ],
          "scatterternary": [
           {
            "marker": {
             "colorbar": {
              "outlinewidth": 0,
              "ticks": ""
             }
            },
            "type": "scatterternary"
           }
          ],
          "surface": [
           {
            "colorbar": {
             "outlinewidth": 0,
             "ticks": ""
            },
            "colorscale": [
             [
              0,
              "#0d0887"
             ],
             [
              0.1111111111111111,
              "#46039f"
             ],
             [
              0.2222222222222222,
              "#7201a8"
             ],
             [
              0.3333333333333333,
              "#9c179e"
             ],
             [
              0.4444444444444444,
              "#bd3786"
             ],
             [
              0.5555555555555556,
              "#d8576b"
             ],
             [
              0.6666666666666666,
              "#ed7953"
             ],
             [
              0.7777777777777778,
              "#fb9f3a"
             ],
             [
              0.8888888888888888,
              "#fdca26"
             ],
             [
              1,
              "#f0f921"
             ]
            ],
            "type": "surface"
           }
          ],
          "table": [
           {
            "cells": {
             "fill": {
              "color": "#EBF0F8"
             },
             "line": {
              "color": "white"
             }
            },
            "header": {
             "fill": {
              "color": "#C8D4E3"
             },
             "line": {
              "color": "white"
             }
            },
            "type": "table"
           }
          ]
         },
         "layout": {
          "annotationdefaults": {
           "arrowcolor": "#2a3f5f",
           "arrowhead": 0,
           "arrowwidth": 1
          },
          "autotypenumbers": "strict",
          "coloraxis": {
           "colorbar": {
            "outlinewidth": 0,
            "ticks": ""
           }
          },
          "colorscale": {
           "diverging": [
            [
             0,
             "#8e0152"
            ],
            [
             0.1,
             "#c51b7d"
            ],
            [
             0.2,
             "#de77ae"
            ],
            [
             0.3,
             "#f1b6da"
            ],
            [
             0.4,
             "#fde0ef"
            ],
            [
             0.5,
             "#f7f7f7"
            ],
            [
             0.6,
             "#e6f5d0"
            ],
            [
             0.7,
             "#b8e186"
            ],
            [
             0.8,
             "#7fbc41"
            ],
            [
             0.9,
             "#4d9221"
            ],
            [
             1,
             "#276419"
            ]
           ],
           "sequential": [
            [
             0,
             "#0d0887"
            ],
            [
             0.1111111111111111,
             "#46039f"
            ],
            [
             0.2222222222222222,
             "#7201a8"
            ],
            [
             0.3333333333333333,
             "#9c179e"
            ],
            [
             0.4444444444444444,
             "#bd3786"
            ],
            [
             0.5555555555555556,
             "#d8576b"
            ],
            [
             0.6666666666666666,
             "#ed7953"
            ],
            [
             0.7777777777777778,
             "#fb9f3a"
            ],
            [
             0.8888888888888888,
             "#fdca26"
            ],
            [
             1,
             "#f0f921"
            ]
           ],
           "sequentialminus": [
            [
             0,
             "#0d0887"
            ],
            [
             0.1111111111111111,
             "#46039f"
            ],
            [
             0.2222222222222222,
             "#7201a8"
            ],
            [
             0.3333333333333333,
             "#9c179e"
            ],
            [
             0.4444444444444444,
             "#bd3786"
            ],
            [
             0.5555555555555556,
             "#d8576b"
            ],
            [
             0.6666666666666666,
             "#ed7953"
            ],
            [
             0.7777777777777778,
             "#fb9f3a"
            ],
            [
             0.8888888888888888,
             "#fdca26"
            ],
            [
             1,
             "#f0f921"
            ]
           ]
          },
          "colorway": [
           "#636efa",
           "#EF553B",
           "#00cc96",
           "#ab63fa",
           "#FFA15A",
           "#19d3f3",
           "#FF6692",
           "#B6E880",
           "#FF97FF",
           "#FECB52"
          ],
          "font": {
           "color": "#2a3f5f"
          },
          "geo": {
           "bgcolor": "white",
           "lakecolor": "white",
           "landcolor": "#E5ECF6",
           "showlakes": true,
           "showland": true,
           "subunitcolor": "white"
          },
          "hoverlabel": {
           "align": "left"
          },
          "hovermode": "closest",
          "mapbox": {
           "style": "light"
          },
          "paper_bgcolor": "white",
          "plot_bgcolor": "#E5ECF6",
          "polar": {
           "angularaxis": {
            "gridcolor": "white",
            "linecolor": "white",
            "ticks": ""
           },
           "bgcolor": "#E5ECF6",
           "radialaxis": {
            "gridcolor": "white",
            "linecolor": "white",
            "ticks": ""
           }
          },
          "scene": {
           "xaxis": {
            "backgroundcolor": "#E5ECF6",
            "gridcolor": "white",
            "gridwidth": 2,
            "linecolor": "white",
            "showbackground": true,
            "ticks": "",
            "zerolinecolor": "white"
           },
           "yaxis": {
            "backgroundcolor": "#E5ECF6",
            "gridcolor": "white",
            "gridwidth": 2,
            "linecolor": "white",
            "showbackground": true,
            "ticks": "",
            "zerolinecolor": "white"
           },
           "zaxis": {
            "backgroundcolor": "#E5ECF6",
            "gridcolor": "white",
            "gridwidth": 2,
            "linecolor": "white",
            "showbackground": true,
            "ticks": "",
            "zerolinecolor": "white"
           }
          },
          "shapedefaults": {
           "line": {
            "color": "#2a3f5f"
           }
          },
          "ternary": {
           "aaxis": {
            "gridcolor": "white",
            "linecolor": "white",
            "ticks": ""
           },
           "baxis": {
            "gridcolor": "white",
            "linecolor": "white",
            "ticks": ""
           },
           "bgcolor": "#E5ECF6",
           "caxis": {
            "gridcolor": "white",
            "linecolor": "white",
            "ticks": ""
           }
          },
          "title": {
           "x": 0.05
          },
          "xaxis": {
           "automargin": true,
           "gridcolor": "white",
           "linecolor": "white",
           "ticks": "",
           "title": {
            "standoff": 15
           },
           "zerolinecolor": "white",
           "zerolinewidth": 2
          },
          "yaxis": {
           "automargin": true,
           "gridcolor": "white",
           "linecolor": "white",
           "ticks": "",
           "title": {
            "standoff": 15
           },
           "zerolinecolor": "white",
           "zerolinewidth": 2
          }
         }
        }
       }
      }
     },
     "metadata": {},
     "output_type": "display_data"
    }
   ],
   "source": [
    "# Verificando cada característica ao longo dos anos.\n",
    "import plotly.graph_objects as go\n",
    "\n",
    "fig = go.Figure()\n",
    "\n",
    "fig.add_trace(go.Scatter(x=dados_anos['year'], y=dados_anos['acousticness'], mode='lines+markers', name='Acousticness'))\n",
    "fig.add_trace(go.Scatter(x=dados_anos['year'], y=dados_anos['valence'], mode='lines+markers', name='Valence'))\n",
    "fig.add_trace(go.Scatter(x=dados_anos['year'], y=dados_anos['danceability'], mode='lines+markers', name='Danceability'))\n",
    "fig.add_trace(go.Scatter(x=dados_anos['year'], y=dados_anos['energy'], mode='lines+markers', name='Energy'))\n",
    "fig.add_trace(go.Scatter(x=dados_anos['year'], y=dados_anos['instrumentalness'], mode='lines+markers', name='Instrumentalness'))\n",
    "fig.add_trace(go.Scatter(x=dados_anos['year'], y=dados_anos['liveness'], mode='lines+markers', name='Liveness'))\n",
    "fig.add_trace(go.Scatter(x=dados_anos['year'], y=dados_anos['speechiness'], mode='lines+markers', name='Speechiness'))"
   ]
  },
  {
   "cell_type": "code",
   "execution_count": 16,
   "metadata": {},
   "outputs": [
    {
     "name": "stderr",
     "output_type": "stream",
     "text": [
      "C:\\Users\\natsu\\AppData\\Local\\Temp\\ipykernel_28196\\2638993390.py:2: FutureWarning:\n",
      "\n",
      "The default value of numeric_only in DataFrame.corr is deprecated. In a future version, it will default to False. Select only valid columns or specify the value of numeric_only to silence this warning.\n",
      "\n"
     ]
    },
    {
     "data": {
      "application/vnd.plotly.v1+json": {
       "config": {
        "plotlyServerURL": "https://plot.ly"
       },
       "data": [
        {
         "coloraxis": "coloraxis",
         "hovertemplate": "x: %{x}<br>y: %{y}<br>color: %{z}<extra></extra>",
         "name": "0",
         "texttemplate": "%{z}",
         "type": "heatmap",
         "x": [
          "valence",
          "year",
          "acousticness",
          "danceability",
          "duration_ms",
          "energy",
          "instrumentalness",
          "liveness",
          "loudness",
          "popularity",
          "speechiness",
          "tempo"
         ],
         "xaxis": "x",
         "y": [
          "valence",
          "year",
          "acousticness",
          "danceability",
          "duration_ms",
          "energy",
          "instrumentalness",
          "liveness",
          "loudness",
          "popularity",
          "speechiness",
          "tempo"
         ],
         "yaxis": "y",
         "z": [
          [
           1,
           -0.11152818996552269,
           -0.17906507578880113,
           0.4706016928505381,
           -0.19255117869290994,
           0.35029199798428345,
           -0.2557841048653347,
           0.02221366049722543,
           0.3378977669900986,
           -0.02666406634639214,
           0.08252614933102408,
           0.07315334866798318
          ],
          [
           -0.11152818996552269,
           1,
           -0.011224012558530316,
           0.17440028973064198,
           -0.14627395555186518,
           -0.06995658525945365,
           -0.13203456252176587,
           -0.04295002368784964,
           0.052483197651396335,
           0.5520537744643068,
           0.12405143773766447,
           0.02311722172289499
          ],
          [
           -0.17906507578880113,
           -0.011224012558530316,
           1,
           -0.1758942916516538,
           -0.05596681465486787,
           -0.7091107964699702,
           0.29973973152822125,
           -0.09844289738151028,
           -0.6036127005064934,
           -0.03187901141421101,
           -0.12082482277726948,
           -0.15474122793050457
          ],
          [
           0.4706016928505381,
           0.17440028973064198,
           -0.1758942916516538,
           1,
           -0.15971497774585897,
           0.08735820678113757,
           -0.3142998559030547,
           -0.0696597044523255,
           0.2679343205070181,
           0.1809607849711362,
           0.2267015756782655,
           -0.09486499562608043
          ],
          [
           -0.19255117869290994,
           -0.14627395555186518,
           -0.05596681465486787,
           -0.15971497774585897,
           1,
           0.014565108670534132,
           0.07164598789913075,
           0.052743206410793615,
           -0.017003038059048684,
           -0.10932110003241752,
           -0.02851359221465405,
           -0.028602148844984
          ],
          [
           0.35029199798428345,
           -0.06995658525945365,
           -0.7091107964699702,
           0.08735820678113757,
           0.014565108670534132,
           1,
           -0.3164682501295295,
           0.17387777376175623,
           0.7595724242928918,
           -0.028459539491050623,
           0.11401773090551177,
           0.1916455676981815
          ],
          [
           -0.2557841048653347,
           -0.13203456252176587,
           0.29973973152822125,
           -0.3142998559030547,
           0.07164598789913075,
           -0.3164682501295295,
           1,
           -0.06234712806061889,
           -0.5588938236531733,
           -0.12504620012490858,
           -0.1371187140191706,
           -0.09444020881622293
          ],
          [
           0.02221366049722543,
           -0.04295002368784964,
           -0.09844289738151028,
           -0.0696597044523255,
           0.052743206410793615,
           0.17387777376175623,
           -0.06234712806061889,
           1,
           0.09144172661855732,
           -0.06860593075406679,
           0.11955070410710385,
           0.014857567069808593
          ],
          [
           0.3378977669900986,
           0.052483197651396335,
           -0.6036127005064934,
           0.2679343205070181,
           -0.017003038059048684,
           0.7595724242928918,
           -0.5588938236531733,
           0.09144172661855732,
           1,
           0.09292468076617552,
           0.07902873344113712,
           0.18045939002871472
          ],
          [
           -0.02666406634639214,
           0.5520537744643068,
           -0.03187901141421101,
           0.1809607849711362,
           -0.10932110003241752,
           -0.028459539491050623,
           -0.12504620012490858,
           -0.06860593075406679,
           0.09292468076617552,
           1,
           0.057125553208252515,
           -0.00033755419876421543
          ],
          [
           0.08252614933102408,
           0.12405143773766447,
           -0.12082482277726948,
           0.2267015756782655,
           -0.02851359221465405,
           0.11401773090551177,
           -0.1371187140191706,
           0.11955070410710385,
           0.07902873344113712,
           0.057125553208252515,
           1,
           0.04062153175888837
          ],
          [
           0.07315334866798318,
           0.02311722172289499,
           -0.15474122793050457,
           -0.09486499562608043,
           -0.028602148844984,
           0.1916455676981815,
           -0.09444020881622293,
           0.014857567069808593,
           0.18045939002871472,
           -0.00033755419876421543,
           0.04062153175888837,
           1
          ]
         ]
        }
       ],
       "layout": {
        "coloraxis": {
         "colorscale": [
          [
           0,
           "#0d0887"
          ],
          [
           0.1111111111111111,
           "#46039f"
          ],
          [
           0.2222222222222222,
           "#7201a8"
          ],
          [
           0.3333333333333333,
           "#9c179e"
          ],
          [
           0.4444444444444444,
           "#bd3786"
          ],
          [
           0.5555555555555556,
           "#d8576b"
          ],
          [
           0.6666666666666666,
           "#ed7953"
          ],
          [
           0.7777777777777778,
           "#fb9f3a"
          ],
          [
           0.8888888888888888,
           "#fdca26"
          ],
          [
           1,
           "#f0f921"
          ]
         ]
        },
        "margin": {
         "t": 60
        },
        "template": {
         "data": {
          "bar": [
           {
            "error_x": {
             "color": "#2a3f5f"
            },
            "error_y": {
             "color": "#2a3f5f"
            },
            "marker": {
             "line": {
              "color": "#E5ECF6",
              "width": 0.5
             },
             "pattern": {
              "fillmode": "overlay",
              "size": 10,
              "solidity": 0.2
             }
            },
            "type": "bar"
           }
          ],
          "barpolar": [
           {
            "marker": {
             "line": {
              "color": "#E5ECF6",
              "width": 0.5
             },
             "pattern": {
              "fillmode": "overlay",
              "size": 10,
              "solidity": 0.2
             }
            },
            "type": "barpolar"
           }
          ],
          "carpet": [
           {
            "aaxis": {
             "endlinecolor": "#2a3f5f",
             "gridcolor": "white",
             "linecolor": "white",
             "minorgridcolor": "white",
             "startlinecolor": "#2a3f5f"
            },
            "baxis": {
             "endlinecolor": "#2a3f5f",
             "gridcolor": "white",
             "linecolor": "white",
             "minorgridcolor": "white",
             "startlinecolor": "#2a3f5f"
            },
            "type": "carpet"
           }
          ],
          "choropleth": [
           {
            "colorbar": {
             "outlinewidth": 0,
             "ticks": ""
            },
            "type": "choropleth"
           }
          ],
          "contour": [
           {
            "colorbar": {
             "outlinewidth": 0,
             "ticks": ""
            },
            "colorscale": [
             [
              0,
              "#0d0887"
             ],
             [
              0.1111111111111111,
              "#46039f"
             ],
             [
              0.2222222222222222,
              "#7201a8"
             ],
             [
              0.3333333333333333,
              "#9c179e"
             ],
             [
              0.4444444444444444,
              "#bd3786"
             ],
             [
              0.5555555555555556,
              "#d8576b"
             ],
             [
              0.6666666666666666,
              "#ed7953"
             ],
             [
              0.7777777777777778,
              "#fb9f3a"
             ],
             [
              0.8888888888888888,
              "#fdca26"
             ],
             [
              1,
              "#f0f921"
             ]
            ],
            "type": "contour"
           }
          ],
          "contourcarpet": [
           {
            "colorbar": {
             "outlinewidth": 0,
             "ticks": ""
            },
            "type": "contourcarpet"
           }
          ],
          "heatmap": [
           {
            "colorbar": {
             "outlinewidth": 0,
             "ticks": ""
            },
            "colorscale": [
             [
              0,
              "#0d0887"
             ],
             [
              0.1111111111111111,
              "#46039f"
             ],
             [
              0.2222222222222222,
              "#7201a8"
             ],
             [
              0.3333333333333333,
              "#9c179e"
             ],
             [
              0.4444444444444444,
              "#bd3786"
             ],
             [
              0.5555555555555556,
              "#d8576b"
             ],
             [
              0.6666666666666666,
              "#ed7953"
             ],
             [
              0.7777777777777778,
              "#fb9f3a"
             ],
             [
              0.8888888888888888,
              "#fdca26"
             ],
             [
              1,
              "#f0f921"
             ]
            ],
            "type": "heatmap"
           }
          ],
          "heatmapgl": [
           {
            "colorbar": {
             "outlinewidth": 0,
             "ticks": ""
            },
            "colorscale": [
             [
              0,
              "#0d0887"
             ],
             [
              0.1111111111111111,
              "#46039f"
             ],
             [
              0.2222222222222222,
              "#7201a8"
             ],
             [
              0.3333333333333333,
              "#9c179e"
             ],
             [
              0.4444444444444444,
              "#bd3786"
             ],
             [
              0.5555555555555556,
              "#d8576b"
             ],
             [
              0.6666666666666666,
              "#ed7953"
             ],
             [
              0.7777777777777778,
              "#fb9f3a"
             ],
             [
              0.8888888888888888,
              "#fdca26"
             ],
             [
              1,
              "#f0f921"
             ]
            ],
            "type": "heatmapgl"
           }
          ],
          "histogram": [
           {
            "marker": {
             "pattern": {
              "fillmode": "overlay",
              "size": 10,
              "solidity": 0.2
             }
            },
            "type": "histogram"
           }
          ],
          "histogram2d": [
           {
            "colorbar": {
             "outlinewidth": 0,
             "ticks": ""
            },
            "colorscale": [
             [
              0,
              "#0d0887"
             ],
             [
              0.1111111111111111,
              "#46039f"
             ],
             [
              0.2222222222222222,
              "#7201a8"
             ],
             [
              0.3333333333333333,
              "#9c179e"
             ],
             [
              0.4444444444444444,
              "#bd3786"
             ],
             [
              0.5555555555555556,
              "#d8576b"
             ],
             [
              0.6666666666666666,
              "#ed7953"
             ],
             [
              0.7777777777777778,
              "#fb9f3a"
             ],
             [
              0.8888888888888888,
              "#fdca26"
             ],
             [
              1,
              "#f0f921"
             ]
            ],
            "type": "histogram2d"
           }
          ],
          "histogram2dcontour": [
           {
            "colorbar": {
             "outlinewidth": 0,
             "ticks": ""
            },
            "colorscale": [
             [
              0,
              "#0d0887"
             ],
             [
              0.1111111111111111,
              "#46039f"
             ],
             [
              0.2222222222222222,
              "#7201a8"
             ],
             [
              0.3333333333333333,
              "#9c179e"
             ],
             [
              0.4444444444444444,
              "#bd3786"
             ],
             [
              0.5555555555555556,
              "#d8576b"
             ],
             [
              0.6666666666666666,
              "#ed7953"
             ],
             [
              0.7777777777777778,
              "#fb9f3a"
             ],
             [
              0.8888888888888888,
              "#fdca26"
             ],
             [
              1,
              "#f0f921"
             ]
            ],
            "type": "histogram2dcontour"
           }
          ],
          "mesh3d": [
           {
            "colorbar": {
             "outlinewidth": 0,
             "ticks": ""
            },
            "type": "mesh3d"
           }
          ],
          "parcoords": [
           {
            "line": {
             "colorbar": {
              "outlinewidth": 0,
              "ticks": ""
             }
            },
            "type": "parcoords"
           }
          ],
          "pie": [
           {
            "automargin": true,
            "type": "pie"
           }
          ],
          "scatter": [
           {
            "fillpattern": {
             "fillmode": "overlay",
             "size": 10,
             "solidity": 0.2
            },
            "type": "scatter"
           }
          ],
          "scatter3d": [
           {
            "line": {
             "colorbar": {
              "outlinewidth": 0,
              "ticks": ""
             }
            },
            "marker": {
             "colorbar": {
              "outlinewidth": 0,
              "ticks": ""
             }
            },
            "type": "scatter3d"
           }
          ],
          "scattercarpet": [
           {
            "marker": {
             "colorbar": {
              "outlinewidth": 0,
              "ticks": ""
             }
            },
            "type": "scattercarpet"
           }
          ],
          "scattergeo": [
           {
            "marker": {
             "colorbar": {
              "outlinewidth": 0,
              "ticks": ""
             }
            },
            "type": "scattergeo"
           }
          ],
          "scattergl": [
           {
            "marker": {
             "colorbar": {
              "outlinewidth": 0,
              "ticks": ""
             }
            },
            "type": "scattergl"
           }
          ],
          "scattermapbox": [
           {
            "marker": {
             "colorbar": {
              "outlinewidth": 0,
              "ticks": ""
             }
            },
            "type": "scattermapbox"
           }
          ],
          "scatterpolar": [
           {
            "marker": {
             "colorbar": {
              "outlinewidth": 0,
              "ticks": ""
             }
            },
            "type": "scatterpolar"
           }
          ],
          "scatterpolargl": [
           {
            "marker": {
             "colorbar": {
              "outlinewidth": 0,
              "ticks": ""
             }
            },
            "type": "scatterpolargl"
           }
          ],
          "scatterternary": [
           {
            "marker": {
             "colorbar": {
              "outlinewidth": 0,
              "ticks": ""
             }
            },
            "type": "scatterternary"
           }
          ],
          "surface": [
           {
            "colorbar": {
             "outlinewidth": 0,
             "ticks": ""
            },
            "colorscale": [
             [
              0,
              "#0d0887"
             ],
             [
              0.1111111111111111,
              "#46039f"
             ],
             [
              0.2222222222222222,
              "#7201a8"
             ],
             [
              0.3333333333333333,
              "#9c179e"
             ],
             [
              0.4444444444444444,
              "#bd3786"
             ],
             [
              0.5555555555555556,
              "#d8576b"
             ],
             [
              0.6666666666666666,
              "#ed7953"
             ],
             [
              0.7777777777777778,
              "#fb9f3a"
             ],
             [
              0.8888888888888888,
              "#fdca26"
             ],
             [
              1,
              "#f0f921"
             ]
            ],
            "type": "surface"
           }
          ],
          "table": [
           {
            "cells": {
             "fill": {
              "color": "#EBF0F8"
             },
             "line": {
              "color": "white"
             }
            },
            "header": {
             "fill": {
              "color": "#C8D4E3"
             },
             "line": {
              "color": "white"
             }
            },
            "type": "table"
           }
          ]
         },
         "layout": {
          "annotationdefaults": {
           "arrowcolor": "#2a3f5f",
           "arrowhead": 0,
           "arrowwidth": 1
          },
          "autotypenumbers": "strict",
          "coloraxis": {
           "colorbar": {
            "outlinewidth": 0,
            "ticks": ""
           }
          },
          "colorscale": {
           "diverging": [
            [
             0,
             "#8e0152"
            ],
            [
             0.1,
             "#c51b7d"
            ],
            [
             0.2,
             "#de77ae"
            ],
            [
             0.3,
             "#f1b6da"
            ],
            [
             0.4,
             "#fde0ef"
            ],
            [
             0.5,
             "#f7f7f7"
            ],
            [
             0.6,
             "#e6f5d0"
            ],
            [
             0.7,
             "#b8e186"
            ],
            [
             0.8,
             "#7fbc41"
            ],
            [
             0.9,
             "#4d9221"
            ],
            [
             1,
             "#276419"
            ]
           ],
           "sequential": [
            [
             0,
             "#0d0887"
            ],
            [
             0.1111111111111111,
             "#46039f"
            ],
            [
             0.2222222222222222,
             "#7201a8"
            ],
            [
             0.3333333333333333,
             "#9c179e"
            ],
            [
             0.4444444444444444,
             "#bd3786"
            ],
            [
             0.5555555555555556,
             "#d8576b"
            ],
            [
             0.6666666666666666,
             "#ed7953"
            ],
            [
             0.7777777777777778,
             "#fb9f3a"
            ],
            [
             0.8888888888888888,
             "#fdca26"
            ],
            [
             1,
             "#f0f921"
            ]
           ],
           "sequentialminus": [
            [
             0,
             "#0d0887"
            ],
            [
             0.1111111111111111,
             "#46039f"
            ],
            [
             0.2222222222222222,
             "#7201a8"
            ],
            [
             0.3333333333333333,
             "#9c179e"
            ],
            [
             0.4444444444444444,
             "#bd3786"
            ],
            [
             0.5555555555555556,
             "#d8576b"
            ],
            [
             0.6666666666666666,
             "#ed7953"
            ],
            [
             0.7777777777777778,
             "#fb9f3a"
            ],
            [
             0.8888888888888888,
             "#fdca26"
            ],
            [
             1,
             "#f0f921"
            ]
           ]
          },
          "colorway": [
           "#636efa",
           "#EF553B",
           "#00cc96",
           "#ab63fa",
           "#FFA15A",
           "#19d3f3",
           "#FF6692",
           "#B6E880",
           "#FF97FF",
           "#FECB52"
          ],
          "font": {
           "color": "#2a3f5f"
          },
          "geo": {
           "bgcolor": "white",
           "lakecolor": "white",
           "landcolor": "#E5ECF6",
           "showlakes": true,
           "showland": true,
           "subunitcolor": "white"
          },
          "hoverlabel": {
           "align": "left"
          },
          "hovermode": "closest",
          "mapbox": {
           "style": "light"
          },
          "paper_bgcolor": "white",
          "plot_bgcolor": "#E5ECF6",
          "polar": {
           "angularaxis": {
            "gridcolor": "white",
            "linecolor": "white",
            "ticks": ""
           },
           "bgcolor": "#E5ECF6",
           "radialaxis": {
            "gridcolor": "white",
            "linecolor": "white",
            "ticks": ""
           }
          },
          "scene": {
           "xaxis": {
            "backgroundcolor": "#E5ECF6",
            "gridcolor": "white",
            "gridwidth": 2,
            "linecolor": "white",
            "showbackground": true,
            "ticks": "",
            "zerolinecolor": "white"
           },
           "yaxis": {
            "backgroundcolor": "#E5ECF6",
            "gridcolor": "white",
            "gridwidth": 2,
            "linecolor": "white",
            "showbackground": true,
            "ticks": "",
            "zerolinecolor": "white"
           },
           "zaxis": {
            "backgroundcolor": "#E5ECF6",
            "gridcolor": "white",
            "gridwidth": 2,
            "linecolor": "white",
            "showbackground": true,
            "ticks": "",
            "zerolinecolor": "white"
           }
          },
          "shapedefaults": {
           "line": {
            "color": "#2a3f5f"
           }
          },
          "ternary": {
           "aaxis": {
            "gridcolor": "white",
            "linecolor": "white",
            "ticks": ""
           },
           "baxis": {
            "gridcolor": "white",
            "linecolor": "white",
            "ticks": ""
           },
           "bgcolor": "#E5ECF6",
           "caxis": {
            "gridcolor": "white",
            "linecolor": "white",
            "ticks": ""
           }
          },
          "title": {
           "x": 0.05
          },
          "xaxis": {
           "automargin": true,
           "gridcolor": "white",
           "linecolor": "white",
           "ticks": "",
           "title": {
            "standoff": 15
           },
           "zerolinecolor": "white",
           "zerolinewidth": 2
          },
          "yaxis": {
           "automargin": true,
           "gridcolor": "white",
           "linecolor": "white",
           "ticks": "",
           "title": {
            "standoff": 15
           },
           "zerolinecolor": "white",
           "zerolinewidth": 2
          }
         }
        },
        "xaxis": {
         "anchor": "y",
         "constrain": "domain",
         "domain": [
          0,
          1
         ],
         "scaleanchor": "y"
        },
        "yaxis": {
         "anchor": "x",
         "autorange": "reversed",
         "constrain": "domain",
         "domain": [
          0,
          1
         ]
        }
       }
      }
     },
     "metadata": {},
     "output_type": "display_data"
    }
   ],
   "source": [
    "# Verificando a correlação entre as variáveis.\n",
    "fig = px.imshow(dados_totais.corr(),text_auto=True)\n",
    "fig.show()"
   ]
  },
  {
   "cell_type": "markdown",
   "metadata": {},
   "source": [
    "Hipóteses:\n",
    "- Loudness altamente correlacionado com Energy: Músicas mais agitadas e altamente enérgicas tem um nível muito maior de sonoridade do que as outras, como as músicas eletrônicas em relação às músicas lo-fi.\n",
    "- Loudness inversamente correlacionado com Instrumentalness e Acusticness: Trás a tona um pouco da primeira teoria, mas basicamente músicas mais calmas, com grande número de instrumentais em períodos maiores e acústicas tendem a ser mais “baixas” em termos de volume da sonoridade.\n",
    "- Popularity diretamente proporcional com Year: Provavelmente as músicas recomendadas no TOP 50 do Spotify são ouvidas por mais pessoas, o que faz com que crie essa taxa de correlação.\n"
   ]
  },
  {
   "cell_type": "markdown",
   "metadata": {},
   "source": [
    "### PCA e StandardScaler"
   ]
  },
  {
   "cell_type": "code",
   "execution_count": 17,
   "metadata": {},
   "outputs": [
    {
     "data": {
      "text/html": [
       "<div>\n",
       "<style scoped>\n",
       "    .dataframe tbody tr th:only-of-type {\n",
       "        vertical-align: middle;\n",
       "    }\n",
       "\n",
       "    .dataframe tbody tr th {\n",
       "        vertical-align: top;\n",
       "    }\n",
       "\n",
       "    .dataframe thead th {\n",
       "        text-align: right;\n",
       "    }\n",
       "</style>\n",
       "<table border=\"1\" class=\"dataframe\">\n",
       "  <thead>\n",
       "    <tr style=\"text-align: right;\">\n",
       "      <th></th>\n",
       "      <th>genres</th>\n",
       "      <th>acousticness</th>\n",
       "      <th>danceability</th>\n",
       "      <th>duration_ms</th>\n",
       "      <th>energy</th>\n",
       "      <th>instrumentalness</th>\n",
       "      <th>liveness</th>\n",
       "      <th>loudness</th>\n",
       "      <th>speechiness</th>\n",
       "      <th>tempo</th>\n",
       "      <th>valence</th>\n",
       "      <th>popularity</th>\n",
       "    </tr>\n",
       "  </thead>\n",
       "  <tbody>\n",
       "    <tr>\n",
       "      <th>0</th>\n",
       "      <td>21st century classical</td>\n",
       "      <td>0.979333</td>\n",
       "      <td>0.162883</td>\n",
       "      <td>1.602977e+05</td>\n",
       "      <td>0.071317</td>\n",
       "      <td>0.606834</td>\n",
       "      <td>0.361600</td>\n",
       "      <td>-31.514333</td>\n",
       "      <td>0.040567</td>\n",
       "      <td>75.336500</td>\n",
       "      <td>0.103783</td>\n",
       "      <td>27.833333</td>\n",
       "    </tr>\n",
       "    <tr>\n",
       "      <th>1</th>\n",
       "      <td>432hz</td>\n",
       "      <td>0.494780</td>\n",
       "      <td>0.299333</td>\n",
       "      <td>1.048887e+06</td>\n",
       "      <td>0.450678</td>\n",
       "      <td>0.477762</td>\n",
       "      <td>0.131000</td>\n",
       "      <td>-16.854000</td>\n",
       "      <td>0.076817</td>\n",
       "      <td>120.285667</td>\n",
       "      <td>0.221750</td>\n",
       "      <td>52.500000</td>\n",
       "    </tr>\n",
       "    <tr>\n",
       "      <th>2</th>\n",
       "      <td>8-bit</td>\n",
       "      <td>0.762000</td>\n",
       "      <td>0.712000</td>\n",
       "      <td>1.151770e+05</td>\n",
       "      <td>0.818000</td>\n",
       "      <td>0.876000</td>\n",
       "      <td>0.126000</td>\n",
       "      <td>-9.180000</td>\n",
       "      <td>0.047000</td>\n",
       "      <td>133.444000</td>\n",
       "      <td>0.975000</td>\n",
       "      <td>48.000000</td>\n",
       "    </tr>\n",
       "    <tr>\n",
       "      <th>3</th>\n",
       "      <td>[]</td>\n",
       "      <td>0.651417</td>\n",
       "      <td>0.529093</td>\n",
       "      <td>2.328809e+05</td>\n",
       "      <td>0.419146</td>\n",
       "      <td>0.205309</td>\n",
       "      <td>0.218696</td>\n",
       "      <td>-12.288965</td>\n",
       "      <td>0.107872</td>\n",
       "      <td>112.857352</td>\n",
       "      <td>0.513604</td>\n",
       "      <td>20.859882</td>\n",
       "    </tr>\n",
       "    <tr>\n",
       "      <th>4</th>\n",
       "      <td>a cappella</td>\n",
       "      <td>0.676557</td>\n",
       "      <td>0.538961</td>\n",
       "      <td>1.906285e+05</td>\n",
       "      <td>0.316434</td>\n",
       "      <td>0.003003</td>\n",
       "      <td>0.172254</td>\n",
       "      <td>-12.479387</td>\n",
       "      <td>0.082851</td>\n",
       "      <td>112.110362</td>\n",
       "      <td>0.448249</td>\n",
       "      <td>45.820071</td>\n",
       "    </tr>\n",
       "    <tr>\n",
       "      <th>...</th>\n",
       "      <td>...</td>\n",
       "      <td>...</td>\n",
       "      <td>...</td>\n",
       "      <td>...</td>\n",
       "      <td>...</td>\n",
       "      <td>...</td>\n",
       "      <td>...</td>\n",
       "      <td>...</td>\n",
       "      <td>...</td>\n",
       "      <td>...</td>\n",
       "      <td>...</td>\n",
       "      <td>...</td>\n",
       "    </tr>\n",
       "    <tr>\n",
       "      <th>2968</th>\n",
       "      <td>zolo</td>\n",
       "      <td>0.222625</td>\n",
       "      <td>0.547082</td>\n",
       "      <td>2.580991e+05</td>\n",
       "      <td>0.610240</td>\n",
       "      <td>0.143872</td>\n",
       "      <td>0.204206</td>\n",
       "      <td>-11.295878</td>\n",
       "      <td>0.061088</td>\n",
       "      <td>125.494919</td>\n",
       "      <td>0.596155</td>\n",
       "      <td>33.778943</td>\n",
       "    </tr>\n",
       "    <tr>\n",
       "      <th>2969</th>\n",
       "      <td>zouglou</td>\n",
       "      <td>0.161000</td>\n",
       "      <td>0.863000</td>\n",
       "      <td>2.063200e+05</td>\n",
       "      <td>0.909000</td>\n",
       "      <td>0.000000</td>\n",
       "      <td>0.108000</td>\n",
       "      <td>-5.985000</td>\n",
       "      <td>0.081300</td>\n",
       "      <td>119.038000</td>\n",
       "      <td>0.845000</td>\n",
       "      <td>58.000000</td>\n",
       "    </tr>\n",
       "    <tr>\n",
       "      <th>2970</th>\n",
       "      <td>zouk</td>\n",
       "      <td>0.263261</td>\n",
       "      <td>0.748889</td>\n",
       "      <td>3.060728e+05</td>\n",
       "      <td>0.622444</td>\n",
       "      <td>0.257227</td>\n",
       "      <td>0.089678</td>\n",
       "      <td>-10.289222</td>\n",
       "      <td>0.038778</td>\n",
       "      <td>101.965222</td>\n",
       "      <td>0.824111</td>\n",
       "      <td>46.666667</td>\n",
       "    </tr>\n",
       "    <tr>\n",
       "      <th>2971</th>\n",
       "      <td>zurich indie</td>\n",
       "      <td>0.993000</td>\n",
       "      <td>0.705667</td>\n",
       "      <td>1.984173e+05</td>\n",
       "      <td>0.172667</td>\n",
       "      <td>0.468633</td>\n",
       "      <td>0.179667</td>\n",
       "      <td>-11.453333</td>\n",
       "      <td>0.348667</td>\n",
       "      <td>91.278000</td>\n",
       "      <td>0.739000</td>\n",
       "      <td>0.000000</td>\n",
       "    </tr>\n",
       "    <tr>\n",
       "      <th>2972</th>\n",
       "      <td>zydeco</td>\n",
       "      <td>0.421038</td>\n",
       "      <td>0.629409</td>\n",
       "      <td>1.716717e+05</td>\n",
       "      <td>0.609369</td>\n",
       "      <td>0.019248</td>\n",
       "      <td>0.255877</td>\n",
       "      <td>-9.854825</td>\n",
       "      <td>0.050491</td>\n",
       "      <td>126.366087</td>\n",
       "      <td>0.808544</td>\n",
       "      <td>30.261905</td>\n",
       "    </tr>\n",
       "  </tbody>\n",
       "</table>\n",
       "<p>2973 rows × 12 columns</p>\n",
       "</div>"
      ],
      "text/plain": [
       "                      genres  acousticness  danceability   duration_ms  \\\n",
       "0     21st century classical      0.979333      0.162883  1.602977e+05   \n",
       "1                      432hz      0.494780      0.299333  1.048887e+06   \n",
       "2                      8-bit      0.762000      0.712000  1.151770e+05   \n",
       "3                         []      0.651417      0.529093  2.328809e+05   \n",
       "4                 a cappella      0.676557      0.538961  1.906285e+05   \n",
       "...                      ...           ...           ...           ...   \n",
       "2968                    zolo      0.222625      0.547082  2.580991e+05   \n",
       "2969                 zouglou      0.161000      0.863000  2.063200e+05   \n",
       "2970                    zouk      0.263261      0.748889  3.060728e+05   \n",
       "2971            zurich indie      0.993000      0.705667  1.984173e+05   \n",
       "2972                  zydeco      0.421038      0.629409  1.716717e+05   \n",
       "\n",
       "        energy  instrumentalness  liveness   loudness  speechiness  \\\n",
       "0     0.071317          0.606834  0.361600 -31.514333     0.040567   \n",
       "1     0.450678          0.477762  0.131000 -16.854000     0.076817   \n",
       "2     0.818000          0.876000  0.126000  -9.180000     0.047000   \n",
       "3     0.419146          0.205309  0.218696 -12.288965     0.107872   \n",
       "4     0.316434          0.003003  0.172254 -12.479387     0.082851   \n",
       "...        ...               ...       ...        ...          ...   \n",
       "2968  0.610240          0.143872  0.204206 -11.295878     0.061088   \n",
       "2969  0.909000          0.000000  0.108000  -5.985000     0.081300   \n",
       "2970  0.622444          0.257227  0.089678 -10.289222     0.038778   \n",
       "2971  0.172667          0.468633  0.179667 -11.453333     0.348667   \n",
       "2972  0.609369          0.019248  0.255877  -9.854825     0.050491   \n",
       "\n",
       "           tempo   valence  popularity  \n",
       "0      75.336500  0.103783   27.833333  \n",
       "1     120.285667  0.221750   52.500000  \n",
       "2     133.444000  0.975000   48.000000  \n",
       "3     112.857352  0.513604   20.859882  \n",
       "4     112.110362  0.448249   45.820071  \n",
       "...          ...       ...         ...  \n",
       "2968  125.494919  0.596155   33.778943  \n",
       "2969  119.038000  0.845000   58.000000  \n",
       "2970  101.965222  0.824111   46.666667  \n",
       "2971   91.278000  0.739000    0.000000  \n",
       "2972  126.366087  0.808544   30.261905  \n",
       "\n",
       "[2973 rows x 12 columns]"
      ]
     },
     "execution_count": 17,
     "metadata": {},
     "output_type": "execute_result"
    }
   ],
   "source": [
    "dados_generos"
   ]
  },
  {
   "cell_type": "code",
   "execution_count": 18,
   "metadata": {},
   "outputs": [
    {
     "data": {
      "text/html": [
       "<div>\n",
       "<style scoped>\n",
       "    .dataframe tbody tr th:only-of-type {\n",
       "        vertical-align: middle;\n",
       "    }\n",
       "\n",
       "    .dataframe tbody tr th {\n",
       "        vertical-align: top;\n",
       "    }\n",
       "\n",
       "    .dataframe thead th {\n",
       "        text-align: right;\n",
       "    }\n",
       "</style>\n",
       "<table border=\"1\" class=\"dataframe\">\n",
       "  <thead>\n",
       "    <tr style=\"text-align: right;\">\n",
       "      <th></th>\n",
       "      <th>acousticness</th>\n",
       "      <th>danceability</th>\n",
       "      <th>duration_ms</th>\n",
       "      <th>energy</th>\n",
       "      <th>instrumentalness</th>\n",
       "      <th>liveness</th>\n",
       "      <th>loudness</th>\n",
       "      <th>speechiness</th>\n",
       "      <th>tempo</th>\n",
       "      <th>valence</th>\n",
       "      <th>popularity</th>\n",
       "    </tr>\n",
       "  </thead>\n",
       "  <tbody>\n",
       "    <tr>\n",
       "      <th>0</th>\n",
       "      <td>0.979333</td>\n",
       "      <td>0.162883</td>\n",
       "      <td>1.602977e+05</td>\n",
       "      <td>0.071317</td>\n",
       "      <td>0.606834</td>\n",
       "      <td>0.361600</td>\n",
       "      <td>-31.514333</td>\n",
       "      <td>0.040567</td>\n",
       "      <td>75.336500</td>\n",
       "      <td>0.103783</td>\n",
       "      <td>27.833333</td>\n",
       "    </tr>\n",
       "    <tr>\n",
       "      <th>1</th>\n",
       "      <td>0.494780</td>\n",
       "      <td>0.299333</td>\n",
       "      <td>1.048887e+06</td>\n",
       "      <td>0.450678</td>\n",
       "      <td>0.477762</td>\n",
       "      <td>0.131000</td>\n",
       "      <td>-16.854000</td>\n",
       "      <td>0.076817</td>\n",
       "      <td>120.285667</td>\n",
       "      <td>0.221750</td>\n",
       "      <td>52.500000</td>\n",
       "    </tr>\n",
       "    <tr>\n",
       "      <th>2</th>\n",
       "      <td>0.762000</td>\n",
       "      <td>0.712000</td>\n",
       "      <td>1.151770e+05</td>\n",
       "      <td>0.818000</td>\n",
       "      <td>0.876000</td>\n",
       "      <td>0.126000</td>\n",
       "      <td>-9.180000</td>\n",
       "      <td>0.047000</td>\n",
       "      <td>133.444000</td>\n",
       "      <td>0.975000</td>\n",
       "      <td>48.000000</td>\n",
       "    </tr>\n",
       "    <tr>\n",
       "      <th>3</th>\n",
       "      <td>0.651417</td>\n",
       "      <td>0.529093</td>\n",
       "      <td>2.328809e+05</td>\n",
       "      <td>0.419146</td>\n",
       "      <td>0.205309</td>\n",
       "      <td>0.218696</td>\n",
       "      <td>-12.288965</td>\n",
       "      <td>0.107872</td>\n",
       "      <td>112.857352</td>\n",
       "      <td>0.513604</td>\n",
       "      <td>20.859882</td>\n",
       "    </tr>\n",
       "    <tr>\n",
       "      <th>4</th>\n",
       "      <td>0.676557</td>\n",
       "      <td>0.538961</td>\n",
       "      <td>1.906285e+05</td>\n",
       "      <td>0.316434</td>\n",
       "      <td>0.003003</td>\n",
       "      <td>0.172254</td>\n",
       "      <td>-12.479387</td>\n",
       "      <td>0.082851</td>\n",
       "      <td>112.110362</td>\n",
       "      <td>0.448249</td>\n",
       "      <td>45.820071</td>\n",
       "    </tr>\n",
       "    <tr>\n",
       "      <th>...</th>\n",
       "      <td>...</td>\n",
       "      <td>...</td>\n",
       "      <td>...</td>\n",
       "      <td>...</td>\n",
       "      <td>...</td>\n",
       "      <td>...</td>\n",
       "      <td>...</td>\n",
       "      <td>...</td>\n",
       "      <td>...</td>\n",
       "      <td>...</td>\n",
       "      <td>...</td>\n",
       "    </tr>\n",
       "    <tr>\n",
       "      <th>2968</th>\n",
       "      <td>0.222625</td>\n",
       "      <td>0.547082</td>\n",
       "      <td>2.580991e+05</td>\n",
       "      <td>0.610240</td>\n",
       "      <td>0.143872</td>\n",
       "      <td>0.204206</td>\n",
       "      <td>-11.295878</td>\n",
       "      <td>0.061088</td>\n",
       "      <td>125.494919</td>\n",
       "      <td>0.596155</td>\n",
       "      <td>33.778943</td>\n",
       "    </tr>\n",
       "    <tr>\n",
       "      <th>2969</th>\n",
       "      <td>0.161000</td>\n",
       "      <td>0.863000</td>\n",
       "      <td>2.063200e+05</td>\n",
       "      <td>0.909000</td>\n",
       "      <td>0.000000</td>\n",
       "      <td>0.108000</td>\n",
       "      <td>-5.985000</td>\n",
       "      <td>0.081300</td>\n",
       "      <td>119.038000</td>\n",
       "      <td>0.845000</td>\n",
       "      <td>58.000000</td>\n",
       "    </tr>\n",
       "    <tr>\n",
       "      <th>2970</th>\n",
       "      <td>0.263261</td>\n",
       "      <td>0.748889</td>\n",
       "      <td>3.060728e+05</td>\n",
       "      <td>0.622444</td>\n",
       "      <td>0.257227</td>\n",
       "      <td>0.089678</td>\n",
       "      <td>-10.289222</td>\n",
       "      <td>0.038778</td>\n",
       "      <td>101.965222</td>\n",
       "      <td>0.824111</td>\n",
       "      <td>46.666667</td>\n",
       "    </tr>\n",
       "    <tr>\n",
       "      <th>2971</th>\n",
       "      <td>0.993000</td>\n",
       "      <td>0.705667</td>\n",
       "      <td>1.984173e+05</td>\n",
       "      <td>0.172667</td>\n",
       "      <td>0.468633</td>\n",
       "      <td>0.179667</td>\n",
       "      <td>-11.453333</td>\n",
       "      <td>0.348667</td>\n",
       "      <td>91.278000</td>\n",
       "      <td>0.739000</td>\n",
       "      <td>0.000000</td>\n",
       "    </tr>\n",
       "    <tr>\n",
       "      <th>2972</th>\n",
       "      <td>0.421038</td>\n",
       "      <td>0.629409</td>\n",
       "      <td>1.716717e+05</td>\n",
       "      <td>0.609369</td>\n",
       "      <td>0.019248</td>\n",
       "      <td>0.255877</td>\n",
       "      <td>-9.854825</td>\n",
       "      <td>0.050491</td>\n",
       "      <td>126.366087</td>\n",
       "      <td>0.808544</td>\n",
       "      <td>30.261905</td>\n",
       "    </tr>\n",
       "  </tbody>\n",
       "</table>\n",
       "<p>2973 rows × 11 columns</p>\n",
       "</div>"
      ],
      "text/plain": [
       "      acousticness  danceability   duration_ms    energy  instrumentalness  \\\n",
       "0         0.979333      0.162883  1.602977e+05  0.071317          0.606834   \n",
       "1         0.494780      0.299333  1.048887e+06  0.450678          0.477762   \n",
       "2         0.762000      0.712000  1.151770e+05  0.818000          0.876000   \n",
       "3         0.651417      0.529093  2.328809e+05  0.419146          0.205309   \n",
       "4         0.676557      0.538961  1.906285e+05  0.316434          0.003003   \n",
       "...            ...           ...           ...       ...               ...   \n",
       "2968      0.222625      0.547082  2.580991e+05  0.610240          0.143872   \n",
       "2969      0.161000      0.863000  2.063200e+05  0.909000          0.000000   \n",
       "2970      0.263261      0.748889  3.060728e+05  0.622444          0.257227   \n",
       "2971      0.993000      0.705667  1.984173e+05  0.172667          0.468633   \n",
       "2972      0.421038      0.629409  1.716717e+05  0.609369          0.019248   \n",
       "\n",
       "      liveness   loudness  speechiness       tempo   valence  popularity  \n",
       "0     0.361600 -31.514333     0.040567   75.336500  0.103783   27.833333  \n",
       "1     0.131000 -16.854000     0.076817  120.285667  0.221750   52.500000  \n",
       "2     0.126000  -9.180000     0.047000  133.444000  0.975000   48.000000  \n",
       "3     0.218696 -12.288965     0.107872  112.857352  0.513604   20.859882  \n",
       "4     0.172254 -12.479387     0.082851  112.110362  0.448249   45.820071  \n",
       "...        ...        ...          ...         ...       ...         ...  \n",
       "2968  0.204206 -11.295878     0.061088  125.494919  0.596155   33.778943  \n",
       "2969  0.108000  -5.985000     0.081300  119.038000  0.845000   58.000000  \n",
       "2970  0.089678 -10.289222     0.038778  101.965222  0.824111   46.666667  \n",
       "2971  0.179667 -11.453333     0.348667   91.278000  0.739000    0.000000  \n",
       "2972  0.255877  -9.854825     0.050491  126.366087  0.808544   30.261905  \n",
       "\n",
       "[2973 rows x 11 columns]"
      ]
     },
     "execution_count": 18,
     "metadata": {},
     "output_type": "execute_result"
    }
   ],
   "source": [
    "dados_generos_v1 = dados_generos.drop('genres', axis=1)\n",
    "dados_generos_v1"
   ]
  },
  {
   "cell_type": "code",
   "execution_count": 19,
   "metadata": {},
   "outputs": [],
   "source": [
    "from sklearn.pipeline import Pipeline\n",
    "from sklearn.preprocessing import StandardScaler\n",
    "from sklearn.decomposition import PCA"
   ]
  },
  {
   "cell_type": "code",
   "execution_count": 20,
   "metadata": {},
   "outputs": [],
   "source": [
    "np.random.seed(1224)\n",
    "SEED = 1224\n",
    "\n",
    "# Criando o pipeline para o PCA de forma automatizada.\n",
    "pca_pipeline = Pipeline([('scaler', StandardScaler()), ('pca', PCA(n_components=2, random_state=SEED))])\n",
    "# StandardScaler() - Padroniza os dados na mesma escala.\n",
    "# PCA() - Reduz a dimensionalidade dos dados. n_components - Número de componentes principais que quero que sejam explicados."
   ]
  },
  {
   "cell_type": "code",
   "execution_count": 21,
   "metadata": {},
   "outputs": [
    {
     "data": {
      "text/html": [
       "<div>\n",
       "<style scoped>\n",
       "    .dataframe tbody tr th:only-of-type {\n",
       "        vertical-align: middle;\n",
       "    }\n",
       "\n",
       "    .dataframe tbody tr th {\n",
       "        vertical-align: top;\n",
       "    }\n",
       "\n",
       "    .dataframe thead th {\n",
       "        text-align: right;\n",
       "    }\n",
       "</style>\n",
       "<table border=\"1\" class=\"dataframe\">\n",
       "  <thead>\n",
       "    <tr style=\"text-align: right;\">\n",
       "      <th></th>\n",
       "      <th>x</th>\n",
       "      <th>y</th>\n",
       "    </tr>\n",
       "  </thead>\n",
       "  <tbody>\n",
       "    <tr>\n",
       "      <th>0</th>\n",
       "      <td>5.910268</td>\n",
       "      <td>-0.011146</td>\n",
       "    </tr>\n",
       "    <tr>\n",
       "      <th>1</th>\n",
       "      <td>2.787093</td>\n",
       "      <td>4.498483</td>\n",
       "    </tr>\n",
       "    <tr>\n",
       "      <th>2</th>\n",
       "      <td>-0.757538</td>\n",
       "      <td>-1.258495</td>\n",
       "    </tr>\n",
       "    <tr>\n",
       "      <th>3</th>\n",
       "      <td>1.020521</td>\n",
       "      <td>-0.931690</td>\n",
       "    </tr>\n",
       "    <tr>\n",
       "      <th>4</th>\n",
       "      <td>0.753911</td>\n",
       "      <td>-0.999861</td>\n",
       "    </tr>\n",
       "    <tr>\n",
       "      <th>...</th>\n",
       "      <td>...</td>\n",
       "      <td>...</td>\n",
       "    </tr>\n",
       "    <tr>\n",
       "      <th>2968</th>\n",
       "      <td>-0.475136</td>\n",
       "      <td>-0.017126</td>\n",
       "    </tr>\n",
       "    <tr>\n",
       "      <th>2969</th>\n",
       "      <td>-3.026756</td>\n",
       "      <td>-1.304983</td>\n",
       "    </tr>\n",
       "    <tr>\n",
       "      <th>2970</th>\n",
       "      <td>-0.832511</td>\n",
       "      <td>-1.089726</td>\n",
       "    </tr>\n",
       "    <tr>\n",
       "      <th>2971</th>\n",
       "      <td>1.774790</td>\n",
       "      <td>-3.695233</td>\n",
       "    </tr>\n",
       "    <tr>\n",
       "      <th>2972</th>\n",
       "      <td>-1.028069</td>\n",
       "      <td>-1.390709</td>\n",
       "    </tr>\n",
       "  </tbody>\n",
       "</table>\n",
       "<p>2973 rows × 2 columns</p>\n",
       "</div>"
      ],
      "text/plain": [
       "             x         y\n",
       "0     5.910268 -0.011146\n",
       "1     2.787093  4.498483\n",
       "2    -0.757538 -1.258495\n",
       "3     1.020521 -0.931690\n",
       "4     0.753911 -0.999861\n",
       "...        ...       ...\n",
       "2968 -0.475136 -0.017126\n",
       "2969 -3.026756 -1.304983\n",
       "2970 -0.832511 -1.089726\n",
       "2971  1.774790 -3.695233\n",
       "2972 -1.028069 -1.390709\n",
       "\n",
       "[2973 rows x 2 columns]"
      ]
     },
     "execution_count": 21,
     "metadata": {},
     "output_type": "execute_result"
    }
   ],
   "source": [
    "# Aplicando o pipeline.\n",
    "genre_embeddings_pca = pca_pipeline.fit_transform(dados_generos_v1)\n",
    "\n",
    "# Criando um dataframe com os dados do PCA.\n",
    "projection = pd.DataFrame(data=genre_embeddings_pca, columns=['x', 'y'])\n",
    "projection"
   ]
  },
  {
   "cell_type": "markdown",
   "metadata": {},
   "source": [
    "### K-Means"
   ]
  },
  {
   "cell_type": "code",
   "execution_count": 22,
   "metadata": {},
   "outputs": [],
   "source": [
    "from sklearn.cluster import KMeans"
   ]
  },
  {
   "cell_type": "code",
   "execution_count": 24,
   "metadata": {},
   "outputs": [
    {
     "name": "stderr",
     "output_type": "stream",
     "text": [
      "c:\\Users\\natsu\\anaconda3\\Lib\\site-packages\\sklearn\\cluster\\_kmeans.py:1412: FutureWarning:\n",
      "\n",
      "The default value of `n_init` will change from 10 to 'auto' in 1.4. Set the value of `n_init` explicitly to suppress the warning\n",
      "\n"
     ]
    },
    {
     "name": "stdout",
     "output_type": "stream",
     "text": [
      "Initialization complete\n",
      "Iteration 0, inertia 12310.354412150364.\n",
      "Iteration 1, inertia 5436.258287778739.\n",
      "Iteration 2, inertia 5022.6703936870435.\n",
      "Iteration 3, inertia 4967.2235304156875.\n",
      "Iteration 4, inertia 4910.032761342529.\n",
      "Iteration 5, inertia 4885.102058506973.\n",
      "Iteration 6, inertia 4883.188064837903.\n",
      "Iteration 7, inertia 4882.94852955734.\n",
      "Converged at iteration 7: center shift 8.027080004395492e-05 within tolerance 0.00024405961884473048.\n",
      "Initialization complete\n",
      "Iteration 0, inertia 7147.003687974605.\n",
      "Iteration 1, inertia 4843.0053012839535.\n",
      "Iteration 2, inertia 4807.459829086956.\n",
      "Iteration 3, inertia 4804.036660567593.\n",
      "Iteration 4, inertia 4801.515554992625.\n",
      "Iteration 5, inertia 4799.334619637397.\n",
      "Iteration 6, inertia 4797.553745090282.\n",
      "Iteration 7, inertia 4796.346714707959.\n",
      "Iteration 8, inertia 4792.17184475234.\n",
      "Iteration 9, inertia 4781.186881569291.\n",
      "Iteration 10, inertia 4746.487158654649.\n",
      "Iteration 11, inertia 4650.500101988255.\n",
      "Iteration 12, inertia 4349.993468248498.\n",
      "Iteration 13, inertia 3931.428142602927.\n",
      "Iteration 14, inertia 3658.5195820166878.\n",
      "Iteration 15, inertia 3523.919695015553.\n",
      "Iteration 16, inertia 3500.201299954743.\n",
      "Converged at iteration 16: strict convergence.\n",
      "Initialization complete\n",
      "Iteration 0, inertia 7404.559061133566.\n",
      "Iteration 1, inertia 3761.6810855338736.\n",
      "Iteration 2, inertia 3500.3207255592083.\n",
      "Iteration 3, inertia 3500.2012999547424.\n",
      "Converged at iteration 3: strict convergence.\n",
      "Initialization complete\n",
      "Iteration 0, inertia 7598.605500523218.\n",
      "Iteration 1, inertia 4962.689522205095.\n",
      "Iteration 2, inertia 4821.705817160831.\n",
      "Iteration 3, inertia 4812.178396976189.\n",
      "Iteration 4, inertia 4808.378821646878.\n",
      "Iteration 5, inertia 4807.623725869802.\n",
      "Iteration 6, inertia 4807.198671401906.\n",
      "Iteration 7, inertia 4806.297681906546.\n",
      "Iteration 8, inertia 4804.187681838275.\n",
      "Iteration 9, inertia 4801.9543592823175.\n",
      "Iteration 10, inertia 4799.564711797057.\n",
      "Iteration 11, inertia 4797.664385468923.\n",
      "Iteration 12, inertia 4796.998782536714.\n",
      "Iteration 13, inertia 4794.136822640736.\n",
      "Iteration 14, inertia 4784.333746092787.\n",
      "Iteration 15, inertia 4753.144679047407.\n",
      "Iteration 16, inertia 4658.059935098122.\n",
      "Iteration 17, inertia 4381.696973493003.\n",
      "Iteration 18, inertia 3957.8786667127347.\n",
      "Iteration 19, inertia 3666.987574807533.\n",
      "Iteration 20, inertia 3526.636266265774.\n",
      "Iteration 21, inertia 3500.201299954743.\n",
      "Converged at iteration 21: strict convergence.\n",
      "Initialization complete\n",
      "Iteration 0, inertia 7181.754850137183.\n",
      "Iteration 1, inertia 3528.7506465303522.\n",
      "Iteration 2, inertia 3500.2012999547424.\n",
      "Converged at iteration 2: strict convergence.\n",
      "Initialization complete\n",
      "Iteration 0, inertia 4783.498939773468.\n",
      "Iteration 1, inertia 3502.496107766732.\n",
      "Iteration 2, inertia 3500.201299954743.\n",
      "Converged at iteration 2: strict convergence.\n",
      "Initialization complete\n",
      "Iteration 0, inertia 7525.316059032517.\n",
      "Iteration 1, inertia 3637.315113195027.\n",
      "Iteration 2, inertia 3500.201299954743.\n",
      "Converged at iteration 2: strict convergence.\n",
      "Initialization complete\n",
      "Iteration 0, inertia 5121.671193781649.\n",
      "Iteration 1, inertia 4050.703029805354.\n",
      "Iteration 2, inertia 3726.8007121077244.\n",
      "Iteration 3, inertia 3552.371713568613.\n",
      "Iteration 4, inertia 3500.201299954743.\n",
      "Converged at iteration 4: strict convergence.\n",
      "Initialization complete\n",
      "Iteration 0, inertia 6175.467804562134.\n",
      "Iteration 1, inertia 3714.4109067970558.\n",
      "Iteration 2, inertia 3530.873026548339.\n",
      "Iteration 3, inertia 3500.2012999547424.\n",
      "Converged at iteration 3: strict convergence.\n",
      "Initialization complete\n",
      "Iteration 0, inertia 5546.63303606515.\n",
      "Iteration 1, inertia 3581.3190912342457.\n",
      "Iteration 2, inertia 3500.4325399353443.\n",
      "Iteration 3, inertia 3500.2012999547424.\n",
      "Converged at iteration 3: strict convergence.\n"
     ]
    }
   ],
   "source": [
    "kmeans_pca = KMeans(n_clusters=5, verbose=True, random_state=SEED)\n",
    "kmeans_pca.fit(projection)\n",
    "\n",
    "dados_generos['cluster_pca'] = kmeans_pca.predict(projection) # Adicionando a coluna de cluster na dataset dados_generos.\n",
    "projection['cluster_pca'] = kmeans_pca.predict(projection) # Adicionando a coluna de cluster na dataset projection.\n",
    "projection['genres'] = dados_generos['genres'] # Adicionando a coluna de gêneros na dataset projection."
   ]
  },
  {
   "cell_type": "code",
   "execution_count": 28,
   "metadata": {},
   "outputs": [
    {
     "data": {
      "text/html": [
       "<div>\n",
       "<style scoped>\n",
       "    .dataframe tbody tr th:only-of-type {\n",
       "        vertical-align: middle;\n",
       "    }\n",
       "\n",
       "    .dataframe tbody tr th {\n",
       "        vertical-align: top;\n",
       "    }\n",
       "\n",
       "    .dataframe thead th {\n",
       "        text-align: right;\n",
       "    }\n",
       "</style>\n",
       "<table border=\"1\" class=\"dataframe\">\n",
       "  <thead>\n",
       "    <tr style=\"text-align: right;\">\n",
       "      <th></th>\n",
       "      <th>x</th>\n",
       "      <th>y</th>\n",
       "      <th>cluster_pca</th>\n",
       "      <th>genres</th>\n",
       "    </tr>\n",
       "  </thead>\n",
       "  <tbody>\n",
       "    <tr>\n",
       "      <th>2</th>\n",
       "      <td>-0.757538</td>\n",
       "      <td>-1.258495</td>\n",
       "      <td>1</td>\n",
       "      <td>8-bit</td>\n",
       "    </tr>\n",
       "    <tr>\n",
       "      <th>7</th>\n",
       "      <td>-1.311672</td>\n",
       "      <td>-1.097695</td>\n",
       "      <td>1</td>\n",
       "      <td>abstract hip hop</td>\n",
       "    </tr>\n",
       "    <tr>\n",
       "      <th>16</th>\n",
       "      <td>-0.927306</td>\n",
       "      <td>-0.760777</td>\n",
       "      <td>1</td>\n",
       "      <td>acoustic punk</td>\n",
       "    </tr>\n",
       "    <tr>\n",
       "      <th>22</th>\n",
       "      <td>-0.934924</td>\n",
       "      <td>-1.038450</td>\n",
       "      <td>1</td>\n",
       "      <td>afghan pop</td>\n",
       "    </tr>\n",
       "    <tr>\n",
       "      <th>25</th>\n",
       "      <td>-1.687270</td>\n",
       "      <td>-1.093942</td>\n",
       "      <td>1</td>\n",
       "      <td>african reggae</td>\n",
       "    </tr>\n",
       "    <tr>\n",
       "      <th>...</th>\n",
       "      <td>...</td>\n",
       "      <td>...</td>\n",
       "      <td>...</td>\n",
       "      <td>...</td>\n",
       "    </tr>\n",
       "    <tr>\n",
       "      <th>2966</th>\n",
       "      <td>-1.377652</td>\n",
       "      <td>0.415064</td>\n",
       "      <td>1</td>\n",
       "      <td>zhongguo feng</td>\n",
       "    </tr>\n",
       "    <tr>\n",
       "      <th>2967</th>\n",
       "      <td>-3.072526</td>\n",
       "      <td>-0.522906</td>\n",
       "      <td>1</td>\n",
       "      <td>zimdancehall</td>\n",
       "    </tr>\n",
       "    <tr>\n",
       "      <th>2969</th>\n",
       "      <td>-3.026756</td>\n",
       "      <td>-1.304983</td>\n",
       "      <td>1</td>\n",
       "      <td>zouglou</td>\n",
       "    </tr>\n",
       "    <tr>\n",
       "      <th>2970</th>\n",
       "      <td>-0.832511</td>\n",
       "      <td>-1.089726</td>\n",
       "      <td>1</td>\n",
       "      <td>zouk</td>\n",
       "    </tr>\n",
       "    <tr>\n",
       "      <th>2972</th>\n",
       "      <td>-1.028069</td>\n",
       "      <td>-1.390709</td>\n",
       "      <td>1</td>\n",
       "      <td>zydeco</td>\n",
       "    </tr>\n",
       "  </tbody>\n",
       "</table>\n",
       "<p>925 rows × 4 columns</p>\n",
       "</div>"
      ],
      "text/plain": [
       "             x         y  cluster_pca            genres\n",
       "2    -0.757538 -1.258495            1             8-bit\n",
       "7    -1.311672 -1.097695            1  abstract hip hop\n",
       "16   -0.927306 -0.760777            1     acoustic punk\n",
       "22   -0.934924 -1.038450            1        afghan pop\n",
       "25   -1.687270 -1.093942            1    african reggae\n",
       "...        ...       ...          ...               ...\n",
       "2966 -1.377652  0.415064            1     zhongguo feng\n",
       "2967 -3.072526 -0.522906            1      zimdancehall\n",
       "2969 -3.026756 -1.304983            1           zouglou\n",
       "2970 -0.832511 -1.089726            1              zouk\n",
       "2972 -1.028069 -1.390709            1            zydeco\n",
       "\n",
       "[925 rows x 4 columns]"
      ]
     },
     "execution_count": 28,
     "metadata": {},
     "output_type": "execute_result"
    }
   ],
   "source": [
    "projection[projection['cluster_pca'] == 1]"
   ]
  },
  {
   "cell_type": "code",
   "execution_count": 29,
   "metadata": {},
   "outputs": [
    {
     "data": {
      "application/vnd.plotly.v1+json": {
       "config": {
        "plotlyServerURL": "https://plot.ly"
       },
       "data": [
        {
         "customdata": [
          [
           "21st century classical"
          ],
          [
           "432hz"
          ],
          [
           "8-bit"
          ],
          [
           "[]"
          ],
          [
           "a cappella"
          ],
          [
           "abstract"
          ],
          [
           "abstract beats"
          ],
          [
           "abstract hip hop"
          ],
          [
           "accordeon"
          ],
          [
           "accordion"
          ],
          [
           "acid house"
          ],
          [
           "acid rock"
          ],
          [
           "acid trance"
          ],
          [
           "acousmatic"
          ],
          [
           "acoustic blues"
          ],
          [
           "acoustic pop"
          ],
          [
           "acoustic punk"
          ],
          [
           "acoustic rock"
          ],
          [
           "action rock"
          ],
          [
           "adoracion"
          ],
          [
           "adult standards"
          ],
          [
           "adventista"
          ],
          [
           "afghan pop"
          ],
          [
           "afghan traditional"
          ],
          [
           "african percussion"
          ],
          [
           "african reggae"
          ],
          [
           "african rock"
          ],
          [
           "african-american classical"
          ],
          [
           "afro dancehall"
          ],
          [
           "afro house"
          ],
          [
           "afro psych"
          ],
          [
           "afro soul"
          ],
          [
           "afro-funk"
          ],
          [
           "afrobeat"
          ],
          [
           "afrofuturism"
          ],
          [
           "afrofuturismo brasileiro"
          ],
          [
           "afropop"
          ],
          [
           "afroswing"
          ],
          [
           "aggrotech"
          ],
          [
           "alabama indie"
          ],
          [
           "alabama metal"
          ],
          [
           "alabama rap"
          ],
          [
           "alaska indie"
          ],
          [
           "albanian pop"
          ],
          [
           "albany ny indie"
          ],
          [
           "alberta country"
          ],
          [
           "alberta hip hop"
          ],
          [
           "album rock"
          ],
          [
           "albuquerque indie"
          ],
          [
           "alt-idol"
          ],
          [
           "alte"
          ],
          [
           "alternative americana"
          ],
          [
           "alternative country"
          ],
          [
           "alternative dance"
          ],
          [
           "alternative emo"
          ],
          [
           "alternative hip hop"
          ],
          [
           "alternative metal"
          ],
          [
           "alternative pop"
          ],
          [
           "alternative pop rock"
          ],
          [
           "alternative r&b"
          ],
          [
           "alternative rock"
          ],
          [
           "alternative roots rock"
          ],
          [
           "ambeat"
          ],
          [
           "ambient"
          ],
          [
           "ambient black metal"
          ],
          [
           "ambient folk"
          ],
          [
           "ambient house"
          ],
          [
           "ambient idm"
          ],
          [
           "ambient industrial"
          ],
          [
           "ambient pop"
          ],
          [
           "ambient techno"
          ],
          [
           "ambient worship"
          ],
          [
           "american 21st century classical"
          ],
          [
           "american choir"
          ],
          [
           "american classical piano"
          ],
          [
           "american contemporary classical"
          ],
          [
           "american early music"
          ],
          [
           "american folk revival"
          ],
          [
           "american metalcore"
          ],
          [
           "american modern classical"
          ],
          [
           "american oi"
          ],
          [
           "american orchestra"
          ],
          [
           "american post-rock"
          ],
          [
           "american primitive"
          ],
          [
           "american romanticism"
          ],
          [
           "american shoegaze"
          ],
          [
           "anadolu rock"
          ],
          [
           "anarcho-punk"
          ],
          [
           "anglican liturgy"
          ],
          [
           "animal singing"
          ],
          [
           "anime"
          ],
          [
           "anime latino"
          ],
          [
           "anime rock"
          ],
          [
           "anime score"
          ],
          [
           "ann arbor indie"
          ],
          [
           "anthem emo"
          ],
          [
           "anthem worship"
          ],
          [
           "anti-folk"
          ],
          [
           "antilliaanse folklore"
          ],
          [
           "antiviral pop"
          ],
          [
           "appalachian folk"
          ],
          [
           "arab folk"
          ],
          [
           "arab groove"
          ],
          [
           "arab pop"
          ],
          [
           "arabesk"
          ],
          [
           "arabic hip hop"
          ],
          [
           "arabic jazz"
          ],
          [
           "argentine ambient"
          ],
          [
           "argentine hardcore"
          ],
          [
           "argentine heavy metal"
          ],
          [
           "argentine hip hop"
          ],
          [
           "argentine indie"
          ],
          [
           "argentine metal"
          ],
          [
           "argentine punk"
          ],
          [
           "argentine reggae"
          ],
          [
           "argentine rock"
          ],
          [
           "argentine telepop"
          ],
          [
           "arizona punk"
          ],
          [
           "arkansas country"
          ],
          [
           "arkansas hip hop"
          ],
          [
           "arkansas indie"
          ],
          [
           "armenian folk"
          ],
          [
           "art pop"
          ],
          [
           "art punk"
          ],
          [
           "art rock"
          ],
          [
           "art song"
          ],
          [
           "asbury park indie"
          ],
          [
           "asheville indie"
          ],
          [
           "asian american hip hop"
          ],
          [
           "asmr"
          ],
          [
           "athens indie"
          ],
          [
           "atl hip hop"
          ],
          [
           "atl trap"
          ],
          [
           "atlanta indie"
          ],
          [
           "atlanta metal"
          ],
          [
           "atlanta punk"
          ],
          [
           "atmosphere"
          ],
          [
           "atmospheric black metal"
          ],
          [
           "atmospheric dnb"
          ],
          [
           "atmospheric post-metal"
          ],
          [
           "atmospheric post-rock"
          ],
          [
           "atmospheric sludge"
          ],
          [
           "auckland indie"
          ],
          [
           "audiophile vocal"
          ],
          [
           "aussietronica"
          ],
          [
           "austin americana"
          ],
          [
           "austin singer-songwriter"
          ],
          [
           "austindie"
          ],
          [
           "australian alternative pop"
          ],
          [
           "australian alternative rock"
          ],
          [
           "australian ambient"
          ],
          [
           "australian children's music"
          ],
          [
           "australian choir"
          ],
          [
           "australian classical"
          ],
          [
           "australian classical piano"
          ],
          [
           "australian country"
          ],
          [
           "australian dance"
          ],
          [
           "australian electropop"
          ],
          [
           "australian garage punk"
          ],
          [
           "australian hip hop"
          ],
          [
           "australian house"
          ],
          [
           "australian indie"
          ],
          [
           "australian indie folk"
          ],
          [
           "australian indie rock"
          ],
          [
           "australian indigenous"
          ],
          [
           "australian metal"
          ],
          [
           "australian metalcore"
          ],
          [
           "australian pop"
          ],
          [
           "australian post-hardcore"
          ],
          [
           "australian post-punk"
          ],
          [
           "australian psych"
          ],
          [
           "australian r&b"
          ],
          [
           "australian reggae fusion"
          ],
          [
           "australian rock"
          ],
          [
           "australian singer-songwriter"
          ],
          [
           "australian ska"
          ],
          [
           "australian talent show"
          ],
          [
           "australian trap"
          ],
          [
           "australian underground hip hop"
          ],
          [
           "austrian choir"
          ],
          [
           "austrian classical piano"
          ],
          [
           "austrian orchestra"
          ],
          [
           "austrian pop"
          ],
          [
           "austro-german modernism"
          ],
          [
           "austropop"
          ],
          [
           "autoharp"
          ],
          [
           "autonomous black metal"
          ],
          [
           "avant-garde"
          ],
          [
           "avant-garde jazz"
          ],
          [
           "avant-garde metal"
          ],
          [
           "axe"
          ],
          [
           "azeri traditional"
          ],
          [
           "azonto"
          ],
          [
           "azontobeats"
          ],
          [
           "bachata"
          ],
          [
           "bachata dominicana"
          ],
          [
           "background music"
          ],
          [
           "background piano"
          ],
          [
           "baglama"
          ],
          [
           "bahai"
          ],
          [
           "bahamian folk"
          ],
          [
           "bahamian pop"
          ],
          [
           "baiao"
          ],
          [
           "bajki"
          ],
          [
           "bakersfield sound"
          ],
          [
           "balearic"
          ],
          [
           "balkan brass"
          ],
          [
           "balkan classical piano"
          ],
          [
           "ballet class"
          ],
          [
           "ballroom"
          ],
          [
           "baltic classical"
          ],
          [
           "baltimore hip hop"
          ],
          [
           "baltimore indie"
          ],
          [
           "banda"
          ],
          [
           "banda caliente"
          ],
          [
           "banda carnavalera"
          ],
          [
           "bandinhas"
          ],
          [
           "bandolim"
          ],
          [
           "bandoneon"
          ],
          [
           "bangla"
          ],
          [
           "banjo"
          ],
          [
           "bansuri"
          ],
          [
           "barbadian pop"
          ],
          [
           "barbershop"
          ],
          [
           "bard"
          ],
          [
           "barnmusik"
          ],
          [
           "barockinterpreten"
          ],
          [
           "baroque"
          ],
          [
           "baroque brass"
          ],
          [
           "baroque ensemble"
          ],
          [
           "baroque pop"
          ],
          [
           "baroque singing"
          ],
          [
           "baroque violin"
          ],
          [
           "baroque woodwind"
          ],
          [
           "bass house"
          ],
          [
           "bass music"
          ],
          [
           "bass trap"
          ],
          [
           "basshall"
          ],
          [
           "bassline"
          ],
          [
           "bath indie"
          ],
          [
           "baton rouge indie"
          ],
          [
           "baton rouge rap"
          ],
          [
           "battle rap"
          ],
          [
           "bay area hip hop"
          ],
          [
           "bay area indie"
          ],
          [
           "bboy"
          ],
          [
           "bc underground hip hop"
          ],
          [
           "beach music"
          ],
          [
           "beat italiano"
          ],
          [
           "beat poetry"
          ],
          [
           "beatboxing"
          ],
          [
           "beatlesque"
          ],
          [
           "bebop"
          ],
          [
           "bedroom pop"
          ],
          [
           "bedroom soul"
          ],
          [
           "belarusian indie"
          ],
          [
           "belarusian pop"
          ],
          [
           "belarusian rock"
          ],
          [
           "belgian classical piano"
          ],
          [
           "belgian contemporary classical"
          ],
          [
           "belgian dance"
          ],
          [
           "belgian edm"
          ],
          [
           "belgian hardcore"
          ],
          [
           "belgian indie"
          ],
          [
           "belgian indie rock"
          ],
          [
           "belgian jazz"
          ],
          [
           "belgian new wave"
          ],
          [
           "belgian pop"
          ],
          [
           "belgian rock"
          ],
          [
           "belgian singer-songwriter"
          ],
          [
           "belgian techno"
          ],
          [
           "belly dance"
          ],
          [
           "bengali folk"
          ],
          [
           "beninese pop"
          ],
          [
           "bergen indie"
          ],
          [
           "berlin minimal techno"
          ],
          [
           "berlin school"
          ],
          [
           "bhajan"
          ],
          [
           "bhangra"
          ],
          [
           "bible"
          ],
          [
           "big band"
          ],
          [
           "big beat"
          ],
          [
           "big room"
          ],
          [
           "binaural"
          ],
          [
           "birdsong"
          ],
          [
           "birmingham grime"
          ],
          [
           "birmingham hip hop"
          ],
          [
           "birmingham metal"
          ],
          [
           "bitpop"
          ],
          [
           "black 'n' roll"
          ],
          [
           "black comedy"
          ],
          [
           "black metal"
          ],
          [
           "black punk"
          ],
          [
           "black thrash"
          ],
          [
           "blackened crust"
          ],
          [
           "blackgaze"
          ],
          [
           "bleep techno"
          ],
          [
           "bluegrass"
          ],
          [
           "bluegrass fiddle"
          ],
          [
           "bluegrass gospel"
          ],
          [
           "blues"
          ],
          [
           "blues latinoamericano"
          ],
          [
           "blues mexicano"
          ],
          [
           "blues rock"
          ],
          [
           "bmore"
          ],
          [
           "bolero"
          ],
          [
           "bolero cubano"
          ],
          [
           "boogaloo"
          ],
          [
           "boogie"
          ],
          [
           "boogie-woogie"
          ],
          [
           "boom bap"
          ],
          [
           "boom bap brasileiro"
          ],
          [
           "bossa nova"
          ],
          [
           "bossa nova jazz"
          ],
          [
           "boston folk"
          ],
          [
           "boston hardcore"
          ],
          [
           "boston hip hop"
          ],
          [
           "boston indie"
          ],
          [
           "boston metal"
          ],
          [
           "boston punk"
          ],
          [
           "boston rock"
          ],
          [
           "bounce"
          ],
          [
           "bouncy house"
          ],
          [
           "bouzouki"
          ],
          [
           "bow pop"
          ],
          [
           "boy band"
          ],
          [
           "boy pop"
          ],
          [
           "boy soprano"
          ],
          [
           "brain waves"
          ],
          [
           "braindance"
          ],
          [
           "brass band"
          ],
          [
           "brass ensemble"
          ],
          [
           "brass quintet"
          ],
          [
           "brazilian boogie"
          ],
          [
           "brazilian classical"
          ],
          [
           "brazilian classical piano"
          ],
          [
           "brazilian contemporary classical"
          ],
          [
           "brazilian edm"
          ],
          [
           "brazilian groove metal"
          ],
          [
           "brazilian hip hop"
          ],
          [
           "brazilian indie"
          ],
          [
           "brazilian jazz"
          ],
          [
           "brazilian metal"
          ],
          [
           "brazilian modern jazz"
          ],
          [
           "brazilian percussion"
          ],
          [
           "brazilian punk"
          ],
          [
           "brazilian reggae"
          ],
          [
           "brazilian rock"
          ],
          [
           "brazilian ska"
          ],
          [
           "brazilian soul"
          ],
          [
           "brazilian thrash metal"
          ],
          [
           "breakbeat"
          ],
          [
           "breakcore"
          ],
          [
           "brega"
          ],
          [
           "breton folk"
          ],
          [
           "brighton indie"
          ],
          [
           "brill building pop"
          ],
          [
           "brisbane indie"
          ],
          [
           "bristol electronic"
          ],
          [
           "bristol indie"
          ],
          [
           "brit funk"
          ],
          [
           "british alternative rock"
          ],
          [
           "british black metal"
          ],
          [
           "british blues"
          ],
          [
           "british children's music"
          ],
          [
           "british choir"
          ],
          [
           "british classical piano"
          ],
          [
           "british comedy"
          ],
          [
           "british contemporary classical"
          ],
          [
           "british dance band"
          ],
          [
           "british death metal"
          ],
          [
           "british experimental"
          ],
          [
           "british folk"
          ],
          [
           "british grindcore"
          ],
          [
           "british indie rock"
          ],
          [
           "british industrial"
          ],
          [
           "british invasion"
          ],
          [
           "british jazz"
          ],
          [
           "british modern classical"
          ],
          [
           "british orchestra"
          ],
          [
           "british post-rock"
          ],
          [
           "british power metal"
          ],
          [
           "british singer-songwriter"
          ],
          [
           "british soul"
          ],
          [
           "british soundtrack"
          ],
          [
           "britpop"
          ],
          [
           "broadway"
          ],
          [
           "broken beat"
          ],
          [
           "bronx hip hop"
          ],
          [
           "brooklyn drill"
          ],
          [
           "brooklyn indie"
          ],
          [
           "brostep"
          ],
          [
           "brutal death metal"
          ],
          [
           "brutal deathcore"
          ],
          [
           "bubble trance"
          ],
          [
           "bubblegrunge"
          ],
          [
           "bubblegum dance"
          ],
          [
           "bubblegum pop"
          ],
          [
           "buffalo hip hop"
          ],
          [
           "buffalo ny indie"
          ],
          [
           "buffalo ny metal"
          ],
          [
           "bulgarian experimental"
          ],
          [
           "burmese traditional"
          ],
          [
           "bush ballad"
          ],
          [
           "c-pop"
          ],
          [
           "c86"
          ],
          [
           "cabaret"
          ],
          [
           "cajun"
          ],
          [
           "calgary indie"
          ],
          [
           "cali rap"
          ],
          [
           "calming instrumental"
          ],
          [
           "calypso"
          ],
          [
           "cambodian rock"
          ],
          [
           "cambridge choir"
          ],
          [
           "cambridgeshire indie"
          ],
          [
           "cameroonian pop"
          ],
          [
           "canadian americana"
          ],
          [
           "canadian blues"
          ],
          [
           "canadian ccm"
          ],
          [
           "canadian celtic"
          ],
          [
           "canadian children's music"
          ],
          [
           "canadian choir"
          ],
          [
           "canadian classical"
          ],
          [
           "canadian classical piano"
          ],
          [
           "canadian comedy"
          ],
          [
           "canadian contemporary country"
          ],
          [
           "canadian contemporary r&b"
          ],
          [
           "canadian country"
          ],
          [
           "canadian electronic"
          ],
          [
           "canadian electropop"
          ],
          [
           "canadian experimental"
          ],
          [
           "canadian folk"
          ],
          [
           "canadian hardcore"
          ],
          [
           "canadian hip hop"
          ],
          [
           "canadian house"
          ],
          [
           "canadian indie"
          ],
          [
           "canadian indie folk"
          ],
          [
           "canadian indigenous"
          ],
          [
           "canadian indigenous hip hop"
          ],
          [
           "canadian latin"
          ],
          [
           "canadian metal"
          ],
          [
           "canadian metalcore"
          ],
          [
           "canadian modern jazz"
          ],
          [
           "canadian pop"
          ],
          [
           "canadian pop punk"
          ],
          [
           "canadian post-hardcore"
          ],
          [
           "canadian post-rock"
          ],
          [
           "canadian psychedelic"
          ],
          [
           "canadian punk"
          ],
          [
           "canadian rock"
          ],
          [
           "canadian rockabilly"
          ],
          [
           "canadian singer-songwriter"
          ],
          [
           "canadian soundtrack"
          ],
          [
           "cancion melodica"
          ],
          [
           "candy pop"
          ],
          [
           "cantautor"
          ],
          [
           "cante flamenco"
          ],
          [
           "canterbury scene"
          ],
          [
           "canto popular uruguayo"
          ],
          [
           "cantopop"
          ],
          [
           "canzone d'autore"
          ],
          [
           "canzone genovese"
          ],
          [
           "canzone napoletana"
          ],
          [
           "cape town indie"
          ],
          [
           "cape verdean folk"
          ],
          [
           "capoeira"
          ],
          [
           "caracas indie"
          ],
          [
           "carnatic"
          ],
          [
           "carnatic instrumental"
          ],
          [
           "carnatic vocal"
          ],
          [
           "cartoon"
          ],
          [
           "cathedral choir"
          ],
          [
           "caucasian classical"
          ],
          [
           "caucasian classical piano"
          ],
          [
           "ccm"
          ],
          [
           "cedm"
          ],
          [
           "cello"
          ],
          [
           "celtic"
          ],
          [
           "celtic harp"
          ],
          [
           "celtic metal"
          ],
          [
           "celtic punk"
          ],
          [
           "celtic rock"
          ],
          [
           "cha-cha-cha"
          ],
          [
           "chakra"
          ],
          [
           "chamame"
          ],
          [
           "chamber choir"
          ],
          [
           "chamber ensemble"
          ],
          [
           "chamber folk"
          ],
          [
           "chamber orchestra"
          ],
          [
           "chamber pop"
          ],
          [
           "chamber psych"
          ],
          [
           "champeta"
          ],
          [
           "channel islands indie"
          ],
          [
           "channel pop"
          ],
          [
           "chanson"
          ],
          [
           "chanson paillarde"
          ],
          [
           "chaotic hardcore"
          ],
          [
           "charanga"
          ],
          [
           "charango"
          ],
          [
           "charlotte nc indie"
          ],
          [
           "charlottesville indie"
          ],
          [
           "chattanooga indie"
          ],
          [
           "chicago blues"
          ],
          [
           "chicago drill"
          ],
          [
           "chicago hardcore"
          ],
          [
           "chicago house"
          ],
          [
           "chicago indie"
          ],
          [
           "chicago pop punk"
          ],
          [
           "chicago punk"
          ],
          [
           "chicago rap"
          ],
          [
           "chicago soul"
          ],
          [
           "chicano punk"
          ],
          [
           "chicano rap"
          ],
          [
           "chicha"
          ],
          [
           "chihuahua indie"
          ],
          [
           "children's choir"
          ],
          [
           "children's folk"
          ],
          [
           "children's music"
          ],
          [
           "children's story"
          ],
          [
           "chilean hardcore"
          ],
          [
           "chilean indie"
          ],
          [
           "chilean rock"
          ],
          [
           "chilena"
          ],
          [
           "chill beats"
          ],
          [
           "chill guitar"
          ],
          [
           "chill lounge"
          ],
          [
           "chill out"
          ],
          [
           "chill pop"
          ],
          [
           "chill r&b"
          ],
          [
           "chillhop"
          ],
          [
           "chillstep"
          ],
          [
           "chillwave"
          ],
          [
           "chinese audiophile"
          ],
          [
           "chinese classical"
          ],
          [
           "chinese classical performance"
          ],
          [
           "chinese classical piano"
          ],
          [
           "chinese electropop"
          ],
          [
           "chinese hip hop"
          ],
          [
           "chinese idol pop"
          ],
          [
           "chinese indie"
          ],
          [
           "chinese indie rock"
          ],
          [
           "chinese instrumental"
          ],
          [
           "chinese jazz"
          ],
          [
           "chinese r&b"
          ],
          [
           "chinese soundtrack"
          ],
          [
           "chinese traditional"
          ],
          [
           "chiptune"
          ],
          [
           "chopped and screwed"
          ],
          [
           "choral"
          ],
          [
           "choro"
          ],
          [
           "christchurch indie"
          ],
          [
           "christelijk"
          ],
          [
           "christian a cappella"
          ],
          [
           "christian alternative rock"
          ],
          [
           "christian dance"
          ],
          [
           "christian hard rock"
          ],
          [
           "christian hardcore"
          ],
          [
           "christian hip hop"
          ],
          [
           "christian indie"
          ],
          [
           "christian metal"
          ],
          [
           "christian metalcore"
          ],
          [
           "christian music"
          ],
          [
           "christian pop"
          ],
          [
           "christian power metal"
          ],
          [
           "christian punk"
          ],
          [
           "christian relaxative"
          ],
          [
           "christian rock"
          ],
          [
           "christian trap"
          ],
          [
           "christian uplift"
          ],
          [
           "christmas instrumental"
          ],
          [
           "christmas product"
          ],
          [
           "chunchaca"
          ],
          [
           "chutney"
          ],
          [
           "cincinnati rap"
          ],
          [
           "cinematic post-rock"
          ],
          [
           "circuit"
          ],
          [
           "circus"
          ],
          [
           "classic afrobeat"
          ],
          [
           "classic arab pop"
          ],
          [
           "classic australian country"
          ],
          [
           "classic belgian pop"
          ],
          [
           "classic bhangra"
          ],
          [
           "classic bollywood"
          ],
          [
           "classic canadian rock"
          ],
          [
           "classic cantopop"
          ],
          [
           "classic colombian pop"
          ],
          [
           "classic country pop"
          ],
          [
           "classic czech pop"
          ],
          [
           "classic danish pop"
          ],
          [
           "classic dubstep"
          ],
          [
           "classic eurovision"
          ],
          [
           "classic finnish pop"
          ],
          [
           "classic french pop"
          ],
          [
           "classic garage rock"
          ],
          [
           "classic girl group"
          ],
          [
           "classic greek pop"
          ],
          [
           "classic hardstyle"
          ],
          [
           "classic icelandic pop"
          ],
          [
           "classic indo pop"
          ],
          [
           "classic iskelma"
          ],
          [
           "classic israeli pop"
          ],
          [
           "classic italian folk pop"
          ],
          [
           "classic italian pop"
          ],
          [
           "classic j-rock"
          ],
          [
           "classic japanese jazz"
          ],
          [
           "classic korean pop"
          ],
          [
           "classic latvian pop"
          ],
          [
           "classic mandopop"
          ],
          [
           "classic norwegian pop"
          ],
          [
           "classic opm"
          ],
          [
           "classic pakistani pop"
          ],
          [
           "classic persian pop"
          ],
          [
           "classic peruvian pop"
          ],
          [
           "classic polish pop"
          ],
          [
           "classic praise"
          ],
          [
           "classic psychedelic rock"
          ],
          [
           "classic punjabi pop"
          ],
          [
           "classic rock"
          ],
          [
           "classic russian pop"
          ],
          [
           "classic russian rock"
          ],
          [
           "classic schlager"
          ],
          [
           "classic soul"
          ],
          [
           "classic soundtrack"
          ],
          [
           "classic swedish pop"
          ],
          [
           "classic thai pop"
          ],
          [
           "classic tunisian pop"
          ],
          [
           "classic turkish pop"
          ],
          [
           "classic uk pop"
          ],
          [
           "classic venezuelan pop"
          ],
          [
           "classical"
          ],
          [
           "classical accordion"
          ],
          [
           "classical baritone"
          ],
          [
           "classical bass"
          ],
          [
           "classical cello"
          ],
          [
           "classical clarinet"
          ],
          [
           "classical contralto"
          ],
          [
           "classical countertenor"
          ],
          [
           "classical era"
          ],
          [
           "classical flute"
          ],
          [
           "classical guitar"
          ],
          [
           "classical harp"
          ],
          [
           "classical horn"
          ],
          [
           "classical mandolin"
          ],
          [
           "classical mezzo-soprano"
          ],
          [
           "classical oboe"
          ],
          [
           "classical organ"
          ],
          [
           "classical performance"
          ],
          [
           "classical piano"
          ],
          [
           "classical piano duo"
          ],
          [
           "classical piano trio"
          ],
          [
           "classical saxophone"
          ],
          [
           "classical soprano"
          ],
          [
           "classical tenor"
          ],
          [
           "classical trumpet"
          ],
          [
           "classify"
          ],
          [
           "clawhammer banjo"
          ],
          [
           "clean comedy"
          ],
          [
           "cleveland metal"
          ],
          [
           "coco"
          ],
          [
           "collage pop"
          ],
          [
           "college a cappella"
          ],
          [
           "colombian hip hop"
          ],
          [
           "colombian pop"
          ],
          [
           "colombian rock"
          ],
          [
           "columbus ohio indie"
          ],
          [
           "comedy"
          ],
          [
           "comedy rap"
          ],
          [
           "comedy rock"
          ],
          [
           "comic"
          ],
          [
           "comic metal"
          ],
          [
           "commons"
          ],
          [
           "complextro"
          ],
          [
           "compositional ambient"
          ],
          [
           "concepcion indie"
          ],
          [
           "concert band"
          ],
          [
           "connecticut hardcore"
          ],
          [
           "connecticut indie"
          ],
          [
           "conscious hip hop"
          ],
          [
           "contemporary choir"
          ],
          [
           "contemporary classical"
          ],
          [
           "contemporary classical piano"
          ],
          [
           "contemporary country"
          ],
          [
           "contemporary folk"
          ],
          [
           "contemporary gospel"
          ],
          [
           "contemporary jazz"
          ],
          [
           "contemporary post-bop"
          ],
          [
           "contemporary vocal jazz"
          ],
          [
           "contrabass"
          ],
          [
           "cool jazz"
          ],
          [
           "copla"
          ],
          [
           "cornish folk"
          ],
          [
           "cornwall indie"
          ],
          [
           "corrido"
          ],
          [
           "corridos cristianos"
          ],
          [
           "corridos tumbados"
          ],
          [
           "corrosion"
          ],
          [
           "cosmic american"
          ],
          [
           "cosmic post-rock"
          ],
          [
           "country"
          ],
          [
           "country blues"
          ],
          [
           "country boogie"
          ],
          [
           "country dawn"
          ],
          [
           "country gospel"
          ],
          [
           "country pop"
          ],
          [
           "country rap"
          ],
          [
           "country road"
          ],
          [
           "country rock"
          ],
          [
           "coverchill"
          ],
          [
           "cowboy western"
          ],
          [
           "cowpunk"
          ],
          [
           "crack rock steady"
          ],
          [
           "croatian folk"
          ],
          [
           "croatian pop"
          ],
          [
           "croatian rock"
          ],
          [
           "crossover thrash"
          ],
          [
           "crunk"
          ],
          [
           "crust punk"
          ],
          [
           "cuarteto"
          ],
          [
           "cuatro venezolano"
          ],
          [
           "cuban alternative"
          ],
          [
           "cuban rumba"
          ],
          [
           "cubaton"
          ],
          [
           "cumbia"
          ],
          [
           "cumbia andina mexicana"
          ],
          [
           "cumbia chilena"
          ],
          [
           "cumbia colombiana regia"
          ],
          [
           "cumbia ecuatoriana"
          ],
          [
           "cumbia funk"
          ],
          [
           "cumbia lagunera"
          ],
          [
           "cumbia paraguaya"
          ],
          [
           "cumbia peruana"
          ],
          [
           "cumbia pop"
          ],
          [
           "cumbia ranchera"
          ],
          [
           "cumbia salvadorena"
          ],
          [
           "cumbia santafesina"
          ],
          [
           "cumbia sonidera"
          ],
          [
           "cumbia villera"
          ],
          [
           "cyberpunk"
          ],
          [
           "cymraeg"
          ],
          [
           "cypriot pop"
          ],
          [
           "czech classical"
          ],
          [
           "czech classical piano"
          ],
          [
           "czech contemporary classical"
          ],
          [
           "d-beat"
          ],
          [
           "dabke"
          ],
          [
           "dakke dak"
          ],
          [
           "dallas indie"
          ],
          [
           "dance pop"
          ],
          [
           "dance rock"
          ],
          [
           "dance-punk"
          ],
          [
           "dancehall"
          ],
          [
           "dangdut"
          ],
          [
           "danish alternative rock"
          ],
          [
           "danish classical"
          ],
          [
           "danish electronic"
          ],
          [
           "danish electropop"
          ],
          [
           "danish hip hop"
          ],
          [
           "danish jazz"
          ],
          [
           "danish metal"
          ],
          [
           "danish pop"
          ],
          [
           "danish pop rock"
          ],
          [
           "danish post-punk"
          ],
          [
           "danish punk"
          ],
          [
           "danish rock"
          ],
          [
           "danish singer-songwriter"
          ],
          [
           "dansband"
          ],
          [
           "danseband"
          ],
          [
           "dansktop"
          ],
          [
           "danspunk"
          ],
          [
           "dark cabaret"
          ],
          [
           "dark clubbing"
          ],
          [
           "dark disco"
          ],
          [
           "dark hardcore"
          ],
          [
           "dark jazz"
          ],
          [
           "dark minimal techno"
          ],
          [
           "dark post-punk"
          ],
          [
           "dark techno"
          ],
          [
           "dark trap"
          ],
          [
           "dark wave"
          ],
          [
           "darksynth"
          ],
          [
           "dayton indie"
          ],
          [
           "dc hardcore"
          ],
          [
           "dc indie"
          ],
          [
           "death 'n' roll"
          ],
          [
           "death metal"
          ],
          [
           "deathcore"
          ],
          [
           "deathgrass"
          ],
          [
           "deathgrind"
          ],
          [
           "deathrash"
          ],
          [
           "deathrock"
          ],
          [
           "deathstep"
          ],
          [
           "deep acoustic pop"
          ],
          [
           "deep adult standards"
          ],
          [
           "deep big room"
          ],
          [
           "deep ccm"
          ],
          [
           "deep christian rock"
          ],
          [
           "deep classic garage rock"
          ],
          [
           "deep comedy"
          ],
          [
           "deep contemporary country"
          ],
          [
           "deep dance pop"
          ],
          [
           "deep delta blues"
          ],
          [
           "deep disco"
          ],
          [
           "deep disco house"
          ],
          [
           "deep dnb"
          ],
          [
           "deep east coast hip hop"
          ],
          [
           "deep euro house"
          ],
          [
           "deep flow"
          ],
          [
           "deep free jazz"
          ],
          [
           "deep freestyle"
          ],
          [
           "deep full on"
          ],
          [
           "deep funk"
          ],
          [
           "deep g funk"
          ],
          [
           "deep gothic post-punk"
          ],
          [
           "deep groove house"
          ],
          [
           "deep house"
          ],
          [
           "deep idm"
          ],
          [
           "deep indian pop"
          ],
          [
           "deep indie singer-songwriter"
          ],
          [
           "deep latin alternative"
          ],
          [
           "deep latin christian"
          ],
          [
           "deep melodic metalcore"
          ],
          [
           "deep minimal techno"
          ],
          [
           "deep motown"
          ],
          [
           "deep new americana"
          ],
          [
           "deep new wave"
          ],
          [
           "deep norteno"
          ],
          [
           "deep northern soul"
          ],
          [
           "deep pop edm"
          ],
          [
           "deep progressive house"
          ],
          [
           "deep psychobilly"
          ],
          [
           "deep punk rock"
          ],
          [
           "deep r&b"
          ],
          [
           "deep ragga"
          ],
          [
           "deep regional mexican"
          ],
          [
           "deep smooth jazz"
          ],
          [
           "deep soft rock"
          ],
          [
           "deep soul house"
          ],
          [
           "deep soundtrack"
          ],
          [
           "deep southern soul"
          ],
          [
           "deep southern trap"
          ],
          [
           "deep space rock"
          ],
          [
           "deep talent show"
          ],
          [
           "deep tech house"
          ],
          [
           "deep techno"
          ],
          [
           "deep tropical house"
          ],
          [
           "deep underground hip hop"
          ],
          [
           "deep uplifting trance"
          ],
          [
           "delta blues"
          ],
          [
           "dembow"
          ],
          [
           "denpa-kei"
          ],
          [
           "denton tx indie"
          ],
          [
           "denver indie"
          ],
          [
           "depressive black metal"
          ],
          [
           "derby indie"
          ],
          [
           "desert blues"
          ],
          [
           "desi hip hop"
          ],
          [
           "desi pop"
          ],
          [
           "destroy techno"
          ],
          [
           "detroit hip hop"
          ],
          [
           "detroit house"
          ],
          [
           "detroit techno"
          ],
          [
           "detroit trap"
          ],
          [
           "detske pisnicky"
          ],
          [
           "detskie pesni"
          ],
          [
           "devon indie"
          ],
          [
           "dfw rap"
          ],
          [
           "dhrupad"
          ],
          [
           "digital hardcore"
          ],
          [
           "dinner jazz"
          ],
          [
           "dirty south rap"
          ],
          [
           "dirty texas rap"
          ],
          [
           "disco"
          ],
          [
           "disco house"
          ],
          [
           "disney"
          ],
          [
           "diva house"
          ],
          [
           "dixieland"
          ],
          [
           "diy emo"
          ],
          [
           "djent"
          ],
          [
           "dmv rap"
          ],
          [
           "dominican pop"
          ],
          [
           "dong-yo"
          ],
          [
           "doo-wop"
          ],
          [
           "doom metal"
          ],
          [
           "double drumming"
          ],
          [
           "downtempo"
          ],
          [
           "drama"
          ],
          [
           "dream pop"
          ],
          [
           "dream trance"
          ],
          [
           "dreamgaze"
          ],
          [
           "dreamo"
          ],
          [
           "drift"
          ],
          [
           "drill"
          ],
          [
           "drill and bass"
          ],
          [
           "drone"
          ],
          [
           "drone folk"
          ],
          [
           "drone metal"
          ],
          [
           "drum and bass"
          ],
          [
           "dub"
          ],
          [
           "dub metal"
          ],
          [
           "dub poetry"
          ],
          [
           "dub techno"
          ],
          [
           "dubstep"
          ],
          [
           "dubsteppe"
          ],
          [
           "duduk"
          ],
          [
           "duluth indie"
          ],
          [
           "dunedin indie"
          ],
          [
           "dunedin sound"
          ],
          [
           "dungeon synth"
          ],
          [
           "duranguense"
          ],
          [
           "dusseldorf electronic"
          ],
          [
           "dutch blues"
          ],
          [
           "dutch cabaret"
          ],
          [
           "dutch classical piano"
          ],
          [
           "dutch death metal"
          ],
          [
           "dutch dnb"
          ],
          [
           "dutch edm"
          ],
          [
           "dutch folk"
          ],
          [
           "dutch hip hop"
          ],
          [
           "dutch house"
          ],
          [
           "dutch indie"
          ],
          [
           "dutch jazz"
          ],
          [
           "dutch metal"
          ],
          [
           "dutch pop"
          ],
          [
           "dutch prog"
          ],
          [
           "dutch rap pop"
          ],
          [
           "dutch rock"
          ],
          [
           "dutch trance"
          ],
          [
           "e6fi"
          ],
          [
           "early american folk"
          ],
          [
           "early avant garde"
          ],
          [
           "early modern classical"
          ],
          [
           "early music"
          ],
          [
           "early music choir"
          ],
          [
           "early music ensemble"
          ],
          [
           "early reggae"
          ],
          [
           "early romantic era"
          ],
          [
           "early synthpop"
          ],
          [
           "early us punk"
          ],
          [
           "east coast hip hop"
          ],
          [
           "east coast reggae"
          ],
          [
           "eastern bloc groove"
          ],
          [
           "easy listening"
          ],
          [
           "easycore"
          ],
          [
           "eau claire indie"
          ],
          [
           "ebm"
          ],
          [
           "ecm-style jazz"
          ],
          [
           "ectofolk"
          ],
          [
           "ecuadorian pop"
          ],
          [
           "edm"
          ],
          [
           "edmonton indie"
          ],
          [
           "egyptian pop"
          ],
          [
           "egyptian traditional"
          ],
          [
           "el paso indie"
          ],
          [
           "electra"
          ],
          [
           "electric bass"
          ],
          [
           "electric blues"
          ],
          [
           "electro"
          ],
          [
           "electro house"
          ],
          [
           "electro jazz"
          ],
          [
           "electro latino"
          ],
          [
           "electro swing"
          ],
          [
           "electro-industrial"
          ],
          [
           "electro-pop francais"
          ],
          [
           "electroclash"
          ],
          [
           "electrofox"
          ],
          [
           "electronic djent"
          ],
          [
           "electronic rock"
          ],
          [
           "electronic trap"
          ],
          [
           "electronica"
          ],
          [
           "electronica argentina"
          ],
          [
           "electropop"
          ],
          [
           "electropowerpop"
          ],
          [
           "emo"
          ],
          [
           "emo mexicano"
          ],
          [
           "emo punk"
          ],
          [
           "emo rap"
          ],
          [
           "emocore"
          ],
          [
           "english baroque"
          ],
          [
           "english indie rock"
          ],
          [
           "english renaissance"
          ],
          [
           "enka"
          ],
          [
           "entehno"
          ],
          [
           "environmental"
          ],
          [
           "epic doom"
          ],
          [
           "epicore"
          ],
          [
           "erhu"
          ],
          [
           "escape room"
          ],
          [
           "esperanto"
          ],
          [
           "essex indie"
          ],
          [
           "estonian hip hop"
          ],
          [
           "estonian pop"
          ],
          [
           "ethereal wave"
          ],
          [
           "etherpop"
          ],
          [
           "ethio-jazz"
          ],
          [
           "ethiopian pop"
          ],
          [
           "ethnomusicology"
          ],
          [
           "ethnotronica"
          ],
          [
           "eugene indie"
          ],
          [
           "euphoric hardstyle"
          ],
          [
           "eurobeat"
          ],
          [
           "eurodance"
          ],
          [
           "europop"
          ],
          [
           "euroska"
          ],
          [
           "eurovision"
          ],
          [
           "exotica"
          ],
          [
           "experimental"
          ],
          [
           "experimental ambient"
          ],
          [
           "experimental big band"
          ],
          [
           "experimental dub"
          ],
          [
           "experimental folk"
          ],
          [
           "experimental guitar"
          ],
          [
           "experimental hip hop"
          ],
          [
           "experimental house"
          ],
          [
           "experimental indie"
          ],
          [
           "experimental jazz"
          ],
          [
           "experimental pop"
          ],
          [
           "experimental rock"
          ],
          [
           "experimental vocal"
          ],
          [
           "fado"
          ],
          [
           "family gospel"
          ],
          [
           "faroese pop"
          ],
          [
           "fast melodic punk"
          ],
          [
           "fidget house"
          ],
          [
           "filmi"
          ],
          [
           "filter house"
          ],
          [
           "filthstep"
          ],
          [
           "final fantasy"
          ],
          [
           "fingerstyle"
          ],
          [
           "finnish alternative rock"
          ],
          [
           "finnish classical"
          ],
          [
           "finnish contemporary classical"
          ],
          [
           "finnish death metal"
          ],
          [
           "finnish edm"
          ],
          [
           "finnish hard rock"
          ],
          [
           "finnish heavy metal"
          ],
          [
           "finnish metal"
          ],
          [
           "finnish power metal"
          ],
          [
           "finnish soul"
          ],
          [
           "flamenco"
          ],
          [
           "flamenco guitar"
          ],
          [
           "flick hop"
          ],
          [
           "flint hip hop"
          ],
          [
           "float house"
          ],
          [
           "florida death metal"
          ],
          [
           "florida rap"
          ],
          [
           "fluxwork"
          ],
          [
           "fo jing"
          ],
          [
           "focus"
          ],
          [
           "focus beats"
          ],
          [
           "focus trance"
          ],
          [
           "folclor afrocolombiano"
          ],
          [
           "folclor colombiano"
          ],
          [
           "folclore extremeno"
          ],
          [
           "folclore jujeno"
          ],
          [
           "folclore navarra"
          ],
          [
           "folclore salteno"
          ],
          [
           "folclore tucumano"
          ],
          [
           "folk"
          ],
          [
           "folk metal"
          ],
          [
           "folk punk"
          ],
          [
           "folk rock"
          ],
          [
           "folk rock italiano"
          ],
          [
           "folk-pop"
          ],
          [
           "folklore argentino"
          ],
          [
           "folklore boliviano"
          ],
          [
           "folklore chileno"
          ],
          [
           "folklore ecuatoriano"
          ],
          [
           "folklore peruano"
          ],
          [
           "folklore venezolano"
          ],
          [
           "folklore veracruzano"
          ],
          [
           "folkmusik"
          ],
          [
           "folktronica"
          ],
          [
           "footwork"
          ],
          [
           "forro"
          ],
          [
           "forro tradicional"
          ],
          [
           "fort worth indie"
          ],
          [
           "fourth world"
          ],
          [
           "francoton"
          ],
          [
           "freak folk"
          ],
          [
           "freakbeat"
          ],
          [
           "free folk"
          ],
          [
           "free improvisation"
          ],
          [
           "free jazz"
          ],
          [
           "freestyle"
          ],
          [
           "french baroque"
          ],
          [
           "french classical piano"
          ],
          [
           "french contemporary classical"
          ],
          [
           "french death metal"
          ],
          [
           "french dnb"
          ],
          [
           "french hip hop"
          ],
          [
           "french indie folk"
          ],
          [
           "french indie pop"
          ],
          [
           "french indietronica"
          ],
          [
           "french jazz"
          ],
          [
           "french metal"
          ],
          [
           "french movie tunes"
          ],
          [
           "french opera"
          ],
          [
           "french orchestra"
          ],
          [
           "french pop"
          ],
          [
           "french post-punk"
          ],
          [
           "french psychedelic"
          ],
          [
           "french reggae"
          ],
          [
           "french rock"
          ],
          [
           "french romanticism"
          ],
          [
           "french shoegaze"
          ],
          [
           "french soundtrack"
          ],
          [
           "french synthpop"
          ],
          [
           "french techno"
          ],
          [
           "frenchcore"
          ],
          [
           "full on"
          ],
          [
           "funana"
          ],
          [
           "funeral doom"
          ],
          [
           "funk"
          ],
          [
           "funk 150 bpm"
          ],
          [
           "funk carioca"
          ],
          [
           "funk das antigas"
          ],
          [
           "funk metal"
          ],
          [
           "funk mexicano"
          ],
          [
           "funk ostentacao"
          ],
          [
           "funk paulista"
          ],
          [
           "funk pop"
          ],
          [
           "funk rock"
          ],
          [
           "funky breaks"
          ],
          [
           "funky tech house"
          ],
          [
           "future bass"
          ],
          [
           "future funk"
          ],
          [
           "future garage"
          ],
          [
           "future house"
          ],
          [
           "future rock"
          ],
          [
           "futurepop"
          ],
          [
           "g funk"
          ],
          [
           "gabba"
          ],
          [
           "gabonese pop"
          ],
          [
           "gaian doom"
          ],
          [
           "gainesville indie"
          ],
          [
           "gaita zuliana"
          ],
          [
           "galante era"
          ],
          [
           "gamelan"
          ],
          [
           "gaming dubstep"
          ],
          [
           "gaming edm"
          ],
          [
           "gangster rap"
          ],
          [
           "garage house"
          ],
          [
           "garage pop"
          ],
          [
           "garage psych"
          ],
          [
           "garage punk"
          ],
          [
           "garage punk blues"
          ],
          [
           "garage rock"
          ],
          [
           "garage rock revival"
          ],
          [
           "gauze pop"
          ],
          [
           "gbvfi"
          ],
          [
           "geek folk"
          ],
          [
           "geek rock"
          ],
          [
           "georgian folk"
          ],
          [
           "german alternative rock"
          ],
          [
           "german baroque"
          ],
          [
           "german choir"
          ],
          [
           "german classical piano"
          ],
          [
           "german country"
          ],
          [
           "german dance"
          ],
          [
           "german hard rock"
          ],
          [
           "german heavy metal"
          ],
          [
           "german house"
          ],
          [
           "german indie"
          ],
          [
           "german jazz"
          ],
          [
           "german literature"
          ],
          [
           "german metal"
          ],
          [
           "german oi"
          ],
          [
           "german opera"
          ],
          [
           "german orchestra"
          ],
          [
           "german pop"
          ],
          [
           "german pop rock"
          ],
          [
           "german post-hardcore"
          ],
          [
           "german power metal"
          ],
          [
           "german punk"
          ],
          [
           "german renaissance"
          ],
          [
           "german rock"
          ],
          [
           "german romanticism"
          ],
          [
           "german show tunes"
          ],
          [
           "german soundtrack"
          ],
          [
           "german techno"
          ],
          [
           "german thrash metal"
          ],
          [
           "german trance"
          ],
          [
           "german underground rap"
          ],
          [
           "ghanaian hip hop"
          ],
          [
           "ghanaian traditional"
          ],
          [
           "ghazal"
          ],
          [
           "ghent indie"
          ],
          [
           "girl group"
          ],
          [
           "glam metal"
          ],
          [
           "glam punk"
          ],
          [
           "glam rock"
          ],
          [
           "glee club"
          ],
          [
           "glitch"
          ],
          [
           "glitch hop"
          ],
          [
           "glitch pop"
          ],
          [
           "glitchcore"
          ],
          [
           "go-go"
          ],
          [
           "goregrind"
          ],
          [
           "gospel"
          ],
          [
           "gospel antigas"
          ],
          [
           "gospel blues"
          ],
          [
           "gospel italiano"
          ],
          [
           "gospel r&b"
          ],
          [
           "gospel rap"
          ],
          [
           "gospel singers"
          ],
          [
           "gospel soul"
          ],
          [
           "gothabilly"
          ],
          [
           "gothenburg indie"
          ],
          [
           "gothenburg metal"
          ],
          [
           "gothic alternative"
          ],
          [
           "gothic americana"
          ],
          [
           "gothic black metal"
          ],
          [
           "gothic metal"
          ],
          [
           "gothic post-punk"
          ],
          [
           "gothic rock"
          ],
          [
           "gothic symphonic metal"
          ],
          [
           "gqom"
          ],
          [
           "grand rapids indie"
          ],
          [
           "grave wave"
          ],
          [
           "greek clarinet"
          ],
          [
           "greek contemporary classical"
          ],
          [
           "greek folk"
          ],
          [
           "greek guitar"
          ],
          [
           "greek house"
          ],
          [
           "greek jazz"
          ],
          [
           "greek pop"
          ],
          [
           "greek swing"
          ],
          [
           "gregorian chant"
          ],
          [
           "grime"
          ],
          [
           "grindcore"
          ],
          [
           "griot"
          ],
          [
           "groove metal"
          ],
          [
           "groove room"
          ],
          [
           "grunge"
          ],
          [
           "grunge pop"
          ],
          [
           "grupera"
          ],
          [
           "gruperas inmortales"
          ],
          [
           "guadalajara indie"
          ],
          [
           "guam indie"
          ],
          [
           "guaracha"
          ],
          [
           "guatemalan pop"
          ],
          [
           "guidance"
          ],
          [
           "guinean pop"
          ],
          [
           "guitarra argentina"
          ],
          [
           "guitarra clasica"
          ],
          [
           "guitarra portuguesa"
          ],
          [
           "gujarati garba"
          ],
          [
           "gujarati pop"
          ],
          [
           "guzheng"
          ],
          [
           "gymcore"
          ],
          [
           "gypsy"
          ],
          [
           "gypsy jazz"
          ],
          [
           "gypsy punk"
          ],
          [
           "haitian traditional"
          ],
          [
           "halifax indie"
          ],
          [
           "halloween"
          ],
          [
           "hamburg electronic"
          ],
          [
           "hammered dulcimer"
          ],
          [
           "hammond organ"
          ],
          [
           "hands up"
          ],
          [
           "hangpan"
          ],
          [
           "happy hardcore"
          ],
          [
           "hard alternative"
          ],
          [
           "hard bop"
          ],
          [
           "hard minimal techno"
          ],
          [
           "hard rock"
          ],
          [
           "hard rock brasileiro"
          ],
          [
           "hardcore"
          ],
          [
           "hardcore hip hop"
          ],
          [
           "hardcore punk"
          ],
          [
           "hardcore techno"
          ],
          [
           "hardstyle"
          ],
          [
           "harlem hip hop"
          ],
          [
           "harlem renaissance"
          ],
          [
           "harmonica blues"
          ],
          [
           "harmonica jazz"
          ],
          [
           "harp"
          ],
          [
           "harpsichord"
          ],
          [
           "haryanvi pop"
          ],
          [
           "hauntology"
          ],
          [
           "hawaiian"
          ],
          [
           "hawaiian hip hop"
          ],
          [
           "hawaiian indie"
          ],
          [
           "healing"
          ],
          [
           "heartland rock"
          ],
          [
           "hi-nrg"
          ],
          [
           "highlife"
          ],
          [
           "hindi hip hop"
          ],
          [
           "hindi indie"
          ],
          [
           "hindustani classical"
          ],
          [
           "hindustani instrumental"
          ],
          [
           "hindustani vocal"
          ],
          [
           "hip hop"
          ],
          [
           "hip hop cubano"
          ],
          [
           "hip house"
          ],
          [
           "hip pop"
          ],
          [
           "hiplife"
          ],
          [
           "histoire pour enfants"
          ],
          [
           "historic classical performance"
          ],
          [
           "historic orchestral performance"
          ],
          [
           "historic piano performance"
          ],
          [
           "historic string quartet"
          ],
          [
           "historical keyboard"
          ],
          [
           "historically informed performance"
          ],
          [
           "hoerspiel"
          ],
          [
           "hokkien pop"
          ],
          [
           "hollywood"
          ],
          [
           "hong kong hip hop"
          ],
          [
           "hong kong indie"
          ],
          [
           "hong kong rock"
          ],
          [
           "honky tonk"
          ],
          [
           "honky-tonk piano"
          ],
          [
           "hopebeat"
          ],
          [
           "horror punk"
          ],
          [
           "horror synth"
          ],
          [
           "horrorcore"
          ],
          [
           "house"
          ],
          [
           "houston rap"
          ],
          [
           "huapango"
          ],
          [
           "huayno"
          ],
          [
           "hula"
          ],
          [
           "humppa"
          ],
          [
           "hungarian choir"
          ],
          [
           "hungarian classical performance"
          ],
          [
           "hungarian classical piano"
          ],
          [
           "hungarian contemporary classical"
          ],
          [
           "hungarian edm"
          ],
          [
           "hungarian folk"
          ],
          [
           "hungarian pop"
          ],
          [
           "hungarian rock"
          ],
          [
           "hungarian techno"
          ],
          [
           "hurdy-gurdy"
          ],
          [
           "hyperpop"
          ],
          [
           "hyphy"
          ],
          [
           "icelandic classical"
          ],
          [
           "icelandic electronic"
          ],
          [
           "icelandic experimental"
          ],
          [
           "icelandic folk"
          ],
          [
           "icelandic indie"
          ],
          [
           "icelandic jazz"
          ],
          [
           "icelandic pop"
          ],
          [
           "icelandic rock"
          ],
          [
           "idaho indie"
          ],
          [
           "idol"
          ],
          [
           "idol rock"
          ],
          [
           "ilahiler"
          ],
          [
           "ilocano pop"
          ],
          [
           "impressionism"
          ],
          [
           "indian classical"
          ],
          [
           "indian edm"
          ],
          [
           "indian folk"
          ],
          [
           "indian fusion"
          ],
          [
           "indian indie"
          ],
          [
           "indian instrumental"
          ],
          [
           "indian jazz"
          ],
          [
           "indiana hip hop"
          ],
          [
           "indie anthem-folk"
          ],
          [
           "indie cafe pop"
          ],
          [
           "indie deutschrap"
          ],
          [
           "indie dream pop"
          ],
          [
           "indie electronica"
          ],
          [
           "indie electropop"
          ],
          [
           "indie folk"
          ],
          [
           "indie game soundtrack"
          ],
          [
           "indie garage rock"
          ],
          [
           "indie hip hop"
          ],
          [
           "indie jazz"
          ],
          [
           "indie pop"
          ],
          [
           "indie pop rap"
          ],
          [
           "indie poptimism"
          ],
          [
           "indie psych-pop"
          ],
          [
           "indie punk"
          ],
          [
           "indie quebecois"
          ],
          [
           "indie r&b"
          ],
          [
           "indie rock"
          ],
          [
           "indie rock mexicano"
          ],
          [
           "indie rockism"
          ],
          [
           "indie shoegaze"
          ],
          [
           "indie singer-songwriter"
          ],
          [
           "indie soul"
          ],
          [
           "indie surf"
          ],
          [
           "indie triste"
          ],
          [
           "indiecoustica"
          ],
          [
           "indietronica"
          ],
          [
           "indonesian hip hop"
          ],
          [
           "indonesian indie"
          ],
          [
           "indonesian pop"
          ],
          [
           "indonesian r&b"
          ],
          [
           "indonesian worship"
          ],
          [
           "industrial"
          ],
          [
           "industrial hardcore"
          ],
          [
           "industrial hip hop"
          ],
          [
           "industrial metal"
          ],
          [
           "industrial rock"
          ],
          [
           "indy indie"
          ],
          [
           "instrumental acoustic guitar"
          ],
          [
           "instrumental bluegrass"
          ],
          [
           "instrumental funk"
          ],
          [
           "instrumental grime"
          ],
          [
           "instrumental math rock"
          ],
          [
           "instrumental post-rock"
          ],
          [
           "instrumental progressive metal"
          ],
          [
           "instrumental rock"
          ],
          [
           "instrumental soul"
          ],
          [
           "instrumental stoner rock"
          ],
          [
           "instrumental surf"
          ],
          [
           "intelligent dance music"
          ],
          [
           "iowa hip hop"
          ],
          [
           "irish accordion"
          ],
          [
           "irish ballad"
          ],
          [
           "irish banjo"
          ],
          [
           "irish classical"
          ],
          [
           "irish country"
          ],
          [
           "irish dance"
          ],
          [
           "irish fiddle"
          ],
          [
           "irish folk"
          ],
          [
           "irish hip hop"
          ],
          [
           "irish indie"
          ],
          [
           "irish metal"
          ],
          [
           "irish pop"
          ],
          [
           "irish pub song"
          ],
          [
           "irish rock"
          ],
          [
           "irish singer-songwriter"
          ],
          [
           "iskelma"
          ],
          [
           "islamic recitation"
          ],
          [
           "isle of wight indie"
          ],
          [
           "israeli classical"
          ],
          [
           "israeli classical piano"
          ],
          [
           "israeli folk"
          ],
          [
           "israeli hip hop"
          ],
          [
           "israeli mediterranean"
          ],
          [
           "israeli pop"
          ],
          [
           "israeli rock"
          ],
          [
           "israeli singer-songwriter"
          ],
          [
           "israeli techno"
          ],
          [
           "italian adult pop"
          ],
          [
           "italian baritone"
          ],
          [
           "italian baroque"
          ],
          [
           "italian baroque ensemble"
          ],
          [
           "italian bass"
          ],
          [
           "italian blues"
          ],
          [
           "italian classical guitar"
          ],
          [
           "italian classical piano"
          ],
          [
           "italian contemporary jazz"
          ],
          [
           "italian disco"
          ],
          [
           "italian gothic"
          ],
          [
           "italian gothic metal"
          ],
          [
           "italian indie pop"
          ],
          [
           "italian jazz"
          ],
          [
           "italian library music"
          ],
          [
           "italian mandolin"
          ],
          [
           "italian metal"
          ],
          [
           "italian mezzo-soprano"
          ],
          [
           "italian modern prog"
          ],
          [
           "italian opera"
          ],
          [
           "italian orchestra"
          ],
          [
           "italian pop rock"
          ],
          [
           "italian power metal"
          ],
          [
           "italian progressive metal"
          ],
          [
           "italian progressive rock"
          ],
          [
           "italian renaissance"
          ],
          [
           "italian romanticism"
          ],
          [
           "italian soprano"
          ],
          [
           "italian soundtrack"
          ],
          [
           "italian techno"
          ],
          [
           "italian tenor"
          ],
          [
           "italian violin"
          ],
          [
           "italo dance"
          ],
          [
           "italo house"
          ],
          [
           "j-acoustic"
          ],
          [
           "j-ambient"
          ],
          [
           "j-dance"
          ],
          [
           "j-division"
          ],
          [
           "j-idol"
          ],
          [
           "j-metal"
          ],
          [
           "j-pixie"
          ],
          [
           "j-pop"
          ],
          [
           "j-pop girl group"
          ],
          [
           "j-poprock"
          ],
          [
           "j-punk"
          ],
          [
           "j-reggae"
          ],
          [
           "j-rock"
          ],
          [
           "jacksonville indie"
          ],
          [
           "jam band"
          ],
          [
           "jamgrass"
          ],
          [
           "jamtronica"
          ],
          [
           "jangle pop"
          ],
          [
           "japanese alternative rock"
          ],
          [
           "japanese chillhop"
          ],
          [
           "japanese city pop"
          ],
          [
           "japanese classical"
          ],
          [
           "japanese classical performance"
          ],
          [
           "japanese classical piano"
          ],
          [
           "japanese concert band"
          ],
          [
           "japanese dream pop"
          ],
          [
           "japanese electronic"
          ],
          [
           "japanese electropop"
          ],
          [
           "japanese emo"
          ],
          [
           "japanese experimental"
          ],
          [
           "japanese folk"
          ],
          [
           "japanese garage rock"
          ],
          [
           "japanese girl punk"
          ],
          [
           "japanese heavy metal"
          ],
          [
           "japanese idm"
          ],
          [
           "japanese indie folk"
          ],
          [
           "japanese indie rock"
          ],
          [
           "japanese instrumental"
          ],
          [
           "japanese jazz"
          ],
          [
           "japanese jazz fusion"
          ],
          [
           "japanese jazztronica"
          ],
          [
           "japanese metalcore"
          ],
          [
           "japanese new wave"
          ],
          [
           "japanese piano"
          ],
          [
           "japanese pop punk"
          ],
          [
           "japanese post-hardcore"
          ],
          [
           "japanese power metal"
          ],
          [
           "japanese prog"
          ],
          [
           "japanese psychedelic"
          ],
          [
           "japanese punk rock"
          ],
          [
           "japanese r&b"
          ],
          [
           "japanese rockabilly"
          ],
          [
           "japanese singer-songwriter"
          ],
          [
           "japanese soundtrack"
          ],
          [
           "japanese traditional"
          ],
          [
           "japanese vgm"
          ],
          [
           "japanese vocal jazz"
          ],
          [
           "jawaiian"
          ],
          [
           "jazz"
          ],
          [
           "jazz accordion"
          ],
          [
           "jazz blues"
          ],
          [
           "jazz boom bap"
          ],
          [
           "jazz brass"
          ],
          [
           "jazz chileno"
          ],
          [
           "jazz clarinet"
          ],
          [
           "jazz colombiano"
          ],
          [
           "jazz cubano"
          ],
          [
           "jazz double bass"
          ],
          [
           "jazz drums"
          ],
          [
           "jazz flute"
          ],
          [
           "jazz funk"
          ],
          [
           "jazz fusion"
          ],
          [
           "jazz guitar"
          ],
          [
           "jazz harp"
          ],
          [
           "jazz metal"
          ],
          [
           "jazz mexicano"
          ],
          [
           "jazz orchestra"
          ],
          [
           "jazz organ"
          ],
          [
           "jazz piano"
          ],
          [
           "jazz pop"
          ],
          [
           "jazz quartet"
          ],
          [
           "jazz rap"
          ],
          [
           "jazz rock"
          ],
          [
           "jazz saxophone"
          ],
          [
           "jazz trio"
          ],
          [
           "jazz trombone"
          ],
          [
           "jazz trumpet"
          ],
          [
           "jazz tuba"
          ],
          [
           "jazz venezolano"
          ],
          [
           "jazz vibraphone"
          ],
          [
           "jazz violin"
          ],
          [
           "jazztronica"
          ],
          [
           "jewish cantorial"
          ],
          [
           "jewish hip hop"
          ],
          [
           "jig and reel"
          ],
          [
           "jordanian pop"
          ],
          [
           "joropo"
          ],
          [
           "jovem guarda"
          ],
          [
           "jug band"
          ],
          [
           "juju"
          ],
          [
           "jump blues"
          ],
          [
           "jump up"
          ],
          [
           "k-indie"
          ],
          [
           "k-pop"
          ],
          [
           "k-pop boy group"
          ],
          [
           "k-pop girl group"
          ],
          [
           "k-rap"
          ],
          [
           "kabarett"
          ],
          [
           "kabyle"
          ],
          [
           "kaneka"
          ],
          [
           "kannada bhava geethe"
          ],
          [
           "kansas city hip hop"
          ],
          [
           "kashmiri pop"
          ],
          [
           "kawaii future bass"
          ],
          [
           "kawaii metal"
          ],
          [
           "kayokyoku"
          ],
          [
           "kc indie"
          ],
          [
           "kent indie"
          ],
          [
           "kentucky hip hop"
          ],
          [
           "kentucky indie"
          ],
          [
           "kentucky metal"
          ],
          [
           "kentucky mountain folk"
          ],
          [
           "kentucky punk"
          ],
          [
           "kentucky roots"
          ],
          [
           "keroncong"
          ],
          [
           "khaleeji iraqi"
          ],
          [
           "khmer"
          ],
          [
           "kids dance party"
          ],
          [
           "kindie rock"
          ],
          [
           "kingston on indie"
          ],
          [
           "kirtan"
          ],
          [
           "kiwi rock"
          ],
          [
           "kizomba antigas"
          ],
          [
           "kleine hoerspiel"
          ],
          [
           "klezmer"
          ],
          [
           "knoxville indie"
          ],
          [
           "kodomo no ongaku"
          ],
          [
           "kolsche karneval"
          ],
          [
           "komedi"
          ],
          [
           "kompa"
          ],
          [
           "kora"
          ],
          [
           "korean classical performance"
          ],
          [
           "korean classical piano"
          ],
          [
           "korean indie rock"
          ],
          [
           "korean mask singer"
          ],
          [
           "korean pop"
          ],
          [
           "korean r&b"
          ],
          [
           "korean trap"
          ],
          [
           "koto"
          ],
          [
           "krautrock"
          ],
          [
           "kundiman"
          ],
          [
           "la indie"
          ],
          [
           "la pop"
          ],
          [
           "laboratorio"
          ],
          [
           "lafayette indie"
          ],
          [
           "laiko"
          ],
          [
           "lancashire indie"
          ],
          [
           "lancaster pa indie"
          ],
          [
           "late romantic era"
          ],
          [
           "latin"
          ],
          [
           "latin afrobeat"
          ],
          [
           "latin alternative"
          ],
          [
           "latin american classical piano"
          ],
          [
           "latin arena pop"
          ],
          [
           "latin christian"
          ],
          [
           "latin classical"
          ],
          [
           "latin funk"
          ],
          [
           "latin hip hop"
          ],
          [
           "latin house"
          ],
          [
           "latin jazz"
          ],
          [
           "latin metal"
          ],
          [
           "latin pop"
          ],
          [
           "latin rock"
          ],
          [
           "latin ska"
          ],
          [
           "latin soundtrack"
          ],
          [
           "latin talent show"
          ],
          [
           "latin tech house"
          ],
          [
           "latin viral pop"
          ],
          [
           "latin worship"
          ],
          [
           "latincore"
          ],
          [
           "latino comedy"
          ],
          [
           "latintronica"
          ],
          [
           "latinx alternative"
          ],
          [
           "latvian pop"
          ],
          [
           "lds"
          ],
          [
           "lds youth"
          ],
          [
           "lebanese pop"
          ],
          [
           "leicester indie"
          ],
          [
           "lexington ky indie"
          ],
          [
           "lgbtq+ hip hop"
          ],
          [
           "library music"
          ],
          [
           "liedermacher"
          ],
          [
           "light music"
          ],
          [
           "lilith"
          ],
          [
           "liquid funk"
          ],
          [
           "lithuanian electronic"
          ],
          [
           "liverpool indie"
          ],
          [
           "livetronica"
          ],
          [
           "lldm"
          ],
          [
           "lo star"
          ],
          [
           "lo-fi"
          ],
          [
           "lo-fi beats"
          ],
          [
           "lo-fi brasileiro"
          ],
          [
           "lo-fi chill"
          ],
          [
           "lo-fi cover"
          ],
          [
           "lo-fi emo"
          ],
          [
           "lo-fi house"
          ],
          [
           "lo-fi indie"
          ],
          [
           "lo-fi vgm"
          ],
          [
           "london rap"
          ],
          [
           "louisiana blues"
          ],
          [
           "louisiana metal"
          ],
          [
           "louisville indie"
          ],
          [
           "louisville underground"
          ],
          [
           "lounge"
          ],
          [
           "louvor"
          ],
          [
           "lovers rock"
          ],
          [
           "lullaby"
          ],
          [
           "lund indie"
          ],
          [
           "lute"
          ],
          [
           "macedonian folk"
          ],
          [
           "madchester"
          ],
          [
           "madrigal"
          ],
          [
           "magyar alternative"
          ],
          [
           "maine hip hop"
          ],
          [
           "maine indie"
          ],
          [
           "mainland chinese pop"
          ],
          [
           "makossa"
          ],
          [
           "malaysian mandopop"
          ],
          [
           "malaysian pop"
          ],
          [
           "malian blues"
          ],
          [
           "mallet"
          ],
          [
           "malmo indie"
          ],
          [
           "mambo"
          ],
          [
           "manchester hip hop"
          ],
          [
           "manchester indie"
          ],
          [
           "mande pop"
          ],
          [
           "mandolin"
          ],
          [
           "mandopop"
          ],
          [
           "manguebeat"
          ],
          [
           "manila sound"
          ],
          [
           "manitoba indie"
          ],
          [
           "mantra"
          ],
          [
           "marathi pop"
          ],
          [
           "marathi traditional"
          ],
          [
           "marching band"
          ],
          [
           "mariachi"
          ],
          [
           "mariachi cristiano"
          ],
          [
           "marimba orquesta"
          ],
          [
           "martial industrial"
          ],
          [
           "mashup"
          ],
          [
           "math rock"
          ],
          [
           "mathcore"
          ],
          [
           "mbalax"
          ],
          [
           "medieval"
          ],
          [
           "medieval folk"
          ],
          [
           "medieval rock"
          ],
          [
           "meditation"
          ],
          [
           "melancholia"
          ],
          [
           "melbourne bounce"
          ],
          [
           "melbourne bounce international"
          ],
          [
           "melbourne indie"
          ],
          [
           "mellow gold"
          ],
          [
           "melodic death metal"
          ],
          [
           "melodic deathcore"
          ],
          [
           "melodic dubstep"
          ],
          [
           "melodic groove metal"
          ],
          [
           "melodic hard rock"
          ],
          [
           "melodic hardcore"
          ],
          [
           "melodic metal"
          ],
          [
           "melodic metalcore"
          ],
          [
           "melodic power metal"
          ],
          [
           "melodic rap"
          ],
          [
           "melodic thrash"
          ],
          [
           "meme rap"
          ],
          [
           "memphis americana"
          ],
          [
           "memphis blues"
          ],
          [
           "memphis hip hop"
          ],
          [
           "memphis indie"
          ],
          [
           "memphis soul"
          ],
          [
           "mento"
          ],
          [
           "merengue"
          ],
          [
           "merengue tipico"
          ],
          [
           "merseybeat"
          ],
          [
           "messianic praise"
          ],
          [
           "metal"
          ],
          [
           "metal guitar"
          ],
          [
           "metal mineiro"
          ],
          [
           "metalcore"
          ],
          [
           "metropopolis"
          ],
          [
           "mexican classic rock"
          ],
          [
           "mexican classical"
          ],
          [
           "mexican hip hop"
          ],
          [
           "mexican indie"
          ],
          [
           "mexican pop"
          ],
          [
           "mexican pop punk"
          ],
          [
           "mexican rock"
          ],
          [
           "mexican rock-and-roll"
          ],
          [
           "mexican son"
          ],
          [
           "mexican traditional"
          ],
          [
           "miami bass"
          ],
          [
           "miami hip hop"
          ],
          [
           "miami indie"
          ],
          [
           "miami metal"
          ],
          [
           "michigan indie"
          ],
          [
           "microhouse"
          ],
          [
           "microtonal"
          ],
          [
           "middle earth"
          ],
          [
           "middle east hip hop"
          ],
          [
           "middle eastern traditional"
          ],
          [
           "midwest americana"
          ],
          [
           "midwest emo"
          ],
          [
           "military cadence"
          ],
          [
           "military rap"
          ],
          [
           "milwaukee indie"
          ],
          [
           "mindfulness"
          ],
          [
           "minecraft"
          ],
          [
           "minimal melodic techno"
          ],
          [
           "minimal tech house"
          ],
          [
           "minimal techno"
          ],
          [
           "minimal wave"
          ],
          [
           "minimalism"
          ],
          [
           "minneapolis indie"
          ],
          [
           "minneapolis metal"
          ],
          [
           "minneapolis punk"
          ],
          [
           "minneapolis sound"
          ],
          [
           "minnesota hip hop"
          ],
          [
           "mississippi hip hop"
          ],
          [
           "mississippi indie"
          ],
          [
           "mizrahi"
          ],
          [
           "mod revival"
          ],
          [
           "modern alternative pop"
          ],
          [
           "modern alternative rock"
          ],
          [
           "modern big band"
          ],
          [
           "modern blues"
          ],
          [
           "modern blues rock"
          ],
          [
           "modern bollywood"
          ],
          [
           "modern country rock"
          ],
          [
           "modern dream pop"
          ],
          [
           "modern folk rock"
          ],
          [
           "modern funk"
          ],
          [
           "modern hard rock"
          ],
          [
           "modern indie pop"
          ],
          [
           "modern jazz piano"
          ],
          [
           "modern jazz trio"
          ],
          [
           "modern old-time"
          ],
          [
           "modern performance"
          ],
          [
           "modern power pop"
          ],
          [
           "modern psychedelic folk"
          ],
          [
           "modern reggae"
          ],
          [
           "modern rock"
          ],
          [
           "modern salsa"
          ],
          [
           "modern ska punk"
          ],
          [
           "modern southern rock"
          ],
          [
           "modern string quartet"
          ],
          [
           "modern swing"
          ],
          [
           "modern uplift"
          ],
          [
           "modular synth"
          ],
          [
           "moldovan pop"
          ],
          [
           "mollywood"
          ],
          [
           "mongolian hip hop"
          ],
          [
           "mongolian pop"
          ],
          [
           "monterrey indie"
          ],
          [
           "montreal indie"
          ],
          [
           "moog"
          ],
          [
           "moombahton"
          ],
          [
           "morna"
          ],
          [
           "motivation"
          ],
          [
           "motown"
          ],
          [
           "mountain dulcimer"
          ],
          [
           "movie tunes"
          ],
          [
           "mpb"
          ],
          [
           "music box"
          ],
          [
           "music hall"
          ],
          [
           "musica afroperuana"
          ],
          [
           "musica alagoana"
          ],
          [
           "musica andina"
          ],
          [
           "musica andina colombiana"
          ],
          [
           "musica antigua"
          ],
          [
           "musica aragonesa"
          ],
          [
           "musica ayacuchana"
          ],
          [
           "musica canaria"
          ],
          [
           "musica costarricense"
          ],
          [
           "musica costena"
          ],
          [
           "musica cristiana guatemalteca"
          ],
          [
           "musica de fondo"
          ],
          [
           "musica gaucha tradicionalista"
          ],
          [
           "musica hondurena"
          ],
          [
           "musica infantil"
          ],
          [
           "musica jibara"
          ],
          [
           "musica juiz-forana"
          ],
          [
           "musica llanera"
          ],
          [
           "musica nicaraguense"
          ],
          [
           "musica para criancas"
          ],
          [
           "musica para ninos"
          ],
          [
           "musica paraibana"
          ],
          [
           "musica piemonteisa"
          ],
          [
           "musica popular colombiana"
          ],
          [
           "musica popular mineira"
          ],
          [
           "musica popular paraense"
          ],
          [
           "musica potosina"
          ],
          [
           "musica prehispanica"
          ],
          [
           "musica sarda"
          ],
          [
           "musica tradicional cubana"
          ],
          [
           "musica tropical guatemalteca"
          ],
          [
           "musical advocacy"
          ],
          [
           "musikkorps"
          ],
          [
           "musique concrete"
          ],
          [
           "musique peule"
          ],
          [
           "musique pour enfant quebecois"
          ],
          [
           "musique pour enfants"
          ],
          [
           "musique touareg"
          ],
          [
           "muzica populara"
          ],
          [
           "muzika l'yeladim"
          ],
          [
           "naija worship"
          ],
          [
           "nantes indie"
          ],
          [
           "narodna muzika"
          ],
          [
           "nashville americana"
          ],
          [
           "nashville hip hop"
          ],
          [
           "nashville indie"
          ],
          [
           "nashville singer-songwriter"
          ],
          [
           "nashville sound"
          ],
          [
           "native american"
          ],
          [
           "native american contemporary"
          ],
          [
           "native american flute"
          ],
          [
           "native american hip hop"
          ],
          [
           "native american spiritual"
          ],
          [
           "navajo"
          ],
          [
           "nederlandse hardstyle"
          ],
          [
           "nederpop"
          ],
          [
           "neo classical metal"
          ],
          [
           "neo kyma"
          ],
          [
           "neo mellow"
          ],
          [
           "neo r&b"
          ],
          [
           "neo soul"
          ],
          [
           "neo-classical"
          ],
          [
           "neo-kraut"
          ],
          [
           "neo-pagan"
          ],
          [
           "neo-progressive"
          ],
          [
           "neo-psychedelic"
          ],
          [
           "neo-rockabilly"
          ],
          [
           "neo-singer-songwriter"
          ],
          [
           "neo-synthpop"
          ],
          [
           "neo-trad metal"
          ],
          [
           "neo-traditional bluegrass"
          ],
          [
           "neo-traditional country"
          ],
          [
           "neoclassical darkwave"
          ],
          [
           "neoclassicism"
          ],
          [
           "neofolk"
          ],
          [
           "neon pop punk"
          ],
          [
           "neotango"
          ],
          [
           "nepali indie"
          ],
          [
           "nepali pop"
          ],
          [
           "nerdcore"
          ],
          [
           "neue deutsche harte"
          ],
          [
           "neue deutsche todeskunst"
          ],
          [
           "neue deutsche welle"
          ],
          [
           "neurofunk"
          ],
          [
           "new age"
          ],
          [
           "new age piano"
          ],
          [
           "new americana"
          ],
          [
           "new beat"
          ],
          [
           "new comedy"
          ],
          [
           "new england americana"
          ],
          [
           "new england emo"
          ],
          [
           "new french touch"
          ],
          [
           "new isolationism"
          ],
          [
           "new jack swing"
          ],
          [
           "new jersey hardcore"
          ],
          [
           "new jersey indie"
          ],
          [
           "new jersey punk"
          ],
          [
           "new jersey rap"
          ],
          [
           "new mexico music"
          ],
          [
           "new orleans blues"
          ],
          [
           "new orleans funk"
          ],
          [
           "new orleans indie"
          ],
          [
           "new orleans jazz"
          ],
          [
           "new orleans rap"
          ],
          [
           "new rave"
          ],
          [
           "new romantic"
          ],
          [
           "new tribe"
          ],
          [
           "new wave"
          ],
          [
           "new wave of thrash metal"
          ],
          [
           "new wave pop"
          ],
          [
           "new weird america"
          ],
          [
           "new york death metal"
          ],
          [
           "new york drill"
          ],
          [
           "new zealand classical"
          ],
          [
           "newcastle indie"
          ],
          [
           "newcastle nsw indie"
          ],
          [
           "nigerian hip hop"
          ],
          [
           "nigerian pop"
          ],
          [
           "nightcore"
          ],
          [
           "nightrun"
          ],
          [
           "ninja"
          ],
          [
           "nintendocore"
          ],
          [
           "nisiotika"
          ],
          [
           "nl folk"
          ],
          [
           "no wave"
          ],
          [
           "noise pop"
          ],
          [
           "noise punk"
          ],
          [
           "noise rock"
          ],
          [
           "nordic classical piano"
          ],
          [
           "nordic contemporary classical"
          ],
          [
           "nordic folk"
          ],
          [
           "nordic house"
          ],
          [
           "nordic orchestra"
          ],
          [
           "nordic post-rock"
          ],
          [
           "nordic soundtrack"
          ],
          [
           "norman ok indie"
          ],
          [
           "norsk lovsang"
          ],
          [
           "norteno"
          ],
          [
           "norteno-sax"
          ],
          [
           "north carolina emo"
          ],
          [
           "north carolina hip hop"
          ],
          [
           "north carolina indie"
          ],
          [
           "north carolina metal"
          ],
          [
           "north carolina roots"
          ],
          [
           "north east england indie"
          ],
          [
           "northern irish indie"
          ],
          [
           "northern irish punk"
          ],
          [
           "northern soul"
          ],
          [
           "norwegian black metal"
          ],
          [
           "norwegian choir"
          ],
          [
           "norwegian classical"
          ],
          [
           "norwegian contemporary jazz"
          ],
          [
           "norwegian death metal"
          ],
          [
           "norwegian experimental"
          ],
          [
           "norwegian hip hop"
          ],
          [
           "norwegian indie"
          ],
          [
           "norwegian jazz"
          ],
          [
           "norwegian metal"
          ],
          [
           "norwegian pop"
          ],
          [
           "norwegian pop rap"
          ],
          [
           "norwegian punk rock"
          ],
          [
           "norwegian rock"
          ],
          [
           "norwegian singer-songwriter"
          ],
          [
           "norwegian space disco"
          ],
          [
           "nottingham indie"
          ],
          [
           "nouvelle chanson francaise"
          ],
          [
           "nova canco"
          ],
          [
           "nova mpb"
          ],
          [
           "nova musica pernambucana"
          ],
          [
           "novelty"
          ],
          [
           "nu age"
          ],
          [
           "nu disco"
          ],
          [
           "nu gaze"
          ],
          [
           "nu jazz"
          ],
          [
           "nu metal"
          ],
          [
           "nu skool breaks"
          ],
          [
           "nu-cumbia"
          ],
          [
           "nu-metalcore"
          ],
          [
           "nubian traditional"
          ],
          [
           "nueva cancion"
          ],
          [
           "nueva ola chilena"
          ],
          [
           "nueva ola peruana"
          ],
          [
           "nuevo flamenco"
          ],
          [
           "nuevo folklore mexicano"
          ],
          [
           "nuevo regional mexicano"
          ],
          [
           "nuevo tango"
          ],
          [
           "nursery"
          ],
          [
           "nwobhm"
          ],
          [
           "nwothm"
          ],
          [
           "ny roots"
          ],
          [
           "nyc pop"
          ],
          [
           "nyc rap"
          ],
          [
           "nyhc"
          ],
          [
           "nz christian"
          ],
          [
           "nz folk"
          ],
          [
           "nz hardcore"
          ],
          [
           "nz indie"
          ],
          [
           "nz pop"
          ],
          [
           "nz punk"
          ],
          [
           "nz reggae"
          ],
          [
           "nz singer-songwriter"
          ],
          [
           "oakland hip hop"
          ],
          [
           "oakland indie"
          ],
          [
           "oc indie"
          ],
          [
           "oc rap"
          ],
          [
           "oceania soundtrack"
          ],
          [
           "ohio hip hop"
          ],
          [
           "ohio indie"
          ],
          [
           "oi"
          ],
          [
           "ok indie"
          ],
          [
           "okc indie"
          ],
          [
           "okinawan pop"
          ],
          [
           "oklahoma country"
          ],
          [
           "old school dancehall"
          ],
          [
           "old school hip hop"
          ],
          [
           "old school rap francais"
          ],
          [
           "old school thrash"
          ],
          [
           "old school uk hip hop"
          ],
          [
           "old west"
          ],
          [
           "old-time"
          ],
          [
           "old-time fiddle"
          ],
          [
           "olympia wa indie"
          ],
          [
           "omaha indie"
          ],
          [
           "one-person band"
          ],
          [
           "ontario indie"
          ],
          [
           "opera"
          ],
          [
           "opera chorus"
          ],
          [
           "opera metal"
          ],
          [
           "operatic pop"
          ],
          [
           "operetta"
          ],
          [
           "opm"
          ],
          [
           "oratory"
          ],
          [
           "orchestra"
          ],
          [
           "orchestral performance"
          ],
          [
           "orebro indie"
          ],
          [
           "organic ambient"
          ],
          [
           "organic electronic"
          ],
          [
           "organic house"
          ],
          [
           "orgcore"
          ],
          [
           "oriental classical"
          ],
          [
           "orkney and shetland folk"
          ],
          [
           "orlando indie"
          ],
          [
           "orquesta tipica"
          ],
          [
           "orthodox chant"
          ],
          [
           "oshare kei"
          ],
          [
           "otacore"
          ],
          [
           "oth indie"
          ],
          [
           "ottawa indie"
          ],
          [
           "ottawa rap"
          ],
          [
           "oud"
          ],
          [
           "outer hip hop"
          ],
          [
           "outlaw country"
          ],
          [
           "outsider"
          ],
          [
           "outsider house"
          ],
          [
           "oxford choir"
          ],
          [
           "oxford indie"
          ],
          [
           "p funk"
          ],
          [
           "pagan black metal"
          ],
          [
           "pagode"
          ],
          [
           "pagode baiano"
          ],
          [
           "paisley underground"
          ],
          [
           "pakistani folk"
          ],
          [
           "pakistani hip hop"
          ],
          [
           "pakistani pop"
          ],
          [
           "palestinian pop"
          ],
          [
           "palm desert scene"
          ],
          [
           "panamanian pop"
          ],
          [
           "panamanian rock"
          ],
          [
           "panpipe"
          ],
          [
           "papuri"
          ],
          [
           "parody"
          ],
          [
           "partido alto"
          ],
          [
           "partyschlager"
          ],
          [
           "pei indie"
          ],
          [
           "permanent wave"
          ],
          [
           "perreo"
          ],
          [
           "persian pop"
          ],
          [
           "persian traditional"
          ],
          [
           "perth indie"
          ],
          [
           "peruvian hip hop"
          ],
          [
           "peruvian rock"
          ],
          [
           "pet calming"
          ],
          [
           "philly indie"
          ],
          [
           "philly rap"
          ],
          [
           "philly soul"
          ],
          [
           "phoenix indie"
          ],
          [
           "phonk"
          ],
          [
           "pianissimo"
          ],
          [
           "piano blues"
          ],
          [
           "piano cover"
          ],
          [
           "piano mpb"
          ],
          [
           "piano rock"
          ],
          [
           "pibroch"
          ],
          [
           "piedmont blues"
          ],
          [
           "pinoy hip hop"
          ],
          [
           "pinoy indie"
          ],
          [
           "pinoy pop punk"
          ],
          [
           "pinoy praise"
          ],
          [
           "pinoy r&b"
          ],
          [
           "pinoy reggae"
          ],
          [
           "pinoy rock"
          ],
          [
           "pinoy traditional"
          ],
          [
           "pinoy trap"
          ],
          [
           "pirate"
          ],
          [
           "pittsburgh indie"
          ],
          [
           "pittsburgh rap"
          ],
          [
           "pittsburgh rock"
          ],
          [
           "pixie"
          ],
          [
           "plunderphonics"
          ],
          [
           "poetry"
          ],
          [
           "polca paraguaya"
          ],
          [
           "polish blues"
          ],
          [
           "polish classical"
          ],
          [
           "polish classical piano"
          ],
          [
           "polish contemporary classical"
          ],
          [
           "polish jazz"
          ],
          [
           "polish modern jazz"
          ],
          [
           "polish pop"
          ],
          [
           "polish post-rock"
          ],
          [
           "polish reggae"
          ],
          [
           "polish rock"
          ],
          [
           "political hip hop"
          ],
          [
           "polka"
          ],
          [
           "polynesian hip hop"
          ],
          [
           "polynesian pop"
          ],
          [
           "polyphony"
          ],
          [
           "pony"
          ],
          [
           "pop"
          ],
          [
           "pop argentino"
          ],
          [
           "pop chileno"
          ],
          [
           "pop dance"
          ],
          [
           "pop edm"
          ],
          [
           "pop electronico"
          ],
          [
           "pop emo"
          ],
          [
           "pop flamenco"
          ],
          [
           "pop folk"
          ],
          [
           "pop house"
          ],
          [
           "pop nacional"
          ],
          [
           "pop nacional antigas"
          ],
          [
           "pop peruano"
          ],
          [
           "pop punk"
          ],
          [
           "pop quebecois"
          ],
          [
           "pop r&b"
          ],
          [
           "pop rap"
          ],
          [
           "pop reggaeton"
          ],
          [
           "pop rock"
          ],
          [
           "pop rock brasileiro"
          ],
          [
           "pop romantico"
          ],
          [
           "pop soul"
          ],
          [
           "pop venezolano"
          ],
          [
           "pop violin"
          ],
          [
           "popgaze"
          ],
          [
           "popping"
          ],
          [
           "pops orchestra"
          ],
          [
           "popwave"
          ],
          [
           "pornogrind"
          ],
          [
           "porro"
          ],
          [
           "portland hip hop"
          ],
          [
           "portland indie"
          ],
          [
           "portland metal"
          ],
          [
           "portland punk"
          ],
          [
           "portuguese early music"
          ],
          [
           "post-disco"
          ],
          [
           "post-disco soul"
          ],
          [
           "post-doom metal"
          ],
          [
           "post-grunge"
          ],
          [
           "post-hardcore"
          ],
          [
           "post-metal"
          ],
          [
           "post-minimalism"
          ],
          [
           "post-post-hardcore"
          ],
          [
           "post-punk"
          ],
          [
           "post-punk argentina"
          ],
          [
           "post-rock"
          ],
          [
           "post-romantic era"
          ],
          [
           "post-screamo"
          ],
          [
           "post-teen pop"
          ],
          [
           "power metal"
          ],
          [
           "power pop"
          ],
          [
           "power thrash"
          ],
          [
           "power-pop punk"
          ],
          [
           "praise"
          ],
          [
           "prepared piano"
          ],
          [
           "preschool children's music"
          ],
          [
           "prog quebec"
          ],
          [
           "progressive alternative"
          ],
          [
           "progressive bluegrass"
          ],
          [
           "progressive deathcore"
          ],
          [
           "progressive electro house"
          ],
          [
           "progressive groove metal"
          ],
          [
           "progressive house"
          ],
          [
           "progressive jazz fusion"
          ],
          [
           "progressive metal"
          ],
          [
           "progressive metalcore"
          ],
          [
           "progressive post-hardcore"
          ],
          [
           "progressive power metal"
          ],
          [
           "progressive psytrance"
          ],
          [
           "progressive rock"
          ],
          [
           "progressive sludge"
          ],
          [
           "progressive trance"
          ],
          [
           "progressive trance house"
          ],
          [
           "progressive uplifting trance"
          ],
          [
           "proto-rap"
          ],
          [
           "proto-techno"
          ],
          [
           "protopunk"
          ],
          [
           "psalmen"
          ],
          [
           "psicodelia brasileira"
          ],
          [
           "psybass"
          ],
          [
           "psychedelic blues-rock"
          ],
          [
           "psychedelic doom"
          ],
          [
           "psychedelic folk"
          ],
          [
           "psychedelic folk rock"
          ],
          [
           "psychedelic hip hop"
          ],
          [
           "psychedelic pop"
          ],
          [
           "psychedelic punk"
          ],
          [
           "psychedelic rock"
          ],
          [
           "psychedelic soul"
          ],
          [
           "psychedelic trance"
          ],
          [
           "psychill"
          ],
          [
           "psychobilly"
          ],
          [
           "pub rock"
          ],
          [
           "puerto rican folk"
          ],
          [
           "puerto rican pop"
          ],
          [
           "puerto rican rock"
          ],
          [
           "punjabi folk"
          ],
          [
           "punjabi hip hop"
          ],
          [
           "punjabi pop"
          ],
          [
           "punk"
          ],
          [
           "punk 'n' roll"
          ],
          [
           "punk blues"
          ],
          [
           "punk rock italiano"
          ],
          [
           "punk rock mexicano"
          ],
          [
           "punta"
          ],
          [
           "purple sound"
          ],
          [
           "qawwali"
          ],
          [
           "quartetto d'archi"
          ],
          [
           "quatuor a cordes"
          ],
          [
           "quebec death metal"
          ],
          [
           "quebec indie"
          ],
          [
           "queens hip hop"
          ],
          [
           "queer country"
          ],
          [
           "queercore"
          ],
          [
           "quiet storm"
          ],
          [
           "quran"
          ],
          [
           "r&b"
          ],
          [
           "r&b en espanol"
          ],
          [
           "rabindra sangeet"
          ],
          [
           "radio symphony"
          ],
          [
           "ragtime"
          ],
          [
           "rai"
          ],
          [
           "ranchera"
          ],
          [
           "rap"
          ],
          [
           "rap chileno"
          ],
          [
           "rap conciencia"
          ],
          [
           "rap conscient"
          ],
          [
           "rap cristiano"
          ],
          [
           "rap dominicano"
          ],
          [
           "rap kreyol"
          ],
          [
           "rap latina"
          ],
          [
           "rap metal"
          ],
          [
           "rap nacional antigo"
          ],
          [
           "rap napoletano"
          ],
          [
           "rap rock"
          ],
          [
           "rap underground mexicano"
          ],
          [
           "rare groove"
          ],
          [
           "rave"
          ],
          [
           "rawstyle"
          ],
          [
           "reading"
          ],
          [
           "reading indie"
          ],
          [
           "rebel blues"
          ],
          [
           "rebetiko"
          ],
          [
           "recorder"
          ],
          [
           "red dirt"
          ],
          [
           "redneck"
          ],
          [
           "reggae"
          ],
          [
           "reggae en espanol"
          ],
          [
           "reggae fusion"
          ],
          [
           "reggae rock"
          ],
          [
           "reggaeton"
          ],
          [
           "reggaeton colombiano"
          ],
          [
           "reggaeton cristiano"
          ],
          [
           "reggaeton flow"
          ],
          [
           "reggaeton mexicano"
          ],
          [
           "regional mexican"
          ],
          [
           "relaxative"
          ],
          [
           "renaissance"
          ],
          [
           "rennes indie"
          ],
          [
           "retro metal"
          ],
          [
           "retro soul"
          ],
          [
           "rhode island indie"
          ],
          [
           "rhode island rap"
          ],
          [
           "rhythm and blues"
          ],
          [
           "riddim"
          ],
          [
           "rif"
          ],
          [
           "riot grrrl"
          ],
          [
           "ritmo kombina"
          ],
          [
           "rochester mn indie"
          ],
          [
           "rochester ny indie"
          ],
          [
           "rock"
          ],
          [
           "rock alternatif francais"
          ],
          [
           "rock alternativo brasileiro"
          ],
          [
           "rock andaluz"
          ],
          [
           "rock baiano"
          ],
          [
           "rock brasiliense"
          ],
          [
           "rock chapin"
          ],
          [
           "rock cristiano"
          ],
          [
           "rock drums"
          ],
          [
           "rock en espanol"
          ],
          [
           "rock gaucho"
          ],
          [
           "rock independant francais"
          ],
          [
           "rock kapak"
          ],
          [
           "rock keyboard"
          ],
          [
           "rock nacional"
          ],
          [
           "rock nacional brasileiro"
          ],
          [
           "rock pernambucano"
          ],
          [
           "rock progressif francais"
          ],
          [
           "rock steady"
          ],
          [
           "rock urbano mexicano"
          ],
          [
           "rock-and-roll"
          ],
          [
           "rockabilly"
          ],
          [
           "rockabilly en espanol"
          ],
          [
           "roda de samba"
          ],
          [
           "romanian classical piano"
          ],
          [
           "romanian electronic"
          ],
          [
           "romanian folk"
          ],
          [
           "romanian pop"
          ],
          [
           "romanian rock"
          ],
          [
           "romantico"
          ],
          [
           "roots americana"
          ],
          [
           "roots reggae"
          ],
          [
           "roots rock"
          ],
          [
           "roots worship"
          ],
          [
           "rosary"
          ],
          [
           "rumba"
          ],
          [
           "rumba congolaise"
          ],
          [
           "rune folk"
          ],
          [
           "russian alternative rock"
          ],
          [
           "russian ccm"
          ],
          [
           "russian chanson"
          ],
          [
           "russian choir"
          ],
          [
           "russian classical piano"
          ],
          [
           "russian dance"
          ],
          [
           "russian edm"
          ],
          [
           "russian folk"
          ],
          [
           "russian folk rock"
          ],
          [
           "russian jazz"
          ],
          [
           "russian metal"
          ],
          [
           "russian metalcore"
          ],
          [
           "russian modern classical"
          ],
          [
           "russian orchestra"
          ],
          [
           "russian pop"
          ],
          [
           "russian post-punk"
          ],
          [
           "russian punk"
          ],
          [
           "russian rock"
          ],
          [
           "russian romanticism"
          ],
          [
           "russian shoegaze"
          ],
          [
           "russian trance"
          ],
          [
           "rva indie"
          ],
          [
           "rwandan traditional"
          ],
          [
           "ryukyu ongaku"
          ],
          [
           "sacramento hip hop"
          ],
          [
           "sacramento indie"
          ],
          [
           "sacred steel"
          ],
          [
           "sad rap"
          ],
          [
           "salsa"
          ],
          [
           "salsa choke"
          ],
          [
           "salsa colombiana"
          ],
          [
           "salsa cubana"
          ],
          [
           "salsa international"
          ],
          [
           "salsa peruana"
          ],
          [
           "salsa puertorriquena"
          ],
          [
           "salsa venezolana"
          ],
          [
           "samba"
          ],
          [
           "samba de roda"
          ],
          [
           "samba moderno"
          ],
          [
           "samba-enredo"
          ],
          [
           "samba-jazz"
          ],
          [
           "samba-rock"
          ],
          [
           "san antonio rap"
          ],
          [
           "san diego indie"
          ],
          [
           "san diego rap"
          ],
          [
           "san marcos tx indie"
          ],
          [
           "sandalwood"
          ],
          [
           "sarod"
          ],
          [
           "saskatchewan indie"
          ],
          [
           "scam rap"
          ],
          [
           "scandinavian r&b"
          ],
          [
           "scandipop"
          ],
          [
           "schlager"
          ],
          [
           "scorecore"
          ],
          [
           "scottish electronic"
          ],
          [
           "scottish fiddle"
          ],
          [
           "scottish folk"
          ],
          [
           "scottish hip hop"
          ],
          [
           "scottish indie"
          ],
          [
           "scottish jazz"
          ],
          [
           "scottish metal"
          ],
          [
           "scottish new wave"
          ],
          [
           "scottish rock"
          ],
          [
           "scottish singer-songwriter"
          ],
          [
           "scratch"
          ],
          [
           "scream rap"
          ],
          [
           "screamo"
          ],
          [
           "seattle hip hop"
          ],
          [
           "seattle indie"
          ],
          [
           "second line"
          ],
          [
           "sefardi"
          ],
          [
           "serbian electronic"
          ],
          [
           "serialism"
          ],
          [
           "sertanejo"
          ],
          [
           "sertanejo pop"
          ],
          [
           "sertanejo tradicional"
          ],
          [
           "sertanejo universitario"
          ],
          [
           "sevdah"
          ],
          [
           "sevillanas"
          ],
          [
           "shaabi"
          ],
          [
           "shabad"
          ],
          [
           "shakuhachi"
          ],
          [
           "shamanic"
          ],
          [
           "shanty"
          ],
          [
           "sheffield indie"
          ],
          [
           "shibuya-kei"
          ],
          [
           "shimmer pop"
          ],
          [
           "shimmer psych"
          ],
          [
           "shiver pop"
          ],
          [
           "shoegaze"
          ],
          [
           "show tunes"
          ],
          [
           "shred"
          ],
          [
           "shush"
          ],
          [
           "sierreno"
          ],
          [
           "singaporean mandopop"
          ],
          [
           "singaporean pop"
          ],
          [
           "singaporean singer-songwriter"
          ],
          [
           "singer-songwriter"
          ],
          [
           "singing bowl"
          ],
          [
           "sitar"
          ],
          [
           "ska"
          ],
          [
           "ska argentino"
          ],
          [
           "ska chileno"
          ],
          [
           "ska jazz"
          ],
          [
           "ska mexicano"
          ],
          [
           "ska punk"
          ],
          [
           "ska revival"
          ],
          [
           "skate punk"
          ],
          [
           "skiffle"
          ],
          [
           "skramz"
          ],
          [
           "sky room"
          ],
          [
           "slack-key guitar"
          ],
          [
           "slam poetry"
          ],
          [
           "slamming deathcore"
          ],
          [
           "slavic folk metal"
          ],
          [
           "slayer"
          ],
          [
           "slc indie"
          ],
          [
           "sleaze rock"
          ],
          [
           "sleep"
          ],
          [
           "slovak electronic"
          ],
          [
           "slovenian electronic"
          ],
          [
           "slovenian metal"
          ],
          [
           "slow game"
          ],
          [
           "slowcore"
          ],
          [
           "sludge metal"
          ],
          [
           "small room"
          ],
          [
           "smooth jazz"
          ],
          [
           "smooth saxophone"
          ],
          [
           "smooth soul"
          ],
          [
           "soca"
          ],
          [
           "socal pop punk"
          ],
          [
           "social media pop"
          ],
          [
           "soda pop"
          ],
          [
           "soft rock"
          ],
          [
           "solipsynthm"
          ],
          [
           "son cubano"
          ],
          [
           "son cubano clasico"
          ],
          [
           "son jarocho"
          ],
          [
           "sophisti-pop"
          ],
          [
           "sotalaulut"
          ],
          [
           "soukous"
          ],
          [
           "soul"
          ],
          [
           "soul blues"
          ],
          [
           "soul flow"
          ],
          [
           "soul jazz"
          ],
          [
           "souldies"
          ],
          [
           "sound"
          ],
          [
           "sound art"
          ],
          [
           "sound effects"
          ],
          [
           "sound team"
          ],
          [
           "soundtrack"
          ],
          [
           "south african alternative"
          ],
          [
           "south african choral"
          ],
          [
           "south african country"
          ],
          [
           "south african hip hop"
          ],
          [
           "south african house"
          ],
          [
           "south african jazz"
          ],
          [
           "south african pop"
          ],
          [
           "south african pop dance"
          ],
          [
           "south african rock"
          ],
          [
           "south carolina hip hop"
          ],
          [
           "south carolina indie"
          ],
          [
           "south carolina metal"
          ],
          [
           "south dakota indie"
          ],
          [
           "southampton indie"
          ],
          [
           "southern americana"
          ],
          [
           "southern gospel"
          ],
          [
           "southern hip hop"
          ],
          [
           "southern metal"
          ],
          [
           "southern rock"
          ],
          [
           "southern soul"
          ],
          [
           "southern soul blues"
          ],
          [
           "soviet synthpop"
          ],
          [
           "sovietwave"
          ],
          [
           "spa"
          ],
          [
           "space age pop"
          ],
          [
           "space ambient"
          ],
          [
           "space rock"
          ],
          [
           "spanish baroque"
          ],
          [
           "spanish classical"
          ],
          [
           "spanish classical piano"
          ],
          [
           "spanish folk metal"
          ],
          [
           "spanish hip hop"
          ],
          [
           "spanish indie pop"
          ],
          [
           "spanish invasion"
          ],
          [
           "spanish metal"
          ],
          [
           "spanish modern rock"
          ],
          [
           "spanish new wave"
          ],
          [
           "spanish noise pop"
          ],
          [
           "spanish pop"
          ],
          [
           "spanish pop rock"
          ],
          [
           "spanish renaissance"
          ],
          [
           "spanish rock"
          ],
          [
           "spanish synthpop"
          ],
          [
           "spanish techno"
          ],
          [
           "speed garage"
          ],
          [
           "speed metal"
          ],
          [
           "speedcore"
          ],
          [
           "spiritual hip hop"
          ],
          [
           "spiritual jazz"
          ],
          [
           "spirituals"
          ],
          [
           "springfield mo indie"
          ],
          [
           "spytrack"
          ],
          [
           "st louis rap"
          ],
          [
           "steampunk"
          ],
          [
           "steel guitar"
          ],
          [
           "steelpan"
          ],
          [
           "stl indie"
          ],
          [
           "stomp and flutter"
          ],
          [
           "stomp and holler"
          ],
          [
           "stomp and whittle"
          ],
          [
           "stomp pop"
          ],
          [
           "stoner metal"
          ],
          [
           "stoner rock"
          ],
          [
           "straight edge"
          ],
          [
           "straight-ahead jazz"
          ],
          [
           "street band"
          ],
          [
           "street punk"
          ],
          [
           "streichquartett"
          ],
          [
           "stride"
          ],
          [
           "string band"
          ],
          [
           "string folk"
          ],
          [
           "string orchestra"
          ],
          [
           "string quartet"
          ],
          [
           "strut"
          ],
          [
           "substep"
          ],
          [
           "sudanese pop"
          ],
          [
           "sufi"
          ],
          [
           "sufi chant"
          ],
          [
           "sunshine pop"
          ],
          [
           "supergroup"
          ],
          [
           "surf music"
          ],
          [
           "surf punk"
          ],
          [
           "svensk progg"
          ],
          [
           "swamp blues"
          ],
          [
           "swamp pop"
          ],
          [
           "swamp rock"
          ],
          [
           "swancore"
          ],
          [
           "swedish alternative rock"
          ],
          [
           "swedish americana"
          ],
          [
           "swedish black metal"
          ],
          [
           "swedish choir"
          ],
          [
           "swedish country"
          ],
          [
           "swedish dancehall"
          ],
          [
           "swedish death metal"
          ],
          [
           "swedish doom metal"
          ],
          [
           "swedish electronic"
          ],
          [
           "swedish electropop"
          ],
          [
           "swedish eurodance"
          ],
          [
           "swedish garage rock"
          ],
          [
           "swedish hard rock"
          ],
          [
           "swedish hardcore"
          ],
          [
           "swedish heavy metal"
          ],
          [
           "swedish house"
          ],
          [
           "swedish idol pop"
          ],
          [
           "swedish indie folk"
          ],
          [
           "swedish indie pop"
          ],
          [
           "swedish indie rock"
          ],
          [
           "swedish jazz"
          ],
          [
           "swedish jazz orkester"
          ],
          [
           "swedish melodic rock"
          ],
          [
           "swedish metal"
          ],
          [
           "swedish metalcore"
          ],
          [
           "swedish pop"
          ],
          [
           "swedish post-hardcore"
          ],
          [
           "swedish power metal"
          ],
          [
           "swedish prog"
          ],
          [
           "swedish progressive metal"
          ],
          [
           "swedish rock-and-roll"
          ],
          [
           "swedish singer-songwriter"
          ],
          [
           "swedish soul"
          ],
          [
           "swedish stoner rock"
          ],
          [
           "swedish synth"
          ],
          [
           "swedish synthpop"
          ],
          [
           "swedish tropical house"
          ],
          [
           "swedish underground rap"
          ],
          [
           "swing"
          ],
          [
           "swing italiano"
          ],
          [
           "swing revival"
          ],
          [
           "swiss black metal"
          ],
          [
           "swiss classical piano"
          ],
          [
           "swiss country"
          ],
          [
           "swiss metal"
          ],
          [
           "swiss pop"
          ],
          [
           "swiss rock"
          ],
          [
           "swiss worship"
          ],
          [
           "sydney indie"
          ],
          [
           "symphonic black metal"
          ],
          [
           "symphonic metal"
          ],
          [
           "symphonic rock"
          ],
          [
           "synth funk"
          ],
          [
           "synthpop"
          ],
          [
           "synthwave"
          ],
          [
           "syrian pop"
          ],
          [
           "tabla"
          ],
          [
           "tagalog rap"
          ],
          [
           "tagalog worship"
          ],
          [
           "taiwan campus folk"
          ],
          [
           "taiwan classical performance"
          ],
          [
           "taiwan hip hop"
          ],
          [
           "taiwan indie"
          ],
          [
           "taiwan pop"
          ],
          [
           "taiwan singer-songwriter"
          ],
          [
           "tajik pop"
          ],
          [
           "talent show"
          ],
          [
           "tamaulipas indie"
          ],
          [
           "tamaulipas rap"
          ],
          [
           "tamborazo"
          ],
          [
           "tamil hip hop"
          ],
          [
           "tamil pop"
          ],
          [
           "tamil worship"
          ],
          [
           "tampa indie"
          ],
          [
           "tango"
          ],
          [
           "tango cancion"
          ],
          [
           "tape club"
          ],
          [
           "tech house"
          ],
          [
           "technical death metal"
          ],
          [
           "technical deathcore"
          ],
          [
           "technical groove metal"
          ],
          [
           "technical melodic death metal"
          ],
          [
           "technical thrash"
          ],
          [
           "techno"
          ],
          [
           "techno kayo"
          ],
          [
           "tecnobanda"
          ],
          [
           "teen pop"
          ],
          [
           "tejano"
          ],
          [
           "tempe indie"
          ],
          [
           "tennessee hip hop"
          ],
          [
           "tennessee metal"
          ],
          [
           "tex-mex"
          ],
          [
           "texas blues"
          ],
          [
           "texas country"
          ],
          [
           "texas latin rap"
          ],
          [
           "texas pop punk"
          ],
          [
           "texas punk"
          ],
          [
           "thai folk"
          ],
          [
           "thai folk rock"
          ],
          [
           "thai idol"
          ],
          [
           "thai indie rock"
          ],
          [
           "thai pop"
          ],
          [
           "thall"
          ],
          [
           "theme"
          ],
          [
           "theremin"
          ],
          [
           "thrash core"
          ],
          [
           "thrash metal"
          ],
          [
           "timba"
          ],
          [
           "tin pan alley"
          ],
          [
           "tipico"
          ],
          [
           "tolkien metal"
          ],
          [
           "tollywood"
          ],
          [
           "tone"
          ],
          [
           "torch song"
          ],
          [
           "toronto indie"
          ],
          [
           "toronto rap"
          ],
          [
           "trad jazz catala"
          ],
          [
           "traditional bluegrass"
          ],
          [
           "traditional blues"
          ],
          [
           "traditional british folk"
          ],
          [
           "traditional country"
          ],
          [
           "traditional folk"
          ],
          [
           "traditional funk"
          ],
          [
           "traditional rockabilly"
          ],
          [
           "traditional ska"
          ],
          [
           "traditional soul"
          ],
          [
           "trance"
          ],
          [
           "trance mexicano"
          ],
          [
           "trancecore"
          ],
          [
           "transpop"
          ],
          [
           "trap"
          ],
          [
           "trap argentino"
          ],
          [
           "trap chileno"
          ],
          [
           "trap dominicano"
          ],
          [
           "trap latino"
          ],
          [
           "trap mexicano"
          ],
          [
           "trap queen"
          ],
          [
           "trap soul"
          ],
          [
           "trap triste"
          ],
          [
           "trap venezolano"
          ],
          [
           "traprun"
          ],
          [
           "trash rock"
          ],
          [
           "triangle indie"
          ],
          [
           "tribal house"
          ],
          [
           "trinidadian reggae"
          ],
          [
           "trio cubano"
          ],
          [
           "trip hop"
          ],
          [
           "trival"
          ],
          [
           "tropical"
          ],
          [
           "tropical house"
          ],
          [
           "tropicalia"
          ],
          [
           "trova"
          ],
          [
           "trova mexicana"
          ],
          [
           "truck-driving country"
          ],
          [
           "tuareg guitar"
          ],
          [
           "tucson indie"
          ],
          [
           "tulsa indie"
          ],
          [
           "tuna estudiantil"
          ],
          [
           "tunisian pop"
          ],
          [
           "turbo folk"
          ],
          [
           "turkish classical"
          ],
          [
           "turkish classical performance"
          ],
          [
           "turkish edm"
          ],
          [
           "turkish experimental"
          ],
          [
           "turkish folk"
          ],
          [
           "turkish jazz"
          ],
          [
           "turkish modern jazz"
          ],
          [
           "turkish pop"
          ],
          [
           "turkish psych"
          ],
          [
           "turkish trap"
          ],
          [
           "turkish trap pop"
          ],
          [
           "turntablism"
          ],
          [
           "twee pop"
          ],
          [
           "twoubadou"
          ],
          [
           "tzadik"
          ],
          [
           "ugandan pop"
          ],
          [
           "uilleann pipes"
          ],
          [
           "uk alternative hip hop"
          ],
          [
           "uk alternative pop"
          ],
          [
           "uk americana"
          ],
          [
           "uk contemporary jazz"
          ],
          [
           "uk contemporary r&b"
          ],
          [
           "uk dance"
          ],
          [
           "uk dancehall"
          ],
          [
           "uk diy punk"
          ],
          [
           "uk dnb"
          ],
          [
           "uk doom metal"
          ],
          [
           "uk dub"
          ],
          [
           "uk experimental electronic"
          ],
          [
           "uk funky"
          ],
          [
           "uk garage"
          ],
          [
           "uk hip hop"
          ],
          [
           "uk house"
          ],
          [
           "uk metalcore"
          ],
          [
           "uk noise rock"
          ],
          [
           "uk pop"
          ],
          [
           "uk pop punk"
          ],
          [
           "uk post-hardcore"
          ],
          [
           "uk post-punk"
          ],
          [
           "uk reggae"
          ],
          [
           "uk rockabilly"
          ],
          [
           "uk stoner rock"
          ],
          [
           "uk worship"
          ],
          [
           "uk82"
          ],
          [
           "ukrainian choir"
          ],
          [
           "ukrainian classical"
          ],
          [
           "ukrainian classical piano"
          ],
          [
           "ukrainian electronic"
          ],
          [
           "ukrainian pop"
          ],
          [
           "ukulele"
          ],
          [
           "umbanda"
          ],
          [
           "underground hip hop"
          ],
          [
           "underground power pop"
          ],
          [
           "underground rap"
          ],
          [
           "university choir"
          ],
          [
           "uplifting trance"
          ],
          [
           "uptempo hardcore"
          ],
          [
           "urban contemporary"
          ],
          [
           "urbano espanol"
          ],
          [
           "us power metal"
          ],
          [
           "utah indie"
          ],
          [
           "uzbek pop"
          ],
          [
           "uzbek traditional"
          ],
          [
           "v-pop"
          ],
          [
           "vallenato"
          ],
          [
           "vallenato moderno"
          ],
          [
           "vancouver indie"
          ],
          [
           "vancouver metal"
          ],
          [
           "vancouver punk"
          ],
          [
           "vapor pop"
          ],
          [
           "vapor soul"
          ],
          [
           "vapor trap"
          ],
          [
           "vapor twitch"
          ],
          [
           "vaporwave"
          ],
          [
           "variete francaise"
          ],
          [
           "vaudeville"
          ],
          [
           "vbs"
          ],
          [
           "veena"
          ],
          [
           "vegan straight edge"
          ],
          [
           "vegas indie"
          ],
          [
           "velha guarda"
          ],
          [
           "venezuelan hip hop"
          ],
          [
           "venezuelan indie"
          ],
          [
           "venezuelan rock"
          ],
          [
           "veracruz indie"
          ],
          [
           "vermont indie"
          ],
          [
           "vgm instrumental"
          ],
          [
           "vgm remix"
          ],
          [
           "victoria bc indie"
          ],
          [
           "victorian britain"
          ],
          [
           "video game music"
          ],
          [
           "vienna indie"
          ],
          [
           "vietnamese bolero"
          ],
          [
           "vietnamese pop"
          ],
          [
           "viking black metal"
          ],
          [
           "viking folk"
          ],
          [
           "viking metal"
          ],
          [
           "villancicos"
          ],
          [
           "vintage chanson"
          ],
          [
           "vintage chinese pop"
          ],
          [
           "vintage classical singing"
          ],
          [
           "vintage country folk"
          ],
          [
           "vintage dutch pop"
          ],
          [
           "vintage french electronic"
          ],
          [
           "vintage gospel"
          ],
          [
           "vintage hollywood"
          ],
          [
           "vintage italian pop"
          ],
          [
           "vintage italian soundtrack"
          ],
          [
           "vintage jazz"
          ],
          [
           "vintage old-time"
          ],
          [
           "vintage rockabilly"
          ],
          [
           "vintage schlager"
          ],
          [
           "vintage spanish pop"
          ],
          [
           "vintage swedish pop"
          ],
          [
           "vintage swing"
          ],
          [
           "vintage tango"
          ],
          [
           "viola"
          ],
          [
           "violao"
          ],
          [
           "violao classico"
          ],
          [
           "violin"
          ],
          [
           "viral pop"
          ],
          [
           "viral rap"
          ],
          [
           "viral trap"
          ],
          [
           "virgin islands reggae"
          ],
          [
           "virginia hip hop"
          ],
          [
           "virginia metal"
          ],
          [
           "virginia punk"
          ],
          [
           "visor"
          ],
          [
           "visual kei"
          ],
          [
           "vocal ensemble"
          ],
          [
           "vocal harmony group"
          ],
          [
           "vocal house"
          ],
          [
           "vocal jazz"
          ],
          [
           "vocal trance"
          ],
          [
           "vocaloid"
          ],
          [
           "vogue"
          ],
          [
           "volksmusik"
          ],
          [
           "warm drone"
          ],
          [
           "washboard"
          ],
          [
           "washington indie"
          ],
          [
           "wassoulou"
          ],
          [
           "water"
          ],
          [
           "wave"
          ],
          [
           "welsh folk"
          ],
          [
           "welsh indie"
          ],
          [
           "welsh metal"
          ],
          [
           "welsh rock"
          ],
          [
           "west african jazz"
          ],
          [
           "west australian hip hop"
          ],
          [
           "west coast rap"
          ],
          [
           "west coast reggae"
          ],
          [
           "west coast trap"
          ],
          [
           "west end"
          ],
          [
           "west virginia indie"
          ],
          [
           "western americana"
          ],
          [
           "western mass indie"
          ],
          [
           "western saharan folk"
          ],
          [
           "western swing"
          ],
          [
           "white noise"
          ],
          [
           "wind ensemble"
          ],
          [
           "wind quintet"
          ],
          [
           "wisconsin indie"
          ],
          [
           "witch house"
          ],
          [
           "women's choir"
          ],
          [
           "women's music"
          ],
          [
           "wonky"
          ],
          [
           "worcester ma indie"
          ],
          [
           "world"
          ],
          [
           "world fusion"
          ],
          [
           "world meditation"
          ],
          [
           "world worship"
          ],
          [
           "worship"
          ],
          [
           "wrestling"
          ],
          [
           "wu fam"
          ],
          [
           "wyoming indie"
          ],
          [
           "wyoming roots"
          ],
          [
           "xhosa"
          ],
          [
           "xtra raw"
          ],
          [
           "yacht rock"
          ],
          [
           "ye ye"
          ],
          [
           "yiddish folk"
          ],
          [
           "yodeling"
          ],
          [
           "yoga"
          ],
          [
           "yoik"
          ],
          [
           "york indie"
          ],
          [
           "yorkshire folk"
          ],
          [
           "yugoslav new wave"
          ],
          [
           "yugoslav rock"
          ],
          [
           "zambian pop"
          ],
          [
           "zeuhl"
          ],
          [
           "zhongguo feng"
          ],
          [
           "zimdancehall"
          ],
          [
           "zolo"
          ],
          [
           "zouglou"
          ],
          [
           "zouk"
          ],
          [
           "zurich indie"
          ],
          [
           "zydeco"
          ]
         ],
         "hovertemplate": "x=%{x}<br>y=%{y}<br>genres=%{customdata[0]}<br>cluster_pca=%{marker.color}<extra></extra>",
         "legendgroup": "",
         "marker": {
          "color": [
           3,
           3,
           1,
           2,
           2,
           0,
           0,
           1,
           2,
           2,
           4,
           0,
           4,
           3,
           2,
           0,
           1,
           0,
           4,
           0,
           2,
           2,
           1,
           2,
           0,
           1,
           1,
           3,
           1,
           1,
           1,
           1,
           1,
           0,
           0,
           4,
           0,
           1,
           4,
           0,
           4,
           1,
           1,
           1,
           0,
           1,
           1,
           0,
           1,
           4,
           1,
           0,
           0,
           4,
           4,
           1,
           4,
           4,
           1,
           1,
           4,
           0,
           1,
           3,
           4,
           0,
           4,
           0,
           1,
           3,
           1,
           0,
           3,
           3,
           3,
           3,
           3,
           2,
           4,
           3,
           0,
           3,
           0,
           3,
           3,
           0,
           2,
           4,
           3,
           1,
           4,
           4,
           4,
           0,
           0,
           4,
           4,
           0,
           2,
           1,
           2,
           3,
           0,
           0,
           0,
           0,
           3,
           0,
           1,
           4,
           1,
           0,
           1,
           1,
           1,
           1,
           1,
           4,
           2,
           4,
           0,
           3,
           0,
           1,
           0,
           3,
           1,
           0,
           1,
           3,
           0,
           1,
           1,
           1,
           4,
           1,
           3,
           4,
           1,
           4,
           1,
           4,
           4,
           2,
           4,
           1,
           0,
           1,
           0,
           1,
           3,
           1,
           3,
           3,
           3,
           1,
           4,
           4,
           1,
           1,
           4,
           4,
           0,
           4,
           1,
           4,
           4,
           1,
           1,
           0,
           4,
           0,
           0,
           1,
           1,
           4,
           1,
           1,
           1,
           3,
           3,
           3,
           0,
           3,
           1,
           2,
           4,
           3,
           3,
           4,
           1,
           2,
           1,
           1,
           1,
           1,
           3,
           3,
           2,
           0,
           2,
           1,
           2,
           2,
           2,
           4,
           0,
           3,
           3,
           2,
           3,
           1,
           4,
           1,
           1,
           1,
           2,
           2,
           2,
           2,
           2,
           3,
           1,
           2,
           2,
           2,
           3,
           3,
           3,
           3,
           0,
           3,
           3,
           2,
           1,
           0,
           4,
           1,
           1,
           4,
           1,
           1,
           1,
           1,
           4,
           1,
           1,
           2,
           0,
           2,
           1,
           1,
           2,
           0,
           1,
           4,
           4,
           4,
           3,
           3,
           4,
           4,
           1,
           0,
           4,
           2,
           4,
           1,
           0,
           0,
           0,
           0,
           2,
           1,
           1,
           0,
           3,
           2,
           1,
           3,
           2,
           4,
           4,
           3,
           3,
           1,
           1,
           4,
           4,
           4,
           1,
           4,
           4,
           4,
           4,
           0,
           4,
           2,
           2,
           2,
           2,
           4,
           4,
           0,
           4,
           2,
           2,
           1,
           1,
           2,
           1,
           1,
           2,
           2,
           2,
           1,
           1,
           1,
           4,
           4,
           1,
           1,
           4,
           2,
           0,
           1,
           1,
           3,
           3,
           0,
           0,
           3,
           3,
           1,
           3,
           3,
           3,
           1,
           4,
           1,
           2,
           2,
           4,
           2,
           2,
           1,
           1,
           1,
           4,
           1,
           4,
           4,
           1,
           2,
           3,
           0,
           2,
           4,
           0,
           4,
           1,
           4,
           4,
           0,
           1,
           3,
           3,
           1,
           3,
           2,
           4,
           0,
           2,
           4,
           4,
           0,
           1,
           0,
           3,
           3,
           0,
           4,
           0,
           1,
           3,
           4,
           2,
           0,
           1,
           1,
           1,
           4,
           4,
           1,
           4,
           0,
           1,
           1,
           1,
           1,
           4,
           3,
           2,
           2,
           0,
           0,
           2,
           1,
           1,
           1,
           3,
           2,
           1,
           3,
           0,
           1,
           2,
           1,
           4,
           1,
           2,
           3,
           3,
           3,
           2,
           1,
           0,
           0,
           4,
           1,
           3,
           2,
           4,
           1,
           4,
           0,
           2,
           0,
           1,
           1,
           4,
           4,
           0,
           1,
           4,
           4,
           3,
           0,
           4,
           4,
           1,
           0,
           3,
           0,
           4,
           0,
           2,
           0,
           2,
           0,
           0,
           2,
           2,
           4,
           2,
           2,
           1,
           2,
           2,
           2,
           1,
           3,
           3,
           3,
           4,
           4,
           3,
           2,
           3,
           4,
           1,
           1,
           2,
           3,
           2,
           3,
           3,
           0,
           3,
           0,
           0,
           4,
           1,
           0,
           2,
           1,
           4,
           2,
           1,
           1,
           4,
           2,
           2,
           1,
           4,
           1,
           4,
           4,
           4,
           1,
           2,
           4,
           1,
           1,
           1,
           2,
           2,
           1,
           2,
           1,
           0,
           0,
           1,
           4,
           3,
           2,
           0,
           2,
           1,
           2,
           4,
           0,
           2,
           3,
           3,
           3,
           4,
           0,
           1,
           0,
           4,
           3,
           2,
           0,
           3,
           3,
           0,
           1,
           3,
           2,
           0,
           2,
           0,
           4,
           1,
           4,
           1,
           1,
           0,
           4,
           4,
           0,
           4,
           4,
           1,
           3,
           4,
           1,
           0,
           3,
           0,
           1,
           1,
           1,
           4,
           4,
           0,
           1,
           2,
           2,
           1,
           1,
           2,
           1,
           0,
           2,
           2,
           2,
           2,
           4,
           2,
           1,
           1,
           1,
           1,
           2,
           4,
           0,
           4,
           2,
           0,
           2,
           2,
           4,
           2,
           2,
           2,
           0,
           1,
           0,
           2,
           0,
           1,
           2,
           0,
           0,
           1,
           0,
           2,
           4,
           2,
           1,
           3,
           1,
           1,
           1,
           2,
           1,
           1,
           3,
           0,
           3,
           3,
           3,
           3,
           3,
           3,
           3,
           3,
           3,
           3,
           3,
           2,
           3,
           3,
           3,
           3,
           3,
           3,
           3,
           0,
           3,
           3,
           3,
           2,
           2,
           1,
           4,
           1,
           1,
           1,
           1,
           1,
           1,
           1,
           1,
           1,
           2,
           1,
           4,
           2,
           4,
           3,
           1,
           3,
           4,
           4,
           1,
           3,
           3,
           3,
           1,
           2,
           0,
           3,
           2,
           2,
           3,
           2,
           2,
           2,
           4,
           1,
           1,
           1,
           4,
           2,
           0,
           1,
           2,
           2,
           1,
           2,
           1,
           1,
           1,
           0,
           2,
           2,
           1,
           1,
           0,
           1,
           1,
           4,
           1,
           4,
           1,
           1,
           1,
           2,
           1,
           1,
           1,
           1,
           1,
           1,
           1,
           1,
           1,
           2,
           1,
           2,
           1,
           1,
           1,
           1,
           4,
           4,
           2,
           3,
           3,
           2,
           4,
           2,
           4,
           1,
           1,
           1,
           4,
           1,
           4,
           4,
           3,
           4,
           3,
           1,
           3,
           4,
           1,
           0,
           4,
           1,
           4,
           4,
           2,
           1,
           2,
           1,
           1,
           0,
           1,
           4,
           3,
           0,
           4,
           0,
           1,
           0,
           4,
           4,
           4,
           0,
           4,
           4,
           4,
           1,
           4,
           4,
           4,
           4,
           1,
           2,
           4,
           4,
           0,
           1,
           2,
           1,
           4,
           2,
           1,
           1,
           4,
           1,
           1,
           1,
           2,
           1,
           4,
           1,
           1,
           4,
           1,
           1,
           3,
           2,
           4,
           2,
           2,
           4,
           0,
           2,
           0,
           1,
           1,
           3,
           4,
           0,
           4,
           1,
           4,
           1,
           1,
           0,
           1,
           0,
           3,
           2,
           1,
           0,
           1,
           0,
           0,
           1,
           1,
           4,
           2,
           1,
           1,
           1,
           1,
           0,
           1,
           0,
           1,
           1,
           4,
           1,
           0,
           0,
           1,
           0,
           2,
           0,
           1,
           2,
           4,
           3,
           1,
           1,
           1,
           1,
           2,
           1,
           2,
           4,
           4,
           1,
           1,
           1,
           2,
           4,
           4,
           0,
           2,
           0,
           4,
           4,
           4,
           3,
           1,
           0,
           3,
           3,
           0,
           4,
           1,
           4,
           1,
           3,
           4,
           0,
           3,
           1,
           2,
           2,
           4,
           1,
           0,
           4,
           2,
           3,
           4,
           4,
           4,
           2,
           1,
           4,
           2,
           3,
           4,
           1,
           4,
           1,
           2,
           4,
           0,
           2,
           2,
           3,
           3,
           3,
           3,
           2,
           3,
           1,
           4,
           1,
           1,
           0,
           2,
           1,
           0,
           4,
           3,
           0,
           1,
           4,
           1,
           1,
           2,
           4,
           4,
           2,
           0,
           1,
           4,
           0,
           1,
           1,
           4,
           0,
           4,
           1,
           4,
           4,
           4,
           0,
           1,
           1,
           1,
           4,
           4,
           4,
           1,
           4,
           3,
           4,
           3,
           0,
           2,
           3,
           4,
           0,
           2,
           1,
           3,
           4,
           2,
           1,
           0,
           0,
           0,
           3,
           2,
           0,
           1,
           4,
           4,
           1,
           1,
           1,
           1,
           2,
           0,
           3,
           3,
           1,
           1,
           3,
           0,
           1,
           0,
           0,
           0,
           0,
           2,
           2,
           0,
           2,
           4,
           1,
           2,
           1,
           4,
           0,
           3,
           4,
           3,
           3,
           4,
           4,
           4,
           4,
           4,
           4,
           1,
           2,
           0,
           3,
           1,
           0,
           4,
           1,
           0,
           0,
           3,
           1,
           0,
           1,
           1,
           2,
           2,
           2,
           2,
           0,
           2,
           4,
           1,
           0,
           2,
           0,
           2,
           1,
           2,
           2,
           1,
           1,
           1,
           2,
           0,
           1,
           1,
           1,
           4,
           3,
           1,
           0,
           1,
           0,
           3,
           3,
           1,
           3,
           3,
           2,
           4,
           4,
           1,
           0,
           0,
           4,
           2,
           4,
           2,
           3,
           3,
           0,
           1,
           4,
           1,
           1,
           3,
           4,
           2,
           1,
           4,
           4,
           4,
           1,
           4,
           1,
           2,
           1,
           1,
           4,
           4,
           2,
           1,
           1,
           1,
           1,
           0,
           4,
           1,
           0,
           1,
           4,
           1,
           1,
           4,
           0,
           4,
           4,
           1,
           2,
           3,
           4,
           4,
           1,
           1,
           4,
           0,
           4,
           0,
           4,
           1,
           4,
           0,
           0,
           1,
           0,
           4,
           3,
           3,
           3,
           0,
           1,
           4,
           4,
           1,
           1,
           3,
           2,
           4,
           4,
           3,
           3,
           1,
           1,
           1,
           4,
           1,
           3,
           4,
           3,
           3,
           3,
           4,
           4,
           4,
           1,
           1,
           2,
           2,
           4,
           1,
           4,
           4,
           0,
           1,
           0,
           4,
           0,
           1,
           1,
           4,
           0,
           2,
           2,
           2,
           0,
           1,
           2,
           1,
           4,
           0,
           4,
           1,
           1,
           4,
           4,
           0,
           4,
           4,
           1,
           1,
           4,
           2,
           3,
           2,
           2,
           4,
           3,
           2,
           2,
           3,
           1,
           0,
           0,
           4,
           1,
           4,
           4,
           1,
           1,
           1,
           1,
           4,
           4,
           2,
           0,
           2,
           3,
           2,
           2,
           2,
           3,
           4,
           2,
           2,
           1,
           2,
           1,
           1,
           1,
           3,
           0,
           4,
           3,
           4,
           4,
           2,
           0,
           4,
           1,
           4,
           1,
           4,
           4,
           4,
           1,
           2,
           2,
           2,
           3,
           3,
           3,
           3,
           2,
           1,
           1,
           3,
           1,
           1,
           1,
           0,
           1,
           3,
           3,
           2,
           1,
           1,
           1,
           1,
           1,
           3,
           3,
           3,
           3,
           3,
           3,
           3,
           2,
           0,
           0,
           1,
           2,
           2,
           2,
           2,
           1,
           4,
           0,
           1,
           4,
           1,
           1,
           1,
           2,
           1,
           3,
           3,
           3,
           3,
           0,
           2,
           2,
           2,
           0,
           0,
           1,
           1,
           3,
           0,
           3,
           0,
           2,
           0,
           0,
           0,
           0,
           0,
           4,
           2,
           2,
           3,
           2,
           1,
           1,
           3,
           1,
           2,
           2,
           1,
           0,
           0,
           2,
           0,
           0,
           1,
           0,
           0,
           0,
           1,
           0,
           0,
           1,
           1,
           0,
           4,
           0,
           1,
           0,
           4,
           1,
           4,
           0,
           1,
           4,
           2,
           0,
           4,
           1,
           4,
           0,
           1,
           3,
           0,
           2,
           1,
           4,
           4,
           0,
           2,
           2,
           0,
           1,
           4,
           0,
           4,
           4,
           0,
           4,
           1,
           0,
           1,
           1,
           2,
           2,
           3,
           0,
           0,
           2,
           2,
           1,
           3,
           4,
           0,
           2,
           0,
           2,
           1,
           2,
           2,
           3,
           3,
           3,
           1,
           4,
           1,
           2,
           2,
           1,
           0,
           3,
           3,
           3,
           3,
           4,
           3,
           3,
           0,
           1,
           4,
           4,
           1,
           3,
           0,
           3,
           4,
           3,
           4,
           3,
           3,
           2,
           4,
           0,
           0,
           3,
           3,
           3,
           3,
           0,
           2,
           2,
           1,
           1,
           4,
           3,
           0,
           4,
           1,
           4,
           4,
           4,
           1,
           4,
           4,
           1,
           4,
           4,
           0,
           0,
           1,
           1,
           4,
           2,
           1,
           3,
           3,
           3,
           3,
           0,
           3,
           1,
           4,
           0,
           1,
           1,
           4,
           4,
           3,
           2,
           4,
           0,
           2,
           0,
           4,
           4,
           0,
           4,
           4,
           4,
           4,
           0,
           4,
           4,
           1,
           1,
           4,
           0,
           3,
           0,
           0,
           1,
           2,
           2,
           2,
           1,
           2,
           2,
           2,
           2,
           2,
           3,
           2,
           2,
           0,
           0,
           2,
           2,
           4,
           3,
           2,
           0,
           2,
           2,
           2,
           1,
           0,
           2,
           3,
           2,
           2,
           2,
           2,
           2,
           2,
           0,
           3,
           1,
           0,
           1,
           1,
           0,
           2,
           1,
           2,
           4,
           1,
           1,
           1,
           1,
           1,
           2,
           2,
           1,
           2,
           1,
           2,
           4,
           4,
           0,
           0,
           0,
           1,
           0,
           1,
           2,
           1,
           1,
           2,
           0,
           1,
           1,
           2,
           1,
           3,
           0,
           0,
           2,
           2,
           1,
           3,
           3,
           3,
           2,
           2,
           3,
           3,
           4,
           1,
           1,
           1,
           1,
           3,
           3,
           2,
           1,
           4,
           3,
           1,
           2,
           0,
           0,
           3,
           1,
           1,
           1,
           3,
           1,
           0,
           2,
           1,
           1,
           1,
           1,
           4,
           1,
           1,
           1,
           2,
           1,
           1,
           1,
           0,
           1,
           1,
           1,
           1,
           2,
           3,
           0,
           2,
           4,
           1,
           1,
           2,
           0,
           3,
           0,
           4,
           0,
           0,
           4,
           2,
           1,
           0,
           2,
           1,
           2,
           0,
           0,
           2,
           0,
           0,
           1,
           2,
           4,
           4,
           0,
           2,
           0,
           1,
           3,
           0,
           2,
           0,
           4,
           3,
           2,
           1,
           0,
           0,
           1,
           0,
           4,
           0,
           3,
           4,
           2,
           1,
           4,
           0,
           0,
           0,
           1,
           2,
           0,
           2,
           1,
           2,
           2,
           2,
           1,
           1,
           0,
           1,
           0,
           4,
           0,
           3,
           0,
           4,
           3,
           0,
           1,
           1,
           4,
           0,
           4,
           4,
           4,
           4,
           4,
           4,
           4,
           4,
           4,
           1,
           4,
           1,
           0,
           2,
           1,
           4,
           2,
           2,
           1,
           1,
           1,
           0,
           4,
           4,
           4,
           4,
           4,
           1,
           3,
           1,
           4,
           1,
           4,
           1,
           2,
           1,
           1,
           1,
           1,
           1,
           4,
           1,
           0,
           3,
           3,
           0,
           0,
           0,
           4,
           2,
           1,
           0,
           3,
           0,
           0,
           1,
           0,
           4,
           3,
           1,
           4,
           4,
           1,
           1,
           1,
           0,
           3,
           4,
           1,
           4,
           0,
           0,
           4,
           1,
           1,
           4,
           1,
           0,
           1,
           1,
           3,
           3,
           1,
           3,
           4,
           1,
           1,
           4,
           1,
           1,
           1,
           3,
           4,
           4,
           3,
           1,
           2,
           2,
           2,
           0,
           1,
           3,
           4,
           2,
           2,
           1,
           2,
           2,
           0,
           2,
           2,
           1,
           1,
           0,
           1,
           3,
           4,
           1,
           1,
           0,
           1,
           0,
           3,
           2,
           1,
           2,
           2,
           1,
           2,
           2,
           1,
           2,
           2,
           2,
           1,
           0,
           1,
           1,
           2,
           2,
           2,
           1,
           0,
           2,
           4,
           4,
           1,
           3,
           0,
           2,
           2,
           4,
           4,
           1,
           0,
           1,
           4,
           0,
           2,
           3,
           1,
           3,
           1,
           3,
           2,
           4,
           1,
           4,
           2,
           0,
           1,
           1,
           3,
           0,
           2,
           0,
           4,
           1,
           0,
           4,
           4,
           0,
           0,
           0,
           3,
           0,
           1,
           1,
           2,
           2,
           0,
           4,
           4,
           1,
           4,
           3,
           3,
           0,
           1,
           1,
           2,
           4,
           1,
           3,
           1,
           4,
           0,
           4,
           1,
           2,
           2,
           1,
           1,
           2,
           1,
           4,
           1,
           0,
           1,
           4,
           1,
           0,
           4,
           1,
           3,
           4,
           4,
           1,
           1,
           4,
           4,
           0,
           4,
           2,
           1,
           0,
           4,
           4,
           4,
           3,
           3,
           0,
           1,
           3,
           0,
           3,
           2,
           4,
           1,
           1,
           4,
           1,
           0,
           4,
           0,
           4,
           4,
           4,
           1,
           4,
           3,
           3,
           3,
           4,
           3,
           1,
           1,
           3,
           4,
           4,
           4,
           4,
           4,
           0,
           0,
           0,
           1,
           0,
           2,
           1,
           1,
           3,
           1,
           4,
           0,
           4,
           4,
           1,
           4,
           2,
           2,
           2,
           1,
           0,
           2,
           1,
           2,
           2,
           4,
           4,
           1,
           1,
           1,
           4,
           3,
           0,
           4,
           0,
           1,
           4,
           4,
           0,
           1,
           1,
           4,
           1,
           3,
           1,
           0,
           4,
           1,
           0,
           1,
           2,
           1,
           1,
           1,
           4,
           1,
           0,
           2,
           3,
           0,
           4,
           1,
           1,
           3,
           3,
           4,
           3,
           3,
           0,
           0,
           3,
           3,
           4,
           3,
           4,
           0,
           4,
           3,
           3,
           2,
           2,
           3,
           1,
           4,
           1,
           1,
           1,
           2,
           1,
           1,
           2,
           3,
           3,
           4,
           1,
           4,
           1,
           1,
           4,
           2,
           1,
           2,
           0,
           0,
           1,
           1,
           3,
           0,
           1,
           1,
           1,
           2,
           0,
           1,
           2,
           2,
           4,
           1,
           1,
           2,
           4,
           1,
           1,
           1,
           1,
           1,
           2,
           3,
           0,
           0,
           3,
           2,
           1,
           4,
           4,
           0,
           2,
           0,
           0,
           0,
           1,
           1,
           1,
           1,
           1,
           4,
           4,
           2,
           3,
           1,
           3,
           3,
           3,
           3,
           3,
           2,
           4,
           2,
           1,
           1,
           2,
           1,
           1,
           3,
           1,
           1,
           1,
           0,
           1,
           4,
           1,
           4,
           1,
           0,
           1,
           1,
           0,
           1,
           4,
           0,
           1,
           1,
           1,
           1,
           4,
           0,
           1,
           1,
           0,
           1,
           1,
           3,
           4,
           2,
           1,
           0,
           0,
           4,
           0,
           3,
           1,
           1,
           4,
           4,
           4,
           0,
           3,
           4,
           0,
           0,
           3,
           3,
           4,
           1,
           4,
           1,
           4,
           4,
           0,
           3,
           1,
           0,
           0,
           0,
           4,
           4,
           4,
           4,
           4,
           4,
           4,
           4,
           4,
           4,
           0,
           4,
           4,
           0,
           4,
           2,
           4,
           1,
           2,
           0,
           4,
           0,
           4,
           2,
           0,
           1,
           0,
           4,
           0,
           0,
           4,
           4,
           4,
           1,
           2,
           0,
           1,
           2,
           1,
           1,
           4,
           4,
           4,
           1,
           4,
           1,
           1,
           0,
           3,
           3,
           4,
           0,
           1,
           1,
           1,
           1,
           2,
           1,
           1,
           2,
           3,
           2,
           0,
           2,
           1,
           1,
           1,
           1,
           0,
           1,
           1,
           1,
           4,
           1,
           3,
           4,
           1,
           0,
           4,
           4,
           2,
           0,
           1,
           2,
           2,
           1,
           1,
           1,
           1,
           1,
           1,
           1,
           1,
           4,
           1,
           1,
           1,
           2,
           3,
           1,
           4,
           1,
           0,
           1,
           2,
           1,
           0,
           4,
           1,
           4,
           1,
           4,
           1,
           1,
           1,
           1,
           0,
           4,
           4,
           0,
           1,
           4,
           4,
           1,
           0,
           0,
           1,
           2,
           0,
           1,
           4,
           1,
           1,
           1,
           2,
           3,
           1,
           3,
           1,
           2,
           2,
           0,
           1,
           0,
           0,
           2,
           0,
           0,
           0,
           4,
           4,
           2,
           3,
           3,
           4,
           4,
           2,
           2,
           2,
           4,
           4,
           3,
           3,
           1,
           4,
           2,
           0,
           3,
           0,
           4,
           1,
           3,
           2,
           1,
           4,
           1,
           1,
           1,
           1,
           1,
           1,
           1,
           1,
           1,
           1,
           2,
           2,
           1,
           1,
           2,
           1,
           1,
           4,
           1,
           0,
           2,
           3,
           2,
           1,
           1,
           1,
           0,
           3,
           1,
           3,
           0,
           1,
           0,
           2,
           1,
           1,
           1,
           1,
           1,
           1,
           4,
           1,
           0,
           1,
           1,
           2,
           3,
           1,
           2,
           2,
           1,
           0,
           1,
           1,
           2,
           3,
           3,
           2,
           4,
           0,
           4,
           0,
           0,
           0,
           0,
           4,
           3,
           1,
           0,
           0,
           4,
           0,
           3,
           3,
           1,
           1,
           1,
           1,
           1,
           1,
           1,
           4,
           2,
           2,
           4,
           2,
           4,
           4,
           4,
           4,
           0,
           4,
           3,
           0,
           1,
           4,
           1,
           0,
           4,
           0,
           0,
           0,
           1,
           1,
           4,
           1,
           2,
           0,
           1,
           2,
           2,
           1,
           1,
           1,
           2,
           1,
           2,
           1,
           2,
           2,
           3,
           3,
           3,
           1,
           3,
           1,
           2,
           1,
           1,
           1,
           2,
           1,
           1,
           4,
           1,
           0,
           4,
           4,
           0,
           1,
           0,
           1,
           4,
           1,
           1,
           1,
           1,
           4,
           3,
           2,
           3,
           0,
           3,
           3,
           3,
           4,
           1,
           0,
           1,
           4,
           0,
           1,
           0,
           1,
           1,
           3,
           1,
           1,
           0,
           1,
           4,
           2,
           1,
           0,
           2,
           0,
           2,
           1,
           1,
           2,
           2,
           1,
           2,
           0,
           2,
           1,
           4,
           4,
           4,
           3,
           1,
           4,
           3,
           2,
           2,
           3,
           3,
           3,
           1,
           0,
           0,
           2,
           2,
           0,
           0,
           0,
           4,
           4,
           1,
           1,
           1,
           4,
           4,
           0,
           4,
           3,
           1,
           1,
           4,
           4,
           0,
           4,
           4,
           4,
           4,
           4,
           0,
           0,
           4,
           0,
           4,
           4,
           3,
           2,
           0,
           4,
           4,
           1,
           4,
           4,
           4,
           4,
           1,
           0,
           0,
           0,
           0,
           0,
           4,
           1,
           2,
           2,
           1,
           4,
           3,
           3,
           4,
           1,
           0,
           3,
           2,
           4,
           4,
           0,
           1,
           1,
           4,
           2,
           2,
           1,
           0,
           2,
           3,
           2,
           0,
           0,
           0,
           2,
           1,
           1,
           1,
           1,
           2,
           2,
           2,
           4,
           2,
           2,
           0,
           0,
           4,
           0,
           4,
           4,
           4,
           0,
           0,
           1,
           1,
           1,
           1,
           1,
           4,
           1,
           1,
           1,
           1,
           1,
           1,
           1,
           1,
           0,
           2,
           1,
           4,
           2,
           3,
           4,
           4,
           1,
           2,
           1,
           0,
           2,
           3,
           2,
           0,
           1,
           2,
           2,
           2,
           0,
           2,
           2,
           0,
           1,
           1,
           1,
           4,
           4,
           4,
           1,
           1,
           1,
           4,
           0,
           1,
           1,
           1,
           1,
           1,
           1,
           4,
           4,
           4,
           1,
           2,
           2,
           0,
           1,
           1,
           1,
           1,
           2,
           2,
           2,
           0,
           1,
           1,
           1,
           1,
           1,
           2,
           3,
           4,
           4,
           2,
           2,
           2,
           0,
           2,
           4,
           0,
           1,
           0,
           2,
           3,
           0,
           2,
           1,
           1,
           0,
           0,
           1,
           1,
           1,
           4,
           4,
           4,
           1,
           0,
           1,
           1,
           1,
           1,
           4,
           1,
           1,
           1,
           4,
           0,
           1,
           4,
           4,
           0,
           4,
           3,
           3,
           3,
           0,
           1,
           2,
           2,
           1,
           1,
           1,
           3,
           4,
           4,
           1,
           1,
           4,
           0,
           2,
           2,
           1,
           1,
           1,
           0,
           4,
           4,
           0,
           0,
           1,
           0,
           4,
           0,
           2,
           1,
           2,
           4,
           4,
           2,
           1,
           1,
           1,
           1,
           0,
           3,
           4,
           1,
           3,
           0,
           0,
           1,
           1,
           4,
           0,
           4,
           2,
           2,
           2,
           3,
           2,
           2,
           0,
           2,
           2,
           2,
           3,
           2,
           2,
           1,
           2,
           2,
           2,
           2,
           2,
           3,
           2,
           2,
           3,
           1,
           1,
           1,
           1,
           1,
           4,
           4,
           2,
           4,
           3,
           2,
           1,
           2,
           4,
           4,
           1,
           2,
           3,
           2,
           1,
           2,
           3,
           1,
           3,
           4,
           4,
           4,
           0,
           1,
           1,
           1,
           1,
           2,
           1,
           0,
           1,
           0,
           2,
           3,
           3,
           3,
           0,
           0,
           4,
           0,
           0,
           1,
           0,
           0,
           3,
           0,
           0,
           4,
           1,
           4,
           0,
           2,
           4,
           1,
           2,
           3,
           2,
           3,
           3,
           2,
           0,
           1,
           1,
           1,
           4,
           1,
           1,
           0,
           1,
           1,
           2,
           1
          ],
          "coloraxis": "coloraxis",
          "symbol": "circle"
         },
         "mode": "markers",
         "name": "",
         "showlegend": false,
         "type": "scattergl",
         "x": [
          5.910268108221788,
          2.7870931528085947,
          -0.7575375383744641,
          1.0205214866168153,
          0.753910514279141,
          1.797106265241941,
          -0.46204960544893636,
          -1.311672259563726,
          0.5984179553898568,
          0.5982012013950382,
          -1.1656525385277143,
          -0.07118124655695955,
          -2.1717115858284,
          3.6732966630297668,
          0.8327855889826022,
          0.0014059392111346993,
          -0.9273057420077748,
          0.679620374513936,
          -1.4878005371777179,
          -0.2501697630725658,
          0.9541894103960757,
          0.8894938464845339,
          -0.9349244756981557,
          2.4352422167029104,
          -0.5794096848078697,
          -1.687270487008668,
          -1.0665290759030293,
          3.743308758581931,
          -2.1543016574456946,
          -1.080850305552252,
          -0.9549632645218921,
          -3.235872651592801,
          -1.7119755341735565,
          -0.4336563737020193,
          -0.6062336832001023,
          -0.9441629326199636,
          -0.21897352791236965,
          -1.5617667209055157,
          -1.3458348880477136,
          -0.6937048482628612,
          -1.6190405446646992,
          -1.5333276858350346,
          -1.698833579257116,
          -1.809396508350608,
          1.0018621405554722,
          -1.5505557919539057,
          -2.616201799535103,
          -0.7218561265706731,
          -0.9358284356998537,
          -2.3217190043773894,
          -2.169859771706419,
          -0.1170407648414013,
          -0.1779825416341383,
          -1.3770978627884969,
          -1.2775706484489115,
          -1.6689082229336596,
          -1.4330066722916885,
          -0.8812940272849337,
          -1.933727851085023,
          -0.9919561769523915,
          -0.8554408012501126,
          -0.45004862859253475,
          -1.0642892702634439,
          3.462606271585077,
          0.69984276524541,
          1.0246979229312387,
          -0.8535513919608632,
          0.6504792609298521,
          -0.47748776932746956,
          3.6547368585169036,
          -0.5680284493815132,
          1.2275685578826752,
          6.308184544302042,
          3.394757217806674,
          4.90995429279223,
          4.521497311111668,
          3.436840226679441,
          1.7065111212663064,
          -1.994921310407091,
          2.883522671902224,
          -0.04924041576369447,
          4.251881907817698,
          1.5205339090003138,
          2.7578274763525523,
          3.8188688418188845,
          0.5222233385124371,
          0.6640664570007105,
          -1.8377265384972297,
          4.307369932725613,
          -0.9793272008623096,
          -1.7532546732907146,
          -2.255179190561467,
          -2.29044156642183,
          -0.28007894163165387,
          0.222911853472693,
          -1.5101821955287527,
          -0.6192845089796342,
          -0.0742098698707241,
          1.672824337430375,
          -1.943353014657049,
          1.0149766128732847,
          2.719557668645423,
          0.9057166961074974,
          -0.21837300691801118,
          -0.26256655656215494,
          0.8449080453819634,
          2.8327794759317664,
          1.4614957709996275,
          -1.584260298828401,
          -1.8856176787118482,
          -2.3938664259095854,
          -0.008422928392725931,
          -3.0786420856227723,
          -1.6438199733026293,
          -2.039372984415571,
          -0.9968674357840717,
          -1.9809887425444175,
          -1.9736099706764727,
          -0.21426030082170988,
          -2.320158888094007,
          0.6288114935083473,
          5.262718544641115,
          -0.12166536408823808,
          -1.0121054754613952,
          0.03526096300568496,
          3.4926105143427866,
          -1.2753710449014168,
          0.3282646881366825,
          -1.6951789119860818,
          3.7286177933129543,
          -0.6107015592017119,
          -1.9032893260849404,
          -1.8874273931826742,
          -1.4787588103471276,
          -1.6879273436441113,
          -2.1606659415912093,
          4.658088207506916,
          0.69984276524541,
          -1.8094474553131508,
          0.6443884999442754,
          -2.8182814169138846,
          0.6443884999442754,
          -1.4716926838801547,
          1.8781753016297507,
          -1.1338434847768148,
          -0.7702516670886765,
          -0.5221138504004778,
          -0.9270989547196357,
          0.5931378934821788,
          -1.384325162668834,
          5.271177784407818,
          -0.9642170705834139,
          3.754319584280465,
          2.992652708073429,
          4.167831601809074,
          -0.389628079331746,
          -1.6424751435576137,
          -1.1675433931298071,
          -1.7381524969306457,
          -1.938338440805134,
          -1.6757529454902487,
          -1.1873372651487153,
          -0.3541927469754769,
          -1.97489301621045,
          -1.4332166640427917,
          -1.8599621279939198,
          -1.6285081252103306,
          -1.2616275422044279,
          -1.2397362810749402,
          0.18868288124372792,
          -1.2018029791688283,
          0.07754390698956863,
          -0.43606997058020874,
          -1.2727953385235404,
          -1.02740903974863,
          -1.8617821657705733,
          -0.87886833582232,
          -2.622199874478131,
          -1.657659634541507,
          4.075563099476093,
          4.894322340584219,
          4.158854712674676,
          0.3441558565252688,
          3.25296553170346,
          -2.0146663246069747,
          0.19335161691421401,
          0.5398747178532832,
          4.407656001383198,
          2.3595535652176145,
          -1.013481282683201,
          -1.4775598253498046,
          1.7516550987332922,
          -1.9813204401207745,
          -1.5921148477738607,
          -1.8603543986322106,
          -1.6438683942628742,
          4.7435115273423385,
          2.164611199122905,
          1.9271058748133256,
          0.24867553257171018,
          0.2640495888153447,
          -3.106214577644636,
          1.006929231807959,
          0.7363487998666406,
          0.013770393933028917,
          -0.9862592055897726,
          -0.010758925244006274,
          5.381249937095056,
          3.0311340782567373,
          2.121957979975027,
          5.376825054885017,
          -1.871534493819718,
          -0.8257044500186861,
          -1.805099952094078,
          -1.59657470631714,
          -1.390362051849043,
          2.3817849882339273,
          0.3267105421940256,
          1.1855448365432066,
          2.2307952333073486,
          0.18273407852012594,
          4.819813386113588,
          -1.8931190472758392,
          1.0877277036361266,
          1.2390028548321197,
          2.3940366677464047,
          2.57659419672372,
          3.7581250644676336,
          3.6033879217230917,
          3.0892966317647006,
          -0.2978414883711008,
          4.138457045658251,
          2.6839649557379275,
          0.995112491478819,
          -1.640926922819029,
          -0.10733653159368271,
          -1.7242942774158043,
          -2.297203719466082,
          -2.151173770862402,
          -1.57591814157634,
          -1.3487051914956134,
          -2.0265484820804582,
          -2.1206904747689888,
          -1.9307654535976797,
          -0.9234066530601976,
          -1.2516471860681746,
          -1.911351662006332,
          0.7812550919890975,
          -0.5237497338668533,
          1.5258122967139576,
          -1.4815229037775157,
          -0.8608015003990184,
          2.0664450888696635,
          -0.39181100273553865,
          -0.8627420859305033,
          -1.7244851503949086,
          -2.4519764221514793,
          -2.4519764221514793,
          4.911094086350663,
          2.128422877629836,
          -2.0262276800530037,
          -1.7259688400927646,
          -1.7612462995881761,
          -0.32942484453738174,
          -0.716781272222432,
          2.3599126557972494,
          -0.4109516244751056,
          -2.072499067831729,
          0.4941512548817778,
          0.39473675784610507,
          0.5011147455994419,
          -0.15019477310741175,
          2.2643665658299232,
          -1.3540154536804445,
          -1.4700532554453163,
          -0.39148658961174837,
          2.928686830844195,
          1.5627344941817916,
          -1.804653395322846,
          4.4219199347089955,
          1.666634125245814,
          -0.8630069468661087,
          -1.8240161816083933,
          6.2023298324535485,
          2.700729757114223,
          -1.9219988731601114,
          -3.8853351569825367,
          -0.3237352337227904,
          -1.4830437992216343,
          -0.6661581305866552,
          -0.8975313027897467,
          -0.2715001095859873,
          -2.0260074964118386,
          0.030668548225327608,
          -0.6661581305866552,
          1.6679376175634015,
          -0.962843199003246,
          0.05229047058608215,
          1.4342428370670806,
          -0.07440927214208842,
          0.31619568972430234,
          -1.6854348307187517,
          -1.3783735498215954,
          -0.5302811239602085,
          -1.9482834157370135,
          0.4376816653802427,
          0.4611651127096484,
          -0.6169217471719333,
          -1.140025637705937,
          1.2533220435925605,
          -1.806501142362128,
          -2.1058975606514676,
          0.5834156893519915,
          0.6150431813346547,
          0.8314068380244757,
          -1.167749833094718,
          -1.8797451580250848,
          -1.5737313828666781,
          -1.7148709729100597,
          -1.2187163240425536,
          -0.9081075934919373,
          -2.407638506198656,
          -2.6312477371308907,
          1.567316813637629,
          1.2606761374764381,
          -1.2731362784415334,
          -1.993389745172061,
          6.078392568331343,
          6.2023298324535485,
          1.8806471974660983,
          0.4855038489729516,
          3.7247868746474633,
          4.999022851023016,
          -0.6507019188068317,
          2.8317540321081096,
          5.15722412109132,
          3.8192902746508075,
          -1.8812815325483467,
          -1.0170415780895787,
          -2.3431142778733123,
          -0.061394194594862075,
          1.1244973226335089,
          -1.0170415780895787,
          1.549987445185143,
          -0.23880439879089005,
          -2.0548948833262477,
          -1.4608536919332893,
          -1.251126848202764,
          -1.4326231369090194,
          -0.8322050040893006,
          -1.0170415780895787,
          -1.4771002595731522,
          -2.6286065993341587,
          -0.21035255659039098,
          3.72204110649193,
          -0.6601937727661518,
          -0.0889808127707048,
          -1.3796424287630293,
          0.8934594009314071,
          -0.6029963198787491,
          -0.7120551860400108,
          -0.7769839379468478,
          -0.6805758573158133,
          -0.2427984490140353,
          -1.9562315383510154,
          4.118042026063582,
          5.7137410318441555,
          -0.7417411626392648,
          4.424095099147772,
          2.327318240629537,
          0.017763471206450172,
          0.3014939930849985,
          0.965021528389511,
          0.022468392622499184,
          -1.2199650459691418,
          0.34177511590531123,
          -0.5378912868672482,
          0.8644678960471949,
          4.004696577326851,
          4.008320181774835,
          1.3829663131262568,
          -2.0574297891427618,
          1.30947741375933,
          -1.2244223547667643,
          3.3013877478747737,
          -1.1107604184765887,
          0.5360702750732708,
          -0.24744053697254695,
          -1.9441899850782935,
          -2.133057653760354,
          -1.0891187918604006,
          -1.8302469752259645,
          -0.15516416449343887,
          -0.9951653539849196,
          -1.359606053701545,
          -0.611080956406419,
          -2.5498154982660926,
          -0.6067753052647101,
          -0.7288872748469315,
          -0.6427561202341457,
          -0.8384661829154163,
          7.048160534198852,
          3.0862995100788626,
          1.6499160539143802,
          0.5039626516959578,
          -0.7628234779254295,
          1.9098861430974048,
          -0.7381554703584143,
          -1.2105050375339592,
          -1.6165006411449971,
          2.9152852845241624,
          0.7875315395435416,
          -1.4713066508652926,
          3.840536654487975,
          0.8180105809922911,
          -1.5363920461225509,
          1.5017010248753782,
          -0.8269573928584224,
          -1.2365537984863488,
          -1.1213910396496638,
          0.3532535757130928,
          4.156988672470461,
          4.181143915852828,
          5.874241617946337,
          0.7726737970500174,
          -1.238465158422995,
          0.17391144426442454,
          -0.2910191568213263,
          -1.3643289196729782,
          -1.001357622951205,
          2.814361084932082,
          1.0152267748235677,
          -0.8997096472317075,
          -1.8161225830951806,
          -0.4069198563664308,
          -0.6222506022041555,
          0.9298554236724565,
          -0.031158874814143634,
          -1.8953253854099996,
          -2.0864594737726576,
          -1.033074036500283,
          -1.6484788353344262,
          -0.07688967377256185,
          -0.9626729037514545,
          -2.0140350530214657,
          -1.3293413005641401,
          2.9602001025583244,
          0.33666129733437344,
          -1.7136150221763604,
          -1.4322797629514932,
          -0.9929724146692334,
          0.37104684811124095,
          2.6387134059669575,
          -0.02807780164998002,
          -1.6676648655046529,
          -0.6079060289417969,
          0.022377474382159458,
          0.9645203776907142,
          1.2387761280336014,
          0.32115465675815635,
          0.39931016340159775,
          1.4480493860298322,
          2.2798976418949324,
          -0.2266340201036185,
          0.25316511117440194,
          -0.2148012621778629,
          -2.4628532337473215,
          1.3697801765357978,
          1.7508953452310545,
          1.3863298495833414,
          -1.2538737101450228,
          5.133050169971325,
          3.526515125883698,
          6.3460332022222214,
          -0.6161373499207311,
          -2.3748289472525186,
          2.2533078147803614,
          0.8167571253489758,
          3.653765378813385,
          -1.8047421918261282,
          -1.86279511250348,
          -0.9242152643491605,
          0.7066524688936514,
          4.942598053975864,
          1.1252336127832703,
          4.795289250255226,
          2.4635678490114987,
          -0.0944624723100165,
          4.247306482872684,
          0.24903576136686975,
          -0.1101929401743648,
          -1.8060319312706887,
          -1.4690797127486257,
          -0.025425946360966904,
          0.33700374221789997,
          -1.0272113725970837,
          -1.1806601610443481,
          -0.08462383414741184,
          -1.2131974145350362,
          -1.5289774319052662,
          -1.3378086857797171,
          0.9015460755941898,
          0.347041303533412,
          -1.839103081430006,
          -1.2105926310369999,
          -1.3843046322401917,
          -1.174552389188108,
          -0.8900534710795269,
          -1.7792525918076738,
          -1.7629015313750138,
          -0.22626369877920613,
          -1.3596743740108512,
          -1.4373298042223677,
          -1.0505476390009731,
          -1.2326907154182072,
          1.3565283499092387,
          -0.31742155846790276,
          -0.8073456954282051,
          0.6294753135461059,
          -2.0174373591629924,
          -0.11454795107119008,
          -0.5797367236830107,
          -1.8188905101656403,
          -0.21705098951570048,
          4.529430260517015,
          0.3331897153750474,
          0.9708797436014692,
          -0.1712705426320427,
          -0.7941852500264396,
          0.1589213249972651,
          -1.1876432241511576,
          -0.6402858806840841,
          0.8750838457096433,
          3.6087315817291574,
          5.022988638057469,
          5.8058324477018095,
          -2.484585586954587,
          -0.06723872685756635,
          -1.8199456802868188,
          -0.1646375105025471,
          -0.9373426065815234,
          3.6959874644486956,
          -0.11499063549310466,
          -0.3119119497426378,
          3.6087315817291574,
          2.9628211173285948,
          1.9745255543280622,
          -1.8693347569376897,
          3.9265835294224645,
          0.8514655969973871,
          0.25165487338246145,
          1.5069037952476532,
          0.8765073635953343,
          -0.8493286256975371,
          -2.7670422182850554,
          -1.9426782361716504,
          -1.9404583741889654,
          -2.3277141531057515,
          -0.48930088551691936,
          -1.2448085534620554,
          -1.4681887969761516,
          -0.4197705078970208,
          -1.179404182055467,
          -0.7316519448921249,
          -1.9934477924940692,
          2.658957468748413,
          -1.84249024256553,
          -1.9752037541359395,
          0.4973821345345366,
          2.803014248045928,
          0.8898853897758181,
          -1.6997216230484251,
          -1.1189657700263962,
          -2.229727615330853,
          -0.7369155743144523,
          -2.886057972767237,
          -0.04773120798274623,
          -1.2455077589325836,
          1.5812933821637325,
          0.38624025734860895,
          -1.3826420603119784,
          -2.4775829776870495,
          1.1497627661579242,
          -1.0859697564578674,
          0.6207099620941157,
          -0.07313623450419081,
          0.002695886147723526,
          2.170027229768545,
          0.36718627717097696,
          -0.9314426872002071,
          2.3532485455974803,
          -1.059789093472062,
          -2.2761098556941244,
          -0.703178091386712,
          -0.2926633824128879,
          1.0280402330301817,
          -1.164822137677719,
          0.4511604577525465,
          -0.5491172599185632,
          -0.675145914721637,
          0.29979688154291023,
          2.6834129126268134,
          0.5984074638508637,
          -0.5498879058004894,
          1.5305789710549675,
          1.6719273733102378,
          2.3650341880945835,
          0.5073760258805252,
          -1.3539098259275262,
          0.5151319213344532,
          1.060828923229479,
          0.572978967219285,
          -0.7152407495550092,
          -0.04317819295221147,
          1.6217258746453842,
          0.36751585684045185,
          -0.7640261804664332,
          -0.5419837729171578,
          1.0156004276682946,
          -1.0104901039718681,
          0.34745430653824966,
          -0.2807461940428691,
          3.187703134852314,
          -0.5452603790317769,
          -1.6326205624300447,
          -1.181568236061591,
          0.4831617885888118,
          -0.46624827532572416,
          -0.646174839100195,
          4.245475571774243,
          -0.17032794041760113,
          3.4798674918083123,
          3.84097588094037,
          4.963938781946999,
          4.408080150824801,
          4.13949629693386,
          4.031285308102276,
          3.936321424219395,
          4.187078489713526,
          4.91780816360102,
          4.959531607032031,
          5.4913638121789,
          1.5324624690552489,
          3.786004970194429,
          4.224405197605612,
          3.8134457247031803,
          4.269047290947428,
          5.3558862763863235,
          5.634525317250315,
          5.131366024213471,
          1.5778734844665676,
          3.6283998048062975,
          3.3748679584004257,
          3.136640936473176,
          1.546461664099163,
          1.7734555001668144,
          -0.5736981384083456,
          -1.3474769379185054,
          -1.4095676969430238,
          -1.7902349574504635,
          -0.959939271631498,
          -2.337850209070726,
          -1.9219232563386317,
          -1.4554683365959462,
          -1.9072262876723352,
          -0.6716795002770632,
          -2.0046562231551,
          0.3251566625513803,
          -1.152386072071764,
          -1.4557044571067235,
          0.18059071362684193,
          -1.9079350595148392,
          3.523659061137905,
          -2.0491186934792043,
          3.6180834062291516,
          -1.7374845146577096,
          -1.4392948516572361,
          -1.5714083380161556,
          6.308184544302042,
          5.008294840003462,
          5.403265664257089,
          -1.4853710029965534,
          0.3311437672951773,
          -0.46419951317277985,
          2.793778628069704,
          2.229327145953377,
          1.3893334009215663,
          4.269223510110592,
          2.1474447251427833,
          0.7629686163768559,
          0.5313880649539583,
          -1.111520740433289,
          -1.8204209333872416,
          -2.192137645569147,
          -1.6730626775637123,
          -0.5625611286937747,
          0.45191804574873984,
          1.9195738575431942,
          -0.8702170708257273,
          1.0741748437685985,
          -0.22718136569597885,
          -0.8526204872249911,
          0.43098339581021944,
          -1.5594414900233988,
          -1.7883857649490378,
          -1.2843690828034695,
          -0.3289293614603017,
          1.051814375580957,
          0.5340816012176931,
          -1.1097151949345347,
          -1.9685741228713403,
          1.352697131444026,
          -1.1080951590932833,
          -1.1080951590932833,
          -0.7862581323449469,
          -2.186656988218457,
          -0.7966028054395338,
          -1.8418411545862134,
          -0.7800250543797582,
          -2.478483820128176,
          0.2597603556403638,
          -1.3550297693817042,
          -1.6177557993272023,
          -1.8260772103567122,
          -2.3046905029491946,
          -1.7235553968485757,
          -1.3761949647926441,
          -1.0218757432852492,
          -1.7791379054828047,
          -2.656622572909873,
          1.0291146255100532,
          -3.0946663512600616,
          0.27246992250829405,
          -1.790007185391614,
          -2.4793830877712417,
          -1.887169023550591,
          -2.643073812178535,
          -0.35738013666149127,
          -2.5671936495562413,
          1.3794835128663598,
          4.525123553936599,
          4.716885186699745,
          2.595025591971069,
          -1.136616537299089,
          1.9842254319975126,
          -2.42813914250391,
          -1.3561754011404543,
          -1.6507557002712339,
          -0.9916773688297713,
          -1.4614838432330972,
          -2.1097261247542547,
          -0.5491172599185632,
          -1.9852742550337756,
          4.386572613899494,
          -1.1101722919442185,
          3.377600294793801,
          -2.434424783398597,
          3.5934938671033736,
          -0.4964313208292112,
          -2.4420108168095602,
          1.0393967728352176,
          0.024172636350283678,
          -2.536043601464764,
          -1.4224961761214592,
          0.024172636350283678,
          -0.26129956152696976,
          -0.9108428135470134,
          2.0940424856091546,
          -2.564564913707652,
          -1.2386221853149884,
          -0.3084219235875954,
          -1.5155895125722438,
          -2.031298614678036,
          3.8631048897343288,
          -0.10838299594407592,
          -0.6022552644160722,
          0.5177509655213373,
          -1.7090697231493603,
          -0.2761452223050095,
          -0.7551372548019901,
          -1.376306476042356,
          -0.5312260392016563,
          0.23717195172482364,
          -0.3026081729421195,
          -0.5065280021147439,
          -1.2055895512885522,
          -0.8204348260187267,
          0.26606506371006394,
          -0.29884421461537425,
          -0.8728012554034753,
          -1.7175667292646393,
          -1.5155528888804204,
          0.8864093485671748,
          -1.676646874745967,
          -0.469434596614233,
          0.8710775895722572,
          -0.8644705676615111,
          -0.7144561741353862,
          -0.4406885569491482,
          -2.7902709009224274,
          2.8904146176546663,
          -1.1507276718314707,
          -0.8031773216690992,
          -1.947382401954024,
          -2.162963617094736,
          -1.472365498550097,
          -2.6893121402844153,
          0.9240011933509127,
          -1.747452880959841,
          -0.1457665336864956,
          -1.8983586902445273,
          -2.669347847935735,
          -0.5221693744493314,
          -1.4548434949416953,
          -1.0283096381666224,
          2.3622397711804486,
          0.5436395862813664,
          -1.8689304368530775,
          1.1710036212559016,
          0.6999040042938858,
          -1.7044471429551529,
          -0.5920546990026867,
          0.4498649728207413,
          -0.3295745148089148,
          -1.6376693914418594,
          -1.4572609901665465,
          2.466070869617819,
          -1.2095953675949749,
          0.525455589948163,
          0.07547147484810916,
          -1.584713439364367,
          -2.908061928223541,
          -1.176508440804871,
          -1.9119343526634274,
          0.9356036829290543,
          -0.36086600256967255,
          0.9679635861196801,
          4.699816675368834,
          -0.4723314055617338,
          -2.0056305322142776,
          1.572747239850044,
          -0.9464089318334711,
          1.468626727622921,
          0.5011147455994419,
          -1.3537495043623873,
          -1.8434120476123377,
          -0.6537657414667477,
          0.8902655962892343,
          -2.816259125058929,
          -1.2235095886351683,
          -1.5127849605175296,
          -0.9684779368006273,
          1.148705858265196,
          -1.0984469249325652,
          0.5022377972137839,
          -1.4812543999862986,
          -0.5435665341609949,
          -1.290964936608621,
          -2.162833307478606,
          -0.8354743294354058,
          -0.033148562461246325,
          -2.014926569249319,
          1.7960332420843452,
          0.7846163460118222,
          0.3211437615970795,
          -2.1901371392226094,
          2.5971373640646975,
          -1.612796711737502,
          3.0260530289477483,
          -2.0657056457669607,
          -1.521099337417587,
          -0.9258655178346507,
          -2.074379532320171,
          0.7511849781136233,
          -1.7164833605229042,
          1.3199455730608416,
          -0.2996749088548949,
          -1.0601592783170932,
          -1.5793861632167496,
          -1.6924656514757914,
          -3.133177732795539,
          -0.03724623286297139,
          -0.08421121464129896,
          -0.7467746719958046,
          -0.16470824566879183,
          1.4022482201741069,
          0.46779897642367313,
          -1.3373216840889626,
          0.08110278845448704,
          -1.3779265458413672,
          5.03110784490364,
          -1.8983922147789338,
          0.5995552083481103,
          3.5252046394474537,
          2.2683191496362323,
          0.9096299592015589,
          -1.0264189143478961,
          -1.0690904627080782,
          0.6556631320797389,
          -2.023769019412258,
          2.1959209999050593,
          -1.9202674340983537,
          0.6521268829335807,
          5.262718544641115,
          -0.6974112188432161,
          0.7820338260369184,
          -0.20904323278860956,
          0.69984276524541,
          -2.022433523975871,
          0.4712071639952837,
          -1.2604802866831228,
          1.827145455088543,
          6.083318328609309,
          -0.8508696332442777,
          -2.082504837264755,
          -2.2243366255023718,
          1.4014298850676397,
          -2.722829529958678,
          -1.6085417664418014,
          1.6013054390496675,
          3.3170485154906726,
          -0.8936287712527976,
          -1.0459539727090397,
          -0.7263218841932995,
          -2.9436481698922803,
          0.06221403756445198,
          -1.1663865563967535,
          -0.5132483562854894,
          0.6525178740460712,
          2.213623428481487,
          4.157689233042854,
          3.9952644486572733,
          3.744144134343587,
          3.334036129265214,
          -0.6706922862361606,
          3.7210836024692693,
          -0.7220199150774409,
          -1.503748888470953,
          -1.8208063443174307,
          -1.3092499530556854,
          -0.5828274996029205,
          1.8767430181001132,
          -2.313572197189643,
          0.7099128201293097,
          -0.78126822777079,
          3.39492798186826,
          0.9032880273730476,
          -1.5365804542172712,
          -1.6283452043117526,
          -1.702268481494209,
          -2.43528543522831,
          2.018654282616745,
          -0.3166155515639341,
          -0.894195429026456,
          1.1047609784727355,
          -0.19612740703368436,
          -1.3280200419065067,
          -1.8704463127127635,
          -0.7325588346573648,
          -2.432210455632507,
          -1.0631051517428243,
          -0.9018458559798208,
          -0.5690495861384957,
          -1.7303866732825879,
          -2.1007718092553658,
          0.12062405251041705,
          -1.5280973319537636,
          -1.91080229736199,
          -0.21031089609908804,
          -1.7943548127338844,
          -1.5361213058279373,
          -2.2160001367279665,
          -1.4955985695299712,
          -2.5500589751698004,
          -1.0982262167206438,
          -1.2393277340386915,
          -0.857709221058459,
          3.6603956645131928,
          -2.6601514416636025,
          4.2250430413973055,
          0.4150807814857084,
          1.1880597387996006,
          2.753189107588194,
          -0.2904984597290885,
          0.5136929486352002,
          1.8792188806685441,
          -1.6657745499794445,
          4.166293634806007,
          -0.5221693744493314,
          1.043433710466218,
          -1.8730996534974436,
          0.8500285353730027,
          -0.3318503843828145,
          0.2744299751321871,
          3.4812762404541275,
          2.331775500646685,
          -0.07084590733890371,
          -1.2092837434063084,
          -1.3631427295039136,
          -2.4502227813858055,
          -2.0884769934788565,
          -1.8057549808143691,
          -3.3995837310824375,
          -1.699822589137529,
          1.5209018222443877,
          0.7646308800896886,
          4.478609512834521,
          2.466113319803971,
          -2.2354904599284433,
          -0.8246614851720224,
          3.4324506450763237,
          -0.48823623226826846,
          -2.081322355130963,
          0.14989400405551923,
          1.8973889528910957,
          -0.13683775308019477,
          0.45025923423541897,
          2.095768666277784,
          0.9153914685653901,
          0.585726427377964,
          2.2333595333061367,
          -3.0450765877715416,
          -2.3291508714311764,
          0.4543220270451248,
          -1.6301207350897269,
          -1.414322988460633,
          0.24435456870028277,
          3.2107996485644086,
          -0.9304532954544269,
          5.150035753984848,
          5.004281707388848,
          -1.3148675759101818,
          -0.7597385878813302,
          -1.6628375487419653,
          -1.8902303297831127,
          -1.5328467352522677,
          -1.2536233695640064,
          -1.2302352255235947,
          0.10461162581345557,
          0.5222047642496478,
          4.431045401922304,
          -1.1896884868417064,
          0.3826515107286248,
          -0.7773625634585365,
          -1.4952959189875166,
          1.6675267223983998,
          1.4852428780681353,
          4.356729544123437,
          -0.9108592533331851,
          0.1816427229341875,
          -1.8732582454237792,
          -1.6946786996734693,
          0.43583143175887445,
          0.4879910198583229,
          2.7658581502204393,
          1.9540876681797281,
          -0.1761359959909169,
          0.4227931229385322,
          -1.6117359369821895,
          -1.041991552846553,
          -0.120212374731506,
          -0.11140233801850674,
          -0.3443427862674368,
          0.6672750904822233,
          -1.2131974145350362,
          2.513690310109363,
          1.1845545043666181,
          -1.755389031147312,
          -0.6992418306210516,
          -1.0580195579562375,
          2.311940378611573,
          -0.13688948178293048,
          -0.8741749815567244,
          -0.9304422088236274,
          -0.9840382097343725,
          -1.3564305630785582,
          3.3966287287929484,
          -1.7688160662074708,
          0.2532494653975695,
          -0.5625432966733255,
          0.13894980838009433,
          2.995182324696311,
          2.3219296947796297,
          -1.496489526363347,
          3.274369314931619,
          5.3355366381637825,
          1.1970948667173469,
          -0.9325106706495209,
          -1.0348098358027797,
          -2.025148199151573,
          1.0657747825801038,
          -0.38574105649317136,
          -0.6253799907794825,
          1.5479900682861567,
          -0.9325106706495209,
          1.181020052840214,
          3.680927642400887,
          3.7570147332726553,
          0.012415187357943306,
          -3.0305697190318264,
          -0.9098410453161841,
          -1.5191912139342894,
          -0.9195814288618507,
          3.8284561838288944,
          -1.1117133103932137,
          2.267337362057981,
          -1.5150721309734032,
          -1.3925033257613064,
          -1.2995846666732827,
          -0.12266151502753452,
          -1.8668753039071233,
          -1.5018729408205698,
          -0.5700160017381587,
          3.03988227051046,
          -1.8005405433301163,
          -3.663231559968168,
          -1.4679455092351439,
          -1.0800614696303596,
          0.8055109936842494,
          -2.820267239135904,
          -3.45297103377621,
          -1.1110635172556043,
          -2.791897090464662,
          -0.6542529218710746,
          -1.2316328350265466,
          -1.3092383176769775,
          -0.44699410320141025,
          -2.114793859435531,
          -0.8486770478305611,
          -0.9409778444685281,
          -1.8320832439959547,
          -1.4789288509342478,
          -0.2603117476767192,
          0.7062856706652368,
          -0.9472312383775637,
          -1.8280677033103934,
          2.896886985755473,
          4.2095932016608355,
          -2.7548708199059324,
          -1.5459459240384121,
          -1.8925052109960359,
          -1.706778425524509,
          -1.6774539508660635,
          -0.45635185837174097,
          -1.3346043453735292,
          -0.3216295003543687,
          -1.5006475935961923,
          -1.45959381702398,
          -0.8243341544860162,
          -0.6580875903276738,
          0.28642701434719264,
          -1.2796134458978505,
          -0.37049705875550065,
          -1.2343513887207465,
          3.996300547145877,
          3.3395779158555343,
          5.384016484346953,
          0.21837706806185808,
          -2.306768848291024,
          -0.5021981388206935,
          -1.0068978534182278,
          -2.1476944439402628,
          -2.3968637435576925,
          2.709606964693456,
          1.7560435745437533,
          -0.9443973872998461,
          -1.1396430988151254,
          3.5578638142965153,
          3.853519820121416,
          -0.8855858941782226,
          -0.9829651653205772,
          -2.320125421270589,
          -1.2569492976214969,
          -1.7231498462043977,
          5.961074281238078,
          -0.9304306817837573,
          3.7923096640832323,
          2.5338939245783827,
          2.4003469329064764,
          -1.787837225777691,
          -0.23352895324163497,
          -1.8863702813551404,
          -3.0007847223145734,
          -2.088853425657692,
          1.043063999486239,
          1.475369160777776,
          -0.716781272222432,
          -1.824163976086663,
          -1.0939818264875376,
          -1.4173759806756012,
          -0.9227672156589165,
          -1.104428046412081,
          0.06735268474735931,
          -0.7895365930463435,
          -0.07072149456798756,
          -1.8517630213186191,
          -1.8601271467736296,
          -0.08828355973957489,
          -0.25544103116343153,
          1.8793807339843183,
          0.9116853878805041,
          0.10012379315177518,
          -0.6039439779725395,
          -2.9298175854967043,
          0.1983971409227755,
          -0.4491867303360419,
          -0.7937960986538549,
          -0.6206510300666289,
          -1.445924049009496,
          -2.336906125358005,
          -1.463382068040218,
          -1.220884751098551,
          -1.1296546207459406,
          -0.17787330371714571,
          -0.6960752028433892,
          -1.3678339527436483,
          -2.3446882446890296,
          -1.5994355501742878,
          -0.6953135901672162,
          1.6229388520328967,
          2.782399844533674,
          2.2858744287363866,
          2.155550798796948,
          -0.26478294441046907,
          2.8276062488980145,
          0.6100656850450609,
          1.3174805042783118,
          2.7468007751696324,
          -2.252375407578721,
          0.7036343124900795,
          -0.001183760249146181,
          -1.4829619080699714,
          -1.1075232058518307,
          -0.6971997960267909,
          -1.9568620208735583,
          -1.1054970278095253,
          -1.32648319357015,
          -1.7849025600389334,
          -1.2811371791205035,
          -2.886057972767237,
          -1.2418348568152904,
          -0.15427203546753654,
          0.5668302283795729,
          3.163873829531567,
          5.047031224564757,
          1.2487075452916352,
          0.6273736799906431,
          0.07539853780510403,
          4.046423353988645,
          -2.094841489535944,
          1.7704705061504267,
          1.3428053485486426,
          -0.6281159028604065,
          2.7007571007879982,
          -2.896459582461672,
          -0.48907148657955873,
          -2.4153603716354692,
          3.350597068739794,
          0.11785838188577169,
          -2.0818315040779063,
          3.3833813768610823,
          -2.028868370344412,
          -1.9296895864420212,
          1.9624352875108122,
          -0.11473781767402284,
          -0.8976185323361061,
          -0.6162589382614426,
          -1.339850634422027,
          -1.8605094581925592,
          -1.1256165151572635,
          -1.3471905127214148,
          -1.6634667301389137,
          -1.7937172212243646,
          1.7116070792188411,
          0.6875307868210198,
          2.3599126557972494,
          3.4077455863709964,
          3.420163417355512,
          3.1704080433561814,
          4.18970943674314,
          0.8861883023723539,
          -1.2041336806401504,
          -2.433266038421997,
          4.396257729264007,
          -0.9943458450544878,
          -1.6640786009656168,
          -0.6530120732992507,
          -0.7024160963306568,
          -1.616272197540598,
          2.7000671233999918,
          3.1332303142138054,
          2.62303364502091,
          -1.7234064226917907,
          -2.8800245580393913,
          -1.801167911154555,
          -1.6369871043498483,
          -1.8914809660644951,
          4.618935780161163,
          4.050843042184681,
          4.352663051268987,
          5.122067061563873,
          3.906816410033581,
          3.986678980914987,
          2.7852234093895074,
          0.9999800069643576,
          0.6799719491218102,
          0.014298306941483124,
          -3.1561527611479887,
          0.022755347441268736,
          0.022755347441268736,
          0.16215521835046473,
          1.8848249364406549,
          -1.6357883699260103,
          -1.4405368092396194,
          1.9595862552593748,
          -1.9643963626404648,
          -1.5973738646502842,
          -2.089446314970424,
          -1.802665818906081,
          -1.2917710621025633,
          1.612295797796425,
          -1.059789093472062,
          4.6016318315288425,
          4.4505681765590515,
          5.210196579660402,
          5.777399769903288,
          0.20076562572775802,
          2.1326120989580426,
          1.7459968094343268,
          1.7459968094343268,
          0.20076562572775802,
          0.34546684392774174,
          -1.5154226810918983,
          -1.692237859724102,
          4.310681878249158,
          0.46926894723910806,
          2.3242082313809846,
          0.9381121233998011,
          1.1841252442734722,
          -0.3743066976564619,
          1.0133098935057991,
          1.0103085340590086,
          0.7875315203113389,
          -0.5858043284252906,
          -2.6432273139517264,
          0.7454678649645954,
          1.0437438961384276,
          4.839564142521273,
          2.2896581436047985,
          -1.3025333410462427,
          -1.3212499387413403,
          4.0332580078560465,
          -0.9054653279761936,
          1.4077154542863597,
          1.819776761863794,
          -2.0266801412988684,
          0.4069739919366746,
          -0.17898853073046284,
          0.4847618118735942,
          0.26373780786601186,
          1.9490472897705733,
          -1.261784182150272,
          0.1492151480055354,
          -0.2175504008646504,
          -0.7624724066787728,
          -0.9387029953969083,
          0.27949977926882447,
          -0.7588630483770611,
          -2.152795985798634,
          -1.5357814618078696,
          0.8290154285889048,
          -0.9817137056298605,
          0.0007320463538195433,
          -1.0590701782309835,
          -0.7529011708788527,
          -2.5175145217551633,
          -2.3199405171221903,
          -0.23471491664774963,
          -0.2212072962441547,
          -0.6810305719934208,
          -1.3423911334200618,
          0.9329099433229728,
          -0.33138598600913266,
          -1.366341923568505,
          -1.019277523966164,
          -0.5491172599185632,
          0.05306629499184299,
          -1.256710732405581,
          5.259661506974287,
          -0.2965634305110323,
          -0.2019259178707005,
          -2.024602339850487,
          -1.4443686593541993,
          -0.9751839182365081,
          0.054527146408119564,
          1.4523524534217245,
          0.8192739231873547,
          0.07698261684037518,
          -2.4241133476805636,
          -1.0499396836036332,
          1.3593481661758238,
          -0.8437018248035677,
          -0.4054386474312034,
          0.6101227140817005,
          0.12017397103912078,
          -1.008409709766835,
          1.2229974720456425,
          -1.1031682937994696,
          -1.4083418571679753,
          2.575630306021974,
          -0.1586483454548364,
          2.915458923587586,
          0.014968192928109223,
          1.4088806725999037,
          0.8082967149746653,
          0.44649458027625544,
          -1.2795600059785808,
          2.8272600811544852,
          -0.4277133637975973,
          -0.8837451046928395,
          -0.23093094143364687,
          -0.5371447045574769,
          1.388078437052668,
          -1.059789093472062,
          0.8795324448096457,
          1.476414729824295,
          2.7650016272370324,
          5.637075618753219,
          3.500235764018903,
          -1.5104184002125935,
          -1.2334843591545102,
          -0.752940502921876,
          0.08511187324309061,
          0.32051098514515036,
          -0.9120762581936711,
          -0.27858070029414156,
          3.0884336247674797,
          4.1432477779996955,
          2.3997163163978605,
          3.176957929846898,
          -0.6044283440694057,
          5.574219688203971,
          5.333727896640726,
          -0.17032794041760113,
          -1.4427210612478671,
          -1.3399879370214873,
          -1.3399879370214873,
          -1.0802458985701937,
          3.916659393187202,
          1.133353987991856,
          3.1319240633605427,
          -1.3399879370214873,
          3.1351717246654616,
          0.052961063614170405,
          3.8242286853002536,
          3.313960361031419,
          0.6376433975357703,
          -1.3678276494516461,
          1.4795949689527148,
          0.507539811410648,
          4.025163763893028,
          3.397634175449694,
          3.302529115701343,
          2.8311288224741085,
          0.42987039872092786,
          2.652603820099898,
          1.9894395187425329,
          -2.4451348377062487,
          -1.9828992824413223,
          -2.9088138803783683,
          4.910713009747098,
          -0.649803665432296,
          -1.5303444494937972,
          -2.7153897454154508,
          -2.0687544157967634,
          -2.2542542997003814,
          -2.0100526796115536,
          -2.1099099573153444,
          -2.2236326075155994,
          -2.313210306482977,
          -0.9502346814249343,
          -2.1364027095393237,
          -1.0065335489460199,
          -0.5635117535932597,
          -0.5452437114590933,
          -2.26980909886097,
          -1.2016336137926886,
          -1.3117714960738531,
          0.11607867116484603,
          -1.1573319711835885,
          2.844261208468638,
          4.8169710470501,
          5.38850213788645,
          4.902234021478253,
          0.17804007974110886,
          3.12962962390094,
          -2.6715653444756327,
          -1.4732881003033513,
          1.2109456547170134,
          -0.6283268472049904,
          -1.8232159852586582,
          -2.761626719266494,
          -0.8038412941572937,
          3.12962962390094,
          1.27753558995693,
          -3.4999871537662988,
          1.3589483043899568,
          1.7385554462803194,
          -0.22573449118776753,
          -2.274067346388713,
          -2.722292027168738,
          -0.5665714728194743,
          -0.7245547433332932,
          -1.899241989411066,
          -2.8397395979008873,
          -2.077917337088168,
          -0.8771721526876272,
          -0.40668386778986565,
          -2.462682444077482,
          -0.9502346814249343,
          -0.884805251250823,
          -1.4759715630515928,
          1.0340563390737683,
          3.9266530882283877,
          1.3504189491626397,
          0.402281144383315,
          -0.7883433217568944,
          2.0279654140200636,
          2.0402179546875265,
          0.8979910073856004,
          -1.370362281983276,
          2.195947876785933,
          -0.3257151107438955,
          2.166790516006023,
          -0.10849963879625077,
          0.5555801926793539,
          2.6855272350918433,
          2.0629718502740504,
          1.9327789730120863,
          0.5823874663723916,
          1.4280076694700532,
          2.2279502077988336,
          2.014111723724461,
          -1.7548260472472792,
          3.145271157736503,
          1.8851878311394739,
          0.5461741363291333,
          2.3563966282033184,
          0.8590333940405668,
          1.5750036225782382,
          -1.42540791760475,
          0.1322950570473502,
          1.6585341861753555,
          2.6330801007313838,
          1.2919858967101798,
          1.5307731412375443,
          1.8030112846657071,
          0.06706942676045818,
          1.8045403505981685,
          1.3745874347744298,
          -0.08395614302769203,
          4.049749172711459,
          -2.1275500290304157,
          0.5273523375187052,
          -3.0914737893276913,
          -0.9291176379098606,
          -0.401554895710234,
          1.1987811941730042,
          -1.4489486989802896,
          0.42164195837834395,
          -1.0348098358027797,
          -0.6337420572126485,
          -2.183496509851046,
          -2.1758672952105003,
          -2.8243568560471197,
          -1.5657851439064696,
          2.488852486987381,
          1.7069952938522608,
          -1.7699525413624657,
          2.094428753589452,
          -2.5389405610748885,
          1.7757562576012984,
          -1.3673813815784803,
          -2.3217190043773894,
          -0.07145510003716171,
          -0.12953515656082024,
          0.01705652057736732,
          -1.6918615662065624,
          0.24788898634041834,
          -3.371949005692059,
          1.8109439725347118,
          -2.956316710280406,
          -0.9326576513945365,
          1.5453563721904222,
          2.017567630254303,
          -0.977738482520352,
          -1.8088045851480503,
          -0.19764938933701684,
          -1.7360045350795756,
          3.68422019892972,
          -0.6847094485509614,
          -0.2603117476767192,
          1.5422988888047597,
          0.5930026646121617,
          -1.7912959670136779,
          3.118021498922631,
          3.358014491875231,
          3.5099309650882815,
          -0.19461924016161944,
          2.4805279637902244,
          4.517776810914007,
          6.091867137337174,
          -1.386425812758796,
          -1.65908942919348,
          -0.8451615089399579,
          -1.041719254878501,
          -2.212632844114006,
          3.9047624185662833,
          2.357658297152019,
          0.03992601661587214,
          -1.1004953247578713,
          -1.3293394373721141,
          2.4179234417138864,
          -1.8494158071698892,
          0.6194589894389144,
          0.7007141496868078,
          -0.2213109957661931,
          4.0698058402599075,
          -1.6915198589429588,
          -1.6480326701342503,
          -1.6266757262409486,
          5.070598490109718,
          -1.2012069430765233,
          -0.20161483159628826,
          2.212377949900126,
          -2.4649248397008865,
          -1.9249814682117175,
          -2.4080164096721757,
          -0.3981606546944904,
          -1.148112784395046,
          -1.2373304643909677,
          -1.4628181365509447,
          -2.6429915346372552,
          1.9533017033003957,
          -2.1195725580612312,
          -1.014042185781765,
          -1.843089415576857,
          -0.17434341580478305,
          -1.807906374375225,
          -1.0770098667738888,
          -1.490548176924026,
          -1.2980784897176665,
          2.3650341880945835,
          2.8056902680785294,
          0.484723510618862,
          0.8549288236322975,
          -1.5013922149508778,
          -1.3673565615887997,
          -1.5786623309290853,
          1.9460913874910175,
          0.03174403073604904,
          3.518987096487809,
          -0.12194207361813171,
          -0.8643826427197108,
          -0.3431640158084612,
          0.14879956982851616,
          -0.702134515576946,
          2.5268907301930454,
          -1.5907428957012448,
          -0.040819221845631415,
          0.7899298288307423,
          -0.9108592533331851,
          0.5345492960066739,
          1.711864051424774,
          0.3291372387869491,
          1.193120225310695,
          1.0958689907088606,
          1.2545681987114243,
          -1.645491242171435,
          0.06998303323160375,
          -0.6562708849308339,
          -0.8025844842561616,
          1.028867063262271,
          1.550314814959788,
          0.7522544149888788,
          -1.3594752795046876,
          3.0180003913879445,
          1.0712957412947124,
          3.2217287372984558,
          -0.093091521498552,
          -1.2985779973467575,
          3.218628062553703,
          2.1326120989580426,
          -2.3446730016825565,
          0.4052933124022656,
          -0.5726023021440048,
          -0.8831651240421441,
          0.2864992879018386,
          -1.1602891468274352,
          0.7158496154657062,
          3.51075343562,
          -0.20646597214665457,
          0.13893639159218524,
          -1.8058188159171575,
          -1.7690512660095545,
          0.8116576480875318,
          0.3375246919062721,
          -0.01039477591061389,
          -0.8944573785036687,
          0.21387473617623,
          0.23100452434813987,
          2.030878227187982,
          -2.299520470423304,
          2.464111119546667,
          2.119217861721357,
          0.03900046465196403,
          -0.6538759240822308,
          -2.508627218880719,
          0.8123565472634446,
          -1.5787530557618943,
          0.21465726009403902,
          -1.8370165087569885,
          0.9229565319598525,
          5.65635081813316,
          1.2758796109944475,
          -0.5087977010750413,
          4.278428722085262,
          0.6992100078765242,
          -2.384136424298682,
          -1.7777308426945007,
          -1.7803898860126552,
          -0.4167539682681076,
          -1.1894418289754758,
          -1.3168814365839518,
          -1.3415980593024448,
          -1.905707607756688,
          -0.9399967293329485,
          -1.6808685152004772,
          -1.190406555553498,
          -1.411905562019507,
          -1.9190223555873598,
          -1.6818203902001194,
          -1.4359027004171416,
          -2.0112309024792445,
          0.09121406890156414,
          0.5055869622129656,
          -2.399124947771615,
          -1.4878005371777179,
          0.0901287771878821,
          0.3101465274982117,
          -1.4468211063157412,
          -1.8879364766330247,
          -0.43080997590404707,
          1.9127398992549,
          -0.9340739420096671,
          -0.09245424702742862,
          -1.0170415780895787,
          -1.4337106390703642,
          -1.1513085587600564,
          -0.3505327260134423,
          4.891728612485041,
          -2.2620354657009676,
          -1.1646239535239464,
          -1.4194876518446777,
          -2.178982674772512,
          -1.7048467653411044,
          0.08723516303489685,
          -1.5513713971895937,
          -1.1305919329747034,
          -2.008601460302474,
          -1.9719849087291306,
          -0.7603552441700427,
          -1.7081845936205498,
          -1.452644788376456,
          1.0936536290838423,
          4.707297316935378,
          4.066416551661846,
          0.8449080453819634,
          2.017567630254303,
          -0.5221029502555891,
          -1.0819030183511775,
          0.9363603495410865,
          -1.6901930633720708,
          -0.06734437755377432,
          3.1284096100847663,
          -0.013372924890362167,
          0.9315488370480715,
          -1.1078988413689916,
          0.9836845171357765,
          -0.6216384167307957,
          4.176384153224831,
          -0.8174650647916103,
          -0.9844049327521093,
          -1.9340208521383055,
          -0.9150586306583643,
          -1.9024375077661242,
          -1.5991191899978696,
          -0.3979122673442815,
          3.189010773438726,
          -1.3604505665769004,
          -0.714103404733728,
          -1.591493898603844,
          -0.2698179011474334,
          -0.3205716019590922,
          -0.9748467556979394,
          -0.6346112423952773,
          -1.485246786990906,
          -0.6488361413093111,
          -0.6875208972982042,
          -0.5235210522524467,
          -1.2997644179330243,
          -0.3937474251797397,
          3.4924077989945714,
          2.576357723271177,
          -1.255050205647134,
          3.852758067026384,
          -1.3963654042352827,
          -1.5970419948490941,
          -1.6886328758157632,
          -1.3774550293604089,
          -1.3690729524620973,
          -2.0826181995813386,
          -1.1954018276570262,
          3.4027511525664944,
          -1.9587229941745226,
          -2.6463148412916917,
          2.3353127950974373,
          -2.3458247510817447,
          1.3957426239486512,
          0.3091765784289812,
          0.3091765784289812,
          0.048258746895679744,
          -1.082352072264751,
          3.049088181041763,
          -2.097576909584193,
          0.25316511117440194,
          -0.15427203546753654,
          -0.41240181977992507,
          2.894885667642765,
          0.9925700176837289,
          -0.10380387445274508,
          1.89381952432688,
          0.9398182903443809,
          -2.21900700019206,
          -0.4028999508832659,
          0.48555984194641955,
          -1.6946786996734693,
          4.453263833371455,
          -1.7698042251004982,
          -1.2917710621025633,
          -1.845644154747359,
          0.09262464006245248,
          -1.8537718049763492,
          -0.3241240622174615,
          5.699030304877429,
          2.3817849882339273,
          -1.5609102360473246,
          -0.27991740748156435,
          -0.5542550572699028,
          -0.6637454999146559,
          -0.3292698306096528,
          0.6663435469489146,
          -0.8145720543150365,
          0.6939265197491377,
          1.4162075885952428,
          0.5778186477553644,
          -1.2584741789017164,
          -0.18772365879072345,
          -0.8836013757068105,
          -1.6875506785986947,
          1.5211340327985496,
          0.2195908194829477,
          0.2885020536256091,
          -1.492621767180281,
          -0.21175692447557973,
          -0.17581020496163408,
          -0.8875625801717626,
          -1.2556219866206966,
          -1.2269361604283762,
          4.618935780161163,
          1.3552239026426223,
          1.933616409353557,
          0.3436840728473237,
          -0.5690376399407595,
          -1.8919920103002255,
          -0.5841890549176634,
          0.33276996189999536,
          -1.9175550818936058,
          -1.2392356281844934,
          -0.09546520325791788,
          0.5577786585832478,
          3.00280157390452,
          -0.575352212588653,
          4.161022525837931,
          -1.9988770057703373,
          3.7468909865289692,
          2.224478260333407,
          -2.0601769600584983,
          -0.7651747940113183,
          -0.8818233752987543,
          2.200828587032446,
          -0.5335105742105524,
          -0.5913765417068707,
          -0.868612136538625,
          3.126929191169628,
          1.572747239850044,
          1.8241788630931568,
          0.9487631695800605,
          -0.7979632686424218,
          -1.5274385093734058,
          -0.04031006817489454,
          -1.4688940844932494,
          -1.518948465222089,
          -0.33363903038412573,
          -0.2874184653253753,
          1.9173914860919654,
          4.217793257754891,
          0.8123565472634446,
          -2.026822876035974,
          -0.9888603025879954,
          1.3505978175446567,
          1.3505978175446567,
          -0.22448253695649217,
          -1.5599823753878825,
          -0.9445110188851524,
          -0.9687374941369973,
          -1.947382401954024,
          3.2626195808960072,
          3.3357502012362747,
          -0.0840010454867705,
          -1.8353016618474356,
          -1.0147768860330937,
          0.6805879787852309,
          -0.9288952404986105,
          -0.9673631567290871,
          4.168363339147133,
          -0.8950461905575406,
          -1.655497835033213,
          -0.673670545707553,
          -1.5694794034452255,
          -1.6619836307825158,
          -0.1588995810750426,
          0.663750848338295,
          -0.8307561706234641,
          -2.2833156359466367,
          0.8752453390642218,
          -2.427740105884187,
          -1.4224065981480545,
          -1.1037662140332807,
          1.5650671095135886,
          -1.0895612371376286,
          -1.1687147925779515,
          -0.9946974720841738,
          0.7352426388393155,
          0.05685055929293846,
          -2.364909879579423,
          4.904751130878137,
          -2.803040390957146,
          -2.2525620808187816,
          -1.8959245730757266,
          -2.09175160520115,
          -2.508317131163247,
          -1.0932669094952754,
          0.2300271283486483,
          -1.7664024000158296,
          0.6845546448708257,
          -0.9024606571237705,
          -0.4794045361365272,
          -0.7455458630228231,
          -0.9013326790547889,
          -0.7150579071819946,
          5.52148402539848,
          4.330780758381718,
          1.0507517772310697,
          -1.6734809168327194,
          4.236594177348252,
          -0.2745021491914573,
          4.055818049656475,
          2.1357669132817176,
          -0.8330021081673901,
          -1.8279298926842606,
          -1.7462095781463174,
          -1.4292748016739292,
          -1.8043356480433574,
          -0.038926072238980966,
          -1.3609492642096934,
          0.44798540695464956,
          -1.6881966197421525,
          -2.260555498082257,
          -1.6032958665289618,
          -0.5719868279724865,
          0.22680621843925888,
          3.0007464182467096,
          5.262058618140631,
          2.885869948160052,
          -0.6661581305866552,
          4.647416850813501,
          -2.325980508300886,
          -0.8749418351069347,
          3.4358447536432437,
          -0.18592056996047968,
          -1.325257796141949,
          -1.645482650470815,
          -2.274363772769266,
          -1.1375489854458367,
          -0.30594649082110353,
          -0.2632103614648365,
          0.368234390878477,
          -0.7749919598416074,
          -0.1711919996199085,
          -0.06981557094042568,
          -1.2072588326020257,
          -0.624102112730829,
          5.41987474102352,
          -1.597222245578425,
          -0.3638951753809361,
          -0.3445021725092959,
          -1.6165697131635002,
          -1.1021594097961744,
          -1.227351666022262,
          -2.0452140986874627,
          2.018654282616745,
          0.4298289927167245,
          0.6052682794470791,
          -0.44235378658709634,
          0.022947141944435933,
          0.0015944771473508802,
          -1.8238846076569708,
          2.2317541681982687,
          0.7642748141635696,
          -0.843328291966628,
          -1.3230875790813388,
          -1.329892934993296,
          -1.2267220894847886,
          -2.1499949310856774,
          -1.2163920877132441,
          3.4634847114667804,
          0.45394121663571574,
          -3.061338303198412,
          0.22729614518138533,
          -1.1344768325631742,
          -3.061338303198412,
          -0.7072963438992371,
          0.3418433804143047,
          -1.5671182591234902,
          -0.8696666900612369,
          -1.579559076148647,
          -0.877250246278601,
          3.5825006834571163,
          -2.2268342780614696,
          -0.20126115331103744,
          -1.6675215191123836,
          -1.167686938641089,
          -0.09594405636152668,
          -2.3820664249846013,
          -0.12872264422547547,
          -1.5822498519629937,
          -1.6387434617760277,
          -2.025148199151573,
          -0.6993509873931977,
          -1.8764670933076533,
          0.3544325608968111,
          0.5717167306430484,
          3.1019647144481794,
          -0.518829403546143,
          -1.0126741219338107,
          -0.709764104672591,
          -0.727626975178563,
          3.3634624924175136,
          2.975222681710793,
          -0.8219366599034366,
          2.20896287162231,
          2.7850640053433655,
          0.29814635203571394,
          1.8664884741638654,
          4.140411488353789,
          4.13304881701773,
          0.528283827298757,
          2.605572101764562,
          -0.26478294441046907,
          -0.17832420764440676,
          -1.9380303715726233,
          2.903905039029221,
          3.6496770215064633,
          -0.012929923744354815,
          0.9703843368446672,
          4.840030364876461,
          -2.3821204287662257,
          -1.5441689772345766,
          -1.3888697809804065,
          -1.954261376586501,
          -1.5849819030822276,
          2.446695535789581,
          -1.3666480483746377,
          -0.2676245317046499,
          0.402303418052138,
          2.3745705662041585,
          5.050054496026231,
          -0.9053180429942421,
          -1.2698419846443323,
          0.5398747178532832,
          -0.9479576954954888,
          -3.0324499813922867,
          -1.112151754758307,
          1.0543642222548262,
          -2.174826059050462,
          0.8783391882405451,
          0.8449080453819634,
          -0.283804275105688,
          -1.808364745025448,
          -3.2024704591966726,
          3.32155210544882,
          0.8539122759964441,
          -1.05270798354319,
          -1.6233526075106717,
          -1.4951842716237833,
          1.7519453777759293,
          -0.8298967446281684,
          -2.187333543701746,
          -0.24944080664634888,
          1.1074723601112282,
          -2.085935541408211,
          -2.4125115180318617,
          -1.2499990583699128,
          1.2918669581773612,
          -1.480860486175657,
          -2.0144429700235005,
          -0.5413481296670037,
          -1.6534058002388408,
          -1.4317917003045724,
          -0.98713590243363,
          1.1655411567729175,
          3.0002356858668793,
          0.15000872558749018,
          -0.5219177664341916,
          3.047428758666202,
          0.8524577565344748,
          -1.84197087713791,
          -1.4212505387436185,
          -1.599091276096664,
          -0.0924523170292836,
          0.7589239174389376,
          -0.38861753676292715,
          -0.4886912992334432,
          0.18601744652391805,
          -0.5767423202391145,
          -1.0445259856521207,
          -1.410342501775071,
          -0.9467174638564452,
          -1.557090757749281,
          -2.0316565223762746,
          -1.5050207141773988,
          2.03304143384141,
          2.9972411903138902,
          -1.1131903712057183,
          3.414345747692763,
          5.320867729182726,
          4.085991435509483,
          2.127442535834884,
          4.947269754284721,
          0.4726197924305063,
          -2.20168682557193,
          0.43167185305864064,
          -1.1131903712057183,
          -1.6057702396471822,
          0.8312197050104061,
          -1.764247923318849,
          -1.159073207027635,
          4.081447099437761,
          -1.1266837590924161,
          -1.2919547680535046,
          -1.7723311723076072,
          0.02190056390348016,
          -1.833336844358951,
          -1.7602758888628411,
          -1.8693460615922173,
          -2.046542277096343,
          -1.0561390468606324,
          1.1770516789703707,
          -1.876299096028809,
          -2.4252240322564074,
          -0.12210277573933512,
          -1.6260066325782978,
          -1.8445494912080058,
          -0.30330829710303436,
          -1.2048764587975171,
          -1.8182765975060036,
          -1.4422094887527543,
          -1.0947009976647606,
          -1.9236465210710885,
          0.06349215750229655,
          -0.7967643032374758,
          -1.3089600393569707,
          0.5354649061742401,
          -1.15384217704288,
          -1.1326586912829237,
          3.10569898240742,
          -0.5655314564562373,
          1.671184758260737,
          -1.6903592808965588,
          -0.17282411226062386,
          -0.15342344242621841,
          -1.1213935734132456,
          -0.3560114892032389,
          4.264393263445866,
          -0.9702087331231121,
          -1.479520701140309,
          -0.019163938022136024,
          -1.6262673095858815,
          -1.072934906636466,
          0.6594213427915597,
          4.066995385985656,
          -1.7593947139165294,
          -0.6148631774543107,
          -0.5328443733186652,
          2.1951310166489773,
          4.211073384228146,
          -2.0951936831935845,
          -1.712677312219173,
          -1.3176226052793807,
          -1.2398389440352908,
          -0.6365159443123226,
          -1.8680718365870281,
          -0.2077489898443959,
          4.663158190213195,
          -0.7172902492876062,
          1.4126375362115098,
          -0.053481596291652236,
          0.1225844910464923,
          -0.6930082747630658,
          -1.6842462616801201,
          -0.9997143462304242,
          -0.9925277416519346,
          -0.4055455246851502,
          -0.7943307030855615,
          -1.4179766882023679,
          -1.5077618691738772,
          -0.11864752625193771,
          0.0651325151433015,
          0.4479061806002194,
          -0.5905352698295537,
          -0.6656940772015767,
          -0.12568353651020425,
          -0.29682397832757607,
          -0.3020850369503307,
          -0.44315387676607615,
          -0.8497568273164443,
          1.5069037952476532,
          0.48036613331287803,
          -0.6970804646138743,
          -0.1034740249999705,
          0.42611844118291403,
          1.7181988956708971,
          -0.14880872420562768,
          -0.8608961760184044,
          -0.21186655948989583,
          -1.2074405624776137,
          -0.24447286527723025,
          -0.11108361445809367,
          0.4331828913071646,
          -0.466665993045657,
          -1.8413507629642492,
          -1.0214066744382932,
          -0.4975884880865207,
          -0.6844849178178241,
          -1.6697028500088247,
          1.9435278334052566,
          -2.590401210503965,
          -0.983288802277871,
          -1.5102450456487488,
          -1.5772672834448824,
          -1.374754747944519,
          -1.2001953198664022,
          -2.5500589751698004,
          -1.5609102360473246,
          -1.8902776392732576,
          1.6587543910014162,
          2.7931435870373336,
          3.3936697303588153,
          -0.3078197169386799,
          -0.5170085720229919,
          -1.9380674914976446,
          -0.8915763547993784,
          -0.9886668262046703,
          -0.5696178874425261,
          0.8795324448096457,
          -1.1447334158703655,
          -2.0065454067291424,
          2.8205742097621718,
          4.028986191210213,
          1.737225379649976,
          1.5655853810053761,
          0.07802122878736908,
          -1.8274876886852274,
          -1.950207538952984,
          -1.7354065296445789,
          -1.8699631356031976,
          -0.5644354650111923,
          -2.0061121385605514,
          -1.76341407841388,
          -1.8723008941323505,
          -1.863993220422242,
          -2.1058975606514676,
          2.9575397143169186,
          -1.9232812200626463,
          -1.7291945028487063,
          -0.33946039336050965,
          -1.4817947434057135,
          -1.3648272900680067,
          1.6184380633196063,
          0.6731669759445249,
          -1.3981525797114382,
          1.4897707598582135,
          1.0157432689846009,
          -1.0568509529743555,
          -1.7518249634932694,
          -1.2421958404602662,
          -1.933693872770838,
          -1.7598217040333735,
          -1.4555523482943329,
          -2.108294479868845,
          -2.0606660439063935,
          -1.4904194189397006,
          -2.0734945064138404,
          -3.9937547184628492,
          -1.780450300922481,
          0.41880137678603585,
          4.074252866889351,
          -1.654099602100135,
          -0.8706935586305714,
          -1.2311045301288561,
          -0.07788453537429942,
          -2.4434013956713945,
          -0.07625660353628295,
          -2.1318590249117157,
          -0.16461671372417563,
          -1.7771222855258417,
          -2.2929023354570384,
          -1.2277075421191301,
          -2.4270031251579978,
          -1.0198781946837476,
          -0.6385744256983862,
          -0.6162589382614426,
          -1.5903114999670265,
          -1.122686792400835,
          -0.7780117610925474,
          -1.2418348568152904,
          -0.4187722487021986,
          -0.5887610453578062,
          -1.425515750569962,
          -1.9236465210710885,
          -0.8321122702871236,
          -0.7103155395647768,
          -0.454578974505509,
          -0.5006469673618127,
          -1.3433860165170088,
          -0.5586881735072369,
          0.7183670596719592,
          -0.8757146430848194,
          -1.068489112956906,
          -0.3791907206345888,
          -0.5255270518176562,
          -0.4899308370179325,
          -0.15972671026188587,
          4.813777021504074,
          -0.8690009426865837,
          3.32155210544882,
          -2.579204212530706,
          1.5603981597326726,
          0.888896898914361,
          -0.4769077058258344,
          -1.3173980164012011,
          -0.4962570470088786,
          0.33757641276583505,
          2.1487550179202053,
          0.5205896223390915,
          0.0023903786712647125,
          1.4438543702229796,
          -1.7722920756714378,
          -0.21138765775075344,
          0.9097158032319762,
          4.844601565033672,
          5.666384156661315,
          -1.9417108967056613,
          -2.106550982409216,
          1.1407962580835311,
          0.23103463786948483,
          0.42561757819746343,
          -1.5657114923930804,
          -1.5657114923930804,
          4.244480994355993,
          5.176708744973612,
          -0.8596027093370092,
          -1.0270738870476306,
          0.3751242769202251,
          0.05181137151232419,
          4.5825538452044885,
          0.5168944033678448,
          0.06057426972990712,
          -1.778492725569419,
          5.408174041012416,
          2.532775701991873,
          -1.5302866131478003,
          -1.0610339222842107,
          -1.0947736380529187,
          -0.9227741339323368,
          -0.9605533109182782,
          -2.132240077056637,
          -1.6689001793002776,
          -1.4351673016485855,
          -0.7169772246162468,
          -0.9568264963416656,
          -0.941687570731499,
          -0.4133385047052846,
          0.16883070258110022,
          1.432249342016978,
          -0.7813213297476466,
          -1.127128114759532,
          0.6524595908390038,
          -0.69274030140422,
          -0.6732878229230729,
          -1.141479992617011,
          -1.4892770702646903,
          -0.35535854852106763,
          1.8294487165805144,
          3.6560772718222267,
          0.7261799401622563,
          -1.8969714198549814,
          -0.41939395144300995,
          -1.2730663318838358,
          0.10397499296520867,
          2.0964836415896606,
          -0.8776788935290587,
          2.5299097893625837,
          1.0082003519061753,
          -1.8902776392732576,
          -0.4220782534476111,
          2.109005714349948,
          -2.3715612187519293,
          -1.044438834763484,
          -1.231131615579877,
          -1.1776970800546376,
          -1.0345327312064299,
          -2.723466640316101,
          -1.710442011355728,
          -1.9914059300228166,
          -0.6226927475906395,
          -1.0468527623234287,
          -1.2900248382332735,
          0.1230911297326619,
          4.65240368969126,
          -0.40462364134067363,
          0.44300179735362083,
          0.7869224265474053,
          -0.5605651851159851,
          -0.12843809243295434,
          -0.5314028806277066,
          -1.0238290888621409,
          3.1748797341320336,
          3.859538766764739,
          2.6026231331657717,
          0.1583326346192804,
          -0.7710403655798258,
          -0.4995419530279289,
          -1.2938074605601002,
          -0.35805426889126407,
          -0.8371847600040475,
          0.2332762265516238,
          -0.0885213858559192,
          -0.6084691009396388,
          3.8798628593031754,
          -1.6480835900823718,
          -0.07920628817761236,
          0.18122554674263408,
          -0.7235894288501383,
          0.38067681393629765,
          7.226544609014919,
          3.401539713522076,
          -1.415927909145327,
          -1.9127960305645064,
          -2.0174373591629924,
          -0.8956325749527946,
          -2.2603496043111884,
          -1.9407337361195247,
          -1.4539395308420215,
          -1.9899331345222495,
          0.5563608894958322,
          1.36557412745892,
          -0.6778354788931377,
          1.487258627957035,
          -1.4237008451336213,
          -1.2748104198497423,
          -2.5524611671940125,
          -1.7375662708101334,
          0.8903585804759296,
          -1.351406689579025,
          3.6734951616390203,
          0.238939795485507,
          -1.800938059715405,
          -0.6930082747630658,
          -1.1302346153383853,
          1.0424609969554544,
          -0.3854930285215774,
          0.48080268984702146,
          0.3696015150662239,
          -0.24312431299061135,
          -0.31429896661330303,
          -2.122990542540928,
          -1.772924699564336,
          -1.617369675471301,
          0.23810845387496724,
          -0.4833916699937413,
          -1.7273711551849689,
          -0.1019880455330476,
          0.5055144803084022,
          -0.7131430817527233,
          -0.895122820112364,
          -1.059789093472062,
          0.36743215471166635,
          -0.3275524799958206,
          -0.15392290335129133,
          -1.0079751959068277,
          1.3312267508392603,
          0.14879178398842086,
          2.5937576493924195,
          5.280198100270835,
          2.6125401236233965,
          -1.2429187294667818,
          2.8834607480253323,
          -0.8454958932986626,
          2.125563179636889,
          -1.2848447129982978,
          -2.3335290439494845,
          -2.3874608455512782,
          0.47081022186238447,
          -1.8703654091300093,
          -2.604864563143926,
          -1.524958547998181,
          -1.9311352130461579,
          0.15925914311312794,
          -0.33685427467472523,
          -1.7238132206500603,
          -0.14523173932935932,
          -1.1513324744387918,
          0.532905420322185,
          -1.9612249102027275,
          -1.2399292163761007,
          -0.9213520425348972,
          -0.29344934812890405,
          -0.7878251517408997,
          -1.9817641589624,
          -1.7244851503949081,
          3.925517286069735,
          1.5942931299634584,
          3.186335317997048,
          0.9775969311537851,
          3.5867432508255206,
          2.647745049799361,
          5.2702177596449715,
          -1.7082485977385509,
          -2.199803980460221,
          -0.0657808177900542,
          -0.8368706284559644,
          -0.7854677175050836,
          -0.20916402742117857,
          -1.7085754585994817,
          -0.20916402742117857,
          -1.3997320777127062,
          -1.0909590554136062,
          4.169466471505719,
          -1.3684630603624202,
          -1.9324283671873026,
          0.11061706995923652,
          -1.83180715411945,
          -0.95985713876415,
          -0.2019259178707005,
          -2.3224821040846453,
          1.2956242638589617,
          2.439938968042468,
          -0.0034299770508504036,
          1.968987870792325,
          -1.8110394558681597,
          -1.2760228016973982,
          1.7512646091908464,
          0.0473548425080288,
          -1.4262864308855516,
          0.811924586792646,
          -0.33516147313772576,
          -0.28854191440586185,
          -1.9135217129716544,
          -0.4450657468956548,
          -0.3898013592395578,
          -1.0965604946490612,
          2.8632445586955453,
          -1.0064366536641467,
          -1.6679956265557807,
          5.037072097193787,
          2.3072516687894193,
          0.9817234747421203,
          3.0232908871047797,
          4.1170107344729825,
          4.113361444554915,
          -1.7640887933065441,
          0.15200397301154697,
          1.010057474777607,
          -0.09826825918659779,
          0.7454678649645954,
          -0.07912913968776629,
          -0.5869929672815045,
          0.06137656758641656,
          -1.249318554441786,
          -1.162532956966597,
          -0.5446464357178712,
          -0.5257359411169934,
          -0.6973969041449735,
          -0.971960047766898,
          -1.7113924337417692,
          0.6626099536052513,
          0.37990667046115645,
          4.3531727623868335,
          -1.750511188321822,
          -2.6082819147952385,
          -0.7744430956484707,
          -0.2904984597290885,
          0.19347918400083872,
          -1.5005648417719317,
          -1.3802231760043508,
          -2.5201491133096083,
          -0.6742590697690056,
          -1.2280633296074588,
          0.4229742125954434,
          0.19347918400083872,
          -1.6139893679672423,
          0.24592070134156965,
          -0.9320241203449566,
          -2.029188215364679,
          3.0861648235299444,
          3.289630235628946,
          -0.8430280926050694,
          -1.0191080260121497,
          -1.2581311719443307,
          -1.4293847145323797,
          -1.2280633296074588,
          -0.8918518314853019,
          -1.162532956966597,
          0.3320094024663956,
          -1.400615775117919,
          0.47495516260105386,
          -0.328538311121657,
          1.2317234135229203,
          1.8982351464781337,
          -0.827204473677134,
          -1.1182953375910345,
          -1.2140979999974255,
          1.4102809155728917,
          1.116255824414092,
          -0.9625261685035056,
          -0.22774342883917076,
          4.820483671447003,
          2.8066726781677898,
          -0.8910597762575768,
          -1.4197100225439536,
          -0.6373053624231049,
          2.667811075962945,
          1.3709647550842807,
          -0.8509927620370403,
          -1.1349369532310416,
          0.30831398576217517,
          -1.4183221756409592,
          -1.1093252736015071,
          -0.7858824490959331,
          2.1433565649047113,
          1.699803481395565,
          -0.5767423202391143,
          1.1753290502836977,
          0.7683249437917381,
          3.067247968624566,
          2.1713827731880695,
          0.09109228763953062,
          0.1742419604951189,
          0.31907993640080934,
          0.52770837574686,
          -1.5891418340117438,
          -1.807906374375225,
          -3.0009494117127993,
          -1.568343055410002,
          1.253132096652605,
          0.4800788069577334,
          1.1470176346512169,
          -1.3095170917389245,
          1.592938815983414,
          1.0710420132491276,
          -0.6277790692076214,
          -0.704989190263325,
          -0.3660994904340914,
          -0.48717640946067053,
          -0.7621598571323493,
          -0.09005428008472874,
          -0.14868520555968762,
          -0.2507783494082095,
          -0.7043224955062204,
          -2.109018269583259,
          -1.8793340708111208,
          -1.4483273104314518,
          -1.6855200932596457,
          -1.8814813682552232,
          -1.4090316369170108,
          -1.8761815210993211,
          -0.4113534767140592,
          -0.866203259858258,
          -1.5843624105760052,
          -2.442834751812607,
          -1.0024189493957536,
          -0.7470110613107912,
          -1.2099907754251196,
          0.8179688501593756,
          -0.3212642807458108,
          -1.1398522347318438,
          -0.8437018248035677,
          2.042252885206129,
          4.763938610263661,
          -0.8284168584098419,
          -0.6352570447275009,
          -0.8515059856345196,
          2.2461767341646777,
          -0.39823929265682884,
          0.6404987805565767,
          1.2643075804942276,
          5.199354627810795,
          1.8583829004360735,
          0.719791712541874,
          -1.8100918480866635,
          -0.051435894770324106,
          0.3738921019551169,
          0.7611727109350742,
          0.8241113127768855,
          0.5550844565870722,
          0.740041098807446,
          0.43047588600987696,
          -1.191337601353448,
          -2.01962908389207,
          -1.036229851950723,
          -0.6266858975965702,
          -1.7617435578112282,
          -1.948450633342283,
          -1.0008080358122442,
          -1.9465609399407118,
          -2.4761756352926856,
          -2.6575800924276165,
          -0.7988177186083166,
          -2.1323643057110786,
          -2.5641686556704375,
          -2.1305638358695553,
          -1.0271095058981732,
          -2.2711827620735545,
          -2.9955679707193217,
          -2.0137771473781374,
          -1.5437600629004609,
          -0.5641657478210641,
          -1.9539615900671419,
          0.13531177462093807,
          1.5240830508840988,
          -0.38979132753569956,
          -2.147249054111006,
          -1.7165767230653308,
          -1.7102416567782452,
          -0.2945681091475031,
          0.6183200167274993,
          1.1050523168212663,
          0.013477089149455657,
          1.3552239026426223,
          -1.4987842085344645,
          -0.8367365709615099,
          -1.089286924134,
          -1.181568236061591,
          -0.8359986265401647,
          1.8064229455207172,
          4.57352228553585,
          -2.3895472039584997,
          -0.8875625801717626,
          1.5623932472527662,
          1.6129921406346883,
          2.3782870107067726,
          0.24814725641207422,
          0.873145343223988,
          -1.7647645267425422,
          -0.1313915075942335,
          -1.6129773081287329,
          -0.5758965096135334,
          0.0734201277300865,
          5.948310252700196,
          -0.2603117476767192,
          2.343952977423158,
          -2.0317748746875957,
          -1.3422308343188216,
          0.5257049943117342,
          0.2204243997714497,
          -1.4231533307505302,
          -1.9680325183749647,
          -2.4900041877896313,
          -3.6403170139945296,
          -0.7100689834528795,
          0.1803774457546662,
          -2.7307792390101295,
          0.6051493269356287,
          -2.012226808574385,
          -2.988237786590673,
          -1.9881226567087886,
          -1.100181105675231,
          -1.6322560102481372,
          -1.5585212785368727,
          -1.2003769056176083,
          -1.151803565517245,
          -1.562657540876253,
          -0.7030185679656767,
          -1.5109878564250232,
          -2.0949762564053693,
          0.21820803727112198,
          0.2810209256473462,
          -1.599901598510911,
          3.6364376718953944,
          4.377634569812743,
          5.517832620777444,
          -0.1559322046983311,
          -2.7823545006812145,
          1.7058186045512929,
          -0.3325634464411625,
          -1.5606335978828185,
          -1.4666166729454644,
          -1.6720377493956826,
          5.050054496026231,
          -0.421130235195868,
          -1.4156805781784683,
          -1.031017531753144,
          -2.0594619338254345,
          -1.1993121002513574,
          0.8418391167498273,
          0.52770837574686,
          3.200054060466446,
          -1.0918956593169196,
          -1.6640321370290694,
          -1.7940379519331613,
          0.2675915444468301,
          -1.1761461616742317,
          -0.9236608800933425,
          -0.7383878592737926,
          -0.7370115676562268,
          -1.7260061487881724,
          -0.8276749826467551,
          -1.098188925827513,
          -0.06860373314219266,
          -0.1984230049980892,
          -1.725288288425194,
          1.9027041250642667,
          -1.204137746931998,
          -2.1467615740377126,
          0.5675226390225938,
          -2.7378605856359566,
          -2.364673522999302,
          -1.5159051852544074,
          -1.1991820155424169,
          -0.23901879110390337,
          3.7555101009976406,
          -0.9172187524603727,
          -0.6027578678703451,
          4.365128553031846,
          1.357052659263262,
          1.0610805001881742,
          -1.0918956593169196,
          -1.0918956593169196,
          0.37990667046115645,
          1.0507517772310697,
          -0.8347222062997987,
          -0.43629024499739405,
          1.839346014750081,
          0.9749323262388504,
          3.5998474603595265,
          1.3878500421641142,
          1.880899893264135,
          -0.24102161445379205,
          2.524288141841366,
          1.8226454879784857,
          2.3824054687967244,
          2.7160711465674616,
          1.3400521098127416,
          2.067508571190597,
          -1.3774147805614492,
          2.11690171280941,
          0.4725370812856799,
          1.7005090330279182,
          1.0124138734776396,
          1.4638489861406838,
          4.517415285770565,
          1.6062390664664266,
          1.5090985483914148,
          3.328173071321642,
          -0.7586867391814033,
          -1.971089378520746,
          -2.6279453478185064,
          -1.0959217221133757,
          -1.7330340393361567,
          -1.5509421569582738,
          -1.9153264230825657,
          3.2865430676300673,
          -1.8853012598366474,
          4.031929446383433,
          1.0917032949632026,
          -2.099589175122621,
          1.6077515138179546,
          -0.733899633149502,
          -2.3299231668522853,
          -1.671499401380419,
          1.32279369292337,
          3.2245788048711375,
          0.8493078136160133,
          -0.8991050041159989,
          -0.2596369783110555,
          2.487845989688522,
          -1.005738107458144,
          3.7826527020996865,
          -1.9157679231230451,
          -2.0026233957398736,
          -1.6696448272331195,
          0.35150546256900744,
          -2.446048369204399,
          -1.76190193563535,
          -1.651777456767838,
          -1.6237547621234034,
          0.8957766323986612,
          -1.8642286743270577,
          0.05337344824099834,
          -1.6425344618411386,
          1.3552239026426223,
          0.1462460887456516,
          5.858209721616867,
          3.718031260960786,
          4.993793590175093,
          1.8999455539621668,
          -0.812785459766311,
          -0.9882751706880348,
          0.6321516301100969,
          0.013416667960795355,
          -1.2772504087424363,
          0.575109529383852,
          1.8650579113698975,
          4.510568593122145,
          -0.0844990555337552,
          -0.24164638031297822,
          -1.9830682310610857,
          -1.8494850568377137,
          -2.507249276942516,
          -0.31208753852228244,
          -0.19799516276388046,
          -1.9132406824951929,
          -0.4667570855707589,
          0.5301321114835882,
          2.805989237136695,
          0.6503978876248554,
          4.008015267389633,
          3.0007464182467096,
          0.3032852502015833,
          0.7826398955578459,
          -1.4792219052824103,
          -1.3563827742337007,
          -0.9660709260830572,
          -0.05259932417507784,
          -1.3776523091749264,
          -3.0725256635991176,
          -0.4751356317600314,
          -3.026756059954507,
          -0.832511187274471,
          1.7747900310136326,
          -1.028069158806706
         ],
         "xaxis": "x",
         "y": [
          -0.011146290126823144,
          4.498483040491565,
          -1.2584950530912358,
          -0.9316902391794337,
          -0.999860557569932,
          1.449198795216129,
          -0.15349105666352092,
          -1.097694828591705,
          -1.2029511963611903,
          -1.672071018582591,
          0.6245816077119476,
          0.3542795183340962,
          0.6218862595041155,
          -0.7257260770647116,
          -1.7533744258913724,
          0.09456002264657504,
          -0.7607765416859088,
          0.09023324070522751,
          0.6354891072036861,
          0.9549247299482817,
          -0.8173396601849985,
          -1.247097965100212,
          -1.0384504583107186,
          -1.847753052436399,
          0.3664056587919295,
          -1.0939423326821651,
          -0.5130725914703969,
          0.19285191038163382,
          -0.40850583478902225,
          -0.40191277686913435,
          -0.5390360868356446,
          -0.5093297116411073,
          -1.5551823065201948,
          -0.3275202482615806,
          -0.11881659332814455,
          0.6359085300784649,
          -0.5876810821821724,
          -1.6234813101233747,
          0.926155447236256,
          -0.002583714634444916,
          0.9482384115361023,
          -0.43252723603061133,
          -1.0477234546789898,
          -0.5884127949167791,
          0.10962376719394754,
          -0.1763156263830329,
          -2.2313108525205174,
          0.3421759568804064,
          -0.13393724871445684,
          1.8282937839211086,
          -1.5586608599510345,
          0.39413770702294487,
          -0.16899555980659306,
          0.6402870848131595,
          0.7535261568595858,
          -1.0071979202008519,
          1.2513815447321528,
          0.728379525405048,
          -0.3155870920706924,
          -0.3743084277381318,
          0.6971582660739032,
          0.49078150228465356,
          -1.4496313293936158,
          1.402223715478251,
          3.1825154078065783,
          -0.13343620635138345,
          0.7231412843907891,
          2.435673232412768,
          -0.6624452959667989,
          0.8828610649268477,
          -0.45399742433685525,
          1.2895652026945366,
          0.7021569500085985,
          -0.032120349417953345,
          0.15589311833334843,
          0.04483740558801506,
          0.7644853720457676,
          -1.870083008671787,
          1.942401413073398,
          -0.5355532328520171,
          -0.7101916522494027,
          0.6821340814378516,
          1.5096042889137309,
          1.0677125248492434,
          -0.20319345565050426,
          1.9000703759917104,
          -0.9569272319374208,
          1.7957948181498637,
          -0.5045512816835362,
          -3.0351142354928853,
          1.1858743295178062,
          0.8760206158908892,
          1.0658710831443403,
          0.8982598530428655,
          -0.10984688935739927,
          0.7719022721632365,
          1.1990816803218627,
          -0.05275616015040404,
          -1.8569894900465944,
          -0.32643552532892095,
          -1.693948184066829,
          -0.1043879637646188,
          -0.14531043781235484,
          -0.4996968944645948,
          0.3260647888357159,
          0.5077876996618997,
          -0.05048147181217352,
          0.4746966598255524,
          -0.38797355248059695,
          0.9981145621078836,
          -0.06458868577411624,
          -0.16680607960514143,
          0.6183612930258773,
          0.34667897728901587,
          -0.8498816694047568,
          0.02828535453093951,
          -0.4309880876226695,
          0.9716433758065662,
          -1.0005494442087883,
          0.566529012538569,
          1.1465811195267996,
          1.3964744337562995,
          0.4331926430237941,
          0.09286868670805477,
          0.2827170296635815,
          -0.467511954643543,
          0.30059066562798675,
          -0.2568312192639176,
          -0.7082299299146106,
          1.9653556872423221,
          0.5402660920588384,
          -0.4733052245128063,
          -0.4590570749385385,
          0.17712840735323768,
          1.3226057430132456,
          -0.18364572119185563,
          0.5715418725763827,
          3.1825154078065783,
          -0.2252076926587144,
          3.3372777729058725,
          -1.1787016560533603,
          3.3372777729058725,
          0.8919286352285134,
          -1.66212293410152,
          0.9126518916872698,
          0.04544220504715622,
          0.15799090914535033,
          -0.3881116746652962,
          0.769384106786228,
          0.31652003537511114,
          1.58999773534313,
          -1.9047868000468384,
          -0.9570850389300154,
          0.22303451284725928,
          2.105384987244773,
          -0.6995465461225101,
          0.7111076327776106,
          1.0092401714194612,
          0.3238118826696462,
          -0.16319434873238017,
          1.0404375904923142,
          0.6564793989659149,
          0.3951741514894207,
          1.241010433821304,
          0.3769590932264074,
          2.4618886452370767,
          1.2357005578886244,
          0.2634743406935088,
          -0.31498030623084483,
          0.5105081730241827,
          1.1597876950391828,
          -0.15864705407279034,
          0.29605844599103437,
          0.08484118937578762,
          -0.7467089182464847,
          2.2114132179374684,
          0.08320541248182164,
          -1.0443441784920693,
          0.19123446817489198,
          0.6089226265344313,
          0.7789952619638912,
          0.9523723915944732,
          1.0296391405424676,
          -0.3626701596053841,
          -0.9711390263760902,
          -2.642486423345216,
          3.1033319622259365,
          0.2161930877317935,
          0.014957619740980397,
          3.9190384728573697,
          -0.5723148273970246,
          -0.9986452552999883,
          -0.9516486023188405,
          -0.6906988660514805,
          -1.1840841818426275,
          -1.3006189908905765,
          0.5947979963623192,
          0.08054162638613474,
          -1.8790387512323177,
          -0.33885212574193235,
          -1.6309491743985527,
          -1.0941715165686379,
          -2.446461747927904,
          -1.1407059930266417,
          -1.8453286786660492,
          0.6507379346285566,
          -0.47118087570082035,
          1.0197325913084645,
          -0.2733651563736544,
          0.017367780195283698,
          0.7744178910726908,
          -1.1653490752846156,
          1.5829275370760416,
          -1.284553040192646,
          -1.3462327707720678,
          -1.1924586912170823,
          -2.35522098291951,
          -1.6350920282524644,
          -0.7943134394819888,
          -1.5948015187911306,
          -1.0367744163767687,
          0.23834202586568992,
          -0.9150329918104086,
          -1.6791143643828934,
          -1.114008183778782,
          -0.42641535088457316,
          0.19720315170070013,
          -0.7675781583836283,
          -0.6634064026910867,
          0.018494863427136878,
          0.03239395742923374,
          0.5429849610833236,
          -0.5502293308844978,
          -2.587755947082537,
          0.07003755588593027,
          0.7387646468178278,
          0.8517448089595107,
          -1.00453921235597,
          0.022744918930619633,
          1.1028840070236035,
          -0.9711482695074355,
          -0.5747759434969195,
          -0.7041665708533729,
          -1.2590290776964828,
          0.5110837248386944,
          -0.4473929302746717,
          -0.7770987572885044,
          -1.5128098061317319,
          -0.010119072281301406,
          -2.65651704428365,
          -1.8578537653499536,
          0.029678348751542186,
          -0.48811766008405016,
          -0.46263501008077446,
          -0.6323213193002101,
          0.8689648267049033,
          3.2404775080304895,
          3.2404775080304895,
          0.02389228731724782,
          0.6703963948146874,
          0.799662743159949,
          0.583373716414941,
          -0.11689578549234328,
          0.7123683209024155,
          1.531094807331233,
          -1.6069800221607176,
          1.8559942570662096,
          0.04437539980395495,
          1.2105451052359477,
          -0.6133121765032425,
          1.0809283795560007,
          -0.21205336988886178,
          -1.181891002333822,
          -0.7775444494726174,
          -0.6234088227383893,
          0.5694778943370095,
          1.7175189370213617,
          -1.0189490622171706,
          -1.1180976339575937,
          0.5457794249420169,
          -1.2203204394225358,
          0.8906898331423558,
          0.9608276029309013,
          -1.2672613034227662,
          1.6835784222939167,
          -0.7047166607825179,
          -0.6445389710374169,
          1.7118067203121354,
          2.0700335917909656,
          3.7740953500324257,
          -2.5264020438823342,
          3.027705154585713,
          0.7863022708009566,
          2.8536627519810103,
          3.7740953500324257,
          2.0513570557630825,
          1.4012277428553173,
          -0.9266969511957178,
          -0.6326476919953282,
          -1.127956307161736,
          -1.1810383810275704,
          1.957537768774418,
          1.9979683623798505,
          0.06784792539787204,
          0.5362425827548243,
          -1.4777415250203865,
          -1.9777901671231997,
          -1.109664549106411,
          -0.7895282956595114,
          -1.4068333771286479,
          -0.8359585182991209,
          -1.5475653090428998,
          -1.204676248070083,
          -1.6143833336086209,
          -0.5314998546403863,
          0.18027712010472277,
          -0.7320794166920238,
          -0.03506686939659783,
          1.9807742361710299,
          0.422329423292045,
          0.2836067607286728,
          -0.6255932639365411,
          0.7112353207108768,
          -1.1077101885611715,
          0.48824908011310536,
          -0.22795730447657783,
          0.19717824977674173,
          0.3150319980462664,
          -1.2672613034227662,
          1.1177165541627039,
          -0.4457172777483628,
          -0.8138693535483442,
          0.3178642790899811,
          -1.1464663024558046,
          -0.17714161009328028,
          0.34844421110531804,
          2.4064049724463206,
          -0.0003525217776418299,
          1.8873203415832411,
          -1.3725204164548286,
          -1.2657688377536693,
          -0.6949733179444159,
          1.8873203415832411,
          -0.8101213187323145,
          -2.9183415164682804,
          -0.9151402576715312,
          -0.98948693736154,
          -0.29923272082723945,
          0.4760198718631175,
          -1.5094498562717875,
          1.8873203415832411,
          1.1113603909961733,
          -0.37497601475159104,
          -1.2545771481814079,
          0.9048464943468968,
          0.1449198321361033,
          -1.0798413560153637,
          0.8958070512138059,
          2.0607557633872715,
          1.3380694906666475,
          -0.7927850799344991,
          0.7801239402947859,
          2.3890026316786575,
          0.010923878415342737,
          -2.7011628810914106,
          0.30716006665628415,
          0.4060177721073523,
          -1.7931461706698169,
          0.6582528726690426,
          -1.5634644260717638,
          2.415054241488729,
          0.5843336029259837,
          -0.603841855622088,
          2.2825376777124333,
          0.5348228328720833,
          0.4434997849539595,
          -0.6515118089357844,
          1.0533504658934278,
          -0.05684593511018274,
          0.7667072369066975,
          1.992429924558508,
          1.6650019235103042,
          0.09891338575271595,
          -0.21030445971978107,
          1.404959187868922,
          0.6572987131801546,
          -0.7572609888099848,
          -0.42897885501636723,
          -1.1663827255438737,
          -1.0375737857811491,
          0.31776025996952073,
          1.177027282599026,
          2.5220133022988462,
          -0.3556569717547148,
          1.2739159471111883,
          0.12552664107296047,
          -0.044436888535212986,
          -0.959882679569586,
          -0.999461769410367,
          -0.17192238560156825,
          2.082504766964756,
          9.808615665275747,
          -1.9109995363880048,
          -1.5953448853504677,
          -0.20772046078352724,
          0.3837984365774665,
          -1.662233872687946,
          -0.5449138158014992,
          0.39260421140156265,
          -1.0816366373679893,
          0.2533103235365405,
          -2.393874721053959,
          -0.47150127593609653,
          -0.1756116728172274,
          0.7451440430086244,
          -1.6873495018786007,
          -0.20380451675243486,
          -0.6772495315786103,
          0.4515441159027938,
          -0.4727486064660546,
          -2.6124788945229906,
          -0.5263262266185571,
          0.8079535533547771,
          0.11383168486562406,
          -0.8406691236039672,
          -0.07662975110137597,
          -0.5132639481080149,
          -0.5820581328286768,
          1.4966189151479752,
          0.21591294181917067,
          0.8749333087385127,
          -0.49583472433259734,
          1.2667969389178957,
          -0.6352214968617693,
          1.711686248449097,
          -0.05981311705813945,
          -0.6497724736162334,
          -0.6584021042342962,
          -0.11984531532774705,
          -0.6498927216938711,
          1.6583247694069483,
          2.002139326406231,
          0.1046709494493282,
          0.12593071239530473,
          0.9211842808505293,
          1.1566985880876255,
          4.137971827721908,
          0.45103399100912644,
          0.739275397907975,
          0.7802223761612854,
          -2.0010115300907696,
          -0.5462424385825625,
          1.2886913072683845,
          -0.4138934852797084,
          0.5142060333389613,
          -0.19834002790450053,
          -1.1325191168425928,
          1.0888335146592383,
          -0.8852774981108746,
          -0.2595736667103282,
          -0.33655960124604084,
          -1.438302060594877,
          -0.855368929785127,
          2.037415663490337,
          -1.084980509930826,
          -2.6249725104295476,
          -0.29118493718810756,
          -0.9406771827196848,
          -0.861963872730547,
          -0.7446552433346807,
          -1.5806404300447312,
          -0.24540199652620712,
          0.16613234798095214,
          0.2552234665149183,
          0.8974807722274416,
          0.6208671719375568,
          0.28059253069265977,
          -0.6340873085014088,
          1.0661851762831895,
          1.5503964871266407,
          -0.7612398420860161,
          -0.06922749235527319,
          -2.1577156365998027,
          2.1872713095153946,
          -1.3215548520622278,
          0.7356238326523722,
          0.7673642510824712,
          -0.06979929244776192,
          0.4886676650433199,
          0.26698121988756573,
          0.7328123563979592,
          0.5861214875061436,
          -0.9953858151396175,
          -0.1775952252056404,
          -0.6764116893753355,
          -1.2989213224117389,
          0.8921496309187898,
          -2.267536479736287,
          -0.6406026434243621,
          0.08160718107044501,
          0.7976536903440744,
          -2.5319163057702387,
          -1.0799014176355546,
          -0.19615586969321275,
          1.138417032076645,
          0.28707549080251316,
          0.4226851034531929,
          1.5804058973004473,
          0.7663364597659553,
          -0.6146786963745633,
          -1.1175193421862724,
          0.6785761172927798,
          -1.1806363394390689,
          -1.2359788765089332,
          -0.31955324249624456,
          -0.3744071069079024,
          -1.8640708749147705,
          -1.7773287436540235,
          -1.9813608548146202,
          0.2570733598340701,
          -0.6155426574374916,
          0.2429255993826779,
          -1.1616324224085042,
          1.8958622798558815,
          -0.33566063651686157,
          -1.0694624857178212,
          1.7513158520768195,
          -2.4367945237996893,
          -0.7722764505011078,
          -1.181098950044977,
          1.9317052289038226,
          0.5716358610330144,
          -0.4666957497791047,
          0.708548757443371,
          0.2816180026787545,
          0.3907796891399518,
          1.8664572644859503,
          1.257051539574468,
          -0.025989927797273972,
          0.0829236931600072,
          2.212558250703968,
          0.3250617645608704,
          -1.1703087112108894,
          0.27426832099094806,
          0.708548757443371,
          1.1437392895821443,
          1.3752645944313222,
          -0.5836498678916403,
          0.19823214236745962,
          -1.61489478101997,
          1.0620864810567898,
          -0.9361637998069982,
          -0.02286677611898971,
          0.6613537913076034,
          0.3853063184308251,
          1.2299781646381975,
          -0.0778234875157704,
          -0.159236457551363,
          0.46279131029195414,
          0.8672704536836481,
          1.5854835718191624,
          0.7367549070529653,
          0.7140682739125941,
          0.9688369678118361,
          0.2512680239153447,
          0.513203911765992,
          0.8372222203501735,
          -0.35736707481577507,
          0.7717816493277003,
          -0.6074502986416007,
          -0.2694611797895204,
          -0.8556227790287764,
          -1.1068158657389353,
          0.1868571188794478,
          0.6816277954199123,
          0.9788842536594309,
          0.4520838728502229,
          -0.7983021441809093,
          -0.13385525664812747,
          -1.3796314186286878,
          -0.21078138640284316,
          -0.9811799170595035,
          -1.331994816318072,
          -0.19328093980775193,
          -0.2770836557895632,
          -1.9783775271564632,
          -1.37389275338927,
          -1.2024447361796224,
          -1.3080694576617187,
          1.7650475397544312,
          -1.1229156368814155,
          -2.7309258321583547,
          -0.8706224842112543,
          -0.5243173469086179,
          -1.1097479863616224,
          -1.2308039831949473,
          1.1494624022273876,
          1.9641977657477838,
          2.1785293823189726,
          -2.8135610607731607,
          -0.444686076277456,
          -1.3634716348410434,
          -0.6220149462494268,
          1.041680037069989,
          -0.3952177166580226,
          -0.19449469553584248,
          -0.3852608354914732,
          -0.06318642030526994,
          -0.06793988912861096,
          0.04752527244375033,
          -1.2880149374051064,
          -0.4742245086831723,
          -1.3815311599721676,
          -1.4991282734577815,
          0.10597497457687832,
          1.29772303897118,
          -1.4864565185645957,
          -0.04309271241806805,
          -2.3328311797700816,
          0.9425352116267067,
          -0.9782852103707473,
          -0.8375933378434279,
          0.24182119457517479,
          -0.8490077081291287,
          0.06737530831032386,
          -1.174535786255177,
          -0.6271315392818433,
          -0.5770669957486695,
          -1.344871269746922,
          0.23196544102466649,
          0.844519739090319,
          -0.40290098978720984,
          -0.00573621436111443,
          0.4499143340358715,
          0.6750056141422707,
          0.2826921428424729,
          1.2696072180370257,
          -0.4871801805221617,
          0.6108104896236363,
          -0.4948587314914136,
          0.11817817238234117,
          0.7334875142917876,
          -0.5180917961506771,
          0.18106416040857928,
          0.7146230917208725,
          0.7428997971628262,
          0.5593656303835142,
          0.48490533108278017,
          -1.0171259983707726,
          0.3878104905547079,
          1.6226377843395516,
          -0.17809704794334888,
          -0.12476503646774209,
          -0.29617796041093747,
          -0.2737989226362755,
          -0.926884148071306,
          -2.0380101122304195,
          1.450633713791228,
          -2.0579085201675196,
          0.033027310562341386,
          -0.6887356962529689,
          -0.5190815328898646,
          -0.7472663186110952,
          -0.8682390206907913,
          -0.23433916561783122,
          -1.405339282447932,
          -1.2981861098399998,
          -1.1127467506287045,
          -0.9768526143068064,
          0.6741636247927301,
          -0.9814765781246823,
          1.0934127148953345,
          1.1383910108144204,
          0.06965396958827842,
          1.9959801067556302,
          0.9755122541602335,
          0.6623848700199332,
          -0.8861233320777755,
          0.7021569500085985,
          0.736387085876714,
          0.23300896490671644,
          0.15532837478584358,
          -0.7151335683911888,
          0.4534623044762636,
          0.5953873912830409,
          -0.12083862405770196,
          -0.7904677532104017,
          0.7442943549477091,
          -0.5173945461923837,
          -1.3671815537397136,
          -2.1647606862810407,
          2.4065757701891544,
          -1.2491142295755049,
          -1.713805745486364,
          -1.1199854719256783,
          1.601971055773226,
          -0.7298052345060043,
          2.696272599035888,
          -0.35149643953172854,
          -1.7024709074298858,
          -2.602808344103324,
          -0.0018618573810410943,
          -1.678578747257525,
          0.17100843015583825,
          -0.26644865112001037,
          0.07288441826828183,
          -0.5148061391081226,
          -3.652147331222932,
          -1.5229955970088491,
          -0.3615044442366944,
          0.33209914601970614,
          0.06386128061298335,
          -0.06798773550581529,
          -0.06798773550581529,
          1.6600878927881175,
          -0.5499230709138861,
          1.165758976011194,
          -0.5731714708818122,
          -1.6661836834923502,
          -1.4165624627850466,
          -1.4308328180936032,
          -1.194397175358903,
          -1.4274095208739357,
          -1.1511209970770366,
          -1.4869190971071595,
          -1.5228713473950595,
          -1.451638209153418,
          0.17590165038654834,
          -1.2007541057312014,
          -1.157451330411486,
          -0.8775905383634293,
          -0.5753777267466652,
          -2.047746694373265,
          -1.2612019677118815,
          -1.6578915972040755,
          -0.9738377876979715,
          -1.3021828325620177,
          2.030428652041031,
          0.7354293886633647,
          -1.4150905188259986,
          0.5545644883197921,
          0.4961085640844215,
          -1.4305639637987226,
          1.607580280841643,
          -0.8012284798287428,
          0.6747351899313606,
          0.12194654885889722,
          -0.09902124256603836,
          -0.06924925887923138,
          0.6715536596689551,
          -1.1968649079150142,
          2.1785293823189726,
          0.712039654754188,
          1.0719117293828997,
          1.1478520740596865,
          0.6481283190597519,
          -0.596096602505419,
          0.2210938757975794,
          1.9766866328626067,
          0.06676449711305156,
          0.914371397279819,
          2.846770826534305,
          0.14701877091225848,
          1.2816469698098125,
          2.846770826534305,
          -1.9407940206375207,
          0.045940278560432514,
          -2.1062436150146957,
          -0.7473077818496976,
          0.38133053707087294,
          1.1563480223931877,
          0.09832857235023809,
          1.3195450645550864,
          0.6838502211062919,
          0.9286327150239285,
          1.2197449477602849,
          1.1812618877138918,
          -0.24626779839356958,
          1.0543507232367981,
          1.6346249482684616,
          1.1208526375187804,
          1.1665004006106963,
          0.35920488968032716,
          2.93684443957408,
          2.359411015343149,
          1.5909270645632716,
          -0.21910571865285136,
          2.2780569687552243,
          2.6215188359867794,
          1.5149446421866526,
          2.1521154668475497,
          0.3527371550411674,
          -1.523959546980698,
          0.8283125934152248,
          1.451635892343002,
          -0.07205021415422934,
          -1.1760735761202985,
          -3.1982178651250632,
          -0.8201818438122843,
          0.6486029919662094,
          -1.8391905524002896,
          -0.295833278440796,
          -0.08593625358313166,
          2.1616477161589396,
          -1.5566511731330395,
          -0.19148102107685777,
          -0.7299870431004466,
          -0.772667625242212,
          -0.8789815373159129,
          2.5965949403301267,
          -0.9684721849669098,
          -0.012415922773762652,
          2.777631799250743,
          0.008146240049375463,
          -0.12915323542917953,
          0.6678652880289516,
          -1.5107021703796668,
          3.0731493555380665,
          -1.443861041606533,
          -0.5025097048772151,
          1.324207735558572,
          0.5827095805282637,
          -2.197356875373613,
          -0.14753873569748693,
          -0.48809535255463843,
          -1.3450083943612778,
          0.3268532613083858,
          0.8459249238174417,
          2.25246448203041,
          3.3049931546089635,
          0.03839524739570385,
          0.9816545686601089,
          -1.7461053753967264,
          -1.4139744288995437,
          0.10598670322735988,
          -1.122963178037593,
          1.3844106892201369,
          -0.16167197298894131,
          -2.254469623879283,
          -0.6869253409334284,
          0.790240759358228,
          -0.1497373230885103,
          2.028445670364841,
          1.0809283795560007,
          0.2532824348560136,
          -0.13986980407637417,
          1.5193532518080113,
          -1.5507576235702532,
          -0.8088935101256469,
          0.15044670458467174,
          -0.04500234018913824,
          0.18720132576080944,
          1.2968594264079585,
          -0.46262401581710755,
          1.0988180711853746,
          -0.42462718617279144,
          -0.8185606053174724,
          1.1197926281004646,
          -0.6119842950529525,
          0.2947456189667917,
          1.4551038711161886,
          -0.41001794748550086,
          0.5691942254362464,
          -2.5905991500480137,
          -0.1820295137480964,
          -0.8607013036745821,
          -2.296075607260326,
          1.3167076465878864,
          -0.272516903981177,
          -0.5566738862995985,
          -0.7152170885868775,
          -0.7028362760612356,
          0.06303033231618442,
          -0.9902208730061536,
          0.019724106704528694,
          -1.560139230215973,
          1.2645522348952976,
          1.738302222935586,
          -0.24957322851933744,
          -1.070252884350568,
          -1.2844295150086948,
          -1.2464356433071089,
          2.299329986298233,
          1.1641245992756346,
          0.7015448503931601,
          -1.5291054878331332,
          1.2451125043197084,
          1.2631399169680348,
          2.21037143600602,
          0.8690317957680919,
          1.7953295321679008,
          -0.2279979509833203,
          1.0354966936301402,
          1.7471850168622878,
          0.6393512413680966,
          2.732274605758199,
          1.9385695616987775,
          -1.4797811365083349,
          2.6268932317139106,
          -0.9871339708869402,
          1.5030130287038022,
          1.0529794513877158,
          1.2377964378668689,
          1.3964744337562995,
          -0.40502039300439074,
          -0.998248480858721,
          -1.5468837439767444,
          3.1825154078065783,
          -1.5412634785360082,
          0.8001407315361069,
          1.6262958353849513,
          -3.4389885917616048,
          0.5753938621894691,
          2.2122163894790066,
          2.4836772733523014,
          0.5885938945441717,
          -4.121183392702428,
          -1.3940325838598735,
          0.754024021484423,
          -0.9321725445352351,
          3.0281100691433376,
          2.288113163027971,
          -0.40786311925112856,
          1.1182369660441553,
          -1.3045923139922624,
          -1.0114715054304493,
          1.4550998217037543,
          -0.1164031822367588,
          -2.4161106590600303,
          -1.9796288927708383,
          0.16213361299953938,
          -0.4682875272625714,
          0.5913167294180824,
          -0.3108898220591178,
          -2.5200907369768566,
          -0.09431542449179783,
          -0.13783072116580397,
          0.644405198842415,
          -1.1620644660524422,
          -0.5610637779327754,
          0.23168889026857648,
          -0.5581193468046423,
          0.21538909230151654,
          0.38654712958519066,
          0.9889416595795415,
          0.7515095953074529,
          -0.23329405373395812,
          -1.2297478871028982,
          0.8201643769410961,
          -0.15882043442039265,
          -0.7565388853115695,
          -2.112028615171624,
          1.8405369669807927,
          0.5764743024800887,
          -0.6914969477991739,
          -0.31577070586742323,
          -0.8810996699177823,
          0.8021470798848587,
          0.19347997695700592,
          -0.4260196653524405,
          -0.5943416563048255,
          1.4291872876100447,
          -0.16409245911004702,
          0.8120993643015318,
          -1.5026498422538634,
          2.5987795097546695,
          0.5293587436794362,
          0.7783608326259316,
          0.623813669058093,
          -0.1219194919350466,
          0.26791616106380695,
          0.42379064874775085,
          1.0686408169382267,
          1.4026574288018105,
          1.3879816561431073,
          -0.21462188479536504,
          1.532082671859618,
          -0.6503647631977216,
          1.3022033030346325,
          -1.3393116405859744,
          0.09681015173227828,
          -1.3155880062177099,
          3.283644768299007,
          2.7994210517958233,
          1.3470804164822852,
          -0.1810184569086127,
          -0.17543690178551966,
          0.6064345226532611,
          2.777631799250743,
          -1.823061749328645,
          0.13057729102599364,
          1.2313845008695994,
          0.3466045216035879,
          -0.09832938999496123,
          -0.09436777659232976,
          -1.8418970721984336,
          0.5570265612360726,
          0.338741160186537,
          1.0151455031556158,
          0.7643506416929172,
          0.08291424450270451,
          -0.10603512351487261,
          -0.0499987155088958,
          -0.8471965335774994,
          -0.7625426989529589,
          0.4494971789327838,
          1.1125741175253228,
          0.6084618967296046,
          -1.2541278438638543,
          -0.6314035129261282,
          1.296284905765051,
          0.24621207217738098,
          0.053941403926322046,
          1.495655414498419,
          1.7899910019342085,
          0.4706658161331804,
          0.5196573621206043,
          -0.09702344877198758,
          -1.6289827036759474,
          -0.14762103535583324,
          -1.0538483392871982,
          2.5754738973101494,
          0.3269827008452084,
          -1.0584835530918615,
          0.2810292146864922,
          1.4795346263809046,
          0.8726252657977516,
          0.019121467791141433,
          0.8287698711128344,
          1.1378368096175675,
          0.2635445790927007,
          2.270796542627966,
          1.3077206199092608,
          0.8185767880870024,
          0.6650768549335041,
          1.7874380723812975,
          2.0664051307236835,
          -0.3463926836305335,
          -0.8577415633782183,
          -0.346642969393336,
          -1.092281704365112,
          -1.3118166173906016,
          0.8976326080505227,
          2.5385277673135604,
          -1.1870387717949173,
          2.7869826184936675,
          0.25451437231873253,
          0.38936147667519827,
          -1.1071412055199406,
          1.6107705074878287,
          -1.173952508855417,
          -2.0616820132566853,
          -2.8053945963871154,
          -0.8831663371685486,
          -2.0633678994235916,
          -1.7987616717190242,
          -0.420731475326979,
          -0.6148024213290789,
          2.2743934499220657,
          0.1859934865096036,
          -0.5898593904191545,
          -1.2018199465962707,
          -0.11050871698377165,
          -0.574932097557381,
          -0.6406026434243621,
          -1.3543005202399963,
          -1.572566092403899,
          -0.6421207488010796,
          -1.7657936503406615,
          -1.4009596285162906,
          -0.5103533356941591,
          0.3136669597306123,
          0.1014872054628047,
          -2.227761661146161,
          -2.1663989305907414,
          0.9798370766144238,
          1.2933397156417648,
          -0.18737478514681283,
          0.3543719949788681,
          -0.49404574101390486,
          0.40820241461265394,
          0.07545889725107924,
          -0.02009748944254626,
          -0.5232755081075599,
          -1.1151845701111447,
          -0.035245472188089946,
          -1.7256356053318564,
          2.5653555509713506,
          3.7855980781445626,
          -0.5196969124319137,
          2.0225229491030827,
          -0.3273361120999751,
          0.902094411364327,
          -0.9310219539819895,
          2.5653555509713506,
          -0.9971014093097104,
          -0.2976292993379718,
          0.3241034095638709,
          -0.39729658274353324,
          -0.2918528030421965,
          1.2589704060075462,
          -1.1152716845022297,
          -0.606832770998988,
          -0.01960871852509184,
          1.857689027053373,
          -0.4460132004082268,
          -0.08888667464901617,
          1.222626739178814,
          1.3180419447934764,
          2.8347796606319844,
          -1.6881739103057376,
          0.8702582499121727,
          -0.6016329590871635,
          -1.652021668228839,
          -0.6742172913753631,
          -0.16801077379186385,
          0.6829368856864013,
          1.0166141420885206,
          -1.15735137008318,
          -0.9920311725425517,
          -0.30940759541017365,
          0.2731435477189466,
          0.01583870155865816,
          0.7240235934694037,
          0.870708059204128,
          0.21601977979558207,
          0.41830866017892504,
          -0.7748456390260197,
          1.6700907754335639,
          0.21471234273482293,
          -1.1733447838065583,
          1.0707460862605094,
          -0.5757347764161707,
          2.7914806372152126,
          0.8073484220482434,
          -1.0511858033336985,
          -1.1638906002201057,
          -0.9323783000383267,
          1.433845222952862,
          1.5482517667523985,
          -0.8243053696849094,
          -0.21727761748933577,
          0.740881970768604,
          0.7766444874755658,
          1.2466074522256272,
          0.7996077501042843,
          0.7098984500909356,
          0.15738238233608845,
          0.8291981600164909,
          0.41152118484001,
          0.1850701219470104,
          -1.0699889202336412,
          0.5477835991559185,
          1.0667926679701083,
          -0.877549168044139,
          -0.4112771774398265,
          0.09562702241928316,
          0.07627133581846164,
          -0.41211540420469045,
          1.265137659542962,
          1.135051836093589,
          -0.06337771493283928,
          -0.43546201406257484,
          0.7196787549342638,
          -4.402578912524442,
          1.9687208683682604,
          0.6555126013851424,
          -0.056040088055312146,
          0.3601484392440353,
          -0.33933105305157246,
          -0.05618864061894938,
          -0.7620360756541404,
          2.2765844364760235,
          -0.180978524873748,
          0.04741030706684896,
          0.9977781862139041,
          -0.10368604875802694,
          0.08477651925558338,
          0.8612425944740127,
          0.7906107892066142,
          2.2221531688980285,
          0.9271137572827831,
          -0.9330765738277931,
          -0.8988029806520119,
          -2.3137946958988973,
          -1.2620312997889211,
          1.531094807331233,
          -0.46980024727535535,
          0.8215286852076029,
          0.7262953082237085,
          0.3474608869182153,
          0.19331601407251847,
          1.4030209257013277,
          1.413647275085948,
          1.4846899884981595,
          -0.31071788634395936,
          -0.10512270723038931,
          2.788588196063789,
          0.6942665279067906,
          -1.6221205168196706,
          -1.535889125896975,
          -5.390230091324015,
          -0.053827145838085046,
          -0.2898665417593189,
          -1.260382298976928,
          -0.7803224545641393,
          1.5051495770311574,
          0.5803112501175949,
          2.0866649366493744,
          -0.18161001740644292,
          -0.6501600677716765,
          2.80050812955058,
          2.010684631814507,
          1.0261929757046138,
          0.8826209995591439,
          1.4018861885732556,
          -0.16219622891775748,
          0.25599546097227643,
          0.8691497060902619,
          -1.5011848488732085,
          -0.3200597277327553,
          -1.294499404202612,
          -0.5456178840144879,
          1.8888243208697049,
          -0.5729396178889075,
          -1.4908371626662968,
          -2.18982171077272,
          -0.6979816378653628,
          -0.2390529547481159,
          2.4092943529985393,
          0.925767584987674,
          1.5566745603483785,
          -1.0069374967242792,
          1.0084966732206206,
          0.9323963957092479,
          -1.0527303276752806,
          -1.2373064742887574,
          -1.061956511129076,
          -0.5555449222733359,
          0.9788842536594309,
          1.040825929876668,
          -2.8428263971497474,
          0.5180488529611254,
          -1.6905110652741537,
          -0.3262885111417051,
          -2.1300316136128106,
          -1.1278168907275699,
          -1.2815634859617286,
          2.4684970360729017,
          1.0838583358054035,
          -3.134978290334295,
          -1.641330681062714,
          -0.45250278470661276,
          -1.9522743211029667,
          0.4836229107519159,
          -1.4563425687414226,
          -0.1098731438504188,
          0.6158576137099457,
          -0.586895018425732,
          0.5769079407121158,
          0.9088328834540063,
          0.9740543609654411,
          1.4055402227803466,
          -0.4515041144129978,
          0.891818172817336,
          0.8975360796648466,
          -0.66219999790376,
          0.9635875557455993,
          -1.2252005169240592,
          0.8707039875644652,
          0.8253771930222142,
          1.0561426926150963,
          -0.940540793133953,
          -1.8287828386842497,
          -1.354012449305033,
          -1.6069800221607176,
          0.34601176774672215,
          -0.48224370036170416,
          -1.079742157652025,
          2.049442378801728,
          -0.6863589864441054,
          -1.2312058155561365,
          -0.44080777346317823,
          1.9103928827399015,
          0.032705837403535706,
          -0.20996796039133642,
          -0.6289580764774871,
          0.510535944090577,
          -0.9591936739663638,
          -0.6258817633061421,
          0.06520142346467601,
          -1.7822998845983409,
          -0.8405755615134067,
          -0.6824369774306114,
          -0.3050667357507052,
          -0.6683855409374183,
          -1.295209410343455,
          4.826559931350413,
          -0.3360372733285953,
          0.54042653517547,
          -0.12259444631687358,
          0.40405031095811206,
          -0.43068633033445286,
          -0.24231908854981468,
          -3.74630391549879,
          0.3903540292108662,
          -0.3559583563930899,
          0.06001886261223066,
          -0.8933600247286178,
          -0.8933600247286178,
          -2.0865163953577044,
          -1.7010795872307363,
          0.26067694030079985,
          1.0922593933929905,
          1.2345506751356454,
          -0.4882407877851645,
          0.4524186313225967,
          -0.8399721363552335,
          -1.5610763688475258,
          -0.575056263603634,
          -0.8381301731828623,
          -2.7309258321583547,
          0.7874939756284239,
          0.4911950927440053,
          0.3774487375210131,
          -0.9967827441174478,
          1.201041381518774,
          -1.6818591537753593,
          -1.4601155094272065,
          -1.4601155094272065,
          1.201041381518774,
          1.067042847919901,
          -0.4567946599848602,
          -1.224537885100136,
          0.64754004734593,
          1.7194337387580374,
          0.47215205017965306,
          0.13514671558855101,
          -0.28063377886379376,
          -0.35412608462657674,
          1.0318573930800452,
          1.7208456743530518,
          1.3009344093014203,
          0.4789975912632348,
          1.8697348981141606,
          -0.5914828614287028,
          -2.059037664516552,
          0.26757430621377537,
          -0.9853266239471618,
          -0.46048160047545417,
          -0.539151080784008,
          0.9443175429761785,
          -0.25995302986961716,
          -1.064985308912599,
          -0.23905742054502696,
          -0.7345811253619394,
          -0.08720400421958005,
          -0.048942049376888425,
          -2.86575963471272,
          0.6414594616910219,
          0.6520037893508113,
          0.2747868787312038,
          -0.08784013708631266,
          0.6768356895737317,
          0.35920674858526874,
          -1.3101377947307808,
          -0.06956410118681514,
          0.21875627038952872,
          -0.10658644268281076,
          0.32576837086843935,
          -0.29243541414912305,
          0.6336547576565376,
          0.3133456930887114,
          -0.5032505939465272,
          0.5371220456325404,
          2.3743377142720057,
          0.2790429935717422,
          3.1922750681240455,
          0.08380126477325363,
          -0.3451750248005216,
          0.6167098993104877,
          -1.0792900548148576,
          0.14936143468670002,
          0.44470993270299514,
          -0.5114790901334076,
          2.1785293823189726,
          0.4572206020731489,
          -0.255561232605327,
          -0.8074208670098926,
          0.9472386308757965,
          -1.2426905814373934,
          -0.33641761852626106,
          1.073665137318419,
          1.1904782212570617,
          0.7623681292410837,
          -0.6732696472195199,
          -0.6440393410699302,
          -0.45697957291096303,
          -0.935521474283268,
          2.9929437226692404,
          2.726004010412565,
          0.5718932501658414,
          1.5889260213849854,
          -0.20647348498483117,
          2.5038347489576886,
          0.2961501475715502,
          1.0846189796399612,
          -2.20220953113504,
          -1.4404515406505773,
          -1.282157258364377,
          -1.0392645050027756,
          -0.8359784282430518,
          -0.30479871560060134,
          2.072970576974863,
          -1.858685903553428,
          -1.2049475634533084,
          -0.5032153485091926,
          0.33624312056904254,
          2.564961981122825,
          0.30175743185269727,
          -1.7667927291437782,
          0.8235435410088728,
          -0.22551329798239125,
          -2.7309258321583547,
          -1.6613392304245773,
          -0.5014512201902236,
          -0.6092820716180186,
          0.8458223801724106,
          -1.9773985178392335,
          -1.053851972624269,
          1.860797620854681,
          -0.33956864941393444,
          -0.9174984834704706,
          -0.8125754547368478,
          0.1430170152730149,
          -0.43627379330685706,
          -0.9044991715514359,
          -0.27678921811505675,
          -0.24579307422651023,
          -0.8244011946355024,
          0.9298124473763048,
          -0.5950664354754112,
          0.44125070418632806,
          0.844519739090319,
          -0.4650701320324815,
          2.131933849812739,
          2.131933849812739,
          -0.331398357889361,
          0.44153230211221167,
          0.07998978375631734,
          -0.39632114260764345,
          2.131933849812739,
          -0.8155413081291475,
          3.171873475784775,
          -0.5190281872867489,
          -0.049923364538182365,
          -0.5719527809990393,
          1.438298603950285,
          1.090066968473882,
          1.784362690675145,
          0.10095590734267755,
          -0.6444052078607324,
          -0.6061843984291286,
          0.5550883374467245,
          1.548120953084052,
          -0.7817051706674055,
          -0.6388486423779062,
          -0.17090223401107385,
          -0.3261121819132955,
          2.3012225966724342,
          1.7357442769118498,
          0.04692563163928435,
          1.334490315292298,
          -0.3115125472162546,
          1.540760346052995,
          1.5085799273169223,
          0.8075604130275321,
          -0.4410685895903898,
          1.1461892091104091,
          1.0750781640158074,
          -0.025287696876736973,
          1.0359956773490937,
          0.7940371917879294,
          0.01029807997203118,
          -0.23136664446222172,
          -1.1263578380899046,
          0.3482735683073871,
          0.7188007759804184,
          -1.200668586601679,
          -0.4887491938537946,
          1.0511329441517356,
          0.7337050641208354,
          0.5801340207770161,
          1.7465185489496862,
          1.5845399675574994,
          1.2293627570567147,
          -0.0694378539760666,
          1.3142245990799324,
          0.3466877992177135,
          -0.322472791405887,
          0.29009240219455135,
          1.2744631039301626,
          1.9501468899176153,
          1.2293627570567147,
          -2.3742008151056533,
          0.8097924046763028,
          0.32574938288037836,
          -0.11367229774894602,
          0.5239443339764666,
          1.66374695765131,
          1.7453471747826605,
          0.19832259823787055,
          1.7258681710226296,
          1.474575388027561,
          1.6228113586987176,
          2.126492838412719,
          0.30837059075439543,
          1.1642030880653806,
          1.1415398106539263,
          -0.025287696876736973,
          -0.6942782995410602,
          0.6062441505324682,
          0.805657591542733,
          -0.9718696038331143,
          1.1846475025888177,
          0.22260393120987534,
          -1.1380333885721867,
          -0.4229417107027699,
          -0.9603842841299498,
          -1.2655864882816004,
          -1.6743094682762163,
          -0.9592325696676611,
          -2.2082757823500114,
          -0.7614311127461264,
          -0.928360291577245,
          -1.0003872778034182,
          0.33305942804359684,
          -0.19978661479337198,
          -0.09779050727088623,
          -0.32732316638661935,
          0.32999149224547897,
          -0.173287873151544,
          -0.2181039074702151,
          2.0778770647655036,
          0.025489112912356098,
          -0.9418507803283751,
          -0.48049402993067014,
          -0.4777960559294728,
          -0.523632623549192,
          -0.9163671842424636,
          -1.2884126387002175,
          0.7256755059981286,
          -0.5361754770471583,
          -0.2000483183469528,
          -1.5613522001109856,
          -0.6142121203837294,
          -1.1941311908090257,
          -2.112375819129676,
          -0.7475462109839732,
          -1.0862550094175336,
          0.6072921779752908,
          -0.35977774728872924,
          -1.582108505581864,
          -0.13876869479145987,
          -0.003982163539609591,
          -1.772100454225184,
          -0.10800633824616032,
          -1.718455148244296,
          -0.7220600773571371,
          -2.008498131172688,
          3.7855980781445626,
          -0.6245323153977065,
          -0.18114110937883432,
          -0.022800292142004235,
          -0.15263025560776394,
          -0.18879500559028323,
          -2.3234479758534645,
          -1.6129585756299794,
          -1.9259738186536444,
          -1.4099877285403823,
          0.10661860207797003,
          -3.205538486710094,
          0.5323072652927351,
          1.8282937839211086,
          -0.6155007542491474,
          1.3122550950150014,
          0.6822192108782613,
          -1.0354897180880458,
          -0.45676528942886413,
          -0.8453131010072373,
          -1.9210975153315721,
          -0.6527180829080138,
          0.02426250545143597,
          -1.124755304395192,
          0.40145569484541455,
          0.05346625837849186,
          -1.7065805207387765,
          -1.9235702921852227,
          -0.6810658577223933,
          1.6164448236652158,
          0.09441690780118887,
          -0.5757347764161707,
          -5.324849710991159,
          -1.8070057827169632,
          -0.021224692335781142,
          -0.8179812815431752,
          -1.3805997531516436,
          -0.42525522515752867,
          -1.1523424561827997,
          -0.6194712237286741,
          0.27354114752551706,
          -1.2756162640421798,
          1.7770619659271725,
          -0.45488241736513524,
          -0.42176108068622614,
          -0.6384313705147712,
          0.398342705370148,
          -0.1877564432767355,
          1.6973069926470352,
          -1.5495981205691758,
          0.1937997624785196,
          0.48139350196031916,
          -0.20512310302811304,
          -1.0982469509351982,
          -1.5081390298152686,
          1.4235176038388078,
          0.8841847068181825,
          0.20932951138073658,
          -0.5197990686970072,
          -0.7780011535498249,
          -0.08477339014202827,
          0.7143393983015854,
          0.13736835214689697,
          0.700771847706659,
          -1.0091976515141263,
          -1.0020222624106279,
          -0.743458178560901,
          -0.7805593020332092,
          -1.3122341658827252,
          1.0170344495471026,
          -0.3040733125345662,
          0.08946315030054418,
          -0.3123068127017163,
          -0.1645680144191606,
          -0.20494956985883014,
          -0.07991557811551792,
          -0.4800402335682107,
          1.041874629670967,
          0.4183237628628025,
          -1.0277443701394027,
          -0.6611049658549455,
          -0.648968049725579,
          -0.3852608354914733,
          0.17448410537177722,
          0.5248339009637611,
          -0.4352913993616486,
          1.1609463777718727,
          0.25898520090417504,
          -0.42691453943558444,
          -0.6464046362867758,
          0.4281503175252136,
          0.4327388460338232,
          -0.10281476747520277,
          1.7409198864727387,
          0.5389720184815606,
          0.20213755898732663,
          0.7995084254451721,
          -2.2233358551456615,
          -0.29818416988592866,
          0.41034709323556096,
          -1.1839367028471588,
          -1.1071412055199406,
          -1.1559737393615053,
          0.4471515763880706,
          0.7108677100843064,
          -0.4873342819660065,
          0.6078594827312331,
          0.14936260868723403,
          -0.5306247834551366,
          -1.46009865253292,
          2.1588799721449323,
          1.4175724059415635,
          2.3234746462337355,
          -0.7264340924704065,
          0.5380051620704798,
          -1.5551401795197868,
          -0.2368190968048591,
          0.4830988146821093,
          -1.665405322126907,
          -0.7714833608045426,
          0.4358784205841084,
          -0.9528768477392701,
          -1.6818591537753593,
          -1.1853532984892694,
          0.03981564058481013,
          0.4276802732664093,
          -1.1439320101672592,
          0.4881200392686814,
          1.0666625856504626,
          0.011626124047277843,
          0.5060631780243178,
          1.486300160517925,
          -1.2844967685177469,
          -0.371338904880711,
          1.9640017001666532,
          -0.16778180715887236,
          -0.6040355782456609,
          0.29178307745409854,
          -1.4741218575235389,
          -1.1120222115701324,
          0.305962363721083,
          -0.43793654039099894,
          -0.5672204471636605,
          -1.4898328117949895,
          -0.4367731715365504,
          -0.9923148417845823,
          -0.20902437743052474,
          -1.0654567706274036,
          0.7770097252992103,
          0.3340170171438288,
          0.5252445248516949,
          1.8155609678787492,
          0.508108258396571,
          -1.711762641022562,
          0.4959448449737452,
          1.741877202365306,
          1.4017740558582343,
          0.2819221874301145,
          0.13536712504467818,
          0.07841349962985615,
          0.6245229490939112,
          -0.3594263708981447,
          1.740676276274566,
          1.7810790132391279,
          1.614011358962187,
          1.6826908295445575,
          1.221578464912243,
          0.922027779077224,
          1.7617395286963515,
          1.5690767467252902,
          2.7233564576301754,
          -0.47763708031993835,
          2.1233022870016134,
          -1.1063612328204988,
          0.1099350132215786,
          -1.6569223971159337,
          -0.7710263136821048,
          0.6354891072036861,
          -0.935076096144233,
          -3.154052361357525,
          -1.2137938729879845,
          -0.8438981481839075,
          -0.9125375098004526,
          0.23681176346469965,
          1.7845842030479497,
          1.9879280654500115,
          1.8873203415832411,
          1.3890820852305397,
          0.5250577760428047,
          -0.6949754865209056,
          -1.618776096908666,
          -1.001906597455532,
          0.46327213127598,
          -0.16280340377950583,
          0.9104905958323066,
          0.42987233925511176,
          -1.180230929151534,
          -1.1011781151568263,
          -2.409564022889257,
          -1.136790466345068,
          -0.4810385583693373,
          -1.2429177650114949,
          0.6135342320569055,
          0.06955499887095182,
          0.8825057082452473,
          5.661064469750125,
          -0.16173252619485687,
          0.5077876996618997,
          0.40145569484541455,
          0.6099267306357657,
          0.7221971732916747,
          -1.1482497042279027,
          -0.30695042305714804,
          -0.7545499809956957,
          2.327751738173515,
          0.2468691144837971,
          2.4368300251600608,
          0.343485208959828,
          0.5893342154021545,
          1.0175082866881138,
          0.6428230485845211,
          0.08601275154033236,
          1.3216325337985864,
          1.7160008601508714,
          -0.5715956896217791,
          -0.8386394424269149,
          -0.37632737319679976,
          -0.00432498710012528,
          0.8203433536037056,
          0.9161667510871501,
          -0.14941271670467687,
          0.6042109943935765,
          1.0137097562146589,
          0.13603763028618557,
          0.5283163487891245,
          -0.7549928952607787,
          0.1660045425535337,
          0.950509817661228,
          -0.12126743768402162,
          -0.2766010244296393,
          0.2823440524192903,
          -0.6505340216336379,
          0.5842145967287757,
          0.559804326679187,
          -0.45918743614202323,
          1.1835659275212267,
          0.7476109366159931,
          0.09042435986383308,
          -1.1641913972188536,
          0.5884791515413872,
          -0.9406279038400528,
          0.18524942989997747,
          0.19004799950629803,
          0.8947453894033397,
          1.5051506536341919,
          0.8918238940497771,
          2.913545690631492,
          0.19535040548850885,
          -2.134704275267387,
          -1.096344142717052,
          -1.096344142717052,
          -0.17984935525889592,
          -0.8950542673028732,
          0.42475557998044666,
          0.5831053065264438,
          -1.084980509930826,
          -2.8428263971497474,
          -0.9306059402806288,
          -1.2361284238426478,
          -0.9994364223214957,
          -0.8532624380946275,
          -1.2052063378789584,
          -3.0064137891182545,
          -0.7091852339985255,
          -1.0871716684012844,
          -0.5411080761057514,
          -2.0616820132566853,
          -1.860614398221936,
          1.0730684436328806,
          -0.575056263603634,
          -1.4422160971020872,
          0.1886789586010881,
          -1.37589200596417,
          -0.5901899611195275,
          0.9140536000059519,
          -2.35522098291951,
          -1.1982458217628,
          -1.4354924459885972,
          -2.2823724017631117,
          -1.449541131702211,
          -1.396164610657437,
          -1.2322459853919874,
          -0.6873446047620464,
          -1.3331003309856098,
          -0.3457065151016585,
          -1.651020638964731,
          -1.2550499258583414,
          -0.607943890266064,
          -1.3761751048259685,
          -1.5947288333897764,
          -2.756815146103756,
          -2.097517448153192,
          -1.789045300998634,
          0.2693814055156108,
          0.681038945268154,
          -1.4846548825159833,
          0.7411803149126454,
          1.9235878436744318,
          -3.1653627866074676,
          4.826559931350413,
          -0.0874185190206051,
          -2.067410691673393,
          -2.968734440754029,
          0.9064658020706765,
          0.7987656364710439,
          -0.5571382455449462,
          -0.29859931598262446,
          -1.1430498587646858,
          0.4817104725042964,
          0.24316610774922623,
          -1.2805711408949862,
          -0.5518033813859777,
          -1.140613241176296,
          -0.62814514486873,
          -1.865098767014206,
          -0.07153712703738163,
          -1.5947560608544462,
          1.4829391941009962,
          -0.030417443991499097,
          1.9025446924993958,
          -0.6947868184198255,
          0.14542983433201329,
          -0.7902420934319353,
          -0.4958217071530851,
          0.4233905789931014,
          0.790240759358228,
          -0.3263511848736157,
          1.1445857085486641,
          0.8799311581112467,
          -0.9439438340615421,
          -0.4296076407966273,
          0.6670912404694656,
          2.293376654437114,
          -0.48544282290058854,
          -0.7261160220215009,
          0.6223149471238141,
          0.1614331792893229,
          0.7770097252992103,
          0.44940732397602023,
          0.29172619989326803,
          -2.8559660325114793,
          -2.8559660325114793,
          0.6559230533819518,
          1.4062937358818366,
          1.0147877716635731,
          -0.25782567626502234,
          2.1616477161589396,
          0.9725077360054128,
          0.5566877659983634,
          -0.1245162295931011,
          0.3868410938488669,
          -2.274267147404079,
          -0.5032745309280622,
          0.46325743828393035,
          0.24131108774216056,
          0.4347306693747571,
          -0.48608191553885033,
          1.349368492929161,
          0.5291162113167034,
          1.368883238313569,
          -0.7445120828736252,
          -1.4873373485364954,
          -1.4723501299578936,
          -0.509495148357684,
          -0.662636027799378,
          -1.0397485474220618,
          -0.5147913976645215,
          0.6622361023624531,
          -0.12984942660822266,
          2.509545265596499,
          0.03438825382887582,
          1.6820118145061875,
          -0.2215189841025391,
          -0.4154576536923468,
          1.8643364588341305,
          -0.6931916182715583,
          3.3892843225133196,
          1.6888125651475754,
          0.7724804102748094,
          -0.027114204062823194,
          -0.4415817358862888,
          0.8066569243264352,
          1.3009605925765584,
          0.8036905200841312,
          1.4551854278010667,
          -0.9668417120819904,
          -1.6011254016144767,
          0.42396345440319244,
          0.9768693414114814,
          1.6643262992104486,
          0.6616282733623564,
          -0.07493749940943169,
          -0.05341915052323926,
          1.5817331684268603,
          0.25080378322681435,
          1.4150167553021746,
          0.9464624614115383,
          1.7854208091586625,
          -1.8986513450642581,
          1.6602819900696786,
          -1.279703419471331,
          -1.2278698439781448,
          1.538207925110092,
          -0.9416686159264939,
          0.2595421804552327,
          1.08251353880443,
          -0.4795650203233558,
          2.5234170447632356,
          0.5799128089869472,
          0.8994140052267785,
          -1.1652508706177405,
          3.541066134530153,
          -0.6151603064563358,
          1.2037797236775645,
          -0.19189490558534117,
          3.7740953500324257,
          1.4190247050954978,
          0.4605236227815407,
          0.19506465400557824,
          0.8894868952712837,
          3.492340918964335,
          0.5095306889194503,
          2.5580337274539584,
          2.9413296035633705,
          2.9585376283879428,
          0.6664854167602059,
          1.2751122185381987,
          1.0858549905634782,
          -1.0223874893828695,
          -0.4896122311522351,
          -0.8883453305418882,
          -1.052714642681393,
          -1.597967213088468,
          2.4205435798085615,
          -0.018409808694463195,
          1.3150039075834286,
          0.05034428153885828,
          1.2175238766675405,
          1.4513188974470872,
          -0.7764384500968178,
          1.4989831502198445,
          -2.112028615171624,
          -0.8242950319505029,
          -0.719317677364231,
          -0.5324102979469504,
          -0.7377570441587142,
          -1.7549264883420441,
          -1.1175832891565356,
          -0.8167610018597051,
          -1.4246076648562247,
          1.9210094918522989,
          2.5107890898612357,
          -1.0983810149208895,
          -0.3190782424130786,
          -0.7018982279762408,
          1.1118432949722465,
          -0.4392512404293244,
          0.22403578221356368,
          0.6909457256744257,
          0.13117975779423124,
          0.1725002280878048,
          0.6909457256744257,
          0.8801445212944203,
          -0.17264943240538475,
          -0.9571843923901058,
          -0.34187442727366496,
          1.2354223195199203,
          -0.47727735997843357,
          0.6744175097128815,
          -0.4013353354818033,
          0.024502695165668557,
          1.0114888345052584,
          -0.8582289768525567,
          0.939417479672055,
          0.4181213817232736,
          -0.8914675871467134,
          -1.5430309314244637,
          -1.0478864536138872,
          -0.5196969124319136,
          2.0933789127353672,
          0.04095302452669504,
          0.9543876770247645,
          -1.2613527108263538,
          -1.3497698875032424,
          0.10155215220948859,
          1.1395224978776393,
          -0.6224926824437762,
          -0.29961093997960003,
          -0.038761203351085946,
          -0.33284134816921224,
          2.1948710462685384,
          0.39266547523340734,
          -0.7082917138338338,
          0.2902319832740664,
          1.3922680305446198,
          0.6626605141152939,
          0.6693446790274956,
          3.8268321408784525,
          1.0358556804491108,
          1.8888243208697049,
          0.9430672461585813,
          1.2597163972076542,
          -0.8635581785887445,
          -1.6236929721271742,
          -1.293950019808432,
          -1.6971954084152032,
          1.9663728384182075,
          0.5163649992285013,
          0.5004206553924498,
          0.14092098116822455,
          -1.386496535851081,
          -0.02516930509482928,
          -1.1102871922238333,
          -0.7901974202446425,
          -0.8316780531167175,
          -0.6670526559898643,
          1.455436764683401,
          0.9890710951795647,
          0.928771589949961,
          -0.5819582864843328,
          3.1033319622259365,
          -1.2547084597372218,
          -0.5922012386467986,
          0.4435955306112874,
          -1.1720025427993515,
          0.13010784025672456,
          -0.8263097141400573,
          0.5077876996618997,
          0.9391439233166048,
          -0.8361202369462644,
          -0.4171044591698198,
          0.7424716521704822,
          0.6133935006749381,
          -0.6458383516302334,
          -1.751020115721029,
          -0.31983833145671686,
          -1.459640795466039,
          0.32456410733230046,
          -0.43057562980432557,
          -1.1280657628897406,
          -0.4656357674489758,
          1.270224574565619,
          -0.2196527357209777,
          -0.6328920510936791,
          -0.6988975412606977,
          0.7686819591582686,
          -0.8578855206836877,
          -0.6751035437408783,
          -0.4860554777818968,
          -0.6387093576147171,
          -2.3003554276697593,
          -1.408986963739951,
          0.5329524166170279,
          -0.5503229283988347,
          0.2649669251071376,
          0.16553005113670155,
          -1.7294067262714856,
          -1.557734751784618,
          0.7672821803529771,
          1.2004658861734079,
          1.406140145354594,
          -2.3501932035980486,
          -0.08627299783939799,
          0.8446557092574343,
          -0.6487851809748286,
          -1.7149594650926827,
          0.0013927407355502227,
          -0.6547324029555941,
          -0.6716498259605334,
          -0.23597623740894394,
          0.9064187971729899,
          0.8189954933017431,
          -3.9657535964109116,
          -0.11703497197782817,
          -2.256751542779662,
          -0.09410452304932428,
          0.3812586717201784,
          2.697646336612396,
          0.5131120537669297,
          0.9959213711304568,
          -1.2402689930457105,
          1.5628972442440001,
          -1.060741610015734,
          -2.256751542779662,
          -0.9567877399978009,
          -1.729064874416464,
          0.20449305184851518,
          -1.423900417611846,
          0.24505719072753224,
          -0.25033575125748875,
          -0.05687280290597463,
          -0.06143591839480671,
          0.738566949401594,
          0.2171912836485001,
          0.7781800659952596,
          -0.6563513629989107,
          0.6651735153459144,
          -0.8660248605849097,
          0.10023142404119245,
          0.43555699753972693,
          -0.20416279444805588,
          -0.23066117701024938,
          -0.8316304566337274,
          0.7676614983898067,
          -0.24079201735998523,
          -0.2615215886055982,
          -0.4112232069567597,
          -0.8988800994715394,
          0.33369412234070456,
          0.6860578631441853,
          -0.4951214050625929,
          -0.05956019009530029,
          0.12075812107373428,
          0.44441784379878774,
          -0.6616514069680512,
          -1.4117539522982117,
          0.2781575732523062,
          1.2439293597589165,
          -0.23523107582540928,
          -1.2922767646910271,
          0.1324811428379805,
          -0.5926544520710956,
          3.116286769732264,
          0.23782341079723837,
          -0.6096458997580988,
          -0.6930003232440008,
          -1.132313622158647,
          2.198696819625904,
          1.158081048010403,
          1.2457790474239903,
          2.3900983846499226,
          0.24373481668966582,
          1.0924350472163016,
          0.2903542953149216,
          -0.22221128725045944,
          1.8975682273569148,
          0.021286560459712323,
          1.3744385074292984,
          0.015710810497531244,
          1.9290845928997922,
          0.19741899494320103,
          2.316189655961483,
          0.8430468316977244,
          0.7314162765751061,
          -0.7154802731599036,
          -2.2004649250143298,
          0.7920409187021246,
          -0.5335446105803924,
          -0.6116306323663963,
          3.6031821127767225,
          1.016272321782738,
          2.597830637319539,
          1.0108598689274595,
          1.0938512321728924,
          2.251323592944939,
          1.5770042098068646,
          1.3467527027553354,
          4.18502413216987,
          2.0897495005941056,
          1.038383244391956,
          2.3508458837380353,
          1.2583716721302394,
          0.7401609265457803,
          2.1602288633856834,
          -1.7852850671989042,
          1.0456398874007056,
          0.02815417728787424,
          -0.9361637998069982,
          -0.5220718237448783,
          3.5139698314658836,
          1.113180457402912,
          2.5375564571759472,
          -0.2901700140672193,
          -0.5300761897294435,
          -0.25693064754724654,
          -0.3142662177413448,
          2.556676519754193,
          -0.03293520236964128,
          -0.19885795871475284,
          2.401645428187085,
          1.0351778267918184,
          0.6444849876155518,
          0.02830607493314379,
          -2.1162902439844737,
          0.0023635999375394645,
          0.11962982789440081,
          -2.347549242540534,
          -0.9201381858245007,
          -0.9743563680480023,
          0.6855028852755773,
          1.1370901144624272,
          0.5578793427893982,
          0.26544876172433773,
          1.4026574288018105,
          -1.1982458217628,
          -0.45983998099859336,
          0.004144946964961013,
          -0.12385926837783492,
          0.907499327032217,
          2.9661176348304332,
          0.2337305855333522,
          -1.0639389150223275,
          -0.4622098125985698,
          -0.29805267115109535,
          -0.5943153326486947,
          -1.6613392304245773,
          -0.3679066722953551,
          -1.049713460456137,
          -1.3494016832394538,
          0.7991499058784404,
          -1.6325913148629323,
          1.6707445011481439,
          -0.9660544362186662,
          -0.6556564907066477,
          -2.060659345414366,
          -0.9655688502559298,
          -0.6386814446471737,
          0.3922359770881049,
          -0.8850916940287178,
          -0.3744382985187895,
          -0.8776851115060567,
          1.0174448376284801,
          -1.5475653090428998,
          -0.34767541953337205,
          0.7476935362147723,
          -1.7158149473483122,
          -0.10726619418296325,
          1.1371005994234755,
          1.1252714892569764,
          -3.3937229407621636,
          2.0080019600142673,
          0.3406402701807233,
          -1.9378358956816621,
          -1.6406240108949235,
          0.36113796281649446,
          -0.1184879455672427,
          -1.3859775972109294,
          -0.8010825313436055,
          -0.6575570841874515,
          -0.8394366975160796,
          -0.5271531372802948,
          -0.6114212774880567,
          1.584515152113726,
          -0.46437605375359164,
          -1.3018832532958367,
          -1.151666825670537,
          -0.8751633821228624,
          -0.8847666158004645,
          -1.1693233863795707,
          1.774175905463743,
          -0.08797624049417727,
          0.0031216044997834404,
          -0.21948269271775636,
          -1.4655689988816674,
          -1.5463730166337193,
          0.4032761766150078,
          0.7755578306120947,
          -0.7059657906162865,
          0.5503898665299511,
          -1.1182317836598294,
          0.5624036751698466,
          -1.4549911125915855,
          -0.66219999790376,
          -0.46814956413727776,
          -0.48704101382319936,
          0.33010939541902723,
          1.040825929876668,
          1.473873043060295,
          0.5156531889061452,
          -0.01571567175588063,
          0.6860578631441853,
          1.2872874286237408,
          -1.73285180959934,
          0.695976975729227,
          -0.00766933926796742,
          -0.026276856447329282,
          -2.363964118673272,
          1.163149410811649,
          -1.9638694381659385,
          0.5622885515036894,
          -1.1870319739345856,
          -1.2154061426403062,
          -1.4566505898126154,
          -2.2659149056848737,
          0.17948450776703542,
          0.09855330331148661,
          0.7424716521704822,
          -0.08219381352159623,
          -0.8236358611214695,
          -0.4835296956000901,
          -0.16310794825620192,
          -1.3903335627467295,
          -0.2523900390177831,
          0.48731616639509795,
          -0.47860482608153165,
          -0.3195944017333601,
          -0.4228383605114773,
          0.4615724899439199,
          1.3345949133414945,
          2.1353388542792673,
          -1.260368942063367,
          0.6396464239450934,
          0.7174376136046074,
          2.3452729670637344,
          1.37332894061887,
          -0.5966630580451411,
          -0.8228496570941342,
          -2.416942245443602,
          0.9336350514741294,
          0.9336350514741294,
          0.23664873280865026,
          1.2386911146487671,
          -0.5418841654097437,
          0.8575279188846306,
          -0.7605992017394514,
          -0.23040106781687547,
          0.5411367955330895,
          1.3618413519709756,
          2.4571862199258585,
          -1.4898216303774785,
          -1.0689235689502838,
          -2.04651340971888,
          -0.9547823761436198,
          0.8758128302585255,
          -0.5020453808359145,
          -0.8450034896699771,
          -1.150586605140881,
          -1.016271917275199,
          -0.6633142881216192,
          -1.669792851071191,
          -1.3533738902887784,
          -0.9919352561058711,
          -1.0803934023175574,
          -0.6401416299877912,
          -1.302409449839551,
          -1.5274633223822718,
          -1.881636991596236,
          -0.624154193476575,
          -1.1087513872616177,
          -1.0937437785451845,
          -0.576965556910765,
          1.3501165937602124,
          -0.6835707776461972,
          -0.21333495891230772,
          -1.7208881667392972,
          0.6069933473401373,
          -0.9485578909088241,
          0.3406380049689805,
          -0.6728024875104731,
          0.009588568549989804,
          -0.3318682072964199,
          1.2099337331859217,
          -0.043516538890152334,
          0.4724973084177477,
          0.16670061782509807,
          -0.45983998099859336,
          0.837967850277037,
          -1.8668083916396332,
          0.3913490107035052,
          0.030032344428860394,
          0.3334601091239051,
          -0.4109946285590791,
          -0.7476281108276698,
          -0.5327999702766587,
          1.4165753877023468,
          -0.977875526993145,
          0.5343302360287056,
          -1.102307666103706,
          -0.8610990263499414,
          -0.7747711983975593,
          -0.14363907758537414,
          -0.9146586648127373,
          -0.9765413938527044,
          -1.7663661393860068,
          -1.1307289608189777,
          -0.7087335536763933,
          -0.5947383472184748,
          0.07306755370479626,
          -1.5158796949645637,
          0.6613108686606762,
          1.1286274880828158,
          -2.058197767187699,
          1.0677052103269233,
          -0.30124592352344176,
          0.4257801498878058,
          -0.40263933571266364,
          0.2989675907068795,
          1.6285636697961763,
          -0.6663501829263645,
          1.8664334683739907,
          2.4203579302843816,
          -1.10923474929967,
          0.3200841475174361,
          0.031691890126979656,
          1.1160776457145436,
          -0.4394565205823331,
          2.0898309796232137,
          -0.7570751399473818,
          -0.7746598120563287,
          -0.3865389189137328,
          0.2570733598340701,
          0.06329890129218549,
          0.3373619817345925,
          0.22643180698531212,
          -1.3546107260806566,
          0.8002025039600901,
          -0.8889081107644085,
          -0.7286812887095782,
          1.307869486534648,
          -0.6114302591907733,
          0.5466667600703216,
          1.8234840719083278,
          2.251821150301494,
          1.5327451810884478,
          1.6920378828976892,
          0.7022921431888599,
          1.9109285289174864,
          0.2804484614653239,
          -1.0498417887903457,
          3.6031821127767225,
          -0.5242582112536088,
          0.7861182653546201,
          2.040327191221803,
          0.1689301613237628,
          -0.08526345403740701,
          -0.01102414073962917,
          -0.7916755386423829,
          -1.2147270836405064,
          0.7724463413233451,
          -0.30374574130359283,
          -2.333542719980751,
          -0.3562168495073643,
          0.12430303586946674,
          -1.1706210899866965,
          -2.3606274464677375,
          -1.6367819175495615,
          -0.5023576395671442,
          -2.7309258321583547,
          -1.2423446127955209,
          -0.8386470327706338,
          -1.0079198521398587,
          -0.2276189352739263,
          -0.42160553228633385,
          -0.9631389674046091,
          2.4898319782499607,
          0.734374019759684,
          2.1153640634076165,
          0.13724873880508368,
          1.0125213152896382,
          -0.37005291574945387,
          -1.7815300896312862,
          -1.1887304827614924,
          -0.24042744331689386,
          -0.6167239342012031,
          -0.973447676182661,
          -0.5688906477444727,
          -0.48616722062179435,
          1.0076600514519938,
          -0.3015057633668327,
          0.12897294715117702,
          2.5309300185056176,
          0.9337858603263667,
          0.8418091510500221,
          -0.9333434321358247,
          -0.19397496311706536,
          -0.5671126380023019,
          1.510656149272493,
          0.1807485566750763,
          -1.046362782222971,
          -0.7333067303892993,
          -1.024619137581627,
          0.8689648267049033,
          2.4131387627924754,
          -1.0475814842246287,
          0.9736919192976623,
          1.7212392934745588,
          -1.3429003712914238,
          -0.5792383396463375,
          1.3474157429635782,
          1.2378265189856144,
          -0.6277344905438649,
          -0.46693744531297604,
          -0.6195438014522856,
          1.4249282490014086,
          0.9643381077505925,
          0.11165727459268068,
          0.9643381077505925,
          -0.1209484159324487,
          -0.43451549773971804,
          -0.8717228134320297,
          0.1507974647085959,
          0.2779790895369193,
          1.1894891272965926,
          0.13692337593368725,
          2.295129874378308,
          -1.2426905814373934,
          -0.348569416235038,
          0.30276431226281014,
          -0.9565041870588193,
          -0.03455778115238335,
          -0.23528215500303282,
          -0.28771160652307315,
          0.3349014483820883,
          -0.5519801147930529,
          -1.6671675160620296,
          0.34836557143281244,
          -0.6829322826912638,
          0.10279951612119824,
          -1.9959511402427068,
          0.2685118467719532,
          1.994616924866821,
          1.8483060822592703,
          1.0554925588676236,
          0.21879040449048107,
          -0.13570197581660778,
          0.9851968861900027,
          1.0680519747125798,
          -0.9423944222871238,
          -1.3267365895545922,
          0.2379283177597407,
          1.0906730354380918,
          0.8260360840052858,
          -0.11461723951061528,
          1.840407711419564,
          1.0823540919940686,
          -0.8687738626484464,
          -0.5914828614287028,
          -0.8089063660175049,
          0.6170449549147402,
          -0.035800722938185967,
          1.5913428281037112,
          1.3560670015995682,
          -1.628748170739259,
          -1.293349042832219,
          -0.6763485851962383,
          1.1830106693009672,
          0.603049326873268,
          0.38239048371577494,
          3.024148516645297,
          1.432044500492884,
          0.3422829734150202,
          -1.4187000715910474,
          1.6814999864821387,
          2.7994210517958233,
          -0.045492387639224585,
          0.4657414169487378,
          1.4198239456029416,
          0.588895361580723,
          1.0444386933204326,
          0.5964434905315019,
          0.08844995393029596,
          -0.045492387639224585,
          0.8977977758332196,
          -0.16885058170458164,
          0.5983088128366475,
          0.6667441748139562,
          0.11485247399155969,
          -2.5769252053016816,
          0.23909640755806025,
          2.248756190662396,
          2.5387340249432437,
          -0.056325911547831994,
          0.5964434905315019,
          1.9783020811682746,
          1.3560670015995682,
          2.9160689759183773,
          -0.6225797561996663,
          0.25594206718460294,
          -0.29072442076003663,
          0.37573869502044405,
          1.5556309456722168,
          0.4506309276092251,
          0.77578543741423,
          0.07431941987263796,
          -1.3080925230982419,
          -1.352434598293571,
          0.29360917681999826,
          3.3099155081569447,
          -0.5551636406866747,
          0.5675987166081065,
          2.6461398776378884,
          0.0339979983308985,
          0.6786040056615532,
          0.14923360423841223,
          -0.45591360084024146,
          2.946557942362357,
          1.9486015356312543,
          0.6937156146030239,
          -0.6479161411275287,
          -0.1683264356040664,
          0.9206331889506499,
          -0.4507613510772806,
          -1.623854810793244,
          -1.714959465092683,
          0.824693734867428,
          -0.6046810983191564,
          0.9951455987502037,
          -0.49439614316897473,
          -0.197893014366153,
          -0.17763361203952807,
          -0.08113594162833249,
          -3.5919281845082547,
          0.015192898637176962,
          0.4183237628628025,
          -1.343039625106522,
          -1.15333878054808,
          -1.514498807756259,
          -1.590958155769706,
          -2.3456999619452183,
          0.518792945509983,
          -2.0068878431165373,
          -1.561074478588747,
          0.4027243215517703,
          0.38857174117138216,
          2.471190761937059,
          -0.21414035832918013,
          3.0020429581390804,
          2.4311389903409233,
          2.882281167231521,
          0.9642980521378566,
          0.00799528737618397,
          -1.4448575644382033,
          -0.21558652585747468,
          -1.049433743287382,
          -0.16881431329935426,
          -0.7392065333258849,
          2.179099357735236,
          -1.0820263567320565,
          -0.5618613817516008,
          0.05919103367562556,
          -1.042053465315788,
          0.12324047273321437,
          -0.06624184533439141,
          -1.563289476917087,
          -0.20455517338153015,
          -0.28256903175167375,
          -1.7373472894249393,
          -1.0465870893288522,
          0.5718932501658414,
          0.031844458972235395,
          -0.012659131268622052,
          1.0406554362647784,
          2.0807189773265065,
          -2.2215790057935028,
          -1.294230622808836,
          -0.9232671973085143,
          1.6648500226504834,
          -2.2517164433175347,
          2.227919979383774,
          -1.4934305722339836,
          0.06759763053873924,
          -0.42200852490748497,
          -1.622499456596274,
          -0.8568498421627417,
          -1.715611908351697,
          -0.40181400052585053,
          -1.9183111465675236,
          -1.0284176661154838,
          0.566250907648193,
          -1.9360921290485067,
          -1.366197026777162,
          -0.479053266747721,
          1.532396117561849,
          0.6372584903149952,
          1.3733798976383897,
          -0.5126351469976396,
          -0.47065776417615285,
          0.0005851604650576645,
          0.813600190691193,
          0.38997026358277415,
          -0.39546104811196686,
          -1.5825523645928803,
          -0.9178690058179512,
          -0.38203090899092285,
          0.15708317010829848,
          -0.9806604314366193,
          1.2573912397734024,
          0.5631582113333861,
          1.1114556668423154,
          0.19309430754008017,
          -3.0573576367230793,
          -2.796405090095435,
          0.4441931981329889,
          -0.5425621727635132,
          -0.8201583062849638,
          0.3751431940363828,
          -1.0223780840942378,
          -0.6070712876472278,
          -0.9624492068779545,
          -2.023747135601467,
          -0.0874185190206051,
          -0.2046286417953886,
          -0.08910926007141558,
          -2.0591628392523127,
          -1.174535786255177,
          -0.6346088648189901,
          -0.5491745735455936,
          0.5095716897531216,
          0.8065406104992434,
          0.7411803149126454,
          -0.8558821629061245,
          -0.3657681542279302,
          -0.5309994855824147,
          -0.521399451920894,
          -0.8095689157079916,
          1.1265825463110508,
          -0.209829474440753,
          -1.1323946066926887,
          0.2211940171929525,
          -1.1950493627964527,
          1.4025390812695389,
          -0.5757347764161707,
          -0.7264869106374382,
          -0.7415878471844182,
          0.06951336384573309,
          -0.2044656586852098,
          -0.01879031406313729,
          0.03139289071179058,
          0.3506700562360757,
          -1.112895632869604,
          1.8195868927959178,
          1.8713013951568782,
          1.9181525956534924,
          -1.718668848043765,
          0.8757893106119158,
          0.1756302705370132,
          -0.6929183840508921,
          -0.2872600209762618,
          0.20809406613317136,
          1.7764954026041317,
          -0.4085731850932743,
          0.029405535122963046,
          0.30289029594966504,
          0.9923583707665772,
          0.4337799548368587,
          -1.356432955086263,
          0.5863758368736323,
          2.9239327364249323,
          1.023058014777482,
          0.8397768146241366,
          2.5716091789550566,
          -0.39274683629951357,
          0.310364589338825,
          1.2122221199360652,
          -0.9105271986614435,
          -0.4231354934946335,
          -1.5022933704705304,
          -0.39581140385400393,
          0.11057980583580507,
          -1.1364627595215075,
          0.9890710951795647,
          1.6893322614019701,
          0.9299479085907877,
          -0.45259687761377687,
          -0.7448746955627205,
          1.8574219818393172,
          0.3162113284328075,
          -3.5919281845082547,
          -2.7715699519860655,
          -1.0936649608603821,
          -0.8987367758535371,
          -0.7144851932041135,
          0.0847179383047533,
          3.4023252585367234,
          0.5915376393811419,
          0.19594602619168325,
          0.03596508498121847,
          -0.7572787491134725,
          0.48004216049067727,
          0.5277834265150196,
          -0.07029951988053529,
          -2.6459203144839627,
          -1.3983743516341562,
          -1.787507763377889,
          0.8485646204971746,
          1.2059329792106626,
          -1.7241610708089126,
          -0.47215623617893376,
          -0.8206980878304468,
          -0.9083842640904393,
          -0.7454847813329033,
          -0.7426614340923876,
          -0.576111679839305,
          1.2630604906993117,
          -0.9648409921390895,
          0.1936862231343983,
          0.9996039142658493,
          1.1575246422378052,
          -1.0936649608603821,
          -1.0936649608603821,
          3.024148516645297,
          1.5817331684268603,
          1.6452582761714492,
          -2.404578838074838,
          -2.45742499064471,
          -0.5475715725911341,
          -1.3098373709567739,
          -2.0126521925813585,
          -2.4620510303808487,
          0.483918222401332,
          -1.4091483830778597,
          -1.555787843924435,
          -1.710465901789655,
          -0.1493937757696499,
          -2.0027033980752824,
          -2.220458417816706,
          -0.9119564427723734,
          -2.2209031233141756,
          -1.7536558307851073,
          -1.3764437205042683,
          -2.5396808993309934,
          -1.9288195091233968,
          0.45865280287595844,
          -0.7370750659682057,
          -1.4238717798777556,
          0.31313785015723133,
          0.03164626132905566,
          -0.9437787672942007,
          0.4220331476734201,
          -0.19189119093840723,
          -0.5211679048184906,
          1.8836076923570375,
          1.254625917650511,
          -1.798007110035976,
          1.6046581333958079,
          0.5308244007763746,
          -1.4677050692393343,
          -0.0755335699942648,
          -0.9371300061780339,
          0.9744129361419297,
          1.080832786073425,
          -1.3498838940521112,
          -2.63829760973809,
          1.1075741810946937,
          -1.1968544636420657,
          -0.0498515700177332,
          -1.3368586236919517,
          3.380206235874207,
          -0.9362765548657935,
          -0.8512302225203637,
          0.8312994793303614,
          1.147415931777523,
          0.8692814620397302,
          -0.06373150398819503,
          -0.45242591189057113,
          -1.0487895677819885,
          -0.978662905395086,
          -1.1203219593181077,
          -0.6009018213810917,
          0.418624148693117,
          -0.3053760309640836,
          0.18024535423151258,
          -0.0874185190206051,
          -2.144691504600468,
          0.8614420346143506,
          0.13071407897492196,
          -0.22775045896728127,
          1.1093919174553257,
          0.5061696894655047,
          2.5114509290464615,
          -0.35625838503850116,
          0.26395567276692344,
          0.27161526261914504,
          -0.3396231129337281,
          0.8138121170061806,
          1.645211439989889,
          1.238681856270098,
          0.8050649466533377,
          0.5777097466141747,
          -0.7454513238920486,
          0.7691464789300277,
          -0.2300995333427997,
          -1.1625225503153787,
          1.0967477999866957,
          -0.7762878624655959,
          -0.5844671710446088,
          -0.6061979063641804,
          -1.4869471807666157,
          1.7503448743454806,
          -0.6151603064563358,
          -1.653134426340771,
          0.7427151707507365,
          -0.7054157806980513,
          -0.032519123302963575,
          -2.3414449224888614,
          1.840847976937171,
          0.41506437622651604,
          -0.5229064046857315,
          -0.01712586072171457,
          -1.3049828462456512,
          -1.0897255704646907,
          -3.695232752777757,
          -1.3907085464763485
         ],
         "yaxis": "y"
        }
       ],
       "layout": {
        "coloraxis": {
         "colorbar": {
          "title": {
           "text": "cluster_pca"
          }
         },
         "colorscale": [
          [
           0,
           "#0d0887"
          ],
          [
           0.1111111111111111,
           "#46039f"
          ],
          [
           0.2222222222222222,
           "#7201a8"
          ],
          [
           0.3333333333333333,
           "#9c179e"
          ],
          [
           0.4444444444444444,
           "#bd3786"
          ],
          [
           0.5555555555555556,
           "#d8576b"
          ],
          [
           0.6666666666666666,
           "#ed7953"
          ],
          [
           0.7777777777777778,
           "#fb9f3a"
          ],
          [
           0.8888888888888888,
           "#fdca26"
          ],
          [
           1,
           "#f0f921"
          ]
         ]
        },
        "legend": {
         "tracegroupgap": 0
        },
        "margin": {
         "t": 60
        },
        "template": {
         "data": {
          "bar": [
           {
            "error_x": {
             "color": "#2a3f5f"
            },
            "error_y": {
             "color": "#2a3f5f"
            },
            "marker": {
             "line": {
              "color": "#E5ECF6",
              "width": 0.5
             },
             "pattern": {
              "fillmode": "overlay",
              "size": 10,
              "solidity": 0.2
             }
            },
            "type": "bar"
           }
          ],
          "barpolar": [
           {
            "marker": {
             "line": {
              "color": "#E5ECF6",
              "width": 0.5
             },
             "pattern": {
              "fillmode": "overlay",
              "size": 10,
              "solidity": 0.2
             }
            },
            "type": "barpolar"
           }
          ],
          "carpet": [
           {
            "aaxis": {
             "endlinecolor": "#2a3f5f",
             "gridcolor": "white",
             "linecolor": "white",
             "minorgridcolor": "white",
             "startlinecolor": "#2a3f5f"
            },
            "baxis": {
             "endlinecolor": "#2a3f5f",
             "gridcolor": "white",
             "linecolor": "white",
             "minorgridcolor": "white",
             "startlinecolor": "#2a3f5f"
            },
            "type": "carpet"
           }
          ],
          "choropleth": [
           {
            "colorbar": {
             "outlinewidth": 0,
             "ticks": ""
            },
            "type": "choropleth"
           }
          ],
          "contour": [
           {
            "colorbar": {
             "outlinewidth": 0,
             "ticks": ""
            },
            "colorscale": [
             [
              0,
              "#0d0887"
             ],
             [
              0.1111111111111111,
              "#46039f"
             ],
             [
              0.2222222222222222,
              "#7201a8"
             ],
             [
              0.3333333333333333,
              "#9c179e"
             ],
             [
              0.4444444444444444,
              "#bd3786"
             ],
             [
              0.5555555555555556,
              "#d8576b"
             ],
             [
              0.6666666666666666,
              "#ed7953"
             ],
             [
              0.7777777777777778,
              "#fb9f3a"
             ],
             [
              0.8888888888888888,
              "#fdca26"
             ],
             [
              1,
              "#f0f921"
             ]
            ],
            "type": "contour"
           }
          ],
          "contourcarpet": [
           {
            "colorbar": {
             "outlinewidth": 0,
             "ticks": ""
            },
            "type": "contourcarpet"
           }
          ],
          "heatmap": [
           {
            "colorbar": {
             "outlinewidth": 0,
             "ticks": ""
            },
            "colorscale": [
             [
              0,
              "#0d0887"
             ],
             [
              0.1111111111111111,
              "#46039f"
             ],
             [
              0.2222222222222222,
              "#7201a8"
             ],
             [
              0.3333333333333333,
              "#9c179e"
             ],
             [
              0.4444444444444444,
              "#bd3786"
             ],
             [
              0.5555555555555556,
              "#d8576b"
             ],
             [
              0.6666666666666666,
              "#ed7953"
             ],
             [
              0.7777777777777778,
              "#fb9f3a"
             ],
             [
              0.8888888888888888,
              "#fdca26"
             ],
             [
              1,
              "#f0f921"
             ]
            ],
            "type": "heatmap"
           }
          ],
          "heatmapgl": [
           {
            "colorbar": {
             "outlinewidth": 0,
             "ticks": ""
            },
            "colorscale": [
             [
              0,
              "#0d0887"
             ],
             [
              0.1111111111111111,
              "#46039f"
             ],
             [
              0.2222222222222222,
              "#7201a8"
             ],
             [
              0.3333333333333333,
              "#9c179e"
             ],
             [
              0.4444444444444444,
              "#bd3786"
             ],
             [
              0.5555555555555556,
              "#d8576b"
             ],
             [
              0.6666666666666666,
              "#ed7953"
             ],
             [
              0.7777777777777778,
              "#fb9f3a"
             ],
             [
              0.8888888888888888,
              "#fdca26"
             ],
             [
              1,
              "#f0f921"
             ]
            ],
            "type": "heatmapgl"
           }
          ],
          "histogram": [
           {
            "marker": {
             "pattern": {
              "fillmode": "overlay",
              "size": 10,
              "solidity": 0.2
             }
            },
            "type": "histogram"
           }
          ],
          "histogram2d": [
           {
            "colorbar": {
             "outlinewidth": 0,
             "ticks": ""
            },
            "colorscale": [
             [
              0,
              "#0d0887"
             ],
             [
              0.1111111111111111,
              "#46039f"
             ],
             [
              0.2222222222222222,
              "#7201a8"
             ],
             [
              0.3333333333333333,
              "#9c179e"
             ],
             [
              0.4444444444444444,
              "#bd3786"
             ],
             [
              0.5555555555555556,
              "#d8576b"
             ],
             [
              0.6666666666666666,
              "#ed7953"
             ],
             [
              0.7777777777777778,
              "#fb9f3a"
             ],
             [
              0.8888888888888888,
              "#fdca26"
             ],
             [
              1,
              "#f0f921"
             ]
            ],
            "type": "histogram2d"
           }
          ],
          "histogram2dcontour": [
           {
            "colorbar": {
             "outlinewidth": 0,
             "ticks": ""
            },
            "colorscale": [
             [
              0,
              "#0d0887"
             ],
             [
              0.1111111111111111,
              "#46039f"
             ],
             [
              0.2222222222222222,
              "#7201a8"
             ],
             [
              0.3333333333333333,
              "#9c179e"
             ],
             [
              0.4444444444444444,
              "#bd3786"
             ],
             [
              0.5555555555555556,
              "#d8576b"
             ],
             [
              0.6666666666666666,
              "#ed7953"
             ],
             [
              0.7777777777777778,
              "#fb9f3a"
             ],
             [
              0.8888888888888888,
              "#fdca26"
             ],
             [
              1,
              "#f0f921"
             ]
            ],
            "type": "histogram2dcontour"
           }
          ],
          "mesh3d": [
           {
            "colorbar": {
             "outlinewidth": 0,
             "ticks": ""
            },
            "type": "mesh3d"
           }
          ],
          "parcoords": [
           {
            "line": {
             "colorbar": {
              "outlinewidth": 0,
              "ticks": ""
             }
            },
            "type": "parcoords"
           }
          ],
          "pie": [
           {
            "automargin": true,
            "type": "pie"
           }
          ],
          "scatter": [
           {
            "fillpattern": {
             "fillmode": "overlay",
             "size": 10,
             "solidity": 0.2
            },
            "type": "scatter"
           }
          ],
          "scatter3d": [
           {
            "line": {
             "colorbar": {
              "outlinewidth": 0,
              "ticks": ""
             }
            },
            "marker": {
             "colorbar": {
              "outlinewidth": 0,
              "ticks": ""
             }
            },
            "type": "scatter3d"
           }
          ],
          "scattercarpet": [
           {
            "marker": {
             "colorbar": {
              "outlinewidth": 0,
              "ticks": ""
             }
            },
            "type": "scattercarpet"
           }
          ],
          "scattergeo": [
           {
            "marker": {
             "colorbar": {
              "outlinewidth": 0,
              "ticks": ""
             }
            },
            "type": "scattergeo"
           }
          ],
          "scattergl": [
           {
            "marker": {
             "colorbar": {
              "outlinewidth": 0,
              "ticks": ""
             }
            },
            "type": "scattergl"
           }
          ],
          "scattermapbox": [
           {
            "marker": {
             "colorbar": {
              "outlinewidth": 0,
              "ticks": ""
             }
            },
            "type": "scattermapbox"
           }
          ],
          "scatterpolar": [
           {
            "marker": {
             "colorbar": {
              "outlinewidth": 0,
              "ticks": ""
             }
            },
            "type": "scatterpolar"
           }
          ],
          "scatterpolargl": [
           {
            "marker": {
             "colorbar": {
              "outlinewidth": 0,
              "ticks": ""
             }
            },
            "type": "scatterpolargl"
           }
          ],
          "scatterternary": [
           {
            "marker": {
             "colorbar": {
              "outlinewidth": 0,
              "ticks": ""
             }
            },
            "type": "scatterternary"
           }
          ],
          "surface": [
           {
            "colorbar": {
             "outlinewidth": 0,
             "ticks": ""
            },
            "colorscale": [
             [
              0,
              "#0d0887"
             ],
             [
              0.1111111111111111,
              "#46039f"
             ],
             [
              0.2222222222222222,
              "#7201a8"
             ],
             [
              0.3333333333333333,
              "#9c179e"
             ],
             [
              0.4444444444444444,
              "#bd3786"
             ],
             [
              0.5555555555555556,
              "#d8576b"
             ],
             [
              0.6666666666666666,
              "#ed7953"
             ],
             [
              0.7777777777777778,
              "#fb9f3a"
             ],
             [
              0.8888888888888888,
              "#fdca26"
             ],
             [
              1,
              "#f0f921"
             ]
            ],
            "type": "surface"
           }
          ],
          "table": [
           {
            "cells": {
             "fill": {
              "color": "#EBF0F8"
             },
             "line": {
              "color": "white"
             }
            },
            "header": {
             "fill": {
              "color": "#C8D4E3"
             },
             "line": {
              "color": "white"
             }
            },
            "type": "table"
           }
          ]
         },
         "layout": {
          "annotationdefaults": {
           "arrowcolor": "#2a3f5f",
           "arrowhead": 0,
           "arrowwidth": 1
          },
          "autotypenumbers": "strict",
          "coloraxis": {
           "colorbar": {
            "outlinewidth": 0,
            "ticks": ""
           }
          },
          "colorscale": {
           "diverging": [
            [
             0,
             "#8e0152"
            ],
            [
             0.1,
             "#c51b7d"
            ],
            [
             0.2,
             "#de77ae"
            ],
            [
             0.3,
             "#f1b6da"
            ],
            [
             0.4,
             "#fde0ef"
            ],
            [
             0.5,
             "#f7f7f7"
            ],
            [
             0.6,
             "#e6f5d0"
            ],
            [
             0.7,
             "#b8e186"
            ],
            [
             0.8,
             "#7fbc41"
            ],
            [
             0.9,
             "#4d9221"
            ],
            [
             1,
             "#276419"
            ]
           ],
           "sequential": [
            [
             0,
             "#0d0887"
            ],
            [
             0.1111111111111111,
             "#46039f"
            ],
            [
             0.2222222222222222,
             "#7201a8"
            ],
            [
             0.3333333333333333,
             "#9c179e"
            ],
            [
             0.4444444444444444,
             "#bd3786"
            ],
            [
             0.5555555555555556,
             "#d8576b"
            ],
            [
             0.6666666666666666,
             "#ed7953"
            ],
            [
             0.7777777777777778,
             "#fb9f3a"
            ],
            [
             0.8888888888888888,
             "#fdca26"
            ],
            [
             1,
             "#f0f921"
            ]
           ],
           "sequentialminus": [
            [
             0,
             "#0d0887"
            ],
            [
             0.1111111111111111,
             "#46039f"
            ],
            [
             0.2222222222222222,
             "#7201a8"
            ],
            [
             0.3333333333333333,
             "#9c179e"
            ],
            [
             0.4444444444444444,
             "#bd3786"
            ],
            [
             0.5555555555555556,
             "#d8576b"
            ],
            [
             0.6666666666666666,
             "#ed7953"
            ],
            [
             0.7777777777777778,
             "#fb9f3a"
            ],
            [
             0.8888888888888888,
             "#fdca26"
            ],
            [
             1,
             "#f0f921"
            ]
           ]
          },
          "colorway": [
           "#636efa",
           "#EF553B",
           "#00cc96",
           "#ab63fa",
           "#FFA15A",
           "#19d3f3",
           "#FF6692",
           "#B6E880",
           "#FF97FF",
           "#FECB52"
          ],
          "font": {
           "color": "#2a3f5f"
          },
          "geo": {
           "bgcolor": "white",
           "lakecolor": "white",
           "landcolor": "#E5ECF6",
           "showlakes": true,
           "showland": true,
           "subunitcolor": "white"
          },
          "hoverlabel": {
           "align": "left"
          },
          "hovermode": "closest",
          "mapbox": {
           "style": "light"
          },
          "paper_bgcolor": "white",
          "plot_bgcolor": "#E5ECF6",
          "polar": {
           "angularaxis": {
            "gridcolor": "white",
            "linecolor": "white",
            "ticks": ""
           },
           "bgcolor": "#E5ECF6",
           "radialaxis": {
            "gridcolor": "white",
            "linecolor": "white",
            "ticks": ""
           }
          },
          "scene": {
           "xaxis": {
            "backgroundcolor": "#E5ECF6",
            "gridcolor": "white",
            "gridwidth": 2,
            "linecolor": "white",
            "showbackground": true,
            "ticks": "",
            "zerolinecolor": "white"
           },
           "yaxis": {
            "backgroundcolor": "#E5ECF6",
            "gridcolor": "white",
            "gridwidth": 2,
            "linecolor": "white",
            "showbackground": true,
            "ticks": "",
            "zerolinecolor": "white"
           },
           "zaxis": {
            "backgroundcolor": "#E5ECF6",
            "gridcolor": "white",
            "gridwidth": 2,
            "linecolor": "white",
            "showbackground": true,
            "ticks": "",
            "zerolinecolor": "white"
           }
          },
          "shapedefaults": {
           "line": {
            "color": "#2a3f5f"
           }
          },
          "ternary": {
           "aaxis": {
            "gridcolor": "white",
            "linecolor": "white",
            "ticks": ""
           },
           "baxis": {
            "gridcolor": "white",
            "linecolor": "white",
            "ticks": ""
           },
           "bgcolor": "#E5ECF6",
           "caxis": {
            "gridcolor": "white",
            "linecolor": "white",
            "ticks": ""
           }
          },
          "title": {
           "x": 0.05
          },
          "xaxis": {
           "automargin": true,
           "gridcolor": "white",
           "linecolor": "white",
           "ticks": "",
           "title": {
            "standoff": 15
           },
           "zerolinecolor": "white",
           "zerolinewidth": 2
          },
          "yaxis": {
           "automargin": true,
           "gridcolor": "white",
           "linecolor": "white",
           "ticks": "",
           "title": {
            "standoff": 15
           },
           "zerolinecolor": "white",
           "zerolinewidth": 2
          }
         }
        },
        "xaxis": {
         "anchor": "y",
         "domain": [
          0,
          1
         ],
         "title": {
          "text": "x"
         }
        },
        "yaxis": {
         "anchor": "x",
         "domain": [
          0,
          1
         ],
         "title": {
          "text": "y"
         }
        }
       }
      }
     },
     "metadata": {},
     "output_type": "display_data"
    }
   ],
   "source": [
    "fig = px.scatter(projection, x='x', y='y', color='cluster_pca', hover_data=['genres'])\n",
    "fig.show()"
   ]
  },
  {
   "cell_type": "code",
   "execution_count": 31,
   "metadata": {},
   "outputs": [
    {
     "data": {
      "text/plain": [
       "0.4927066994726641"
      ]
     },
     "execution_count": 31,
     "metadata": {},
     "output_type": "execute_result"
    }
   ],
   "source": [
    "pca_pipeline[1].explained_variance_ratio_.sum()"
   ]
  },
  {
   "cell_type": "code",
   "execution_count": 32,
   "metadata": {},
   "outputs": [
    {
     "data": {
      "text/plain": [
       "5.421597305805697"
      ]
     },
     "execution_count": 32,
     "metadata": {},
     "output_type": "execute_result"
    }
   ],
   "source": [
    "pca_pipeline[1].explained_variance_.sum()"
   ]
  }
 ],
 "metadata": {
  "kernelspec": {
   "display_name": "base",
   "language": "python",
   "name": "python3"
  },
  "language_info": {
   "codemirror_mode": {
    "name": "ipython",
    "version": 3
   },
   "file_extension": ".py",
   "mimetype": "text/x-python",
   "name": "python",
   "nbconvert_exporter": "python",
   "pygments_lexer": "ipython3",
   "version": "3.11.4"
  }
 },
 "nbformat": 4,
 "nbformat_minor": 2
}
